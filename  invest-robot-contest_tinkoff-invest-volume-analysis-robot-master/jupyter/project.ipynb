{
 "cells": [
  {
   "cell_type": "code",
   "execution_count": 1,
   "id": "01477329",
   "metadata": {},
   "outputs": [],
   "source": [
    "import pandas\n",
    "import pandas as pd\n",
    "import matplotlib.pyplot as plt\n",
    "import matplotlib.dates as mpl_dates\n",
    "\n",
    "pd.set_option('display.max_columns', None)\n",
    "pd.set_option(\"max_rows\", 40)\n",
    "\n",
    "df = pandas.read_csv('./../data/USD000UTSTOM-20220512.csv', sep=',')\n",
    "# df"
   ]
  },
  {
   "cell_type": "code",
   "execution_count": 2,
   "id": "8c1bc415",
   "metadata": {},
   "outputs": [],
   "source": [
    "df.time = pd.to_datetime(df.time)\n",
    "# df.price = pd.to_numeric(df.price)\n",
    "df.quantity = pd.to_numeric(df.quantity)"
   ]
  },
  {
   "cell_type": "code",
   "execution_count": 4,
   "id": "85d1496d",
   "metadata": {
    "scrolled": false
   },
   "outputs": [],
   "source": [
    "#кластера за ТФ\n",
    "time_quantity = df.groupby([pd.Grouper(key='time', freq='1min'), 'price'])[['quantity']].sum()\n",
    "# time_quantity"
   ]
  },
  {
   "cell_type": "code",
   "execution_count": 6,
   "id": "c2146fa3",
   "metadata": {},
   "outputs": [
    {
     "data": {
      "text/html": [
       "<div>\n",
       "<style scoped>\n",
       "    .dataframe tbody tr th:only-of-type {\n",
       "        vertical-align: middle;\n",
       "    }\n",
       "\n",
       "    .dataframe tbody tr th {\n",
       "        vertical-align: top;\n",
       "    }\n",
       "\n",
       "    .dataframe thead th {\n",
       "        text-align: right;\n",
       "    }\n",
       "</style>\n",
       "<table border=\"1\" class=\"dataframe\">\n",
       "  <thead>\n",
       "    <tr style=\"text-align: right;\">\n",
       "      <th></th>\n",
       "      <th>time</th>\n",
       "      <th>price</th>\n",
       "    </tr>\n",
       "  </thead>\n",
       "  <tbody>\n",
       "    <tr>\n",
       "      <th>0</th>\n",
       "      <td>2022-05-12 06:59:00+00:00</td>\n",
       "      <td>66.93</td>\n",
       "    </tr>\n",
       "    <tr>\n",
       "      <th>1</th>\n",
       "      <td>2022-05-12 07:00:00+00:00</td>\n",
       "      <td>66.50</td>\n",
       "    </tr>\n",
       "    <tr>\n",
       "      <th>2</th>\n",
       "      <td>2022-05-12 07:01:00+00:00</td>\n",
       "      <td>66.50</td>\n",
       "    </tr>\n",
       "    <tr>\n",
       "      <th>3</th>\n",
       "      <td>2022-05-12 07:02:00+00:00</td>\n",
       "      <td>66.43</td>\n",
       "    </tr>\n",
       "    <tr>\n",
       "      <th>4</th>\n",
       "      <td>2022-05-12 07:03:00+00:00</td>\n",
       "      <td>66.68</td>\n",
       "    </tr>\n",
       "    <tr>\n",
       "      <th>...</th>\n",
       "      <td>...</td>\n",
       "      <td>...</td>\n",
       "    </tr>\n",
       "    <tr>\n",
       "      <th>536</th>\n",
       "      <td>2022-05-12 15:55:00+00:00</td>\n",
       "      <td>63.40</td>\n",
       "    </tr>\n",
       "    <tr>\n",
       "      <th>537</th>\n",
       "      <td>2022-05-12 15:56:00+00:00</td>\n",
       "      <td>63.35</td>\n",
       "    </tr>\n",
       "    <tr>\n",
       "      <th>538</th>\n",
       "      <td>2022-05-12 15:57:00+00:00</td>\n",
       "      <td>63.30</td>\n",
       "    </tr>\n",
       "    <tr>\n",
       "      <th>539</th>\n",
       "      <td>2022-05-12 15:58:00+00:00</td>\n",
       "      <td>63.30</td>\n",
       "    </tr>\n",
       "    <tr>\n",
       "      <th>540</th>\n",
       "      <td>2022-05-12 15:59:00+00:00</td>\n",
       "      <td>63.35</td>\n",
       "    </tr>\n",
       "  </tbody>\n",
       "</table>\n",
       "<p>541 rows × 2 columns</p>\n",
       "</div>"
      ],
      "text/plain": [
       "                         time  price\n",
       "0   2022-05-12 06:59:00+00:00  66.93\n",
       "1   2022-05-12 07:00:00+00:00  66.50\n",
       "2   2022-05-12 07:01:00+00:00  66.50\n",
       "3   2022-05-12 07:02:00+00:00  66.43\n",
       "4   2022-05-12 07:03:00+00:00  66.68\n",
       "..                        ...    ...\n",
       "536 2022-05-12 15:55:00+00:00  63.40\n",
       "537 2022-05-12 15:56:00+00:00  63.35\n",
       "538 2022-05-12 15:57:00+00:00  63.30\n",
       "539 2022-05-12 15:58:00+00:00  63.30\n",
       "540 2022-05-12 15:59:00+00:00  63.35\n",
       "\n",
       "[541 rows x 2 columns]"
      ]
     },
     "execution_count": 6,
     "metadata": {},
     "output_type": "execute_result"
    }
   ],
   "source": [
    "#максимумы в кластерах за ТФ\n",
    "time_quantity.reset_index(level='time').groupby('time')['quantity'].idxmax().reset_index(name='price')"
   ]
  },
  {
   "cell_type": "code",
   "execution_count": 5,
   "id": "d84fb407",
   "metadata": {},
   "outputs": [],
   "source": [
    "# макс объем за период\n",
    "s = df.groupby(pd.Grouper(key='time', freq='1Min')).quantity.idxmax()\n",
    "out = df.loc[s].set_index(['time'])\n",
    "# out"
   ]
  },
  {
   "cell_type": "code",
   "execution_count": 6,
   "id": "4d2f0241",
   "metadata": {},
   "outputs": [],
   "source": [
    "time_quantity = df.groupby([pd.Grouper(key='time', freq='1min'), 'price'])[['quantity']].sum()\n",
    "result = time_quantity.reset_index(level='time').groupby('time')['quantity'].idxmax().reset_index(name='price')\n",
    "# result"
   ]
  },
  {
   "cell_type": "code",
   "execution_count": 7,
   "id": "a8fbcd9f",
   "metadata": {},
   "outputs": [],
   "source": [
    "grouped = df.set_index(['time'])\n",
    "candles = grouped['price'].resample('1Min').ohlc()\n",
    "candles = candles[['open', 'close', 'high', 'low']]\n",
    "# candles"
   ]
  },
  {
   "cell_type": "code",
   "execution_count": 9,
   "id": "5085966e",
   "metadata": {},
   "outputs": [],
   "source": [
    "data = candles[:40]\n",
    "\n",
    "# процентное соотношение лонгистов/шортистов в свече\n",
    "difference = data['high'] - data['low']\n",
    "long_ratio = (data['close'] - data['low']) / difference * 100\n",
    "short_ratio = (data['high'] - data['close']) / difference * 100\n",
    "\n",
    "ratio_df = pd.DataFrame(columns=['long', 'short'])\n",
    "ratio_df['long'] = long_ratio\n",
    "ratio_df['short'] = short_ratio\n",
    "\n",
    "# расчет расположения макс. объема относительно открытия свечи\n",
    "from_high = abs(data['high'] - data['max_volume_price'])\n",
    "from_low = abs(data['max_volume_price'] - data['low'])\n",
    "total = from_high + from_low\n",
    "ratio_df.loc[data['direction'] == 1, 'percent'] = from_low / total * 100\n",
    "ratio_df.loc[data['direction'] == 2, 'percent'] = from_high / total * 100\n",
    "\n",
    "ratio_df['direction'] = data['direction']\n",
    "ratio_df['time'] = data['time']\n",
    "\n",
    "# определение победителя: \n",
    "# если соотношение лонгистов больше и макс объем как можно ниже, то приоритет для лонга\n",
    "# если соотношение шортистов больше и макс объем как можно выше, то приоритет для шорта\n",
    "ratio_df.loc[ratio_df['direction'] == 1, 'win'] = (ratio_df['long'] > 50) & (ratio_df['percent'] <= 40)\n",
    "ratio_df.loc[ratio_df['direction'] == 2, 'win'] = (ratio_df['short'] > 50) & (ratio_df['percent'] <= 40)\n",
    "\n",
    "# ratio_df"
   ]
  },
  {
   "cell_type": "code",
   "execution_count": 11,
   "id": "48adf08a",
   "metadata": {},
   "outputs": [
    {
     "data": {
      "image/png": "[encoded data removed]",
      "text/plain": [
       "<Figure size 1152x576 with 3 Axes>"
      ]
     },
     "metadata": {
      "needs_background": "light"
     },
     "output_type": "display_data"
    }
   ],
   "source": [
    "# chart\n",
    "fig = plt.figure(figsize=(16,8))\n",
    "ax1 = plt.subplot2grid((6,1), (0,0), rowspan=5, colspan=1)\n",
    "ax2 = plt.subplot2grid((6,1), (5,0), rowspan=1, colspan=1, sharex=ax1)\n",
    "ax3 = ax1.twinx()\n",
    "fig.tight_layout()\n",
    "\n",
    "ax1.clear()\n",
    "ax1.plot(candles.index, candles['close'])\n",
    "plt.show(block=False)"
   ]
  },
  {
   "cell_type": "code",
   "execution_count": 3,
   "id": "6fefbeb6",
   "metadata": {},
   "outputs": [],
   "source": [
    "# merge df\n",
    "new_df = pandas.read_csv('./../data/temp/SBER-20220506.csv', sep=',')\n",
    "new_df.time = pd.to_datetime(new_df.time)\n",
    "\n",
    "source_df = pandas.read_csv('./../data/SBER-20220506.csv', sep=',')\n",
    "source_df.time = pd.to_datetime(source_df.time)\n",
    "\n",
    "first_time = new_df.iloc[0]['time']\n",
    "last_time = new_df.iloc[-1]['time']\n",
    "search_condition = (source_df['time'] >= first_time) & (source_df['time'] <= last_time)\n",
    "\n",
    "result_df = source_df.drop(source_df.loc[search_condition].index)\n",
    "result_df = pd.concat([result_df, new_df]).rename_axis('index')\n",
    "result_df = result_df.sort_values(['time', 'index']).reset_index(drop=True)\n",
    "\n",
    "result_df.to_csv('./../data/SBER-20220506-merge-test.csv', mode='a', header=True, index=False)"
   ]
  },
  {
   "cell_type": "code",
   "execution_count": 13,
   "id": "6f591995",
   "metadata": {},
   "outputs": [],
   "source": [
    "import numpy as np\n",
    "pd.set_option(\"max_rows\", None)\n",
    "\n",
    "df1 = pandas.read_csv('./../data/USD000UTSTOM-20220512.csv', sep=',')\n",
    "df1.time = pd.to_datetime(df1.time)\n",
    "df1.price = pd.to_numeric(df1.price)\n",
    "df1.quantity = pd.to_numeric(df1.quantity)\n",
    "\n",
    "def agg_ohlcv(x):\n",
    "    if x.empty:\n",
    "        return pd.Series({\n",
    "            'low': 0,\n",
    "            'high': 0,\n",
    "            'open': 0,\n",
    "            'close': 0,\n",
    "            'total_volume': 0,\n",
    "            'max_volume_price': 0\n",
    "        })\n",
    "    \n",
    "    price = x['price'].values\n",
    "    quantity = x['quantity'].values\n",
    "    return pd.Series({\n",
    "        'low': min(price),\n",
    "        'high': max(price),\n",
    "        'open': price[0],\n",
    "        'close': price[-1],\n",
    "        'total_volume': sum(quantity),\n",
    "        'max_volume_price': x.groupby(['price'])[['quantity']].sum().idxmax()[0]\n",
    "    })\n",
    "candles = df1.set_index(['time'])\n",
    "candles = candles.resample('1min').apply(agg_ohlcv)\n",
    "candles = candles.ffill()\n",
    "\n",
    "candles.loc[candles['close'] == candles['open'], 'direction'] = 0 # свеча доджи\n",
    "candles.loc[candles['close'] > candles['open'], 'direction'] = 1 # бычья свеча\n",
    "candles.loc[candles['open'] > candles['close'], 'direction'] = 2 # медвежья свеча\n",
    "candles['time'] = candles.index\n",
    "\n",
    "candles = candles[['time', 'open', 'close', 'high', 'low', 'total_volume', 'direction', 'max_volume_price']]\n",
    "candles = candles.reset_index(drop=True)\n",
    "\n",
    "# candles"
   ]
  }
 ],
 "metadata": {
  "kernelspec": {
   "display_name": "Python 3 (ipykernel)",
   "language": "python",
   "name": "python3"
  },
  "language_info": {
   "codemirror_mode": {
    "name": "ipython",
    "version": 3
   },
   "file_extension": ".py",
   "mimetype": "text/x-python",
   "name": "python",
   "nbconvert_exporter": "python",
   "pygments_lexer": "ipython3",
   "version": "3.9.7"
  }
 },
 "nbformat": 4,
 "nbformat_minor": 5
}
