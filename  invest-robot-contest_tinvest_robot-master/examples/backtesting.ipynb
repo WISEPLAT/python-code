{
 "cells": [
  {
   "cell_type": "code",
   "execution_count": 20,
   "metadata": {},
   "outputs": [
    {
     "name": "stdout",
     "output_type": "stream",
     "text": [
      "The dotenv extension is already loaded. To reload it, use:\n",
      "  %reload_ext dotenv\n"
     ]
    }
   ],
   "source": [
    "import os\n",
    "import pandas as pd\n",
    "import plotly.express as px\n",
    "import plotly.io as pio\n",
    "\n",
    "from tinkoff.invest import Client\n",
    "from tinkoff.invest import schemas\n",
    "from datetime import datetime\n",
    "\n",
    "from tinvest_robot_perevalov.news_fetcher import _init_sentiment_analyzer\n",
    "from tinvest_robot_perevalov.trader import _quotation_to_float\n",
    "from tinvest_robot_perevalov._config import CLASS_CODE_SPB\n",
    "\n",
    "%load_ext dotenv\n",
    "%dotenv"
   ]
  },
  {
   "cell_type": "code",
   "execution_count": 4,
   "metadata": {},
   "outputs": [],
   "source": [
    "def str_to_date(datetime_string):\n",
    "    # 'Jun 1 2005  1:33PM'\n",
    "    return datetime.strptime(datetime_string, '%b %d %Y %I:%M%p')"
   ]
  },
  {
   "cell_type": "code",
   "execution_count": 5,
   "metadata": {},
   "outputs": [],
   "source": [
    "news = pd.read_csv(\"../data/us_equities_news_dataset.csv\")\n",
    "news['year'] = news.release_date.apply(lambda x: int(x.split('-')[0]))"
   ]
  },
  {
   "cell_type": "markdown",
   "metadata": {},
   "source": [
    "## Backtest"
   ]
  },
  {
   "cell_type": "code",
   "execution_count": 6,
   "metadata": {},
   "outputs": [],
   "source": [
    "def get_daily_candle_price_by_date(date, candles):\n",
    "    for c in candles:\n",
    "        if date.month == c.time.month and date.day == c.time.day:\n",
    "            return (_quotation_to_float(c.open) + _quotation_to_float(c.close))/2\n",
    "        elif c.time.month > date.month:\n",
    "            return False\n",
    "    return False"
   ]
  },
  {
   "cell_type": "code",
   "execution_count": 7,
   "metadata": {},
   "outputs": [
    {
     "name": "stderr",
     "output_type": "stream",
     "text": [
      "2022-05-21 19:35:34,042 - tinvest_robot_perevalov.news_fetcher - INFO - Downloading labels...\n",
      "2022-05-21 19:35:34,152 - tinvest_robot_perevalov.news_fetcher - INFO - Initializing sentiment analyzer...\n",
      "2022-05-21 19:35:34.214316: I tensorflow/stream_executor/platform/default/dso_loader.cc:53] Successfully opened dynamic library libcuda.so.1\n",
      "2022-05-21 19:35:34.247219: I tensorflow/stream_executor/cuda/cuda_gpu_executor.cc:937] successful NUMA node read from SysFS had negative value (-1), but there must be at least one NUMA node, so returning NUMA node zero\n",
      "2022-05-21 19:35:34.247541: I tensorflow/core/common_runtime/gpu/gpu_device.cc:1733] Found device 0 with properties: \n",
      "pciBusID: 0000:01:00.0 name: NVIDIA GeForce RTX 2080 Super with Max-Q Design computeCapability: 7.5\n",
      "coreClock: 1.08GHz coreCount: 48 deviceMemorySize: 7.79GiB deviceMemoryBandwidth: 327.88GiB/s\n",
      "2022-05-21 19:35:34.247564: I tensorflow/stream_executor/platform/default/dso_loader.cc:53] Successfully opened dynamic library libcudart.so.11.0\n",
      "2022-05-21 19:35:34.250403: I tensorflow/stream_executor/platform/default/dso_loader.cc:53] Successfully opened dynamic library libcublas.so.11\n",
      "2022-05-21 19:35:34.250446: I tensorflow/stream_executor/platform/default/dso_loader.cc:53] Successfully opened dynamic library libcublasLt.so.11\n",
      "2022-05-21 19:35:34.251825: I tensorflow/stream_executor/platform/default/dso_loader.cc:53] Successfully opened dynamic library libcufft.so.10\n",
      "2022-05-21 19:35:34.252032: I tensorflow/stream_executor/platform/default/dso_loader.cc:53] Successfully opened dynamic library libcurand.so.10\n",
      "2022-05-21 19:35:34.252398: I tensorflow/stream_executor/platform/default/dso_loader.cc:53] Successfully opened dynamic library libcusolver.so.11\n",
      "2022-05-21 19:35:34.253069: I tensorflow/stream_executor/platform/default/dso_loader.cc:53] Successfully opened dynamic library libcusparse.so.11\n",
      "2022-05-21 19:35:34.253166: I tensorflow/stream_executor/platform/default/dso_loader.cc:53] Successfully opened dynamic library libcudnn.so.8\n",
      "2022-05-21 19:35:34.253254: I tensorflow/stream_executor/cuda/cuda_gpu_executor.cc:937] successful NUMA node read from SysFS had negative value (-1), but there must be at least one NUMA node, so returning NUMA node zero\n",
      "2022-05-21 19:35:34.253616: I tensorflow/stream_executor/cuda/cuda_gpu_executor.cc:937] successful NUMA node read from SysFS had negative value (-1), but there must be at least one NUMA node, so returning NUMA node zero\n",
      "2022-05-21 19:35:34.253908: I tensorflow/core/common_runtime/gpu/gpu_device.cc:1871] Adding visible gpu devices: 0\n",
      "2022-05-21 19:35:34.254424: I tensorflow/core/platform/cpu_feature_guard.cc:142] This TensorFlow binary is optimized with oneAPI Deep Neural Network Library (oneDNN) to use the following CPU instructions in performance-critical operations:  AVX2 FMA\n",
      "To enable them in other operations, rebuild TensorFlow with the appropriate compiler flags.\n",
      "2022-05-21 19:35:34.254842: I tensorflow/stream_executor/cuda/cuda_gpu_executor.cc:937] successful NUMA node read from SysFS had negative value (-1), but there must be at least one NUMA node, so returning NUMA node zero\n",
      "2022-05-21 19:35:34.255154: I tensorflow/core/common_runtime/gpu/gpu_device.cc:1733] Found device 0 with properties: \n",
      "pciBusID: 0000:01:00.0 name: NVIDIA GeForce RTX 2080 Super with Max-Q Design computeCapability: 7.5\n",
      "coreClock: 1.08GHz coreCount: 48 deviceMemorySize: 7.79GiB deviceMemoryBandwidth: 327.88GiB/s\n",
      "2022-05-21 19:35:34.255204: I tensorflow/stream_executor/cuda/cuda_gpu_executor.cc:937] successful NUMA node read from SysFS had negative value (-1), but there must be at least one NUMA node, so returning NUMA node zero\n",
      "2022-05-21 19:35:34.255523: I tensorflow/stream_executor/cuda/cuda_gpu_executor.cc:937] successful NUMA node read from SysFS had negative value (-1), but there must be at least one NUMA node, so returning NUMA node zero\n",
      "2022-05-21 19:35:34.255804: I tensorflow/core/common_runtime/gpu/gpu_device.cc:1871] Adding visible gpu devices: 0\n",
      "2022-05-21 19:35:34.255832: I tensorflow/stream_executor/platform/default/dso_loader.cc:53] Successfully opened dynamic library libcudart.so.11.0\n",
      "2022-05-21 19:35:34.699446: I tensorflow/core/common_runtime/gpu/gpu_device.cc:1258] Device interconnect StreamExecutor with strength 1 edge matrix:\n",
      "2022-05-21 19:35:34.699475: I tensorflow/core/common_runtime/gpu/gpu_device.cc:1264]      0 \n",
      "2022-05-21 19:35:34.699484: I tensorflow/core/common_runtime/gpu/gpu_device.cc:1277] 0:   N \n",
      "2022-05-21 19:35:34.699685: I tensorflow/stream_executor/cuda/cuda_gpu_executor.cc:937] successful NUMA node read from SysFS had negative value (-1), but there must be at least one NUMA node, so returning NUMA node zero\n",
      "2022-05-21 19:35:34.700053: I tensorflow/stream_executor/cuda/cuda_gpu_executor.cc:937] successful NUMA node read from SysFS had negative value (-1), but there must be at least one NUMA node, so returning NUMA node zero\n",
      "2022-05-21 19:35:34.700387: I tensorflow/stream_executor/cuda/cuda_gpu_executor.cc:937] successful NUMA node read from SysFS had negative value (-1), but there must be at least one NUMA node, so returning NUMA node zero\n",
      "2022-05-21 19:35:34.700693: I tensorflow/core/common_runtime/gpu/gpu_device.cc:1418] Created TensorFlow device (/job:localhost/replica:0/task:0/device:GPU:0 with 6238 MB memory) -> physical GPU (device: 0, name: NVIDIA GeForce RTX 2080 Super with Max-Q Design, pci bus id: 0000:01:00.0, compute capability: 7.5)\n",
      "2022-05-21 19:35:34.981531: I tensorflow/stream_executor/platform/default/dso_loader.cc:53] Successfully opened dynamic library libcublas.so.11\n",
      "2022-05-21 19:35:35.477267: I tensorflow/stream_executor/platform/default/dso_loader.cc:53] Successfully opened dynamic library libcublasLt.so.11\n",
      "All model checkpoint layers were used when initializing TFRobertaForSequenceClassification.\n",
      "\n",
      "All the layers of TFRobertaForSequenceClassification were initialized from the model checkpoint at cardiffnlp/twitter-roberta-base-sentiment.\n",
      "If your task is similar to the task the model of the checkpoint was trained on, you can already use TFRobertaForSequenceClassification for predictions without further training.\n"
     ]
    }
   ],
   "source": [
    "sa = _init_sentiment_analyzer()"
   ]
  },
  {
   "cell_type": "code",
   "execution_count": 11,
   "metadata": {},
   "outputs": [],
   "source": [
    "backtesting_dir = os.path.join(\"..\", \"data\", \"backtesting\")"
   ]
  },
  {
   "cell_type": "code",
   "execution_count": 12,
   "metadata": {},
   "outputs": [],
   "source": [
    "years = [2012, 2013, 2014, 2015, 2016, 2017, 2018, 2019, 2020]\n",
    "tickers = news.ticker.value_counts().index.values[:100]"
   ]
  },
  {
   "cell_type": "code",
   "execution_count": 13,
   "metadata": {},
   "outputs": [
    {
     "name": "stderr",
     "output_type": "stream",
     "text": [
      "/home/ins-alex/.local/lib/python3.8/site-packages/pandas/core/generic.py:5208: SettingWithCopyWarning: \n",
      "A value is trying to be set on a copy of a slice from a DataFrame.\n",
      "Try using .loc[row_indexer,col_indexer] = value instead\n",
      "\n",
      "See the caveats in the documentation: http://pandas.pydata.org/pandas-docs/stable/user_guide/indexing.html#returning-a-view-versus-a-copy\n",
      "  self[name] = value\n",
      "2022-05-21 19:35:59,986 - tinkoff.invest.logging - INFO - c43271c693fb5502a31ff82f8243c8eb ShareBy\n",
      "2022-05-21 19:36:00,097 - tinkoff.invest.logging - INFO - c0fa5799ca307a6d7e3ca65c9b55095e GetCandles\n"
     ]
    },
    {
     "name": "stdout",
     "output_type": "stream",
     "text": [
      "2012-AAPL INIT BALANCE: 21.93 FINAL BALANCE: 22.01 + (SHARES 1)\n"
     ]
    },
    {
     "name": "stderr",
     "output_type": "stream",
     "text": [
      "2022-05-21 19:36:07,354 - tinkoff.invest.logging - INFO - 2d940ba1e35bfe91ea541ab4a357a2b6 ShareBy\n",
      "2022-05-21 19:36:07,441 - tinkoff.invest.logging - INFO - 4e9e8333630704941dc339169153b602 GetCandles\n"
     ]
    },
    {
     "name": "stdout",
     "output_type": "stream",
     "text": [
      "2012-MSFT INIT BALANCE: 39.825 FINAL BALANCE: 39.825\n"
     ]
    },
    {
     "name": "stderr",
     "output_type": "stream",
     "text": [
      "2022-05-21 19:36:07,777 - tinkoff.invest.logging - INFO - fd2093da4aee5e4df96b667b0af0f5dd ShareBy\n",
      "2022-05-21 19:36:07,893 - tinkoff.invest.logging - INFO - d938bfd760c25f79451b65e2ae846d76 GetCandles\n"
     ]
    },
    {
     "name": "stdout",
     "output_type": "stream",
     "text": [
      "2012-BAC INIT BALANCE: 8.625 FINAL BALANCE: 8.625\n"
     ]
    },
    {
     "name": "stderr",
     "output_type": "stream",
     "text": [
      "2022-05-21 19:36:08,274 - tinkoff.invest.logging - INFO - 81d485a0b103757bb89157d767b4efdb ShareBy\n",
      "2022-05-21 19:36:08,385 - tinkoff.invest.logging - INFO - ceae43144228e51dd6faf516ddb3cd98 GetCandles\n"
     ]
    },
    {
     "name": "stdout",
     "output_type": "stream",
     "text": [
      "2012-AMZN INIT BALANCE: 263.835 FINAL BALANCE: 263.835\n"
     ]
    },
    {
     "name": "stderr",
     "output_type": "stream",
     "text": [
      "2022-05-21 19:36:08,616 - tinkoff.invest.logging - INFO - 9d1dd61840a2f4dd51d26e6f37547753 ShareBy\n",
      "2022-05-21 19:36:08,682 - tinkoff.invest.logging - INFO - e60c14900738937b4f96fdb9b9a7717a GetCandles\n",
      "2022-05-21 19:36:08,896 - tinkoff.invest.logging - INFO - a4e28d78ab88d6b888035c7b8799ec3b ShareBy\n",
      "2022-05-21 19:36:09,011 - tinkoff.invest.logging - INFO - 087ac973321b497cbd5b43a2635b61ca GetCandles\n"
     ]
    },
    {
     "name": "stdout",
     "output_type": "stream",
     "text": [
      "2012-BA INIT BALANCE: 112.05000000000001 FINAL BALANCE: 112.05000000000001\n"
     ]
    },
    {
     "name": "stderr",
     "output_type": "stream",
     "text": [
      "2022-05-21 19:36:09,255 - tinkoff.invest.logging - INFO - 14dd42f3a98bd52a658ed4aecdcd0575 ShareBy\n",
      "2022-05-21 19:36:09,369 - tinkoff.invest.logging - INFO - 68cc76d428bcbb9eaad5f0ef54936622 GetCandles\n"
     ]
    },
    {
     "name": "stdout",
     "output_type": "stream",
     "text": [
      "2012-GOOGL INIT BALANCE: 490.179 FINAL BALANCE: 490.179\n"
     ]
    },
    {
     "name": "stderr",
     "output_type": "stream",
     "text": [
      "2022-05-21 19:36:09,609 - tinkoff.invest.logging - INFO - fe653186ed98ae0742a63057777e095c ShareBy\n",
      "2022-05-21 19:36:09,715 - tinkoff.invest.logging - INFO - ce06f76ff046a9eefe1b8602126ef5cc GetCandles\n"
     ]
    },
    {
     "name": "stdout",
     "output_type": "stream",
     "text": [
      "2012-GS INIT BALANCE: 139.45499999999998 FINAL BALANCE: 158.59499999999997 + (SHARES 1)\n"
     ]
    },
    {
     "name": "stderr",
     "output_type": "stream",
     "text": [
      "2022-05-21 19:36:10,515 - tinkoff.invest.logging - INFO - 0af0aad84ad1e5aa1280aaff2240358d ShareBy\n",
      "2022-05-21 19:36:10,635 - tinkoff.invest.logging - INFO - 13b898524494d2f50d46af16c1379d46 GetCandles\n",
      "2022-05-21 19:36:10,958 - tinkoff.invest.logging - INFO - e1af9de6c70dfe157451cb59b1ff6736 ShareBy\n"
     ]
    },
    {
     "name": "stdout",
     "output_type": "stream",
     "text": [
      "2012-TSLA INIT BALANCE: 8.685 FINAL BALANCE: 8.685\n"
     ]
    },
    {
     "name": "stderr",
     "output_type": "stream",
     "text": [
      "2022-05-21 19:36:11,042 - tinkoff.invest.logging - INFO - c08e1e55e52e1b8b14ad9da2b7f60f54 GetCandles\n",
      "2022-05-21 19:36:11,526 - tinkoff.invest.logging - INFO - 2d05b2392d9771355fc41587625360b7 ShareBy\n"
     ]
    },
    {
     "name": "stdout",
     "output_type": "stream",
     "text": [
      "2012-NFLX INIT BALANCE: 15.600000000000001 FINAL BALANCE: 15.600000000000001\n"
     ]
    },
    {
     "name": "stderr",
     "output_type": "stream",
     "text": [
      "2022-05-21 19:36:11,632 - tinkoff.invest.logging - INFO - 91ab768aff6a9d0fc5601ddc6b9309cf GetCandles\n"
     ]
    },
    {
     "name": "stdout",
     "output_type": "stream",
     "text": [
      "2012-TGT INIT BALANCE: 77.83500000000001 FINAL BALANCE: 77.83500000000001\n"
     ]
    },
    {
     "name": "stderr",
     "output_type": "stream",
     "text": [
      "2022-05-21 19:36:11,889 - tinkoff.invest.logging - INFO - 2faa872590c8a97ef4e77dc2dd2f71ad ShareBy\n",
      "2022-05-21 19:36:11,979 - tinkoff.invest.logging - INFO - 87ff55c491ad4820179cd440276ec806 GetCandles\n"
     ]
    },
    {
     "name": "stdout",
     "output_type": "stream",
     "text": [
      "2012-INTC INIT BALANCE: 36.93015 FINAL BALANCE: 36.93015\n"
     ]
    },
    {
     "name": "stderr",
     "output_type": "stream",
     "text": [
      "2022-05-21 19:36:12,303 - tinkoff.invest.logging - INFO - 2c3e1401fa42757d8f4bb943ae321912 ShareBy\n",
      "2022-05-21 19:36:12,415 - tinkoff.invest.logging - INFO - 29301740e719be37bca3054b717435b4 GetCandles\n"
     ]
    },
    {
     "name": "stdout",
     "output_type": "stream",
     "text": [
      "2012-DIS INIT BALANCE: 56.955 FINAL BALANCE: 57.285 + (SHARES 1)\n"
     ]
    },
    {
     "name": "stderr",
     "output_type": "stream",
     "text": [
      "2022-05-21 19:36:12,744 - tinkoff.invest.logging - INFO - ae987f29a88e23cda96ec39545cdba83 ShareBy\n",
      "2022-05-21 19:36:12,832 - tinkoff.invest.logging - INFO - f19c7914050c48179860270a00ea543b GetCandles\n",
      "2022-05-21 19:36:13,134 - tinkoff.invest.logging - INFO - 9afbd79bec123b9b7fa0dab8c22d1656 ShareBy\n"
     ]
    },
    {
     "name": "stdout",
     "output_type": "stream",
     "text": [
      "2012-XOM INIT BALANCE: 128.95499999999998 FINAL BALANCE: 128.95499999999998\n"
     ]
    },
    {
     "name": "stderr",
     "output_type": "stream",
     "text": [
      "2022-05-21 19:36:13,218 - tinkoff.invest.logging - INFO - 829940fad2c91d3f1dbac55c0a6d9094 GetCandles\n"
     ]
    },
    {
     "name": "stdout",
     "output_type": "stream",
     "text": [
      "2012-JPM INIT BALANCE: 51.900000000000006 FINAL BALANCE: 51.900000000000006\n"
     ]
    },
    {
     "name": "stderr",
     "output_type": "stream",
     "text": [
      "2022-05-21 19:36:13,763 - tinkoff.invest.logging - INFO - 230b8ebc8f6b62ecca4cf143e19ec3b3 ShareBy\n",
      "2022-05-21 19:36:13,852 - tinkoff.invest.logging - INFO - af56469c3543ff9913ec3ee28904a73f GetCandles\n"
     ]
    },
    {
     "name": "stdout",
     "output_type": "stream",
     "text": [
      "2012-MS INIT BALANCE: 23.64 FINAL BALANCE: 26.975\n"
     ]
    },
    {
     "name": "stderr",
     "output_type": "stream",
     "text": [
      "2022-05-21 19:36:14,557 - tinkoff.invest.logging - INFO - aa074e2a0bcb15092fb225ed6fa6c5f0 ShareBy\n",
      "2022-05-21 19:36:14,647 - tinkoff.invest.logging - INFO - 0be83649d6f76f2e82e4f4376b1fa043 GetCandles\n"
     ]
    },
    {
     "name": "stdout",
     "output_type": "stream",
     "text": [
      "2012-GM INIT BALANCE: 31.244999999999997 FINAL BALANCE: 31.244999999999997\n"
     ]
    },
    {
     "name": "stderr",
     "output_type": "stream",
     "text": [
      "2022-05-21 19:36:14,882 - tinkoff.invest.logging - INFO - 69b56f0e3e59b9583bd7c1383bd6c3af ShareBy\n",
      "2022-05-21 19:36:14,987 - tinkoff.invest.logging - INFO - f47fc404bbf80d54f46f08b8818b693b GetCandles\n"
     ]
    },
    {
     "name": "stdout",
     "output_type": "stream",
     "text": [
      "2012-C INIT BALANCE: 40.695 FINAL BALANCE: 42.68\n"
     ]
    },
    {
     "name": "stderr",
     "output_type": "stream",
     "text": [
      "2022-05-21 19:36:15,492 - tinkoff.invest.logging - INFO - 803dd6ec578b70e115787d8eb7eb79f4 ShareBy\n",
      "2022-05-21 19:36:15,581 - tinkoff.invest.logging - INFO - 2da17f0bdd6017d68f0afab68d8ff20e GetCandles\n"
     ]
    },
    {
     "name": "stdout",
     "output_type": "stream",
     "text": [
      "2012-GE INIT BALANCE: 218.76 FINAL BALANCE: 218.76\n"
     ]
    },
    {
     "name": "stderr",
     "output_type": "stream",
     "text": [
      "2022-05-21 19:36:15,908 - tinkoff.invest.logging - INFO - 9b54375a1a3abfa9b54fa6f88dc8d6d0 ShareBy\n",
      "2022-05-21 19:36:16,012 - tinkoff.invest.logging - INFO - 8216e6c14e6286a0d9d32e970eded8ad GetCandles\n"
     ]
    },
    {
     "name": "stdout",
     "output_type": "stream",
     "text": [
      "2012-MU INIT BALANCE: 9.959999999999999 FINAL BALANCE: 9.959999999999999\n"
     ]
    },
    {
     "name": "stderr",
     "output_type": "stream",
     "text": [
      "2022-05-21 19:36:16,255 - tinkoff.invest.logging - INFO - 781281aa8ddf6b84662ffb847cbc9185 ShareBy\n",
      "2022-05-21 19:36:16,315 - tinkoff.invest.logging - INFO - 61e5d508d4a9dd28b6ea984d314ed7f6 GetCandles\n",
      "2022-05-21 19:36:16,520 - tinkoff.invest.logging - INFO - 9ef2975a7f882169628b495f2fee6613 ShareBy\n",
      "2022-05-21 19:36:16,632 - tinkoff.invest.logging - INFO - e51ecc33a6664ca9cf9fc3519e90d578 GetCandles\n"
     ]
    },
    {
     "name": "stdout",
     "output_type": "stream",
     "text": [
      "2012-WMB INIT BALANCE: 41.325 FINAL BALANCE: 41.325\n"
     ]
    },
    {
     "name": "stderr",
     "output_type": "stream",
     "text": [
      "2022-05-21 19:36:16,859 - tinkoff.invest.logging - INFO - 196ee2327afb376aeaa2f4dbd02d6e0b ShareBy\n",
      "2022-05-21 19:36:16,944 - tinkoff.invest.logging - INFO - f104c51dd8676e98ee74896821dbf410 GetCandles\n"
     ]
    },
    {
     "name": "stdout",
     "output_type": "stream",
     "text": [
      "2012-KO INIT BALANCE: 53.625 FINAL BALANCE: 53.625\n"
     ]
    },
    {
     "name": "stderr",
     "output_type": "stream",
     "text": [
      "2022-05-21 19:36:17,177 - tinkoff.invest.logging - INFO - 3e833e49cb735de32257941e8fa9e72e ShareBy\n",
      "2022-05-21 19:36:17,290 - tinkoff.invest.logging - INFO - 46b0113c30ab22b688bfe5d346ef2833 GetCandles\n"
     ]
    },
    {
     "name": "stdout",
     "output_type": "stream",
     "text": [
      "2012-WFC INIT BALANCE: 41.910000000000004 FINAL BALANCE: 41.910000000000004\n"
     ]
    },
    {
     "name": "stderr",
     "output_type": "stream",
     "text": [
      "2022-05-21 19:36:17,533 - tinkoff.invest.logging - INFO - 6479db419ff83bb07ed05b39c6b84de5 ShareBy\n",
      "2022-05-21 19:36:17,650 - tinkoff.invest.logging - INFO - 303ca3dc8db65c9364fe1695c682325d GetCandles\n"
     ]
    },
    {
     "name": "stdout",
     "output_type": "stream",
     "text": [
      "2012-WMT INIT BALANCE: 89.955 FINAL BALANCE: 89.955\n"
     ]
    },
    {
     "name": "stderr",
     "output_type": "stream",
     "text": [
      "2022-05-21 19:36:17,912 - tinkoff.invest.logging - INFO - 3024a71d4b1e071d319854466dbae089 ShareBy\n",
      "2022-05-21 19:36:18,014 - tinkoff.invest.logging - INFO - 2b49485cddb42e14092d252e31daa395 GetCandles\n"
     ]
    },
    {
     "name": "stdout",
     "output_type": "stream",
     "text": [
      "2012-IBM INIT BALANCE: 280.09499999999997 FINAL BALANCE: 280.67499999999995\n"
     ]
    },
    {
     "name": "stderr",
     "output_type": "stream",
     "text": [
      "2022-05-21 19:36:19,183 - tinkoff.invest.logging - INFO - 8341bb8e2a4f717ddbc5fd24d4362496 ShareBy\n",
      "2022-05-21 19:36:19,242 - tinkoff.invest.logging - INFO - a104789196df8a1f222c8e76aed5cb34 GetCandles\n",
      "2022-05-21 19:36:19,463 - tinkoff.invest.logging - INFO - 582191fb334e586dab4fc5efd572c58b ShareBy\n",
      "2022-05-21 19:36:19,564 - tinkoff.invest.logging - INFO - 2609a8b1bd2406ff505b149b96542ee5 GetCandles\n",
      "2022-05-21 19:36:19,774 - tinkoff.invest.logging - INFO - 5c84996fa7ba9748acda1061cd619e21 ShareBy\n"
     ]
    },
    {
     "name": "stdout",
     "output_type": "stream",
     "text": [
      "2012-BLK INIT BALANCE: 275.475 FINAL BALANCE: 275.475\n"
     ]
    },
    {
     "name": "stderr",
     "output_type": "stream",
     "text": [
      "2022-05-21 19:36:19,858 - tinkoff.invest.logging - INFO - fa3340ced59fede7ac223cc9318a1ed2 GetCandles\n"
     ]
    },
    {
     "name": "stdout",
     "output_type": "stream",
     "text": [
      "2012-CME INIT BALANCE: 74.226 FINAL BALANCE: 74.226\n"
     ]
    },
    {
     "name": "stderr",
     "output_type": "stream",
     "text": [
      "2022-05-21 19:36:20,098 - tinkoff.invest.logging - INFO - 57347de72c85608c9c65376af5bd0825 ShareBy\n",
      "2022-05-21 19:36:20,203 - tinkoff.invest.logging - INFO - e230b35c0cf67add4296ddb5bb74db76 GetCandles\n"
     ]
    },
    {
     "name": "stdout",
     "output_type": "stream",
     "text": [
      "2012-CVX INIT BALANCE: 163.10999999999999 FINAL BALANCE: 163.10999999999999\n"
     ]
    },
    {
     "name": "stderr",
     "output_type": "stream",
     "text": [
      "2022-05-21 19:36:20,620 - tinkoff.invest.logging - INFO - 195834e1bf28f995b35fc95e306cb8b1 ShareBy\n",
      "2022-05-21 19:36:20,705 - tinkoff.invest.logging - INFO - dd7bdb081e15601724d449a9511b10bd GetCandles\n"
     ]
    },
    {
     "name": "stdout",
     "output_type": "stream",
     "text": [
      "2012-AA INIT BALANCE: 30.324 FINAL BALANCE: 30.324\n"
     ]
    },
    {
     "name": "stderr",
     "output_type": "stream",
     "text": [
      "2022-05-21 19:36:20,976 - tinkoff.invest.logging - INFO - 03721499e08cdf344595f97adab1dfc3 ShareBy\n",
      "2022-05-21 19:36:21,071 - tinkoff.invest.logging - INFO - b1f9b701f53175a29b0816066c064df5 GetCandles\n"
     ]
    },
    {
     "name": "stdout",
     "output_type": "stream",
     "text": [
      "2012-CMG INIT BALANCE: 515.55 FINAL BALANCE: 490.2949999999999 + (SHARES 1)\n"
     ]
    },
    {
     "name": "stderr",
     "output_type": "stream",
     "text": [
      "2022-05-21 19:36:21,561 - tinkoff.invest.logging - INFO - a326a8853226b53358577339f0fc31b1 ShareBy\n",
      "2022-05-21 19:36:21,645 - tinkoff.invest.logging - INFO - 278053917bed4f4ee88686cffbaf8f13 GetCandles\n",
      "2022-05-21 19:36:21,953 - tinkoff.invest.logging - INFO - 9f03aed47f0e70bc0ddc930062cf935d ShareBy\n"
     ]
    },
    {
     "name": "stdout",
     "output_type": "stream",
     "text": [
      "2012-SO INIT BALANCE: 68.80499999999999 FINAL BALANCE: 66.455 + (SHARES 1)\n"
     ]
    },
    {
     "name": "stderr",
     "output_type": "stream",
     "text": [
      "2022-05-21 19:36:22,053 - tinkoff.invest.logging - INFO - 5b0560c1e6a71a342b171f3523e2a29e GetCandles\n"
     ]
    },
    {
     "name": "stdout",
     "output_type": "stream",
     "text": [
      "2012-VZ INIT BALANCE: 60.42 FINAL BALANCE: 60.42\n"
     ]
    },
    {
     "name": "stderr",
     "output_type": "stream",
     "text": [
      "2022-05-21 19:36:22,301 - tinkoff.invest.logging - INFO - 26d071a93503b7683744a2c5965d63da ShareBy\n",
      "2022-05-21 19:36:22,387 - tinkoff.invest.logging - INFO - 7d7e87accecf272a4c632f5d9530b961 GetCandles\n"
     ]
    },
    {
     "name": "stdout",
     "output_type": "stream",
     "text": [
      "2012-LMT INIT BALANCE: 123.18 FINAL BALANCE: 123.18\n"
     ]
    },
    {
     "name": "stderr",
     "output_type": "stream",
     "text": [
      "2022-05-21 19:36:22,632 - tinkoff.invest.logging - INFO - f860cf3efe65a6f266e99980bbd2aeb3 ShareBy\n",
      "2022-05-21 19:36:22,742 - tinkoff.invest.logging - INFO - d3132cb25646ae83d25cfedc042c5bfd GetCandles\n"
     ]
    },
    {
     "name": "stdout",
     "output_type": "stream",
     "text": [
      "2012-EFX INIT BALANCE: 59.085 FINAL BALANCE: 59.085\n"
     ]
    },
    {
     "name": "stderr",
     "output_type": "stream",
     "text": [
      "2022-05-21 19:36:22,985 - tinkoff.invest.logging - INFO - 04f55367c45e98681c288069cbed3e84 ShareBy\n",
      "2022-05-21 19:36:23,077 - tinkoff.invest.logging - INFO - a3cd632ef1b62343443e1f9f8ebc7e23 GetCandles\n"
     ]
    },
    {
     "name": "stdout",
     "output_type": "stream",
     "text": [
      "2012-CAT INIT BALANCE: 139.155 FINAL BALANCE: 139.155\n"
     ]
    },
    {
     "name": "stderr",
     "output_type": "stream",
     "text": [
      "2022-05-21 19:36:23,810 - tinkoff.invest.logging - INFO - d68cc7b2ecd71d3b72b4858a7bf0a4d0 ShareBy\n",
      "2022-05-21 19:36:23,875 - tinkoff.invest.logging - INFO - d446aff7e89952cfc37966db763d2cb9 GetCandles\n",
      "2022-05-21 19:36:24,086 - tinkoff.invest.logging - INFO - 1f7a8f5dcb7be7a7178905c6b7b058ef ShareBy\n",
      "2022-05-21 19:36:24,173 - tinkoff.invest.logging - INFO - 5c5ae7d497f8851b1781c0cdfd5f670e GetCandles\n"
     ]
    },
    {
     "name": "stdout",
     "output_type": "stream",
     "text": [
      "2012-SBUX INIT BALANCE: 35.1375 FINAL BALANCE: 35.1375\n"
     ]
    },
    {
     "name": "stderr",
     "output_type": "stream",
     "text": [
      "2022-05-21 19:36:24,419 - tinkoff.invest.logging - INFO - 04b5d10b768c37b688c24af24fb61e45 ShareBy\n",
      "2022-05-21 19:36:24,507 - tinkoff.invest.logging - INFO - ca659b32fdacd7e461aa9c08f8e60752 GetCandles\n"
     ]
    },
    {
     "name": "stdout",
     "output_type": "stream",
     "text": [
      "2012-AGN INIT BALANCE: 91.74 FINAL BALANCE: 91.74\n"
     ]
    },
    {
     "name": "stderr",
     "output_type": "stream",
     "text": [
      "2022-05-21 19:36:24,752 - tinkoff.invest.logging - INFO - cea6145b0543e72f30d29b7856651775 ShareBy\n",
      "2022-05-21 19:36:24,839 - tinkoff.invest.logging - INFO - 0cb9c203c33d7394b8affe74647b0d73 GetCandles\n"
     ]
    },
    {
     "name": "stdout",
     "output_type": "stream",
     "text": [
      "2012-SLB INIT BALANCE: 105.60000000000001 FINAL BALANCE: 105.60000000000001\n"
     ]
    },
    {
     "name": "stderr",
     "output_type": "stream",
     "text": [
      "2022-05-21 19:36:25,103 - tinkoff.invest.logging - INFO - 16fdb6b7d3bba689d05ef8991564515a ShareBy\n",
      "2022-05-21 19:36:25,209 - tinkoff.invest.logging - INFO - de6093f433c139786f30849f5a6c2c2e GetCandles\n"
     ]
    },
    {
     "name": "stdout",
     "output_type": "stream",
     "text": [
      "2012-JNJ INIT BALANCE: 98.385 FINAL BALANCE: 98.385\n"
     ]
    },
    {
     "name": "stderr",
     "output_type": "stream",
     "text": [
      "2022-05-21 19:36:25,461 - tinkoff.invest.logging - INFO - 3aa32cc4736b717e23b56e00011ebf41 ShareBy\n",
      "2022-05-21 19:36:25,566 - tinkoff.invest.logging - INFO - 6bf41af3068928b5cc6c72e92c334a6e GetCandles\n"
     ]
    },
    {
     "name": "stdout",
     "output_type": "stream",
     "text": [
      "2012-T INIT BALANCE: 45.69 FINAL BALANCE: 45.62 + (SHARES 1)\n"
     ]
    },
    {
     "name": "stderr",
     "output_type": "stream",
     "text": [
      "2022-05-21 19:36:25,890 - tinkoff.invest.logging - INFO - b6c2e053828831c9059b73b2fcbff03b ShareBy\n",
      "2022-05-21 19:36:25,977 - tinkoff.invest.logging - INFO - 90b9e7e2dbddc5cb6afef405082b710c GetCandles\n"
     ]
    },
    {
     "name": "stdout",
     "output_type": "stream",
     "text": [
      "2012-NKE INIT BALANCE: 36.51375 FINAL BALANCE: 36.51375\n"
     ]
    },
    {
     "name": "stderr",
     "output_type": "stream",
     "text": [
      "2022-05-21 19:36:26,222 - tinkoff.invest.logging - INFO - 1232ac51abd65aaa3bec1cae336fec1d ShareBy\n",
      "2022-05-21 19:36:26,312 - tinkoff.invest.logging - INFO - c4c7fab7b82b16125479a9ff4b526b36 GetCandles\n"
     ]
    },
    {
     "name": "stdout",
     "output_type": "stream",
     "text": [
      "2012-PGR INIT BALANCE: 29.714999999999996 FINAL BALANCE: 29.714999999999996\n"
     ]
    },
    {
     "name": "stderr",
     "output_type": "stream",
     "text": [
      "2022-05-21 19:36:26,554 - tinkoff.invest.logging - INFO - 5f0d7138a0b126af2b8035c34e7fa93d ShareBy\n",
      "2022-05-21 19:36:26,644 - tinkoff.invest.logging - INFO - af9f97ad137779b5299d1ceb2eabecfc GetCandles\n"
     ]
    },
    {
     "name": "stdout",
     "output_type": "stream",
     "text": [
      "2012-AMGN INIT BALANCE: 97.42500000000001 FINAL BALANCE: 97.42500000000001\n"
     ]
    },
    {
     "name": "stderr",
     "output_type": "stream",
     "text": [
      "2022-05-21 19:36:26,897 - tinkoff.invest.logging - INFO - d378d78a622ef6f85c0ef2864705ec44 ShareBy\n",
      "2022-05-21 19:36:26,984 - tinkoff.invest.logging - INFO - 321b95a3926f739a2f466071fff52ede GetCandles\n",
      "2022-05-21 19:36:27,223 - tinkoff.invest.logging - INFO - b76c80c3b8e7158cd5df08d8d993bb2d ShareBy\n"
     ]
    },
    {
     "name": "stdout",
     "output_type": "stream",
     "text": [
      "2012-ICE INIT BALANCE: 36.72 FINAL BALANCE: 36.72\n"
     ]
    },
    {
     "name": "stderr",
     "output_type": "stream",
     "text": [
      "2022-05-21 19:36:27,333 - tinkoff.invest.logging - INFO - 6fb41ab51db88a82285a4b8af2e96639 GetCandles\n"
     ]
    },
    {
     "name": "stdout",
     "output_type": "stream",
     "text": [
      "2012-FCX INIT BALANCE: 57.405 FINAL BALANCE: 57.405\n"
     ]
    },
    {
     "name": "stderr",
     "output_type": "stream",
     "text": [
      "2022-05-21 19:36:27,583 - tinkoff.invest.logging - INFO - e60ecf6414d36c2200dff282cd35fc9e ShareBy\n",
      "2022-05-21 19:36:27,671 - tinkoff.invest.logging - INFO - 7fc42626ac60e8d38ae57d0704bcb6e7 GetCandles\n"
     ]
    },
    {
     "name": "stdout",
     "output_type": "stream",
     "text": [
      "2012-HD INIT BALANCE: 63.614999999999995 FINAL BALANCE: 63.614999999999995\n"
     ]
    },
    {
     "name": "stderr",
     "output_type": "stream",
     "text": [
      "2022-05-21 19:36:27,925 - tinkoff.invest.logging - INFO - 654601315fda61705a2e2d8ba0ae3fbf ShareBy\n",
      "2022-05-21 19:36:28,030 - tinkoff.invest.logging - INFO - 48971ea870d918368866c2d9b32eda04 GetCandles\n"
     ]
    },
    {
     "name": "stdout",
     "output_type": "stream",
     "text": [
      "2012-FDX INIT BALANCE: 128.20499999999998 FINAL BALANCE: 128.745\n"
     ]
    },
    {
     "name": "stderr",
     "output_type": "stream",
     "text": [
      "2022-05-21 19:36:28,674 - tinkoff.invest.logging - ERROR - 51b2c22fdcbccaee8490206ac269c5bf ShareBy NOT_FOUND 50002\n",
      "2022-05-21 19:36:28,906 - tinkoff.invest.logging - INFO - 161f1a8f92b62189e1c208262173b2b2 ShareBy\n"
     ]
    },
    {
     "name": "stdout",
     "output_type": "stream",
     "text": [
      "(<StatusCode.NOT_FOUND: (5, 'not found')>, '50002', Metadata(tracking_id='51b2c22fdcbccaee8490206ac269c5bf', ratelimit_limit='200, 200;w=60', ratelimit_remaining=150, ratelimit_reset=32, message='instrument not found'))\n"
     ]
    },
    {
     "name": "stderr",
     "output_type": "stream",
     "text": [
      "2022-05-21 19:36:29,010 - tinkoff.invest.logging - INFO - b415f1fb2ad7099cd7a9a0105ae8400e GetCandles\n",
      "2022-05-21 19:36:29,333 - tinkoff.invest.logging - ERROR - e5cbec6242d220bb15308fd0de107c76 ShareBy NOT_FOUND 50002\n"
     ]
    },
    {
     "name": "stdout",
     "output_type": "stream",
     "text": [
      "2012-DAL INIT BALANCE: 12.345 FINAL BALANCE: 12.345\n",
      "(<StatusCode.NOT_FOUND: (5, 'not found')>, '50002', Metadata(tracking_id='e5cbec6242d220bb15308fd0de107c76', ratelimit_limit='200, 200;w=60', ratelimit_remaining=148, ratelimit_reset=31, message='instrument not found'))\n"
     ]
    },
    {
     "name": "stderr",
     "output_type": "stream",
     "text": [
      "2022-05-21 19:36:29,558 - tinkoff.invest.logging - ERROR - 82ba4952e2c2f5946ec8205664ba3721 ShareBy NOT_FOUND 50002\n",
      "2022-05-21 19:36:29,790 - tinkoff.invest.logging - INFO - 3ab9a447994c730114bc747cc8bc4e62 ShareBy\n"
     ]
    },
    {
     "name": "stdout",
     "output_type": "stream",
     "text": [
      "(<StatusCode.NOT_FOUND: (5, 'not found')>, '50002', Metadata(tracking_id='82ba4952e2c2f5946ec8205664ba3721', ratelimit_limit='200, 200;w=60', ratelimit_remaining=147, ratelimit_reset=31, message='instrument not found'))\n"
     ]
    },
    {
     "name": "stderr",
     "output_type": "stream",
     "text": [
      "2022-05-21 19:36:29,879 - tinkoff.invest.logging - INFO - fa61847d54a584ee309d22f921f009d1 GetCandles\n"
     ]
    },
    {
     "name": "stdout",
     "output_type": "stream",
     "text": [
      "2012-PG INIT BALANCE: 99.44999999999999 FINAL BALANCE: 99.44999999999999\n"
     ]
    },
    {
     "name": "stderr",
     "output_type": "stream",
     "text": [
      "2022-05-21 19:36:30,126 - tinkoff.invest.logging - INFO - 8d5f4557e019eaf945e18fb3d66abc5f ShareBy\n",
      "2022-05-21 19:36:30,212 - tinkoff.invest.logging - INFO - be1c079012ca8b96f76b76ecf3a75f33 GetCandles\n"
     ]
    },
    {
     "name": "stdout",
     "output_type": "stream",
     "text": [
      "2012-MRK INIT BALANCE: 56.82000000000001 FINAL BALANCE: 56.82000000000001\n"
     ]
    },
    {
     "name": "stderr",
     "output_type": "stream",
     "text": [
      "2022-05-21 19:36:30,432 - tinkoff.invest.logging - ERROR - 6d7fbb1d94d1d35a747c4034f1ab1c05 ShareBy NOT_FOUND 50002\n",
      "2022-05-21 19:36:30,665 - tinkoff.invest.logging - INFO - 2fe335deb7961dc1e505f3f8b32df6fc ShareBy\n"
     ]
    },
    {
     "name": "stdout",
     "output_type": "stream",
     "text": [
      "(<StatusCode.NOT_FOUND: (5, 'not found')>, '50002', Metadata(tracking_id='6d7fbb1d94d1d35a747c4034f1ab1c05', ratelimit_limit='200, 200;w=60', ratelimit_remaining=144, ratelimit_reset=30, message='instrument not found'))\n"
     ]
    },
    {
     "name": "stderr",
     "output_type": "stream",
     "text": [
      "2022-05-21 19:36:30,773 - tinkoff.invest.logging - INFO - ce7a5d1944615168069c203812e8318c GetCandles\n"
     ]
    },
    {
     "name": "stdout",
     "output_type": "stream",
     "text": [
      "2012-PFE INIT BALANCE: 32.79 FINAL BALANCE: 32.79\n"
     ]
    },
    {
     "name": "stderr",
     "output_type": "stream",
     "text": [
      "2022-05-21 19:36:31,022 - tinkoff.invest.logging - INFO - 2dac424a12dc04a73c0ba6c29b437c5a ShareBy\n",
      "2022-05-21 19:36:31,135 - tinkoff.invest.logging - INFO - c78a864ef1a9b49da0cdeb2170623d7b GetCandles\n"
     ]
    },
    {
     "name": "stdout",
     "output_type": "stream",
     "text": [
      "2012-ADP INIT BALANCE: 72.2298 FINAL BALANCE: 72.2298\n"
     ]
    },
    {
     "name": "stderr",
     "output_type": "stream",
     "text": [
      "2022-05-21 19:36:31,383 - tinkoff.invest.logging - INFO - f18bb827b13bc37bfb4e02657de17231 ShareBy\n",
      "2022-05-21 19:36:31,904 - tinkoff.invest.logging - INFO - 866157ab2f17465ce9210615766a1cd5 GetCandles\n"
     ]
    },
    {
     "name": "stdout",
     "output_type": "stream",
     "text": [
      "2012-JWN INIT BALANCE: 75.78 FINAL BALANCE: 75.78\n"
     ]
    },
    {
     "name": "stderr",
     "output_type": "stream",
     "text": [
      "2022-05-21 19:36:32,237 - tinkoff.invest.logging - ERROR - fcb990947fcbd466ecb1af1a02275ab2 ShareBy NOT_FOUND 50002\n",
      "2022-05-21 19:36:32,461 - tinkoff.invest.logging - INFO - da0d2739c66588cf21bd71356d78ca48 ShareBy\n"
     ]
    },
    {
     "name": "stdout",
     "output_type": "stream",
     "text": [
      "(<StatusCode.NOT_FOUND: (5, 'not found')>, '50002', Metadata(tracking_id='fcb990947fcbd466ecb1af1a02275ab2', ratelimit_limit='200, 200;w=60', ratelimit_remaining=140, ratelimit_reset=28, message='instrument not found'))\n"
     ]
    },
    {
     "name": "stderr",
     "output_type": "stream",
     "text": [
      "2022-05-21 19:36:32,547 - tinkoff.invest.logging - INFO - b941fc8c00bafc7fecedac77f9567b8a GetCandles\n"
     ]
    },
    {
     "name": "stdout",
     "output_type": "stream",
     "text": [
      "2012-AVGO INIT BALANCE: 44.22 FINAL BALANCE: 44.22\n"
     ]
    },
    {
     "name": "stderr",
     "output_type": "stream",
     "text": [
      "2022-05-21 19:36:32,769 - tinkoff.invest.logging - INFO - bc9c4474233aa201e9fad00fbd196e41 ShareBy\n",
      "2022-05-21 19:36:32,832 - tinkoff.invest.logging - INFO - cc7bb6c4d395e4bfff13507769aafcf6 GetCandles\n",
      "2022-05-21 19:36:33,045 - tinkoff.invest.logging - INFO - c51784b15541f26208d99f5c5f2fd06d ShareBy\n",
      "2022-05-21 19:36:33,131 - tinkoff.invest.logging - INFO - 2baa8a31065fc50f60081666783420f9 GetCandles\n"
     ]
    },
    {
     "name": "stdout",
     "output_type": "stream",
     "text": [
      "2012-HUM INIT BALANCE: 133.815 FINAL BALANCE: 133.815\n"
     ]
    },
    {
     "name": "stderr",
     "output_type": "stream",
     "text": [
      "2022-05-21 19:36:33,528 - tinkoff.invest.logging - INFO - 2dbe7d0c1fe0d3a054b31eaa066e1a67 ShareBy\n",
      "2022-05-21 19:36:33,614 - tinkoff.invest.logging - INFO - ebd891ecaedf4ccc218336f315324004 GetCandles\n"
     ]
    },
    {
     "name": "stdout",
     "output_type": "stream",
     "text": [
      "2012-FMC INIT BALANCE: 66.19500000000001 FINAL BALANCE: 66.19500000000001\n"
     ]
    },
    {
     "name": "stderr",
     "output_type": "stream",
     "text": [
      "2022-05-21 19:36:33,860 - tinkoff.invest.logging - INFO - 04b03dd82cd01c267af2cbfc9be3f872 ShareBy\n",
      "2022-05-21 19:36:33,969 - tinkoff.invest.logging - INFO - d3b9a9787c28a164ba975741286f7883 GetCandles\n"
     ]
    },
    {
     "name": "stdout",
     "output_type": "stream",
     "text": [
      "2012-COST INIT BALANCE: 126.42 FINAL BALANCE: 126.42\n"
     ]
    },
    {
     "name": "stderr",
     "output_type": "stream",
     "text": [
      "2022-05-21 19:36:34,219 - tinkoff.invest.logging - INFO - 34b61b9e914bb38dd983eac466086174 ShareBy\n",
      "2022-05-21 19:36:34,281 - tinkoff.invest.logging - INFO - f30718fff92a873e618212b42d108592 GetCandles\n",
      "2022-05-21 19:36:34,509 - tinkoff.invest.logging - INFO - 1bc0cfd05be0d2a85a819b0c8d644a35 ShareBy\n",
      "2022-05-21 19:36:34,615 - tinkoff.invest.logging - INFO - 58e81acbfc4a9b30c636cf3b98d8041a GetCandles\n"
     ]
    },
    {
     "name": "stdout",
     "output_type": "stream",
     "text": [
      "2012-MCD INIT BALANCE: 151.995 FINAL BALANCE: 151.995\n"
     ]
    },
    {
     "name": "stderr",
     "output_type": "stream",
     "text": [
      "2022-05-21 19:36:34,876 - tinkoff.invest.logging - INFO - b304db9a7f455020b8010696b3eed153 ShareBy\n",
      "2022-05-21 19:36:34,972 - tinkoff.invest.logging - INFO - c8b2333fe14e7dfd10e2886097357aac GetCandles\n"
     ]
    },
    {
     "name": "stdout",
     "output_type": "stream",
     "text": [
      "2012-LLY INIT BALANCE: 62.925000000000004 FINAL BALANCE: 62.925000000000004\n"
     ]
    },
    {
     "name": "stderr",
     "output_type": "stream",
     "text": [
      "2022-05-21 19:36:35,227 - tinkoff.invest.logging - INFO - 549c1d6b8e725edbc33d0fa5cb03de29 ShareBy\n",
      "2022-05-21 19:36:35,340 - tinkoff.invest.logging - INFO - 56968323765799e0d021b921a15a7f24 GetCandles\n",
      "2022-05-21 19:36:35,575 - tinkoff.invest.logging - INFO - 2f827c8ae4d7e082b28289a715b39eb1 ShareBy\n"
     ]
    },
    {
     "name": "stdout",
     "output_type": "stream",
     "text": [
      "2012-UAL INIT BALANCE: 28.845 FINAL BALANCE: 28.845\n"
     ]
    },
    {
     "name": "stderr",
     "output_type": "stream",
     "text": [
      "2022-05-21 19:36:35,660 - tinkoff.invest.logging - INFO - 3fe1b10fb6ebe4ad697d041d31c346c6 GetCandles\n"
     ]
    },
    {
     "name": "stdout",
     "output_type": "stream",
     "text": [
      "2012-STZ INIT BALANCE: 31.44 FINAL BALANCE: 31.44\n"
     ]
    },
    {
     "name": "stderr",
     "output_type": "stream",
     "text": [
      "2022-05-21 19:36:35,908 - tinkoff.invest.logging - INFO - e1c7a905ce7e9ea56dcbb3302ba97907 ShareBy\n",
      "2022-05-21 19:36:35,997 - tinkoff.invest.logging - INFO - 9c82bf18f77b8d36a981480d4f0fc8c8 GetCandles\n"
     ]
    },
    {
     "name": "stdout",
     "output_type": "stream",
     "text": [
      "2012-COP INIT BALANCE: 84.52605 FINAL BALANCE: 84.52605\n"
     ]
    },
    {
     "name": "stderr",
     "output_type": "stream",
     "text": [
      "2022-05-21 19:36:36,336 - tinkoff.invest.logging - INFO - 838d7a1177680f128608eec99b451103 ShareBy\n",
      "2022-05-21 19:36:36,446 - tinkoff.invest.logging - INFO - b148a1395217e0fb4ad21f37b383c174 GetCandles\n"
     ]
    },
    {
     "name": "stdout",
     "output_type": "stream",
     "text": [
      "2012-BBY INIT BALANCE: 35.55 FINAL BALANCE: 35.55\n"
     ]
    },
    {
     "name": "stderr",
     "output_type": "stream",
     "text": [
      "2022-05-21 19:36:36,694 - tinkoff.invest.logging - INFO - c21160cfbdc3c3a1666cce643e2d2256 ShareBy\n",
      "2022-05-21 19:36:36,783 - tinkoff.invest.logging - INFO - ae1bd1afa2737e1e76df28823a8b9cd0 GetCandles\n"
     ]
    },
    {
     "name": "stdout",
     "output_type": "stream",
     "text": [
      "2012-CMCSA INIT BALANCE: 18.21 FINAL BALANCE: 18.21\n"
     ]
    },
    {
     "name": "stderr",
     "output_type": "stream",
     "text": [
      "2022-05-21 19:36:37,098 - tinkoff.invest.logging - INFO - 79c2792ad6698b71f49c48839a9baa64 ShareBy\n",
      "2022-05-21 19:36:37,213 - tinkoff.invest.logging - INFO - 41c308bc1a1c677371f9ff381c71aef4 GetCandles\n"
     ]
    },
    {
     "name": "stdout",
     "output_type": "stream",
     "text": [
      "2012-NOC INIT BALANCE: 89.13 FINAL BALANCE: 89.13\n"
     ]
    },
    {
     "name": "stderr",
     "output_type": "stream",
     "text": [
      "2022-05-21 19:36:37,455 - tinkoff.invest.logging - ERROR - ea450dc8a3b0a1b89cc8d9db7141e141 ShareBy NOT_FOUND 50002\n"
     ]
    },
    {
     "name": "stdout",
     "output_type": "stream",
     "text": [
      "(<StatusCode.NOT_FOUND: (5, 'not found')>, '50002', Metadata(tracking_id='ea450dc8a3b0a1b89cc8d9db7141e141', ratelimit_limit='200, 200;w=60', ratelimit_remaining=125, ratelimit_reset=23, message='instrument not found'))\n"
     ]
    },
    {
     "name": "stderr",
     "output_type": "stream",
     "text": [
      "2022-05-21 19:36:37,697 - tinkoff.invest.logging - INFO - eb9c1db181e9f9f291335dd0ef1274c7 ShareBy\n",
      "2022-05-21 19:36:37,808 - tinkoff.invest.logging - INFO - 53c07619b6dd3ea17db5140ad6e99467 GetCandles\n"
     ]
    },
    {
     "name": "stdout",
     "output_type": "stream",
     "text": [
      "2012-AXP INIT BALANCE: 72.44999999999999 FINAL BALANCE: 72.44999999999999\n"
     ]
    },
    {
     "name": "stderr",
     "output_type": "stream",
     "text": [
      "2022-05-21 19:36:38,073 - tinkoff.invest.logging - ERROR - 41952e4c8109e47453933e0e2e7798a2 ShareBy NOT_FOUND 50002\n",
      "2022-05-21 19:36:38,294 - tinkoff.invest.logging - INFO - 70c95746e86f98b4e9133b5e61e35519 ShareBy\n"
     ]
    },
    {
     "name": "stdout",
     "output_type": "stream",
     "text": [
      "(<StatusCode.NOT_FOUND: (5, 'not found')>, '50002', Metadata(tracking_id='41952e4c8109e47453933e0e2e7798a2', ratelimit_limit='200, 200;w=60', ratelimit_remaining=123, ratelimit_reset=22, message='instrument not found'))\n"
     ]
    },
    {
     "name": "stderr",
     "output_type": "stream",
     "text": [
      "2022-05-21 19:36:38,400 - tinkoff.invest.logging - INFO - 1450ad115c4b32ee0e50e35afa0f3348 GetCandles\n"
     ]
    },
    {
     "name": "stdout",
     "output_type": "stream",
     "text": [
      "2012-BIIB INIT BALANCE: 153.97199999999998 FINAL BALANCE: 153.97199999999998\n"
     ]
    },
    {
     "name": "stderr",
     "output_type": "stream",
     "text": [
      "2022-05-21 19:36:38,652 - tinkoff.invest.logging - INFO - 5b8cdf4ea9792df64841a6ad512845ad ShareBy\n",
      "2022-05-21 19:36:38,768 - tinkoff.invest.logging - INFO - 032529e6eb8803e1caa540de3711c829 GetCandles\n"
     ]
    },
    {
     "name": "stdout",
     "output_type": "stream",
     "text": [
      "2012-MMM INIT BALANCE: 125.64000000000001 FINAL BALANCE: 125.64000000000001\n"
     ]
    },
    {
     "name": "stderr",
     "output_type": "stream",
     "text": [
      "2022-05-21 19:36:39,007 - tinkoff.invest.logging - ERROR - d98b8960a414ba581281660aee38cdfd ShareBy NOT_FOUND 50002\n",
      "2022-05-21 19:36:39,232 - tinkoff.invest.logging - ERROR - 21bba7f277555ecbdf5a694002775e1b ShareBy NOT_FOUND 50002\n"
     ]
    },
    {
     "name": "stdout",
     "output_type": "stream",
     "text": [
      "(<StatusCode.NOT_FOUND: (5, 'not found')>, '50002', Metadata(tracking_id='d98b8960a414ba581281660aee38cdfd', ratelimit_limit='200, 200;w=60', ratelimit_remaining=120, ratelimit_reset=22, message='instrument not found'))\n",
      "(<StatusCode.NOT_FOUND: (5, 'not found')>, '50002', Metadata(tracking_id='21bba7f277555ecbdf5a694002775e1b', ratelimit_limit='200, 200;w=60', ratelimit_remaining=119, ratelimit_reset=21, message='instrument not found'))\n"
     ]
    },
    {
     "name": "stderr",
     "output_type": "stream",
     "text": [
      "2022-05-21 19:36:39,454 - tinkoff.invest.logging - INFO - e436002d07b1fc9703ab128acd6d2423 ShareBy\n",
      "2022-05-21 19:36:39,565 - tinkoff.invest.logging - INFO - 50ce576802b7b49e8a28b453c1e4b224 GetCandles\n"
     ]
    },
    {
     "name": "stdout",
     "output_type": "stream",
     "text": [
      "2012-NVDA INIT BALANCE: 5.37 FINAL BALANCE: 5.37\n"
     ]
    },
    {
     "name": "stderr",
     "output_type": "stream",
     "text": [
      "2022-05-21 19:36:39,818 - tinkoff.invest.logging - INFO - 4f863c4995dc633a99ecfcf84f9be68a ShareBy\n",
      "2022-05-21 19:36:39,926 - tinkoff.invest.logging - INFO - a85d86f9805f7ce5f491aee288325281 GetCandles\n"
     ]
    },
    {
     "name": "stdout",
     "output_type": "stream",
     "text": [
      "2012-MYL INIT BALANCE: 32.94 FINAL BALANCE: 32.94\n"
     ]
    },
    {
     "name": "stderr",
     "output_type": "stream",
     "text": [
      "2022-05-21 19:36:40,175 - tinkoff.invest.logging - INFO - 42bd2cfb3b4dca68b10faef2dc3e7768 ShareBy\n",
      "2022-05-21 19:36:40,263 - tinkoff.invest.logging - INFO - 55f3d1b4d00fd56bbeca2e9a5192ce23 GetCandles\n",
      "2022-05-21 19:36:40,479 - tinkoff.invest.logging - INFO - f4f189f996a0f835e6a6700eb89277c2 ShareBy\n"
     ]
    },
    {
     "name": "stdout",
     "output_type": "stream",
     "text": [
      "2012-DD INIT BALANCE: 49.204499999999996 FINAL BALANCE: 49.204499999999996\n"
     ]
    },
    {
     "name": "stderr",
     "output_type": "stream",
     "text": [
      "2022-05-21 19:36:40,567 - tinkoff.invest.logging - INFO - 05a70b1ae89a1e9457c667b6947f9e41 GetCandles\n"
     ]
    },
    {
     "name": "stdout",
     "output_type": "stream",
     "text": [
      "2012-GILD INIT BALANCE: 31.095 FINAL BALANCE: 31.095\n"
     ]
    },
    {
     "name": "stderr",
     "output_type": "stream",
     "text": [
      "2022-05-21 19:36:40,790 - tinkoff.invest.logging - INFO - 7cfe5b95bbcd9434f44f161c313ec15a ShareBy\n",
      "2022-05-21 19:36:40,899 - tinkoff.invest.logging - INFO - f100f73c616aa766ac8180de410a7a32 GetCandles\n"
     ]
    },
    {
     "name": "stdout",
     "output_type": "stream",
     "text": [
      "2012-ORCL INIT BALANCE: 39.495 FINAL BALANCE: 39.875 + (SHARES 1)\n"
     ]
    },
    {
     "name": "stderr",
     "output_type": "stream",
     "text": [
      "2022-05-21 19:36:41,402 - tinkoff.invest.logging - INFO - 6ecb6cadf3266b31f3a8864e08a87dd2 ShareBy\n",
      "2022-05-21 19:36:41,510 - tinkoff.invest.logging - INFO - 7f335f1541f3eaa40d10fc9f74788c13 GetCandles\n"
     ]
    },
    {
     "name": "stdout",
     "output_type": "stream",
     "text": [
      "2012-ADBE INIT BALANCE: 43.05 FINAL BALANCE: 45.684999999999995 + (SHARES 1)\n"
     ]
    },
    {
     "name": "stderr",
     "output_type": "stream",
     "text": [
      "2022-05-21 19:36:41,926 - tinkoff.invest.logging - INFO - b8e3b5e5f0067ed931ce9e0ca6c17d5a ShareBy\n",
      "2022-05-21 19:36:42,036 - tinkoff.invest.logging - INFO - b8e72f68cb969d1c11dc51f5af52d2dd GetCandles\n"
     ]
    },
    {
     "name": "stdout",
     "output_type": "stream",
     "text": [
      "2012-BIDU INIT BALANCE: 180.14999999999998 FINAL BALANCE: 153.23499999999999 + (SHARES 1)\n"
     ]
    },
    {
     "name": "stderr",
     "output_type": "stream",
     "text": [
      "2022-05-21 19:36:42,533 - tinkoff.invest.logging - INFO - c438b0abf522fc117b9241147887a593 ShareBy\n",
      "2022-05-21 19:36:42,625 - tinkoff.invest.logging - INFO - 88adbdd25bca254220e471c8a2b09af8 GetCandles\n"
     ]
    },
    {
     "name": "stdout",
     "output_type": "stream",
     "text": [
      "2012-VALE INIT BALANCE: 24.819750000000003 FINAL BALANCE: 24.819750000000003\n"
     ]
    },
    {
     "name": "stderr",
     "output_type": "stream",
     "text": [
      "2022-05-21 19:36:42,875 - tinkoff.invest.logging - INFO - 6f51c4d6870774d27e755793c8470470 ShareBy\n",
      "2022-05-21 19:36:42,987 - tinkoff.invest.logging - INFO - 90e52e5ae6e9fdc2024397c6aee9adce GetCandles\n",
      "2022-05-21 19:36:43,399 - tinkoff.invest.logging - INFO - afe1e3682d82fc7572411889fde8ad07 ShareBy\n"
     ]
    },
    {
     "name": "stdout",
     "output_type": "stream",
     "text": [
      "2012-CSCO INIT BALANCE: 27.825000000000003 FINAL BALANCE: 28.0244 + (SHARES 1)\n"
     ]
    },
    {
     "name": "stderr",
     "output_type": "stream",
     "text": [
      "2022-05-21 19:36:43,483 - tinkoff.invest.logging - INFO - 2efdc5f2884e2049c4af3b51c06ca20d GetCandles\n"
     ]
    },
    {
     "name": "stdout",
     "output_type": "stream",
     "text": [
      "2012-SPGI INIT BALANCE: 68.44500000000001 FINAL BALANCE: 68.44500000000001\n"
     ]
    },
    {
     "name": "stderr",
     "output_type": "stream",
     "text": [
      "2022-05-21 19:36:43,726 - tinkoff.invest.logging - INFO - 3ba606da5fc7bc160b26b5779293f615 ShareBy\n",
      "2022-05-21 19:36:43,789 - tinkoff.invest.logging - INFO - 9a97131c4d905cff6800c9fc4a2eed0f GetCandles\n",
      "2022-05-21 19:36:44,011 - tinkoff.invest.logging - INFO - 472b37136da46dd16e8d131197ea428f ShareBy\n",
      "2022-05-21 19:36:44,116 - tinkoff.invest.logging - INFO - 8136877f6fcfca6fa20dfcde30459316 GetCandles\n"
     ]
    },
    {
     "name": "stdout",
     "output_type": "stream",
     "text": [
      "2012-AZO INIT BALANCE: 491.58000000000004 FINAL BALANCE: 491.58000000000004\n"
     ]
    },
    {
     "name": "stderr",
     "output_type": "stream",
     "text": [
      "2022-05-21 19:36:44,452 - tinkoff.invest.logging - INFO - 05a65275b43b6102b43db8e753e85e3d ShareBy\n",
      "2022-05-21 19:36:44,558 - tinkoff.invest.logging - INFO - b5eb1b48484906f9864393c060627fd5 GetCandles\n"
     ]
    },
    {
     "name": "stdout",
     "output_type": "stream",
     "text": [
      "2012-MA INIT BALANCE: 56.755500000000005 FINAL BALANCE: 56.755500000000005\n"
     ]
    },
    {
     "name": "stderr",
     "output_type": "stream",
     "text": [
      "2022-05-21 19:36:44,803 - tinkoff.invest.logging - INFO - 5b238da30a64ad06f5606ddb25bbb8db ShareBy\n",
      "2022-05-21 19:36:44,867 - tinkoff.invest.logging - INFO - 4797c7d2265eb40872939bd1159363fe GetCandles\n",
      "2022-05-21 19:36:45,093 - tinkoff.invest.logging - INFO - b07594d0d0847b4feaa63fe05fa6d23d ShareBy\n",
      "2022-05-21 19:36:45,206 - tinkoff.invest.logging - INFO - 9d37610bbf4a74545429c2cc54c59f41 GetCandles\n"
     ]
    },
    {
     "name": "stdout",
     "output_type": "stream",
     "text": [
      "2012-PM INIT BALANCE: 118.74 FINAL BALANCE: 118.74\n"
     ]
    },
    {
     "name": "stderr",
     "output_type": "stream",
     "text": [
      "2022-05-21 19:36:45,528 - tinkoff.invest.logging - INFO - 052bc14df5bceb58ace3486377de904d ShareBy\n",
      "2022-05-21 19:36:45,614 - tinkoff.invest.logging - INFO - 8e564b6b1d48b9457dc4c5f2235834fd GetCandles\n",
      "2022-05-21 19:36:45,848 - tinkoff.invest.logging - ERROR - 05c6158fb120f7e77607bbdf3880aaa5 ShareBy NOT_FOUND 50002\n"
     ]
    },
    {
     "name": "stdout",
     "output_type": "stream",
     "text": [
      "2012-URBN INIT BALANCE: 42.3 FINAL BALANCE: 42.3\n"
     ]
    },
    {
     "name": "stderr",
     "output_type": "stream",
     "text": [
      "2022-05-21 19:36:46,072 - tinkoff.invest.logging - INFO - 565f7f320b3bb4a83d6c8a32d82a87ed ShareBy\n"
     ]
    },
    {
     "name": "stdout",
     "output_type": "stream",
     "text": [
      "(<StatusCode.NOT_FOUND: (5, 'not found')>, '50002', Metadata(tracking_id='05c6158fb120f7e77607bbdf3880aaa5', ratelimit_limit='200, 200;w=60', ratelimit_remaining=102, ratelimit_reset=15, message='instrument not found'))\n"
     ]
    },
    {
     "name": "stderr",
     "output_type": "stream",
     "text": [
      "2022-05-21 19:36:46,156 - tinkoff.invest.logging - INFO - c4e46a75e46f0d7d84fae378975def09 GetCandles\n"
     ]
    },
    {
     "name": "stdout",
     "output_type": "stream",
     "text": [
      "2012-BMY INIT BALANCE: 52.995 FINAL BALANCE: 52.995\n"
     ]
    },
    {
     "name": "stderr",
     "output_type": "stream",
     "text": [
      "2022-05-21 19:36:46,407 - tinkoff.invest.logging - INFO - 2e43c3197480f1cf00df375d50a5d1fb ShareBy\n",
      "2022-05-21 19:36:46,516 - tinkoff.invest.logging - INFO - 5c1a5f7c5b753a25b4e9c8202f4ce354 GetCandles\n"
     ]
    },
    {
     "name": "stdout",
     "output_type": "stream",
     "text": [
      "2013-AAPL INIT BALANCE: 29.67 FINAL BALANCE: 27.665000000000006 + (SHARES 1)\n"
     ]
    },
    {
     "name": "stderr",
     "output_type": "stream",
     "text": [
      "2022-05-21 19:36:58,843 - tinkoff.invest.logging - INFO - ff17327d103c2c0173bf66d36c7d02d0 ShareBy\n",
      "2022-05-21 19:36:58,943 - tinkoff.invest.logging - INFO - 9050ba804194ac3d9e0612c9f55fb148 GetCandles\n"
     ]
    },
    {
     "name": "stdout",
     "output_type": "stream",
     "text": [
      "2013-MSFT INIT BALANCE: 40.875 FINAL BALANCE: 40.875\n"
     ]
    },
    {
     "name": "stderr",
     "output_type": "stream",
     "text": [
      "2022-05-21 19:36:59,193 - tinkoff.invest.logging - INFO - 12eb6cf779add59e873284aea1632858 ShareBy\n",
      "2022-05-21 19:36:59,303 - tinkoff.invest.logging - INFO - d3c726144f7c3155d5514d20fd5f098a GetCandles\n"
     ]
    },
    {
     "name": "stdout",
     "output_type": "stream",
     "text": [
      "2013-BAC INIT BALANCE: 18.75 FINAL BALANCE: 18.75\n"
     ]
    },
    {
     "name": "stderr",
     "output_type": "stream",
     "text": [
      "2022-05-21 19:36:59,663 - tinkoff.invest.logging - INFO - 41a3772ef31ffe3518c4841afaea6280 ShareBy\n",
      "2022-05-21 19:36:59,766 - tinkoff.invest.logging - INFO - ad80adbf7db72159856c25567579a02e GetCandles\n"
     ]
    },
    {
     "name": "stdout",
     "output_type": "stream",
     "text": [
      "2013-AMZN INIT BALANCE: 385.20000000000005 FINAL BALANCE: 385.20000000000005\n"
     ]
    },
    {
     "name": "stderr",
     "output_type": "stream",
     "text": [
      "2022-05-21 19:37:00,019 - tinkoff.invest.logging - INFO - 4b8af2cd86011d8f759315134487c0b4 ShareBy\n",
      "2022-05-21 19:37:00,085 - tinkoff.invest.logging - INFO - 612e8a2eedf1f6d0479c749733eb04df GetCandles\n"
     ]
    },
    {
     "name": "stdout",
     "output_type": "stream",
     "text": [
      "2013-NWSA INIT BALANCE: 22.919999999999998 FINAL BALANCE: 22.919999999999998\n"
     ]
    },
    {
     "name": "stderr",
     "output_type": "stream",
     "text": [
      "2022-05-21 19:37:00,616 - tinkoff.invest.logging - INFO - 5b9647cc2d7767ef7d232f10248b7be8 ShareBy\n",
      "2022-05-21 19:37:00,726 - tinkoff.invest.logging - INFO - 9ba577f977365daab0e69001dba8688c GetCandles\n"
     ]
    },
    {
     "name": "stdout",
     "output_type": "stream",
     "text": [
      "2013-BA INIT BALANCE: 114.82499999999999 FINAL BALANCE: 114.82499999999999\n"
     ]
    },
    {
     "name": "stderr",
     "output_type": "stream",
     "text": [
      "2022-05-21 19:37:00,986 - tinkoff.invest.logging - INFO - d1b3cb620cab1aa76ff352d4cf5aac34 ShareBy\n",
      "2022-05-21 19:37:01,077 - tinkoff.invest.logging - INFO - b045b28350b38d9db2a90f8802915731 GetCandles\n"
     ]
    },
    {
     "name": "stdout",
     "output_type": "stream",
     "text": [
      "2013-GOOGL INIT BALANCE: 540.885 FINAL BALANCE: 540.885\n"
     ]
    },
    {
     "name": "stderr",
     "output_type": "stream",
     "text": [
      "2022-05-21 19:37:01,326 - tinkoff.invest.logging - INFO - 5a82fdd1757b68963404c240a965aa35 ShareBy\n",
      "2022-05-21 19:37:01,438 - tinkoff.invest.logging - INFO - 59f47688e135c3748382cdf84784d595 GetCandles\n"
     ]
    },
    {
     "name": "stdout",
     "output_type": "stream",
     "text": [
      "2013-GS INIT BALANCE: 196.95000000000002 FINAL BALANCE: 203.59\n"
     ]
    },
    {
     "name": "stderr",
     "output_type": "stream",
     "text": [
      "2022-05-21 19:37:02,225 - tinkoff.invest.logging - INFO - 9be960c2bbe58abe95b99ede64b96387 ShareBy\n",
      "2022-05-21 19:37:02,315 - tinkoff.invest.logging - INFO - d0310921f0116b3518ca8bfc3067c98f GetCandles\n"
     ]
    },
    {
     "name": "stdout",
     "output_type": "stream",
     "text": [
      "2013-TSLA INIT BALANCE: 10.5 FINAL BALANCE: 10.5\n"
     ]
    },
    {
     "name": "stderr",
     "output_type": "stream",
     "text": [
      "2022-05-21 19:37:02,963 - tinkoff.invest.logging - INFO - 4bf240a4608429f64890948c5ac05518 ShareBy\n",
      "2022-05-21 19:37:03,067 - tinkoff.invest.logging - INFO - 3c7f730cfafc8833a9e9842c36f5251c GetCandles\n",
      "2022-05-21 19:37:03,638 - tinkoff.invest.logging - INFO - 39f8165a3ef162d1984556cbb92ad97d ShareBy\n"
     ]
    },
    {
     "name": "stdout",
     "output_type": "stream",
     "text": [
      "2013-NFLX INIT BALANCE: 20.401500000000002 FINAL BALANCE: 20.401500000000002\n"
     ]
    },
    {
     "name": "stderr",
     "output_type": "stream",
     "text": [
      "2022-05-21 19:37:03,739 - tinkoff.invest.logging - INFO - 99d1d6afedf1d514c386f793b96f7de5 GetCandles\n"
     ]
    },
    {
     "name": "stdout",
     "output_type": "stream",
     "text": [
      "2013-TGT INIT BALANCE: 87.855 FINAL BALANCE: 87.855\n"
     ]
    },
    {
     "name": "stderr",
     "output_type": "stream",
     "text": [
      "2022-05-21 19:37:04,056 - tinkoff.invest.logging - INFO - 049dce7cd2ea3a47e951dbfa2e1857dd ShareBy\n",
      "2022-05-21 19:37:04,172 - tinkoff.invest.logging - INFO - 10f4e82233e8409073e38af4f6b37c6c GetCandles\n",
      "2022-05-21 19:37:04,420 - tinkoff.invest.logging - INFO - 4e22c6bcdfcc3a0859414e47a4ab0be3 ShareBy\n"
     ]
    },
    {
     "name": "stdout",
     "output_type": "stream",
     "text": [
      "2013-INTC INIT BALANCE: 31.724999999999998 FINAL BALANCE: 31.724999999999998\n"
     ]
    },
    {
     "name": "stderr",
     "output_type": "stream",
     "text": [
      "2022-05-21 19:37:04,506 - tinkoff.invest.logging - INFO - c5ae5a0053c9eba7c6e2e47daff17864 GetCandles\n"
     ]
    },
    {
     "name": "stdout",
     "output_type": "stream",
     "text": [
      "2013-DIS INIT BALANCE: 76.19999999999999 FINAL BALANCE: 88.75 + (SHARES 1)\n"
     ]
    },
    {
     "name": "stderr",
     "output_type": "stream",
     "text": [
      "2022-05-21 19:37:04,847 - tinkoff.invest.logging - INFO - 29c0e883f428d1f4736bdbbe831bd9a9 ShareBy\n",
      "2022-05-21 19:37:04,955 - tinkoff.invest.logging - INFO - 434a20e07dff0eb4ddf774eea0fc042b GetCandles\n"
     ]
    },
    {
     "name": "stdout",
     "output_type": "stream",
     "text": [
      "2013-XOM INIT BALANCE: 131.685 FINAL BALANCE: 131.685\n"
     ]
    },
    {
     "name": "stderr",
     "output_type": "stream",
     "text": [
      "2022-05-21 19:37:05,488 - tinkoff.invest.logging - INFO - b7e33e5852373c7001b6f9018c214803 ShareBy\n",
      "2022-05-21 19:37:05,601 - tinkoff.invest.logging - INFO - 63018cda8d25ce3a4d7661d82031264f GetCandles\n",
      "2022-05-21 19:37:06,251 - tinkoff.invest.logging - INFO - e4b1288b29ff137a484a6a0f205871c6 ShareBy\n"
     ]
    },
    {
     "name": "stdout",
     "output_type": "stream",
     "text": [
      "2013-JPM INIT BALANCE: 67.47 FINAL BALANCE: 67.47\n"
     ]
    },
    {
     "name": "stderr",
     "output_type": "stream",
     "text": [
      "2022-05-21 19:37:06,338 - tinkoff.invest.logging - INFO - bd065fb15e9408b2011210cb4fd24c39 GetCandles\n"
     ]
    },
    {
     "name": "stdout",
     "output_type": "stream",
     "text": [
      "2013-MS INIT BALANCE: 30.24015 FINAL BALANCE: 30.70015\n"
     ]
    },
    {
     "name": "stderr",
     "output_type": "stream",
     "text": [
      "2022-05-21 19:37:06,912 - tinkoff.invest.logging - INFO - 7cb4c8dd17f7dd1f1548077fc958593b ShareBy\n",
      "2022-05-21 19:37:07,019 - tinkoff.invest.logging - INFO - 967a36f9fc6ba76a6139f1ca963eb160 GetCandles\n"
     ]
    },
    {
     "name": "stdout",
     "output_type": "stream",
     "text": [
      "2013-GM INIT BALANCE: 44.115 FINAL BALANCE: 53.7525 + (SHARES 1)\n"
     ]
    },
    {
     "name": "stderr",
     "output_type": "stream",
     "text": [
      "2022-05-21 19:37:07,422 - tinkoff.invest.logging - INFO - 9688b005e520ed815a332fd1494bc60a ShareBy\n",
      "2022-05-21 19:37:07,525 - tinkoff.invest.logging - INFO - d1e0645c7895bbbbdbfcd94687afeb1d GetCandles\n"
     ]
    },
    {
     "name": "stdout",
     "output_type": "stream",
     "text": [
      "2013-C INIT BALANCE: 61.364999999999995 FINAL BALANCE: 58.744949999999996\n"
     ]
    },
    {
     "name": "stderr",
     "output_type": "stream",
     "text": [
      "2022-05-21 19:37:08,969 - tinkoff.invest.logging - INFO - 7c63e825637818e3efeeee290a87c5f9 ShareBy\n",
      "2022-05-21 19:37:09,051 - tinkoff.invest.logging - INFO - 469bbc09e886ba77634a6e364be47310 GetCandles\n"
     ]
    },
    {
     "name": "stdout",
     "output_type": "stream",
     "text": [
      "2013-GE INIT BALANCE: 259.20000000000005 FINAL BALANCE: 287.72 + (SHARES 1)\n"
     ]
    },
    {
     "name": "stderr",
     "output_type": "stream",
     "text": [
      "2022-05-21 19:37:09,438 - tinkoff.invest.logging - INFO - 0364a5b7b20f293f09c04aac58b62920 ShareBy\n",
      "2022-05-21 19:37:09,523 - tinkoff.invest.logging - INFO - 22a957201f7f8b544618b34878705c3b GetCandles\n"
     ]
    },
    {
     "name": "stdout",
     "output_type": "stream",
     "text": [
      "2013-MU INIT BALANCE: 9.899999999999999 FINAL BALANCE: 9.899999999999999\n"
     ]
    },
    {
     "name": "stderr",
     "output_type": "stream",
     "text": [
      "2022-05-21 19:37:09,828 - tinkoff.invest.logging - INFO - 9fb205a1176e4dcf98f936af252350d3 ShareBy\n",
      "2022-05-21 19:37:09,895 - tinkoff.invest.logging - INFO - 4f822be6ada2799c54c8e9ccaca97065 GetCandles\n",
      "2022-05-21 19:37:10,141 - tinkoff.invest.logging - INFO - 0bc1bb11869870a6dc527815958d0d46 ShareBy\n",
      "2022-05-21 19:37:10,231 - tinkoff.invest.logging - INFO - a2854107dba93dfa8c81780cedf3cfb5 GetCandles\n"
     ]
    },
    {
     "name": "stdout",
     "output_type": "stream",
     "text": [
      "2013-WMB INIT BALANCE: 50.114999999999995 FINAL BALANCE: 50.114999999999995\n"
     ]
    },
    {
     "name": "stderr",
     "output_type": "stream",
     "text": [
      "2022-05-21 19:37:10,483 - tinkoff.invest.logging - INFO - 5beedb3244c63102ed913be5e1aaa522 ShareBy\n",
      "2022-05-21 19:37:10,909 - tinkoff.invest.logging - INFO - 10b30da3789ea2433a382f67586db970 GetCandles\n",
      "2022-05-21 19:37:11,234 - tinkoff.invest.logging - INFO - 86982ad888763505272d8ea7781ad445 ShareBy\n"
     ]
    },
    {
     "name": "stdout",
     "output_type": "stream",
     "text": [
      "2013-KO INIT BALANCE: 55.485 FINAL BALANCE: 55.485\n"
     ]
    },
    {
     "name": "stderr",
     "output_type": "stream",
     "text": [
      "2022-05-21 19:37:11,322 - tinkoff.invest.logging - INFO - 5aef4dac130587cf31a5f40c1c9814d7 GetCandles\n"
     ]
    },
    {
     "name": "stdout",
     "output_type": "stream",
     "text": [
      "2013-WFC INIT BALANCE: 52.949999999999996 FINAL BALANCE: 52.949999999999996\n"
     ]
    },
    {
     "name": "stderr",
     "output_type": "stream",
     "text": [
      "2022-05-21 19:37:11,659 - tinkoff.invest.logging - INFO - 8f1b9aeb686a1de8681e0372d0f5754b ShareBy\n",
      "2022-05-21 19:37:11,748 - tinkoff.invest.logging - INFO - 262a7d722b6e109545f6705b736589ea GetCandles\n"
     ]
    },
    {
     "name": "stdout",
     "output_type": "stream",
     "text": [
      "2013-WMT INIT BALANCE: 103.39500000000001 FINAL BALANCE: 103.39500000000001\n"
     ]
    },
    {
     "name": "stderr",
     "output_type": "stream",
     "text": [
      "2022-05-21 19:37:11,997 - tinkoff.invest.logging - INFO - a273f01989c7c5b84dac39e9ae0c26a2 ShareBy\n",
      "2022-05-21 19:37:12,102 - tinkoff.invest.logging - INFO - 8c86163488b226184df64fa6fd032019 GetCandles\n"
     ]
    },
    {
     "name": "stdout",
     "output_type": "stream",
     "text": [
      "2013-IBM INIT BALANCE: 292.35 FINAL BALANCE: 272.865 + (SHARES 1)\n"
     ]
    },
    {
     "name": "stderr",
     "output_type": "stream",
     "text": [
      "2022-05-21 19:37:13,767 - tinkoff.invest.logging - INFO - a378fbedb4f6762ec69d747f5e023856 ShareBy\n",
      "2022-05-21 19:37:13,835 - tinkoff.invest.logging - INFO - ec28874ca4360ecf079a683b401ff556 GetCandles\n",
      "2022-05-21 19:37:14,063 - tinkoff.invest.logging - INFO - b966473c8672c6920164c52d4039bd87 ShareBy\n",
      "2022-05-21 19:37:14,175 - tinkoff.invest.logging - INFO - 80c2101f166543715bcfa7a834e27d71 GetCandles\n"
     ]
    },
    {
     "name": "stdout",
     "output_type": "stream",
     "text": [
      "2013-BLK INIT BALANCE: 315.93 FINAL BALANCE: 315.93\n"
     ]
    },
    {
     "name": "stderr",
     "output_type": "stream",
     "text": [
      "2022-05-21 19:37:14,421 - tinkoff.invest.logging - INFO - f57b233258b9f085f5f8b95c2d5d1c96 ShareBy\n",
      "2022-05-21 19:37:14,527 - tinkoff.invest.logging - INFO - cfcf34ea61e2726ab92f60b2f2ded257 GetCandles\n"
     ]
    },
    {
     "name": "stdout",
     "output_type": "stream",
     "text": [
      "2013-CME INIT BALANCE: 76.94999999999999 FINAL BALANCE: 76.94999999999999\n"
     ]
    },
    {
     "name": "stderr",
     "output_type": "stream",
     "text": [
      "2022-05-21 19:37:14,776 - tinkoff.invest.logging - INFO - 6bdfc1725f9dacf831d776534a61637f ShareBy\n",
      "2022-05-21 19:37:14,864 - tinkoff.invest.logging - INFO - 6af39f1cead05d83c690d7a46c584425 GetCandles\n"
     ]
    },
    {
     "name": "stdout",
     "output_type": "stream",
     "text": [
      "2013-CVX INIT BALANCE: 165.405 FINAL BALANCE: 169.555 + (SHARES 1)\n"
     ]
    },
    {
     "name": "stderr",
     "output_type": "stream",
     "text": [
      "2022-05-21 19:37:15,681 - tinkoff.invest.logging - INFO - a50e137fdd32421439f883c97a152313 ShareBy\n",
      "2022-05-21 19:37:15,777 - tinkoff.invest.logging - INFO - e0b012d26e778ea6f02804a5b8c125e5 GetCandles\n"
     ]
    },
    {
     "name": "stdout",
     "output_type": "stream",
     "text": [
      "2013-AA INIT BALANCE: 29.8308 FINAL BALANCE: 32.98094999999999 + (SHARES 1)\n"
     ]
    },
    {
     "name": "stderr",
     "output_type": "stream",
     "text": [
      "2022-05-21 19:37:16,096 - tinkoff.invest.logging - INFO - ab73b738672acf7d950009cb54166ec7 ShareBy\n",
      "2022-05-21 19:37:16,182 - tinkoff.invest.logging - INFO - 51f534016d9616132cc54a93a1e0505a GetCandles\n"
     ]
    },
    {
     "name": "stdout",
     "output_type": "stream",
     "text": [
      "2013-CMG INIT BALANCE: 456.39 FINAL BALANCE: 456.39\n"
     ]
    },
    {
     "name": "stderr",
     "output_type": "stream",
     "text": [
      "2022-05-21 19:37:16,497 - tinkoff.invest.logging - INFO - 46e485125c9ff1cdc9882df51460c92e ShareBy\n",
      "2022-05-21 19:37:16,602 - tinkoff.invest.logging - INFO - 77de59c9e161b96f7a25e163870a0146 GetCandles\n"
     ]
    },
    {
     "name": "stdout",
     "output_type": "stream",
     "text": [
      "2013-SO INIT BALANCE: 65.01 FINAL BALANCE: 65.01\n"
     ]
    },
    {
     "name": "stderr",
     "output_type": "stream",
     "text": [
      "2022-05-21 19:37:16,847 - tinkoff.invest.logging - INFO - 9228fcfd98afd1f0c51b76f22cd18044 ShareBy\n",
      "2022-05-21 19:37:16,959 - tinkoff.invest.logging - INFO - 272c39abf9e227fa7e41d734f309ef12 GetCandles\n"
     ]
    },
    {
     "name": "stdout",
     "output_type": "stream",
     "text": [
      "2013-VZ INIT BALANCE: 66.735 FINAL BALANCE: 66.735\n"
     ]
    },
    {
     "name": "stderr",
     "output_type": "stream",
     "text": [
      "2022-05-21 19:37:17,210 - tinkoff.invest.logging - INFO - 2340af724f609cbe33f58787aba0517a ShareBy\n",
      "2022-05-21 19:37:17,325 - tinkoff.invest.logging - INFO - 9d9723280fa3c017c95cd8fdb526a7a4 GetCandles\n"
     ]
    },
    {
     "name": "stdout",
     "output_type": "stream",
     "text": [
      "2013-LMT INIT BALANCE: 140.685 FINAL BALANCE: 140.685\n"
     ]
    },
    {
     "name": "stderr",
     "output_type": "stream",
     "text": [
      "2022-05-21 19:37:17,649 - tinkoff.invest.logging - INFO - 9b4b7c4a95822c28f42afbe6e3df340d ShareBy\n",
      "2022-05-21 19:37:17,740 - tinkoff.invest.logging - INFO - 49ad662e8be979e8a10ad594d37c0088 GetCandles\n"
     ]
    },
    {
     "name": "stdout",
     "output_type": "stream",
     "text": [
      "2013-EFX INIT BALANCE: 82.47 FINAL BALANCE: 82.47\n"
     ]
    },
    {
     "name": "stderr",
     "output_type": "stream",
     "text": [
      "2022-05-21 19:37:17,983 - tinkoff.invest.logging - INFO - 24640fabe84b94ed0073d6ee22693ade ShareBy\n",
      "2022-05-21 19:37:18,070 - tinkoff.invest.logging - INFO - b931438d70cf4cacbf82148074f21a4d GetCandles\n"
     ]
    },
    {
     "name": "stdout",
     "output_type": "stream",
     "text": [
      "2013-CAT INIT BALANCE: 139.425 FINAL BALANCE: 139.425\n"
     ]
    },
    {
     "name": "stderr",
     "output_type": "stream",
     "text": [
      "2022-05-21 19:37:20,138 - tinkoff.invest.logging - INFO - aa082f42b4bdcd2fe0cc153be462dc89 ShareBy\n",
      "2022-05-21 19:37:20,192 - tinkoff.invest.logging - INFO - 419f3e6ff687088dd481ca7bcced6407 GetCandles\n",
      "2022-05-21 19:37:20,415 - tinkoff.invest.logging - INFO - 1044c041ab0f9fc1c0208a40c191ed3d ShareBy\n",
      "2022-05-21 19:37:20,505 - tinkoff.invest.logging - INFO - 116df4c64929948af3d517702a55db00 GetCandles\n"
     ]
    },
    {
     "name": "stdout",
     "output_type": "stream",
     "text": [
      "2013-SBUX INIT BALANCE: 40.9425 FINAL BALANCE: 40.9425\n"
     ]
    },
    {
     "name": "stderr",
     "output_type": "stream",
     "text": [
      "2022-05-21 19:37:20,757 - tinkoff.invest.logging - INFO - 34a33639cd7a6e65105a7a863755cdca ShareBy\n",
      "2022-05-21 19:37:20,874 - tinkoff.invest.logging - INFO - 78072deac7bdc3cdbad25f55bd23c8bc GetCandles\n"
     ]
    },
    {
     "name": "stdout",
     "output_type": "stream",
     "text": [
      "2013-AGN INIT BALANCE: 129.87 FINAL BALANCE: 129.87\n"
     ]
    },
    {
     "name": "stderr",
     "output_type": "stream",
     "text": [
      "2022-05-21 19:37:21,126 - tinkoff.invest.logging - INFO - 5be850325ffe64ee144bc5cd9a10e3e7 ShareBy\n",
      "2022-05-21 19:37:21,215 - tinkoff.invest.logging - INFO - db93cde428838ad0e0974b6bdefc56cd GetCandles\n"
     ]
    },
    {
     "name": "stdout",
     "output_type": "stream",
     "text": [
      "2013-SLB INIT BALANCE: 106.19999999999999 FINAL BALANCE: 106.19999999999999\n"
     ]
    },
    {
     "name": "stderr",
     "output_type": "stream",
     "text": [
      "2022-05-21 19:37:21,449 - tinkoff.invest.logging - INFO - b2b29a005b225a34af2cc1b5203b78ab ShareBy\n",
      "2022-05-21 19:37:21,531 - tinkoff.invest.logging - INFO - d5dd395d77a8b7171c730097fc379b82 GetCandles\n"
     ]
    },
    {
     "name": "stdout",
     "output_type": "stream",
     "text": [
      "2013-JNJ INIT BALANCE: 106.80000000000001 FINAL BALANCE: 106.80000000000001\n"
     ]
    },
    {
     "name": "stderr",
     "output_type": "stream",
     "text": [
      "2022-05-21 19:37:21,787 - tinkoff.invest.logging - INFO - 31cd37322dde58f4bd9b2337d97da7a9 ShareBy\n",
      "2022-05-21 19:37:21,877 - tinkoff.invest.logging - INFO - 95c1de0545c7bdd3adaef1b5872074c1 GetCandles\n",
      "2022-05-21 19:37:22,196 - tinkoff.invest.logging - INFO - 4e7f88c003f8862f2b36344d767bdd33 ShareBy\n"
     ]
    },
    {
     "name": "stdout",
     "output_type": "stream",
     "text": [
      "2013-T INIT BALANCE: 51.585 FINAL BALANCE: 51.585\n"
     ]
    },
    {
     "name": "stderr",
     "output_type": "stream",
     "text": [
      "2022-05-21 19:37:22,284 - tinkoff.invest.logging - INFO - 317dd49f2770d49e1349ef3efe185ede GetCandles\n"
     ]
    },
    {
     "name": "stdout",
     "output_type": "stream",
     "text": [
      "2013-NKE INIT BALANCE: 39.3 FINAL BALANCE: 39.3\n"
     ]
    },
    {
     "name": "stderr",
     "output_type": "stream",
     "text": [
      "2022-05-21 19:37:22,530 - tinkoff.invest.logging - INFO - d0aa41157d60efe18a62f31590b54f06 ShareBy\n",
      "2022-05-21 19:37:22,620 - tinkoff.invest.logging - INFO - 6d31c888bf69f75a24c803b0768e85c6 GetCandles\n"
     ]
    },
    {
     "name": "stdout",
     "output_type": "stream",
     "text": [
      "2013-PGR INIT BALANCE: 32.175 FINAL BALANCE: 32.175\n"
     ]
    },
    {
     "name": "stderr",
     "output_type": "stream",
     "text": [
      "2022-05-21 19:37:22,864 - tinkoff.invest.logging - INFO - 4228ac6482298fa388aed95f6824c56c ShareBy\n",
      "2022-05-21 19:37:22,955 - tinkoff.invest.logging - INFO - e63c1a0d9c0a59e69175b83f086996e7 GetCandles\n"
     ]
    },
    {
     "name": "stdout",
     "output_type": "stream",
     "text": [
      "2013-AMGN INIT BALANCE: 131.04 FINAL BALANCE: 131.04\n"
     ]
    },
    {
     "name": "stderr",
     "output_type": "stream",
     "text": [
      "2022-05-21 19:37:23,287 - tinkoff.invest.logging - INFO - 8e565a9f46ca47f31f3905a31b8d8440 ShareBy\n",
      "2022-05-21 19:37:23,393 - tinkoff.invest.logging - INFO - 9b2ebcb1c38f62f8d83983b77292d1a2 GetCandles\n"
     ]
    },
    {
     "name": "stdout",
     "output_type": "stream",
     "text": [
      "2013-ICE INIT BALANCE: 37.701 FINAL BALANCE: 37.701\n"
     ]
    },
    {
     "name": "stderr",
     "output_type": "stream",
     "text": [
      "2022-05-21 19:37:23,640 - tinkoff.invest.logging - INFO - 8b491c57f97bd00c2263484c28e51e30 ShareBy\n",
      "2022-05-21 19:37:23,728 - tinkoff.invest.logging - INFO - 54b6430ca1c713e53b1e02cbff028d2f GetCandles\n"
     ]
    },
    {
     "name": "stdout",
     "output_type": "stream",
     "text": [
      "2013-FCX INIT BALANCE: 53.025000000000006 FINAL BALANCE: 53.025000000000006\n"
     ]
    },
    {
     "name": "stderr",
     "output_type": "stream",
     "text": [
      "2022-05-21 19:37:23,981 - tinkoff.invest.logging - INFO - b2e9e83102f38569f30c2fda93bc0eac ShareBy\n",
      "2022-05-21 19:37:24,091 - tinkoff.invest.logging - INFO - 4f1aed97026ca31b8d041987e072edfa GetCandles\n",
      "2022-05-21 19:37:24,329 - tinkoff.invest.logging - INFO - 5f886f432f9967116d1589fbd64acd9c ShareBy\n"
     ]
    },
    {
     "name": "stdout",
     "output_type": "stream",
     "text": [
      "2013-HD INIT BALANCE: 95.355 FINAL BALANCE: 95.355\n"
     ]
    },
    {
     "name": "stderr",
     "output_type": "stream",
     "text": [
      "2022-05-21 19:37:24,415 - tinkoff.invest.logging - INFO - ffef56e0bc4abdc281059efa9339f9e0 GetCandles\n",
      "2022-05-21 19:37:24,736 - tinkoff.invest.logging - ERROR - dbabba130425b9e5cfb620b980dcb62b ShareBy NOT_FOUND 50002\n"
     ]
    },
    {
     "name": "stdout",
     "output_type": "stream",
     "text": [
      "2013-FDX INIT BALANCE: 140.19 FINAL BALANCE: 181.465 + (SHARES 1)\n",
      "(<StatusCode.NOT_FOUND: (5, 'not found')>, '50002', Metadata(tracking_id='dbabba130425b9e5cfb620b980dcb62b', ratelimit_limit='200, 200;w=60', ratelimit_remaining=154, ratelimit_reset=36, message='instrument not found'))\n"
     ]
    },
    {
     "name": "stderr",
     "output_type": "stream",
     "text": [
      "2022-05-21 19:37:24,969 - tinkoff.invest.logging - INFO - 39ad1977b3ad712b33db338424802ce9 ShareBy\n",
      "2022-05-21 19:37:25,073 - tinkoff.invest.logging - INFO - 7b4e13d6fbdd8b991c4f5516f04d773c GetCandles\n"
     ]
    },
    {
     "name": "stdout",
     "output_type": "stream",
     "text": [
      "2013-DAL INIT BALANCE: 19.049999999999997 FINAL BALANCE: 19.049999999999997\n"
     ]
    },
    {
     "name": "stderr",
     "output_type": "stream",
     "text": [
      "2022-05-21 19:37:25,326 - tinkoff.invest.logging - ERROR - 48c3d9e0f2aadad85c24f60fb164e101 ShareBy NOT_FOUND 50002\n",
      "2022-05-21 19:37:25,565 - tinkoff.invest.logging - ERROR - 477e5d3e42a48009130345baf24f620d ShareBy NOT_FOUND 50002\n"
     ]
    },
    {
     "name": "stdout",
     "output_type": "stream",
     "text": [
      "(<StatusCode.NOT_FOUND: (5, 'not found')>, '50002', Metadata(tracking_id='48c3d9e0f2aadad85c24f60fb164e101', ratelimit_limit='200, 200;w=60', ratelimit_remaining=152, ratelimit_reset=35, message='instrument not found'))\n",
      "(<StatusCode.NOT_FOUND: (5, 'not found')>, '50002', Metadata(tracking_id='477e5d3e42a48009130345baf24f620d', ratelimit_limit='200, 200;w=60', ratelimit_remaining=151, ratelimit_reset=35, message='instrument not found'))\n"
     ]
    },
    {
     "name": "stderr",
     "output_type": "stream",
     "text": [
      "2022-05-21 19:37:25,809 - tinkoff.invest.logging - INFO - 0246490541480cf02e12e39c627cdb3b ShareBy\n",
      "2022-05-21 19:37:25,923 - tinkoff.invest.logging - INFO - 31e6517007cfddfd285b3a4328c14c8a GetCandles\n"
     ]
    },
    {
     "name": "stdout",
     "output_type": "stream",
     "text": [
      "2013-PG INIT BALANCE: 102.97500000000001 FINAL BALANCE: 102.97500000000001\n"
     ]
    },
    {
     "name": "stderr",
     "output_type": "stream",
     "text": [
      "2022-05-21 19:37:26,181 - tinkoff.invest.logging - INFO - d3896595cec1e835ce22126f04a68802 ShareBy\n",
      "2022-05-21 19:37:26,273 - tinkoff.invest.logging - INFO - 8d29356d2df4deece634b5660777e269 GetCandles\n"
     ]
    },
    {
     "name": "stdout",
     "output_type": "stream",
     "text": [
      "2013-MRK INIT BALANCE: 62.79 FINAL BALANCE: 67.83 + (SHARES 1)\n"
     ]
    },
    {
     "name": "stderr",
     "output_type": "stream",
     "text": [
      "2022-05-21 19:37:26,689 - tinkoff.invest.logging - ERROR - 6e397da58d27a7fe230006d88c4b3e33 ShareBy NOT_FOUND 50002\n",
      "2022-05-21 19:37:26,917 - tinkoff.invest.logging - INFO - 491f34c1c27d48ea64e4ba0ca6dc72fc ShareBy\n"
     ]
    },
    {
     "name": "stdout",
     "output_type": "stream",
     "text": [
      "(<StatusCode.NOT_FOUND: (5, 'not found')>, '50002', Metadata(tracking_id='6e397da58d27a7fe230006d88c4b3e33', ratelimit_limit='200, 200;w=60', ratelimit_remaining=148, ratelimit_reset=34, message='instrument not found'))\n"
     ]
    },
    {
     "name": "stderr",
     "output_type": "stream",
     "text": [
      "2022-05-21 19:37:27,002 - tinkoff.invest.logging - INFO - 23d31325e668aa39fefa8134daf4710e GetCandles\n"
     ]
    },
    {
     "name": "stdout",
     "output_type": "stream",
     "text": [
      "2013-PFE INIT BALANCE: 38.295 FINAL BALANCE: 41.25\n"
     ]
    },
    {
     "name": "stderr",
     "output_type": "stream",
     "text": [
      "2022-05-21 19:37:27,422 - tinkoff.invest.logging - INFO - a9d76d157833c4aa51da7e6c9f5b9b03 ShareBy\n",
      "2022-05-21 19:37:27,515 - tinkoff.invest.logging - INFO - 0957e3e3fc95eb5a0e9f8b8d8e9a307c GetCandles\n"
     ]
    },
    {
     "name": "stdout",
     "output_type": "stream",
     "text": [
      "2013-ADP INIT BALANCE: 76.40115 FINAL BALANCE: 76.40115\n"
     ]
    },
    {
     "name": "stderr",
     "output_type": "stream",
     "text": [
      "2022-05-21 19:37:27,768 - tinkoff.invest.logging - INFO - 42989f30dce3aefee4838a65dbede69c ShareBy\n",
      "2022-05-21 19:37:27,882 - tinkoff.invest.logging - INFO - 77cae48f80c28263ee86007f780fce47 GetCandles\n"
     ]
    },
    {
     "name": "stdout",
     "output_type": "stream",
     "text": [
      "2013-JWN INIT BALANCE: 80.535 FINAL BALANCE: 80.535\n"
     ]
    },
    {
     "name": "stderr",
     "output_type": "stream",
     "text": [
      "2022-05-21 19:37:28,215 - tinkoff.invest.logging - ERROR - 2655249eafe48e03fb2a5136686b8413 ShareBy NOT_FOUND 50002\n",
      "2022-05-21 19:37:28,446 - tinkoff.invest.logging - INFO - 849b5c0bdc3ecd7f7d17869e5fa2e186 ShareBy\n"
     ]
    },
    {
     "name": "stdout",
     "output_type": "stream",
     "text": [
      "(<StatusCode.NOT_FOUND: (5, 'not found')>, '50002', Metadata(tracking_id='2655249eafe48e03fb2a5136686b8413', ratelimit_limit='200, 200;w=60', ratelimit_remaining=144, ratelimit_reset=32, message='instrument not found'))\n"
     ]
    },
    {
     "name": "stderr",
     "output_type": "stream",
     "text": [
      "2022-05-21 19:37:28,534 - tinkoff.invest.logging - INFO - c4dc2258e6e3917d73e21eb8e366c474 GetCandles\n"
     ]
    },
    {
     "name": "stdout",
     "output_type": "stream",
     "text": [
      "2013-AVGO INIT BALANCE: 48.644999999999996 FINAL BALANCE: 48.644999999999996\n"
     ]
    },
    {
     "name": "stderr",
     "output_type": "stream",
     "text": [
      "2022-05-21 19:37:28,773 - tinkoff.invest.logging - INFO - c83254622cc70776a0bd4052f8ae2d0f ShareBy\n",
      "2022-05-21 19:37:28,836 - tinkoff.invest.logging - INFO - 07dbd3f6ab48e0a1102778ee5b20030a GetCandles\n",
      "2022-05-21 19:37:29,045 - tinkoff.invest.logging - INFO - 5af8980c314e067f6f42abbf9d9149c7 ShareBy\n",
      "2022-05-21 19:37:29,151 - tinkoff.invest.logging - INFO - 8469ce2d42bce0b9493f9668c8223f3b GetCandles\n"
     ]
    },
    {
     "name": "stdout",
     "output_type": "stream",
     "text": [
      "2013-HUM INIT BALANCE: 104.60999999999999 FINAL BALANCE: 127.03999999999999 + (SHARES 1)\n"
     ]
    },
    {
     "name": "stderr",
     "output_type": "stream",
     "text": [
      "2022-05-21 19:37:29,488 - tinkoff.invest.logging - INFO - b10ec7c9790e5144cb9bfb760a4bd15b ShareBy\n",
      "2022-05-21 19:37:29,594 - tinkoff.invest.logging - INFO - 583840670e814f230a9fbfbde309209d GetCandles\n"
     ]
    },
    {
     "name": "stdout",
     "output_type": "stream",
     "text": [
      "2013-FMC INIT BALANCE: 89.49 FINAL BALANCE: 89.49\n"
     ]
    },
    {
     "name": "stderr",
     "output_type": "stream",
     "text": [
      "2022-05-21 19:37:29,843 - tinkoff.invest.logging - INFO - c856564e5c7448e6c68833110b7f6466 ShareBy\n",
      "2022-05-21 19:37:29,950 - tinkoff.invest.logging - INFO - 82f4a95577fb2de0e35558774463bdf8 GetCandles\n"
     ]
    },
    {
     "name": "stdout",
     "output_type": "stream",
     "text": [
      "2013-COST INIT BALANCE: 150.89999999999998 FINAL BALANCE: 150.89999999999998\n"
     ]
    },
    {
     "name": "stderr",
     "output_type": "stream",
     "text": [
      "2022-05-21 19:37:30,208 - tinkoff.invest.logging - INFO - 3df8324201b810326484f00626200f89 ShareBy\n",
      "2022-05-21 19:37:30,267 - tinkoff.invest.logging - INFO - 3124b75c3e777c71ea5815ad1df6d7c6 GetCandles\n",
      "2022-05-21 19:37:30,476 - tinkoff.invest.logging - INFO - a19d268b25215e4e63be08ce6392769b ShareBy\n",
      "2022-05-21 19:37:30,565 - tinkoff.invest.logging - INFO - c3652b81eb12a7c6f40b21ac0063f91b GetCandles\n"
     ]
    },
    {
     "name": "stdout",
     "output_type": "stream",
     "text": [
      "2013-MCD INIT BALANCE: 134.10000000000002 FINAL BALANCE: 134.10000000000002\n"
     ]
    },
    {
     "name": "stderr",
     "output_type": "stream",
     "text": [
      "2022-05-21 19:37:30,817 - tinkoff.invest.logging - INFO - 6325d5f3542ed52fdc4d9b5d79e68a64 ShareBy\n",
      "2022-05-21 19:37:30,904 - tinkoff.invest.logging - INFO - 899d677b57782257b430da496cb67d68 GetCandles\n",
      "2022-05-21 19:37:31,121 - tinkoff.invest.logging - INFO - bc84378788d7c919ce07a739ccf145c0 ShareBy\n"
     ]
    },
    {
     "name": "stdout",
     "output_type": "stream",
     "text": [
      "2013-LLY INIT BALANCE: 74.91 FINAL BALANCE: 74.91\n"
     ]
    },
    {
     "name": "stderr",
     "output_type": "stream",
     "text": [
      "2022-05-21 19:37:31,244 - tinkoff.invest.logging - INFO - f757620bbed4dbdc1497a86d72813ccc GetCandles\n"
     ]
    },
    {
     "name": "stdout",
     "output_type": "stream",
     "text": [
      "2013-UAL INIT BALANCE: 35.745 FINAL BALANCE: 35.745\n"
     ]
    },
    {
     "name": "stderr",
     "output_type": "stream",
     "text": [
      "2022-05-21 19:37:31,499 - tinkoff.invest.logging - INFO - 2e8566def39955e2f0f84a42a66a78e3 ShareBy\n",
      "2022-05-21 19:37:31,607 - tinkoff.invest.logging - INFO - 1bdcbda5f198d5caadfd3674c33fab3b GetCandles\n"
     ]
    },
    {
     "name": "stdout",
     "output_type": "stream",
     "text": [
      "2013-STZ INIT BALANCE: 53.925000000000004 FINAL BALANCE: 85.83500000000001 + (SHARES 1)\n"
     ]
    },
    {
     "name": "stderr",
     "output_type": "stream",
     "text": [
      "2022-05-21 19:37:31,956 - tinkoff.invest.logging - INFO - d95c30f01f99b85843b9e21d91bf454e ShareBy\n",
      "2022-05-21 19:37:32,043 - tinkoff.invest.logging - INFO - d668297791365f58ba84806493656f6f GetCandles\n"
     ]
    },
    {
     "name": "stdout",
     "output_type": "stream",
     "text": [
      "2013-COP INIT BALANCE: 88.725 FINAL BALANCE: 98.56 + (SHARES 1)\n"
     ]
    },
    {
     "name": "stderr",
     "output_type": "stream",
     "text": [
      "2022-05-21 19:37:32,384 - tinkoff.invest.logging - INFO - 0dac56bd90cf09d4d9ca61a4f88317ed ShareBy\n",
      "2022-05-21 19:37:32,477 - tinkoff.invest.logging - INFO - e9eb74da99b6aebb81f9da3eaa5138f6 GetCandles\n"
     ]
    },
    {
     "name": "stdout",
     "output_type": "stream",
     "text": [
      "2013-BBY INIT BALANCE: 18.21 FINAL BALANCE: 18.21\n"
     ]
    },
    {
     "name": "stderr",
     "output_type": "stream",
     "text": [
      "2022-05-21 19:37:32,723 - tinkoff.invest.logging - INFO - e38c6deef29729562947e1aba2b80f54 ShareBy\n",
      "2022-05-21 19:37:32,813 - tinkoff.invest.logging - INFO - 17003cc33b05c771ad8b997518144baf GetCandles\n"
     ]
    },
    {
     "name": "stdout",
     "output_type": "stream",
     "text": [
      "2013-CMCSA INIT BALANCE: 28.875 FINAL BALANCE: 28.875\n"
     ]
    },
    {
     "name": "stderr",
     "output_type": "stream",
     "text": [
      "2022-05-21 19:37:33,059 - tinkoff.invest.logging - INFO - e30568dba5060ab206cea7f20ffe8620 ShareBy\n",
      "2022-05-21 19:37:33,146 - tinkoff.invest.logging - INFO - b37c49cd21a233fcdcb5561e5e5f22e1 GetCandles\n"
     ]
    },
    {
     "name": "stdout",
     "output_type": "stream",
     "text": [
      "2013-NOC INIT BALANCE: 103.185 FINAL BALANCE: 107.82499999999999\n"
     ]
    },
    {
     "name": "stderr",
     "output_type": "stream",
     "text": [
      "2022-05-21 19:37:33,573 - tinkoff.invest.logging - ERROR - 30f2df7b3cf4a70e20aec13bad2922b3 ShareBy NOT_FOUND 50002\n"
     ]
    },
    {
     "name": "stdout",
     "output_type": "stream",
     "text": [
      "(<StatusCode.NOT_FOUND: (5, 'not found')>, '50002', Metadata(tracking_id='30f2df7b3cf4a70e20aec13bad2922b3', ratelimit_limit='200, 200;w=60', ratelimit_remaining=129, ratelimit_reset=27, message='instrument not found'))\n"
     ]
    },
    {
     "name": "stderr",
     "output_type": "stream",
     "text": [
      "2022-05-21 19:37:33,825 - tinkoff.invest.logging - INFO - 90104073afcb0a40c82cd5f4711b9957 ShareBy\n",
      "2022-05-21 19:37:33,949 - tinkoff.invest.logging - INFO - 68414f3670d8a64b1cb73fbcfd8c9794 GetCandles\n"
     ]
    },
    {
     "name": "stdout",
     "output_type": "stream",
     "text": [
      "2013-AXP INIT BALANCE: 87.495 FINAL BALANCE: 87.495\n"
     ]
    },
    {
     "name": "stderr",
     "output_type": "stream",
     "text": [
      "2022-05-21 19:37:34,298 - tinkoff.invest.logging - ERROR - 31c554ce1d94d5e29a293cf5177282fa ShareBy NOT_FOUND 50002\n"
     ]
    },
    {
     "name": "stdout",
     "output_type": "stream",
     "text": [
      "(<StatusCode.NOT_FOUND: (5, 'not found')>, '50002', Metadata(tracking_id='31c554ce1d94d5e29a293cf5177282fa', ratelimit_limit='200, 200;w=60', ratelimit_remaining=127, ratelimit_reset=26, message='instrument not found'))\n"
     ]
    },
    {
     "name": "stderr",
     "output_type": "stream",
     "text": [
      "2022-05-21 19:37:34,529 - tinkoff.invest.logging - INFO - e06582e5e3b2af8d83c563c406ed3c02 ShareBy\n",
      "2022-05-21 19:37:34,639 - tinkoff.invest.logging - INFO - a283273a4656e375d2b8c53167b81b49 GetCandles\n"
     ]
    },
    {
     "name": "stdout",
     "output_type": "stream",
     "text": [
      "2013-BIIB INIT BALANCE: 205.47899999999998 FINAL BALANCE: 205.47899999999998\n"
     ]
    },
    {
     "name": "stderr",
     "output_type": "stream",
     "text": [
      "2022-05-21 19:37:35,049 - tinkoff.invest.logging - INFO - 69c9b6d4e9151837c80ae8b70093df91 ShareBy\n",
      "2022-05-21 19:37:35,160 - tinkoff.invest.logging - INFO - 0249d262a82ef83cee15e24467d2d708 GetCandles\n"
     ]
    },
    {
     "name": "stdout",
     "output_type": "stream",
     "text": [
      "2013-MMM INIT BALANCE: 141.285 FINAL BALANCE: 141.285\n"
     ]
    },
    {
     "name": "stderr",
     "output_type": "stream",
     "text": [
      "2022-05-21 19:37:35,427 - tinkoff.invest.logging - ERROR - a70fd1adf913b52c5825185ea155e283 ShareBy NOT_FOUND 50002\n"
     ]
    },
    {
     "name": "stdout",
     "output_type": "stream",
     "text": [
      "(<StatusCode.NOT_FOUND: (5, 'not found')>, '50002', Metadata(tracking_id='a70fd1adf913b52c5825185ea155e283', ratelimit_limit='200, 200;w=60', ratelimit_remaining=124, ratelimit_reset=25, message='instrument not found'))\n"
     ]
    },
    {
     "name": "stderr",
     "output_type": "stream",
     "text": [
      "2022-05-21 19:37:35,671 - tinkoff.invest.logging - ERROR - 863dfc82e946d57ee36315d4467587c3 ShareBy NOT_FOUND 50002\n",
      "2022-05-21 19:37:35,905 - tinkoff.invest.logging - INFO - a9902ce8d454b7dc5bb72d7e2e1c9277 ShareBy\n"
     ]
    },
    {
     "name": "stdout",
     "output_type": "stream",
     "text": [
      "(<StatusCode.NOT_FOUND: (5, 'not found')>, '50002', Metadata(tracking_id='863dfc82e946d57ee36315d4467587c3', ratelimit_limit=None, ratelimit_remaining=None, ratelimit_reset=None, message='instrument not found'))\n"
     ]
    },
    {
     "name": "stderr",
     "output_type": "stream",
     "text": [
      "2022-05-21 19:37:36,013 - tinkoff.invest.logging - INFO - ffb377bf93c58597df179ef2bff9aab7 GetCandles\n"
     ]
    },
    {
     "name": "stdout",
     "output_type": "stream",
     "text": [
      "2013-NVDA INIT BALANCE: 4.71 FINAL BALANCE: 4.71\n"
     ]
    },
    {
     "name": "stderr",
     "output_type": "stream",
     "text": [
      "2022-05-21 19:37:36,278 - tinkoff.invest.logging - INFO - 2f9802bb8cc98f2c6806da78cf2938b8 ShareBy\n",
      "2022-05-21 19:37:36,364 - tinkoff.invest.logging - INFO - 441d836cd623d3f5c7e6a25ceecc796b GetCandles\n"
     ]
    },
    {
     "name": "stdout",
     "output_type": "stream",
     "text": [
      "2013-MYL INIT BALANCE: 41.76 FINAL BALANCE: 41.76\n"
     ]
    },
    {
     "name": "stderr",
     "output_type": "stream",
     "text": [
      "2022-05-21 19:37:36,587 - tinkoff.invest.logging - INFO - 32d3771650e41d395598e84050f7231f ShareBy\n",
      "2022-05-21 19:37:36,709 - tinkoff.invest.logging - INFO - 26c1c98f593984fc6b95671617c3223f GetCandles\n"
     ]
    },
    {
     "name": "stdout",
     "output_type": "stream",
     "text": [
      "2013-DD INIT BALANCE: 57.5934 FINAL BALANCE: 57.5934\n"
     ]
    },
    {
     "name": "stderr",
     "output_type": "stream",
     "text": [
      "2022-05-21 19:37:36,975 - tinkoff.invest.logging - INFO - 20955239ead47567305076b6ef62a6f8 ShareBy\n",
      "2022-05-21 19:37:37,066 - tinkoff.invest.logging - INFO - be7ce95de9b98e8168bf42dc182198a8 GetCandles\n"
     ]
    },
    {
     "name": "stdout",
     "output_type": "stream",
     "text": [
      "2013-GILD INIT BALANCE: 55.7325 FINAL BALANCE: 55.7325\n"
     ]
    },
    {
     "name": "stderr",
     "output_type": "stream",
     "text": [
      "2022-05-21 19:37:37,307 - tinkoff.invest.logging - INFO - d2a04e3cb13a8fb9504f2951f2195864 ShareBy\n",
      "2022-05-21 19:37:37,399 - tinkoff.invest.logging - INFO - dd2bb7494cdada00586a4315bb8adeec GetCandles\n"
     ]
    },
    {
     "name": "stdout",
     "output_type": "stream",
     "text": [
      "2013-ORCL INIT BALANCE: 52.199999999999996 FINAL BALANCE: 56.80499999999999 + (SHARES 1)\n"
     ]
    },
    {
     "name": "stderr",
     "output_type": "stream",
     "text": [
      "2022-05-21 19:37:37,727 - tinkoff.invest.logging - INFO - 6e4a53f3f4cefa4b029df5f498eab2ef ShareBy\n",
      "2022-05-21 19:37:37,831 - tinkoff.invest.logging - INFO - cd6b8a242c88f0d076f3960d5556add8 GetCandles\n"
     ]
    },
    {
     "name": "stdout",
     "output_type": "stream",
     "text": [
      "2013-ADBE INIT BALANCE: 56.88 FINAL BALANCE: 56.88\n"
     ]
    },
    {
     "name": "stderr",
     "output_type": "stream",
     "text": [
      "2022-05-21 19:37:38,082 - tinkoff.invest.logging - INFO - 8a103c95b45386efb5845c853e5f6a2a ShareBy\n",
      "2022-05-21 19:37:38,189 - tinkoff.invest.logging - INFO - dfd4e6dc6f8db4dddb3febed122175fd GetCandles\n"
     ]
    },
    {
     "name": "stdout",
     "output_type": "stream",
     "text": [
      "2013-BIDU INIT BALANCE: 154.995 FINAL BALANCE: 239.444 + (SHARES 1)\n"
     ]
    },
    {
     "name": "stderr",
     "output_type": "stream",
     "text": [
      "2022-05-21 19:37:38,673 - tinkoff.invest.logging - INFO - b75ebe644d9866fa3ae6fc12f2ece9f6 ShareBy\n",
      "2022-05-21 19:37:38,773 - tinkoff.invest.logging - INFO - 71cdd0a0fe3c77d4b99e0d704d3c18db GetCandles\n"
     ]
    },
    {
     "name": "stdout",
     "output_type": "stream",
     "text": [
      "2013-VALE INIT BALANCE: 25.2333 FINAL BALANCE: 25.2333\n"
     ]
    },
    {
     "name": "stderr",
     "output_type": "stream",
     "text": [
      "2022-05-21 19:37:39,194 - tinkoff.invest.logging - INFO - 4d9a83d465d841c5e38f157b64fd258f ShareBy\n",
      "2022-05-21 19:37:39,304 - tinkoff.invest.logging - INFO - bc48d9e313ef521e5e5426bd6478bfc2 GetCandles\n"
     ]
    },
    {
     "name": "stdout",
     "output_type": "stream",
     "text": [
      "2013-CSCO INIT BALANCE: 30.18 FINAL BALANCE: 29.842499999999998 + (SHARES 1)\n"
     ]
    },
    {
     "name": "stderr",
     "output_type": "stream",
     "text": [
      "2022-05-21 19:37:40,620 - tinkoff.invest.logging - INFO - 22887aeb8c3164ace2eda57b460e6675 ShareBy\n",
      "2022-05-21 19:37:40,741 - tinkoff.invest.logging - INFO - 25915ca2d8ed38a4dddfac23cf322f31 GetCandles\n"
     ]
    },
    {
     "name": "stdout",
     "output_type": "stream",
     "text": [
      "2013-SPGI INIT BALANCE: 83.44500000000001 FINAL BALANCE: 83.44500000000001\n"
     ]
    },
    {
     "name": "stderr",
     "output_type": "stream",
     "text": [
      "2022-05-21 19:37:41,021 - tinkoff.invest.logging - INFO - a715637dc459e2f3322a7aa39fcc3619 ShareBy\n",
      "2022-05-21 19:37:41,089 - tinkoff.invest.logging - INFO - 1fcb09d1233c2c0fc312cab952a26f17 GetCandles\n",
      "2022-05-21 19:37:41,311 - tinkoff.invest.logging - INFO - f4c0a79f8ac627104fedbd186c4c22b7 ShareBy\n",
      "2022-05-21 19:37:41,604 - tinkoff.invest.logging - INFO - 58e7501d005fa9b252f5ee4ff6ed209f GetCandles\n"
     ]
    },
    {
     "name": "stdout",
     "output_type": "stream",
     "text": [
      "2013-AZO INIT BALANCE: 535.5 FINAL BALANCE: 535.5\n"
     ]
    },
    {
     "name": "stderr",
     "output_type": "stream",
     "text": [
      "2022-05-21 19:37:42,019 - tinkoff.invest.logging - INFO - 7d59c69d1904baf80ac8345763a4e0cf ShareBy\n",
      "2022-05-21 19:37:42,107 - tinkoff.invest.logging - INFO - 78381b7ae35dbd0f22bde8c39e64997d GetCandles\n"
     ]
    },
    {
     "name": "stdout",
     "output_type": "stream",
     "text": [
      "2013-MA INIT BALANCE: 75.94500000000001 FINAL BALANCE: 75.94500000000001\n"
     ]
    },
    {
     "name": "stderr",
     "output_type": "stream",
     "text": [
      "2022-05-21 19:37:42,410 - tinkoff.invest.logging - INFO - 183912c07a7ca595eb6a767e097d5069 ShareBy\n",
      "2022-05-21 19:37:42,476 - tinkoff.invest.logging - INFO - 855d41037d6c6869d2742f8e66cfb8ef GetCandles\n",
      "2022-05-21 19:37:42,701 - tinkoff.invest.logging - INFO - 7e62489f884efc70250d0256ab373358 ShareBy\n",
      "2022-05-21 19:37:42,824 - tinkoff.invest.logging - INFO - d26244d2a56a7734362f4e5c853f5f3f GetCandles\n"
     ]
    },
    {
     "name": "stdout",
     "output_type": "stream",
     "text": [
      "2013-PM INIT BALANCE: 127.05000000000001 FINAL BALANCE: 127.05000000000001\n"
     ]
    },
    {
     "name": "stderr",
     "output_type": "stream",
     "text": [
      "2022-05-21 19:37:43,098 - tinkoff.invest.logging - INFO - 48f49096fa0fe6aa5280482beb9a54e1 ShareBy\n",
      "2022-05-21 19:37:43,190 - tinkoff.invest.logging - INFO - 7f25ec3329a54d5412d4ffea894077fc GetCandles\n"
     ]
    },
    {
     "name": "stdout",
     "output_type": "stream",
     "text": [
      "2013-URBN INIT BALANCE: 60.36 FINAL BALANCE: 60.36\n"
     ]
    },
    {
     "name": "stderr",
     "output_type": "stream",
     "text": [
      "2022-05-21 19:37:43,444 - tinkoff.invest.logging - ERROR - 848a35a0b14c7725f80e69f2e0e117fd ShareBy NOT_FOUND 50002\n"
     ]
    },
    {
     "name": "stdout",
     "output_type": "stream",
     "text": [
      "(<StatusCode.NOT_FOUND: (5, 'not found')>, '50002', Metadata(tracking_id='848a35a0b14c7725f80e69f2e0e117fd', ratelimit_limit='200, 200;w=60', ratelimit_remaining=106, ratelimit_reset=17, message='instrument not found'))\n"
     ]
    },
    {
     "name": "stderr",
     "output_type": "stream",
     "text": [
      "2022-05-21 19:37:43,685 - tinkoff.invest.logging - INFO - 5a855508a23bea541bc21aea653fc872 ShareBy\n",
      "2022-05-21 19:37:43,772 - tinkoff.invest.logging - INFO - 1875c12a5426305ad32fb30ad741497e GetCandles\n"
     ]
    },
    {
     "name": "stdout",
     "output_type": "stream",
     "text": [
      "2013-BMY INIT BALANCE: 49.260000000000005 FINAL BALANCE: 49.260000000000005\n"
     ]
    },
    {
     "name": "stderr",
     "output_type": "stream",
     "text": [
      "2022-05-21 19:37:44,020 - tinkoff.invest.logging - INFO - d3aa23cdc86cf099fdf7f540c2792095 ShareBy\n",
      "2022-05-21 19:37:44,105 - tinkoff.invest.logging - INFO - fd71426456a97fc5b0bd4aa646f8f49e GetCandles\n"
     ]
    },
    {
     "name": "stdout",
     "output_type": "stream",
     "text": [
      "2014-AAPL INIT BALANCE: 29.775000000000002 FINAL BALANCE: 37.27500000000002 + (SHARES 1)\n"
     ]
    },
    {
     "name": "stderr",
     "output_type": "stream",
     "text": [
      "2022-05-21 19:38:05,152 - tinkoff.invest.logging - INFO - c13f268c4d21b0bd65b97168406c15fb ShareBy\n",
      "2022-05-21 19:38:05,258 - tinkoff.invest.logging - INFO - 52bb3aa9f8caefbc7651f1b5659c6516 GetCandles\n"
     ]
    },
    {
     "name": "stdout",
     "output_type": "stream",
     "text": [
      "2014-MSFT INIT BALANCE: 56.025000000000006 FINAL BALANCE: 56.025000000000006\n"
     ]
    },
    {
     "name": "stderr",
     "output_type": "stream",
     "text": [
      "2022-05-21 19:38:05,927 - tinkoff.invest.logging - INFO - 3d2d235fcf680a3a6cd333a4ee1bf0a4 ShareBy\n",
      "2022-05-21 19:38:06,026 - tinkoff.invest.logging - INFO - 0cf4484bd0df7a3f0278d6483c94f1b7 GetCandles\n",
      "2022-05-21 19:38:06,524 - tinkoff.invest.logging - INFO - 96aeca37f65b54256c3e3481eb4b0aca ShareBy\n"
     ]
    },
    {
     "name": "stdout",
     "output_type": "stream",
     "text": [
      "2014-BAC INIT BALANCE: 23.535 FINAL BALANCE: 23.535\n"
     ]
    },
    {
     "name": "stderr",
     "output_type": "stream",
     "text": [
      "2022-05-21 19:38:06,628 - tinkoff.invest.logging - INFO - 50cb5f1c52667bb4c8955102a7c1d888 GetCandles\n"
     ]
    },
    {
     "name": "stdout",
     "output_type": "stream",
     "text": [
      "2014-AMZN INIT BALANCE: 598.2 FINAL BALANCE: 598.2\n"
     ]
    },
    {
     "name": "stderr",
     "output_type": "stream",
     "text": [
      "2022-05-21 19:38:07,238 - tinkoff.invest.logging - INFO - ed3d71364602e11f5a61a21fade09043 ShareBy\n",
      "2022-05-21 19:38:07,343 - tinkoff.invest.logging - INFO - c7e6e5a3c944e616bbccbef6e730ad91 GetCandles\n"
     ]
    },
    {
     "name": "stdout",
     "output_type": "stream",
     "text": [
      "2014-NWSA INIT BALANCE: 27.75 FINAL BALANCE: 27.75\n"
     ]
    },
    {
     "name": "stderr",
     "output_type": "stream",
     "text": [
      "2022-05-21 19:38:07,586 - tinkoff.invest.logging - INFO - 62c2790aaf15226ca98fbd248c88776e ShareBy\n",
      "2022-05-21 19:38:07,692 - tinkoff.invest.logging - INFO - 3404b5d4b47749e8403a629120eaf561 GetCandles\n"
     ]
    },
    {
     "name": "stdout",
     "output_type": "stream",
     "text": [
      "2014-BA INIT BALANCE: 204.14999999999998 FINAL BALANCE: 201.92 + (SHARES 1)\n"
     ]
    },
    {
     "name": "stderr",
     "output_type": "stream",
     "text": [
      "2022-05-21 19:38:08,116 - tinkoff.invest.logging - INFO - d69ef05996864a353aa398483d99c808 ShareBy\n",
      "2022-05-21 19:38:08,201 - tinkoff.invest.logging - INFO - a8df5a54763ace96e7ce7909f4adced7 GetCandles\n"
     ]
    },
    {
     "name": "stdout",
     "output_type": "stream",
     "text": [
      "2014-GOOGL INIT BALANCE: 837.405 FINAL BALANCE: 837.405\n"
     ]
    },
    {
     "name": "stderr",
     "output_type": "stream",
     "text": [
      "2022-05-21 19:38:08,535 - tinkoff.invest.logging - INFO - fec60e9d123426d2ce9c09ca164becd7 ShareBy\n",
      "2022-05-21 19:38:08,623 - tinkoff.invest.logging - INFO - 21154877ed62510b6b7c31dc96527390 GetCandles\n"
     ]
    },
    {
     "name": "stdout",
     "output_type": "stream",
     "text": [
      "2014-GS INIT BALANCE: 265.42499999999995 FINAL BALANCE: 294.54999999999995 + (SHARES 1)\n"
     ]
    },
    {
     "name": "stderr",
     "output_type": "stream",
     "text": [
      "2022-05-21 19:38:10,697 - tinkoff.invest.logging - INFO - 267322db941d8a4aff79ae1e4c905afd ShareBy\n",
      "2022-05-21 19:38:10,814 - tinkoff.invest.logging - INFO - 65b051bad46004ec4af6cc8fba07087c GetCandles\n"
     ]
    },
    {
     "name": "stdout",
     "output_type": "stream",
     "text": [
      "2014-TSLA INIT BALANCE: 44.94 FINAL BALANCE: 44.94\n"
     ]
    },
    {
     "name": "stderr",
     "output_type": "stream",
     "text": [
      "2022-05-21 19:38:11,558 - tinkoff.invest.logging - INFO - 816bb81c64d6d15bdabb4955b454c062 ShareBy\n",
      "2022-05-21 19:38:11,667 - tinkoff.invest.logging - INFO - 7adbf77291becd0e26bfa0fecacc3540 GetCandles\n"
     ]
    },
    {
     "name": "stdout",
     "output_type": "stream",
     "text": [
      "2014-NFLX INIT BALANCE: 78.6015 FINAL BALANCE: 82.082\n"
     ]
    },
    {
     "name": "stderr",
     "output_type": "stream",
     "text": [
      "2022-05-21 19:38:13,179 - tinkoff.invest.logging - INFO - 424dd706cc7491e4779cd1bf659f60d3 ShareBy\n",
      "2022-05-21 19:38:13,291 - tinkoff.invest.logging - INFO - 7bf68da9cbbaafb5431eaa7aa42b034f GetCandles\n",
      "2022-05-21 19:38:14,974 - tinkoff.invest.logging - INFO - 217bd47070e296ec3cd34f5417834ab5 ShareBy\n"
     ]
    },
    {
     "name": "stdout",
     "output_type": "stream",
     "text": [
      "2014-TGT INIT BALANCE: 95.295 FINAL BALANCE: 98.93500000000002\n"
     ]
    },
    {
     "name": "stderr",
     "output_type": "stream",
     "text": [
      "2022-05-21 19:38:15,096 - tinkoff.invest.logging - INFO - cd60700fc4df78b3277edb6ecd90a230 GetCandles\n"
     ]
    },
    {
     "name": "stdout",
     "output_type": "stream",
     "text": [
      "2014-INTC INIT BALANCE: 38.67 FINAL BALANCE: 38.67\n"
     ]
    },
    {
     "name": "stderr",
     "output_type": "stream",
     "text": [
      "2022-05-21 19:38:15,441 - tinkoff.invest.logging - INFO - 0474ebc38a7b0d311d1a599de157abd1 ShareBy\n",
      "2022-05-21 19:38:15,548 - tinkoff.invest.logging - INFO - b0e31157309bd65df5590e7940d9c21a GetCandles\n"
     ]
    },
    {
     "name": "stdout",
     "output_type": "stream",
     "text": [
      "2014-DIS INIT BALANCE: 114.60000000000001 FINAL BALANCE: 126.015 + (SHARES 1)\n"
     ]
    },
    {
     "name": "stderr",
     "output_type": "stream",
     "text": [
      "2022-05-21 19:38:16,119 - tinkoff.invest.logging - INFO - ace72d9cd6f12368439545ed53bb2105 ShareBy\n",
      "2022-05-21 19:38:16,204 - tinkoff.invest.logging - INFO - c94d5c480891eff0ff1b002268c4f576 GetCandles\n"
     ]
    },
    {
     "name": "stdout",
     "output_type": "stream",
     "text": [
      "2014-XOM INIT BALANCE: 150.89999999999998 FINAL BALANCE: 150.89999999999998\n"
     ]
    },
    {
     "name": "stderr",
     "output_type": "stream",
     "text": [
      "2022-05-21 19:38:16,472 - tinkoff.invest.logging - INFO - 618639d05ae3b6aecdd508206066d024 ShareBy\n",
      "2022-05-21 19:38:16,583 - tinkoff.invest.logging - INFO - 8a12970f939539bb56915fa1fdd57a3b GetCandles\n"
     ]
    },
    {
     "name": "stdout",
     "output_type": "stream",
     "text": [
      "2014-JPM INIT BALANCE: 87.465 FINAL BALANCE: 88.73500000000001 + (SHARES 1)\n"
     ]
    },
    {
     "name": "stderr",
     "output_type": "stream",
     "text": [
      "2022-05-21 19:38:19,267 - tinkoff.invest.logging - INFO - 9f8ce4628745a49299ec8d4230ae65df ShareBy\n",
      "2022-05-21 19:38:19,369 - tinkoff.invest.logging - INFO - 406706c80f58c27b7e32a9315662797d GetCandles\n"
     ]
    },
    {
     "name": "stdout",
     "output_type": "stream",
     "text": [
      "2014-MS INIT BALANCE: 46.995 FINAL BALANCE: 48.805\n"
     ]
    },
    {
     "name": "stderr",
     "output_type": "stream",
     "text": [
      "2022-05-21 19:38:20,336 - tinkoff.invest.logging - INFO - 1d5b71f08637263b0fb101a667dff66b ShareBy\n",
      "2022-05-21 19:38:20,447 - tinkoff.invest.logging - INFO - 3a68c44a5c391c980195914b41b6dbdc GetCandles\n"
     ]
    },
    {
     "name": "stdout",
     "output_type": "stream",
     "text": [
      "2014-GM INIT BALANCE: 61.019999999999996 FINAL BALANCE: 56.57999999999999\n"
     ]
    },
    {
     "name": "stderr",
     "output_type": "stream",
     "text": [
      "2022-05-21 19:38:24,716 - tinkoff.invest.logging - INFO - ac6335482ff194db3f9ecccdcdba992f ShareBy\n",
      "2022-05-21 19:38:24,828 - tinkoff.invest.logging - INFO - 1977d5e6a119395c4ea590a8627d9f3f GetCandles\n"
     ]
    },
    {
     "name": "stdout",
     "output_type": "stream",
     "text": [
      "2014-C INIT BALANCE: 78.44999999999999 FINAL BALANCE: 82.74499999999998\n"
     ]
    },
    {
     "name": "stderr",
     "output_type": "stream",
     "text": [
      "2022-05-21 19:38:26,525 - tinkoff.invest.logging - INFO - d26d3ad06258c7f7d89d1b1cd4ea0d01 ShareBy\n",
      "2022-05-21 19:38:26,611 - tinkoff.invest.logging - INFO - 9372d4e63c950a0d84bc6c43cb6c38bf GetCandles\n"
     ]
    },
    {
     "name": "stdout",
     "output_type": "stream",
     "text": [
      "2014-GE INIT BALANCE: 334.32 FINAL BALANCE: 325.55999999999995 + (SHARES 1)\n"
     ]
    },
    {
     "name": "stderr",
     "output_type": "stream",
     "text": [
      "2022-05-21 19:38:27,683 - tinkoff.invest.logging - INFO - b4620258db95a9614ffcf2a0399dd09d ShareBy\n",
      "2022-05-21 19:38:27,787 - tinkoff.invest.logging - INFO - 5b68d54e7f4da2a0f9185a43d1a8a7a5 GetCandles\n"
     ]
    },
    {
     "name": "stdout",
     "output_type": "stream",
     "text": [
      "2014-MU INIT BALANCE: 32.519999999999996 FINAL BALANCE: 43.339999999999996 + (SHARES 1)\n"
     ]
    },
    {
     "name": "stderr",
     "output_type": "stream",
     "text": [
      "2022-05-21 19:38:28,526 - tinkoff.invest.logging - INFO - 6b551bf89a16ed85100584197bb831c3 ShareBy\n",
      "2022-05-21 19:38:28,582 - tinkoff.invest.logging - INFO - 3f7f33860cee1040944c6295b750b713 GetCandles\n",
      "2022-05-21 19:38:28,797 - tinkoff.invest.logging - INFO - 949e8ab0f73b9958c8154ac4ee757d9b ShareBy\n",
      "2022-05-21 19:38:28,887 - tinkoff.invest.logging - INFO - 0dd3a908da1a18955154f699d934eb59 GetCandles\n"
     ]
    },
    {
     "name": "stdout",
     "output_type": "stream",
     "text": [
      "2014-WMB INIT BALANCE: 57.585 FINAL BALANCE: 57.585\n"
     ]
    },
    {
     "name": "stderr",
     "output_type": "stream",
     "text": [
      "2022-05-21 19:38:29,136 - tinkoff.invest.logging - INFO - 00e0b846837581206530687fd6d103d9 ShareBy\n",
      "2022-05-21 19:38:29,222 - tinkoff.invest.logging - INFO - 51d32febf6576134bb02895b7d0eeaeb GetCandles\n"
     ]
    },
    {
     "name": "stdout",
     "output_type": "stream",
     "text": [
      "2014-KO INIT BALANCE: 61.67999999999999 FINAL BALANCE: 61.67999999999999\n"
     ]
    },
    {
     "name": "stderr",
     "output_type": "stream",
     "text": [
      "2022-05-21 19:38:29,561 - tinkoff.invest.logging - INFO - 6b78b4590e2de03a3806c69ae610513f ShareBy\n",
      "2022-05-21 19:38:29,647 - tinkoff.invest.logging - INFO - f56498e0a0528142e4d20e28c4347a35 GetCandles\n"
     ]
    },
    {
     "name": "stdout",
     "output_type": "stream",
     "text": [
      "2014-WFC INIT BALANCE: 67.725 FINAL BALANCE: 68.13499999999999 + (SHARES 1)\n"
     ]
    },
    {
     "name": "stderr",
     "output_type": "stream",
     "text": [
      "2022-05-21 19:38:29,982 - tinkoff.invest.logging - INFO - 985cf4846ad9ed3c0e42651d71be7339 ShareBy\n",
      "2022-05-21 19:38:30,089 - tinkoff.invest.logging - INFO - 64669fd71fd2bda6784d51abc326ffac GetCandles\n",
      "2022-05-21 19:38:30,324 - tinkoff.invest.logging - INFO - 3103364fcb934e6380584b702af48197 ShareBy\n"
     ]
    },
    {
     "name": "stdout",
     "output_type": "stream",
     "text": [
      "2014-WMT INIT BALANCE: 118.08 FINAL BALANCE: 118.08\n"
     ]
    },
    {
     "name": "stderr",
     "output_type": "stream",
     "text": [
      "2022-05-21 19:38:30,421 - tinkoff.invest.logging - INFO - 39ccf5664b3fe2fd07e0fadf1bb2aedb GetCandles\n",
      "2022-05-21 19:38:32,629 - tinkoff.invest.logging - INFO - 5fd1569bc51b3cb985226c25d4448fa6 ShareBy\n"
     ]
    },
    {
     "name": "stdout",
     "output_type": "stream",
     "text": [
      "2014-IBM INIT BALANCE: 280.815 FINAL BALANCE: 257.1875 + (SHARES 1)\n"
     ]
    },
    {
     "name": "stderr",
     "output_type": "stream",
     "text": [
      "2022-05-21 19:38:32,690 - tinkoff.invest.logging - INFO - d79e69831417cb7e2a11e1f79c92bcc1 GetCandles\n",
      "2022-05-21 19:38:32,924 - tinkoff.invest.logging - INFO - 9d354b2125844e25cea722b720e79036 ShareBy\n",
      "2022-05-21 19:38:33,037 - tinkoff.invest.logging - INFO - f3a5d5ef02b2f3b1acf81b7e679e683c GetCandles\n"
     ]
    },
    {
     "name": "stdout",
     "output_type": "stream",
     "text": [
      "2014-BLK INIT BALANCE: 473.07 FINAL BALANCE: 504.345 + (SHARES 1)\n"
     ]
    },
    {
     "name": "stderr",
     "output_type": "stream",
     "text": [
      "2022-05-21 19:38:33,684 - tinkoff.invest.logging - INFO - c2585a3af2364ab8daec9bbce047fff3 ShareBy\n",
      "2022-05-21 19:38:33,788 - tinkoff.invest.logging - INFO - 8060b49bcd372d2f78cf876534647255 GetCandles\n"
     ]
    },
    {
     "name": "stdout",
     "output_type": "stream",
     "text": [
      "2014-CME INIT BALANCE: 116.94 FINAL BALANCE: 116.94\n"
     ]
    },
    {
     "name": "stderr",
     "output_type": "stream",
     "text": [
      "2022-05-21 19:38:34,130 - tinkoff.invest.logging - INFO - bb5e60756a4708166cb5d1e679011374 ShareBy\n",
      "2022-05-21 19:38:34,238 - tinkoff.invest.logging - INFO - 89ceca570fa5bb5d75ef1962d98cb9a6 GetCandles\n",
      "2022-05-21 19:38:35,615 - tinkoff.invest.logging - INFO - c50a74a2e093402000997869d9cb551d ShareBy\n"
     ]
    },
    {
     "name": "stdout",
     "output_type": "stream",
     "text": [
      "2014-CVX INIT BALANCE: 186.69 FINAL BALANCE: 171.82999999999996\n"
     ]
    },
    {
     "name": "stderr",
     "output_type": "stream",
     "text": [
      "2022-05-21 19:38:35,718 - tinkoff.invest.logging - INFO - 9d7fc2cbe58f9d29831eeaa1d5a9cad3 GetCandles\n",
      "2022-05-21 19:38:36,121 - tinkoff.invest.logging - INFO - eedc8f4e9a6c82c822b12800817ac612 ShareBy\n"
     ]
    },
    {
     "name": "stdout",
     "output_type": "stream",
     "text": [
      "2014-AA INIT BALANCE: 35.37375 FINAL BALANCE: 35.37375\n"
     ]
    },
    {
     "name": "stderr",
     "output_type": "stream",
     "text": [
      "2022-05-21 19:38:36,206 - tinkoff.invest.logging - INFO - 26a80d8b4490b715a0a3d34226602afc GetCandles\n"
     ]
    },
    {
     "name": "stdout",
     "output_type": "stream",
     "text": [
      "2014-CMG INIT BALANCE: 795.0 FINAL BALANCE: 795.0\n"
     ]
    },
    {
     "name": "stderr",
     "output_type": "stream",
     "text": [
      "2022-05-21 19:38:36,596 - tinkoff.invest.logging - INFO - ad36ec2e9fd20e095c2050366344aeb4 ShareBy\n",
      "2022-05-21 19:38:36,685 - tinkoff.invest.logging - INFO - 76eac0e06aa56cbad6872368d7ad40d3 GetCandles\n"
     ]
    },
    {
     "name": "stdout",
     "output_type": "stream",
     "text": [
      "2014-SO INIT BALANCE: 61.69500000000001 FINAL BALANCE: 61.69500000000001\n"
     ]
    },
    {
     "name": "stderr",
     "output_type": "stream",
     "text": [
      "2022-05-21 19:38:36,916 - tinkoff.invest.logging - INFO - 353371d72e3b15346e584e0ad6c8f0ae ShareBy\n",
      "2022-05-21 19:38:37,002 - tinkoff.invest.logging - INFO - 252d48e268e05f9481416a9f4b565cc8 GetCandles\n"
     ]
    },
    {
     "name": "stdout",
     "output_type": "stream",
     "text": [
      "2014-VZ INIT BALANCE: 74.69999999999999 FINAL BALANCE: 74.69999999999999\n"
     ]
    },
    {
     "name": "stderr",
     "output_type": "stream",
     "text": [
      "2022-05-21 19:38:37,262 - tinkoff.invest.logging - INFO - 8442caab8996d404385fbd266d83f54e ShareBy\n",
      "2022-05-21 19:38:37,374 - tinkoff.invest.logging - INFO - 16c03dab33f047ebba921d3c9f062f3a GetCandles\n"
     ]
    },
    {
     "name": "stdout",
     "output_type": "stream",
     "text": [
      "2014-LMT INIT BALANCE: 221.25 FINAL BALANCE: 230.79500000000002\n"
     ]
    },
    {
     "name": "stderr",
     "output_type": "stream",
     "text": [
      "2022-05-21 19:38:37,949 - tinkoff.invest.logging - INFO - 12d97dcd4c287caa6a803b2c15604c92 ShareBy\n",
      "2022-05-21 19:38:38,040 - tinkoff.invest.logging - INFO - f40fc18d263ef2c9aa9d19e21577d2d4 GetCandles\n",
      "2022-05-21 19:38:38,277 - tinkoff.invest.logging - INFO - 3c5df00718887d0489de866be29d9da3 ShareBy\n"
     ]
    },
    {
     "name": "stdout",
     "output_type": "stream",
     "text": [
      "2014-EFX INIT BALANCE: 103.42500000000001 FINAL BALANCE: 103.42500000000001\n"
     ]
    },
    {
     "name": "stderr",
     "output_type": "stream",
     "text": [
      "2022-05-21 19:38:38,361 - tinkoff.invest.logging - INFO - 4186ff9e5d9ce3da426d77815350ebc2 GetCandles\n"
     ]
    },
    {
     "name": "stdout",
     "output_type": "stream",
     "text": [
      "2014-CAT INIT BALANCE: 135.615 FINAL BALANCE: 139.365 + (SHARES 1)\n"
     ]
    },
    {
     "name": "stderr",
     "output_type": "stream",
     "text": [
      "2022-05-21 19:38:39,786 - tinkoff.invest.logging - INFO - 8e44afc9533a2cc921c5b0f1f1f5467f ShareBy\n",
      "2022-05-21 19:38:39,843 - tinkoff.invest.logging - INFO - 3869151932735f085278fb9a199fffeb GetCandles\n",
      "2022-05-21 19:38:40,065 - tinkoff.invest.logging - INFO - a5bc495ecb1db429ab97d670a34aa6f9 ShareBy\n",
      "2022-05-21 19:38:40,153 - tinkoff.invest.logging - INFO - 809042b90358ebb8f70bbeb476989e9c GetCandles\n",
      "2022-05-21 19:38:40,446 - tinkoff.invest.logging - INFO - 2ef6d88d7ed3864630e35b6d7f6920fc ShareBy\n"
     ]
    },
    {
     "name": "stdout",
     "output_type": "stream",
     "text": [
      "2014-SBUX INIT BALANCE: 59.025000000000006 FINAL BALANCE: 59.025000000000006\n"
     ]
    },
    {
     "name": "stderr",
     "output_type": "stream",
     "text": [
      "2022-05-21 19:38:40,531 - tinkoff.invest.logging - INFO - 92c842291efcbee2394e92a69e098df1 GetCandles\n"
     ]
    },
    {
     "name": "stdout",
     "output_type": "stream",
     "text": [
      "2014-AGN INIT BALANCE: 250.995 FINAL BALANCE: 250.995\n"
     ]
    },
    {
     "name": "stderr",
     "output_type": "stream",
     "text": [
      "2022-05-21 19:38:41,269 - tinkoff.invest.logging - INFO - dcd9af205e9410e084bc1cb4ce2b6598 ShareBy\n",
      "2022-05-21 19:38:41,383 - tinkoff.invest.logging - INFO - e8a4302a2268103a0832f700ad80cc4b GetCandles\n"
     ]
    },
    {
     "name": "stdout",
     "output_type": "stream",
     "text": [
      "2014-SLB INIT BALANCE: 134.22 FINAL BALANCE: 134.22\n"
     ]
    },
    {
     "name": "stderr",
     "output_type": "stream",
     "text": [
      "2022-05-21 19:38:41,718 - tinkoff.invest.logging - INFO - 90d971da5d6c8eb858b746fb8dc4d840 ShareBy\n",
      "2022-05-21 19:38:41,826 - tinkoff.invest.logging - INFO - 4432c51effd7afbdaf89123d3d0c41d4 GetCandles\n"
     ]
    },
    {
     "name": "stdout",
     "output_type": "stream",
     "text": [
      "2014-JNJ INIT BALANCE: 136.71 FINAL BALANCE: 136.71\n"
     ]
    },
    {
     "name": "stderr",
     "output_type": "stream",
     "text": [
      "2022-05-21 19:38:42,157 - tinkoff.invest.logging - INFO - cdbc720b6e76847b19478b9f49ac89d8 ShareBy\n",
      "2022-05-21 19:38:42,241 - tinkoff.invest.logging - INFO - 3a1f52fdb452978859c6bf304cd345ea GetCandles\n"
     ]
    },
    {
     "name": "stdout",
     "output_type": "stream",
     "text": [
      "2014-T INIT BALANCE: 52.86 FINAL BALANCE: 52.86\n"
     ]
    },
    {
     "name": "stderr",
     "output_type": "stream",
     "text": [
      "2022-05-21 19:38:43,295 - tinkoff.invest.logging - INFO - fb73fec64df7143e8afe3be7398462cf ShareBy\n",
      "2022-05-21 19:38:43,411 - tinkoff.invest.logging - INFO - c3f5df14f1f94c3593316e07e989ec46 GetCandles\n",
      "2022-05-21 19:38:43,652 - tinkoff.invest.logging - INFO - 2be63870c95fc714c39db8d7b79027f3 ShareBy\n"
     ]
    },
    {
     "name": "stdout",
     "output_type": "stream",
     "text": [
      "2014-NKE INIT BALANCE: 59.625 FINAL BALANCE: 59.625\n"
     ]
    },
    {
     "name": "stderr",
     "output_type": "stream",
     "text": [
      "2022-05-21 19:38:43,738 - tinkoff.invest.logging - INFO - 05183bb9f40e12c5518a37ec28193d66 GetCandles\n"
     ]
    },
    {
     "name": "stdout",
     "output_type": "stream",
     "text": [
      "2014-PGR INIT BALANCE: 40.935 FINAL BALANCE: 40.935\n"
     ]
    },
    {
     "name": "stderr",
     "output_type": "stream",
     "text": [
      "2022-05-21 19:38:44,049 - tinkoff.invest.logging - INFO - f67d4efee6a41df9847ce7a4d22b6472 ShareBy\n",
      "2022-05-21 19:38:44,139 - tinkoff.invest.logging - INFO - 464965bd5692718b096a0149d223727b GetCandles\n"
     ]
    },
    {
     "name": "stdout",
     "output_type": "stream",
     "text": [
      "2014-AMGN INIT BALANCE: 171.54 FINAL BALANCE: 183.38 + (SHARES 1)\n"
     ]
    },
    {
     "name": "stderr",
     "output_type": "stream",
     "text": [
      "2022-05-21 19:38:44,648 - tinkoff.invest.logging - INFO - 7baf885188d6b461ed16ce833783d75f ShareBy\n",
      "2022-05-21 19:38:44,737 - tinkoff.invest.logging - INFO - 0c3a8470c867b5887aae282c4b99d465 GetCandles\n"
     ]
    },
    {
     "name": "stdout",
     "output_type": "stream",
     "text": [
      "2014-ICE INIT BALANCE: 67.248 FINAL BALANCE: 67.248\n"
     ]
    },
    {
     "name": "stderr",
     "output_type": "stream",
     "text": [
      "2022-05-21 19:38:45,327 - tinkoff.invest.logging - INFO - 1d297bc5b1db978bafff3fee4ee69cf7 ShareBy\n",
      "2022-05-21 19:38:45,435 - tinkoff.invest.logging - INFO - 0197e54cd2cf4fe39e2b3d0e92038be5 GetCandles\n"
     ]
    },
    {
     "name": "stdout",
     "output_type": "stream",
     "text": [
      "2014-FCX INIT BALANCE: 56.535 FINAL BALANCE: 56.535\n"
     ]
    },
    {
     "name": "stderr",
     "output_type": "stream",
     "text": [
      "2022-05-21 19:38:45,842 - tinkoff.invest.logging - INFO - 8de56324de05258cc82b60bcc6d53d57 ShareBy\n",
      "2022-05-21 19:38:45,927 - tinkoff.invest.logging - INFO - 99c1d40c803e4287a8a747e4f8e374d9 GetCandles\n"
     ]
    },
    {
     "name": "stdout",
     "output_type": "stream",
     "text": [
      "2014-HD INIT BALANCE: 123.16499999999999 FINAL BALANCE: 123.16499999999999\n"
     ]
    },
    {
     "name": "stderr",
     "output_type": "stream",
     "text": [
      "2022-05-21 19:38:46,157 - tinkoff.invest.logging - INFO - 69b60b0fd0cd1d8b7f5d6e0eabb1827f ShareBy\n",
      "2022-05-21 19:38:46,246 - tinkoff.invest.logging - INFO - d52f753081dea6d1b28b9651275b2d83 GetCandles\n",
      "2022-05-21 19:38:47,363 - tinkoff.invest.logging - ERROR - 852a56da168ce8e621c64b249de5f267 ShareBy NOT_FOUND 50002\n"
     ]
    },
    {
     "name": "stdout",
     "output_type": "stream",
     "text": [
      "2014-FDX INIT BALANCE: 214.35000000000002 FINAL BALANCE: 215.57500000000005\n"
     ]
    },
    {
     "name": "stderr",
     "output_type": "stream",
     "text": [
      "2022-05-21 19:38:47,591 - tinkoff.invest.logging - INFO - fdfd42e0dca751f4c95c104aafba6deb ShareBy\n"
     ]
    },
    {
     "name": "stdout",
     "output_type": "stream",
     "text": [
      "(<StatusCode.NOT_FOUND: (5, 'not found')>, '50002', Metadata(tracking_id='852a56da168ce8e621c64b249de5f267', ratelimit_limit='200, 200;w=60', ratelimit_remaining=150, ratelimit_reset=13, message='instrument not found'))\n"
     ]
    },
    {
     "name": "stderr",
     "output_type": "stream",
     "text": [
      "2022-05-21 19:38:47,689 - tinkoff.invest.logging - INFO - 28898897795ca35e34267527dc630aac GetCandles\n"
     ]
    },
    {
     "name": "stdout",
     "output_type": "stream",
     "text": [
      "2014-DAL INIT BALANCE: 40.89 FINAL BALANCE: 40.89\n"
     ]
    },
    {
     "name": "stderr",
     "output_type": "stream",
     "text": [
      "2022-05-21 19:38:47,994 - tinkoff.invest.logging - ERROR - 1653305ab5df10286e23a1d275cfe5b7 ShareBy NOT_FOUND 50002\n",
      "2022-05-21 19:38:48,223 - tinkoff.invest.logging - ERROR - f072cc3304fe073d29b1151966401a3d ShareBy NOT_FOUND 50002\n"
     ]
    },
    {
     "name": "stdout",
     "output_type": "stream",
     "text": [
      "(<StatusCode.NOT_FOUND: (5, 'not found')>, '50002', Metadata(tracking_id='1653305ab5df10286e23a1d275cfe5b7', ratelimit_limit='200, 200;w=60', ratelimit_remaining=148, ratelimit_reset=13, message='instrument not found'))\n",
      "(<StatusCode.NOT_FOUND: (5, 'not found')>, '50002', Metadata(tracking_id='f072cc3304fe073d29b1151966401a3d', ratelimit_limit='200, 200;w=60', ratelimit_remaining=147, ratelimit_reset=12, message='instrument not found'))\n"
     ]
    },
    {
     "name": "stderr",
     "output_type": "stream",
     "text": [
      "2022-05-21 19:38:48,456 - tinkoff.invest.logging - INFO - 77faa0de80480cd316d8840b41b8f01e ShareBy\n",
      "2022-05-21 19:38:48,571 - tinkoff.invest.logging - INFO - 39a8916c5bf4696237d8a7d77b956bd5 GetCandles\n"
     ]
    },
    {
     "name": "stdout",
     "output_type": "stream",
     "text": [
      "2014-PG INIT BALANCE: 121.995 FINAL BALANCE: 121.995\n"
     ]
    },
    {
     "name": "stderr",
     "output_type": "stream",
     "text": [
      "2022-05-21 19:38:48,829 - tinkoff.invest.logging - INFO - ace5e77d56a18f2bbb1b0f0d2191ebd6 ShareBy\n",
      "2022-05-21 19:38:48,918 - tinkoff.invest.logging - INFO - 0486453bb7c1269461eb5a0e9ca46f6e GetCandles\n"
     ]
    },
    {
     "name": "stdout",
     "output_type": "stream",
     "text": [
      "2014-MRK INIT BALANCE: 74.82000000000001 FINAL BALANCE: 73.33500000000001 + (SHARES 1)\n"
     ]
    },
    {
     "name": "stderr",
     "output_type": "stream",
     "text": [
      "2022-05-21 19:38:49,802 - tinkoff.invest.logging - ERROR - 2f791020d1b7639615c18687bdfc39a1 ShareBy NOT_FOUND 50002\n"
     ]
    },
    {
     "name": "stdout",
     "output_type": "stream",
     "text": [
      "(<StatusCode.NOT_FOUND: (5, 'not found')>, '50002', Metadata(tracking_id='2f791020d1b7639615c18687bdfc39a1', ratelimit_limit='200, 200;w=60', ratelimit_remaining=144, ratelimit_reset=11, message='instrument not found'))\n"
     ]
    },
    {
     "name": "stderr",
     "output_type": "stream",
     "text": [
      "2022-05-21 19:38:50,040 - tinkoff.invest.logging - INFO - 8a2738bdfac60c11e70b3c5397cd63d0 ShareBy\n",
      "2022-05-21 19:38:50,142 - tinkoff.invest.logging - INFO - 6c7f67c17cf3f03124d8c5375b57857c GetCandles\n"
     ]
    },
    {
     "name": "stdout",
     "output_type": "stream",
     "text": [
      "2014-PFE INIT BALANCE: 45.705 FINAL BALANCE: 43.974999999999994 + (SHARES 1)\n"
     ]
    },
    {
     "name": "stderr",
     "output_type": "stream",
     "text": [
      "2022-05-21 19:38:51,549 - tinkoff.invest.logging - INFO - 32630c3d9fea90a73e0ce082c786dd0c ShareBy\n",
      "2022-05-21 19:38:51,635 - tinkoff.invest.logging - INFO - d19ecf8401a3fb65c950b15812a8fb6d GetCandles\n"
     ]
    },
    {
     "name": "stdout",
     "output_type": "stream",
     "text": [
      "2014-ADP INIT BALANCE: 105.49575 FINAL BALANCE: 105.49575\n"
     ]
    },
    {
     "name": "stderr",
     "output_type": "stream",
     "text": [
      "2022-05-21 19:38:51,887 - tinkoff.invest.logging - INFO - d41d76796397676c53214036fc4f63ff ShareBy\n",
      "2022-05-21 19:38:52,001 - tinkoff.invest.logging - INFO - 8abab52c4622db8fd3d1d6933b5e93ca GetCandles\n"
     ]
    },
    {
     "name": "stdout",
     "output_type": "stream",
     "text": [
      "2014-JWN INIT BALANCE: 92.505 FINAL BALANCE: 92.505\n"
     ]
    },
    {
     "name": "stderr",
     "output_type": "stream",
     "text": [
      "2022-05-21 19:38:52,248 - tinkoff.invest.logging - ERROR - f7c199b234337cfbf567c650b29b8756 ShareBy NOT_FOUND 50002\n"
     ]
    },
    {
     "name": "stdout",
     "output_type": "stream",
     "text": [
      "(<StatusCode.NOT_FOUND: (5, 'not found')>, '50002', Metadata(tracking_id='f7c199b234337cfbf567c650b29b8756', ratelimit_limit='200, 200;w=60', ratelimit_remaining=140, ratelimit_reset=8, message='instrument not found'))\n"
     ]
    },
    {
     "name": "stderr",
     "output_type": "stream",
     "text": [
      "2022-05-21 19:38:52,486 - tinkoff.invest.logging - INFO - cdf1ddb8c55e860ae38dcca6a657d64b ShareBy\n",
      "2022-05-21 19:38:52,604 - tinkoff.invest.logging - INFO - f4014082e8129d6889cec775365ad8a3 GetCandles\n"
     ]
    },
    {
     "name": "stdout",
     "output_type": "stream",
     "text": [
      "2014-AVGO INIT BALANCE: 79.275 FINAL BALANCE: 79.275\n"
     ]
    },
    {
     "name": "stderr",
     "output_type": "stream",
     "text": [
      "2022-05-21 19:38:52,848 - tinkoff.invest.logging - INFO - 0f950add60ca35a56a8ca4156b29d3b6 ShareBy\n",
      "2022-05-21 19:38:52,905 - tinkoff.invest.logging - INFO - f349778daa2f6aaa707c9fe096bcb96b GetCandles\n",
      "2022-05-21 19:38:53,128 - tinkoff.invest.logging - INFO - f3d7721d59a6d2091e31f62b5ffe6f19 ShareBy\n",
      "2022-05-21 19:38:53,216 - tinkoff.invest.logging - INFO - 1841096c5105a168a3f512de30113472 GetCandles\n"
     ]
    },
    {
     "name": "stdout",
     "output_type": "stream",
     "text": [
      "2014-HUM INIT BALANCE: 154.14000000000001 FINAL BALANCE: 154.14000000000001\n"
     ]
    },
    {
     "name": "stderr",
     "output_type": "stream",
     "text": [
      "2022-05-21 19:38:53,459 - tinkoff.invest.logging - INFO - 6e3662fed9ece81e5ba6a28907b13abe ShareBy\n",
      "2022-05-21 19:38:53,547 - tinkoff.invest.logging - INFO - a7d41a4fed609563800b7652d4c2bbc6 GetCandles\n"
     ]
    },
    {
     "name": "stdout",
     "output_type": "stream",
     "text": [
      "2014-FMC INIT BALANCE: 112.905 FINAL BALANCE: 112.905\n"
     ]
    },
    {
     "name": "stderr",
     "output_type": "stream",
     "text": [
      "2022-05-21 19:38:53,785 - tinkoff.invest.logging - INFO - 39a4ed98899b43eed1721902a80f24f6 ShareBy\n",
      "2022-05-21 19:38:53,870 - tinkoff.invest.logging - INFO - c498ba7223e5cb50ed3ee62563cac743 GetCandles\n",
      "2022-05-21 19:38:54,194 - tinkoff.invest.logging - INFO - 2b5dd224b80386bcd9b197c289b9ad0b ShareBy\n"
     ]
    },
    {
     "name": "stdout",
     "output_type": "stream",
     "text": [
      "2014-COST INIT BALANCE: 178.065 FINAL BALANCE: 178.065\n"
     ]
    },
    {
     "name": "stderr",
     "output_type": "stream",
     "text": [
      "2022-05-21 19:38:54,254 - tinkoff.invest.logging - INFO - 17a4b0ce58eaa410162fce875c463c0c GetCandles\n",
      "2022-05-21 19:38:54,470 - tinkoff.invest.logging - INFO - 5125b15b66083178f4a5271f89e2a47e ShareBy\n",
      "2022-05-21 19:38:54,578 - tinkoff.invest.logging - INFO - ae01fd96685d12210e1bd5d8603e2a82 GetCandles\n"
     ]
    },
    {
     "name": "stdout",
     "output_type": "stream",
     "text": [
      "2014-MCD INIT BALANCE: 145.215 FINAL BALANCE: 145.215\n"
     ]
    },
    {
     "name": "stderr",
     "output_type": "stream",
     "text": [
      "2022-05-21 19:38:54,824 - tinkoff.invest.logging - INFO - 6cebd6351277a38b8c98e3d885e89465 ShareBy\n",
      "2022-05-21 19:38:54,911 - tinkoff.invest.logging - INFO - 7eeab813f4a11d68a4d485537a38a069 GetCandles\n"
     ]
    },
    {
     "name": "stdout",
     "output_type": "stream",
     "text": [
      "2014-LLY INIT BALANCE: 76.455 FINAL BALANCE: 76.455\n"
     ]
    },
    {
     "name": "stderr",
     "output_type": "stream",
     "text": [
      "2022-05-21 19:38:55,150 - tinkoff.invest.logging - INFO - ac0107e9560edcea58ac6eb70a225112 ShareBy\n",
      "2022-05-21 19:38:55,255 - tinkoff.invest.logging - INFO - ddeb34cd3ce8ee4ad160fb7e2a954603 GetCandles\n"
     ]
    },
    {
     "name": "stdout",
     "output_type": "stream",
     "text": [
      "2014-UAL INIT BALANCE: 56.550000000000004 FINAL BALANCE: 56.550000000000004\n"
     ]
    },
    {
     "name": "stderr",
     "output_type": "stream",
     "text": [
      "2022-05-21 19:38:55,511 - tinkoff.invest.logging - INFO - 2eaf436021ab055bde39fd28ee4cadc7 ShareBy\n",
      "2022-05-21 19:38:55,613 - tinkoff.invest.logging - INFO - 952fee1095f1223c6bf79565c04b20d6 GetCandles\n"
     ]
    },
    {
     "name": "stdout",
     "output_type": "stream",
     "text": [
      "2014-STZ INIT BALANCE: 105.30000000000001 FINAL BALANCE: 108.96000000000001 + (SHARES 1)\n"
     ]
    },
    {
     "name": "stderr",
     "output_type": "stream",
     "text": [
      "2022-05-21 19:38:55,927 - tinkoff.invest.logging - INFO - 17c83d31f7ee64c27006a22e88311fcc ShareBy\n",
      "2022-05-21 19:38:56,039 - tinkoff.invest.logging - INFO - 267d89067a88f3fe6e064b260b92330b GetCandles\n"
     ]
    },
    {
     "name": "stdout",
     "output_type": "stream",
     "text": [
      "2014-COP INIT BALANCE: 105.405 FINAL BALANCE: 91.645 + (SHARES 1)\n"
     ]
    },
    {
     "name": "stderr",
     "output_type": "stream",
     "text": [
      "2022-05-21 19:38:56,632 - tinkoff.invest.logging - INFO - 4e9f8bc28d7d9a9becb3cc586fc0e7df ShareBy\n",
      "2022-05-21 19:38:56,722 - tinkoff.invest.logging - INFO - a1b7635a610efa6e093935f7f1b1d5cf GetCandles\n"
     ]
    },
    {
     "name": "stdout",
     "output_type": "stream",
     "text": [
      "2014-BBY INIT BALANCE: 59.625 FINAL BALANCE: 66.72999999999999 + (SHARES 1)\n"
     ]
    },
    {
     "name": "stderr",
     "output_type": "stream",
     "text": [
      "2022-05-21 19:38:57,229 - tinkoff.invest.logging - INFO - c9fc597eda5202bff59ba3de04311474 ShareBy\n",
      "2022-05-21 19:38:57,316 - tinkoff.invest.logging - INFO - 8376fd2ca24106a6e29f06b381301077 GetCandles\n"
     ]
    },
    {
     "name": "stdout",
     "output_type": "stream",
     "text": [
      "2014-CMCSA INIT BALANCE: 38.849999999999994 FINAL BALANCE: 42.79999999999999\n"
     ]
    },
    {
     "name": "stderr",
     "output_type": "stream",
     "text": [
      "2022-05-21 19:38:58,037 - tinkoff.invest.logging - INFO - 2a9b1eb2e9c354367f82a2a515a78f93 ShareBy\n",
      "2022-05-21 19:38:58,124 - tinkoff.invest.logging - INFO - cbe28a39f12f47e811638c3e6b63506a GetCandles\n",
      "2022-05-21 19:38:58,473 - tinkoff.invest.logging - ERROR - 7648d190d60aac9e9c8d317ab253d6d7 ShareBy NOT_FOUND 50002\n"
     ]
    },
    {
     "name": "stdout",
     "output_type": "stream",
     "text": [
      "2014-NOC INIT BALANCE: 171.27 FINAL BALANCE: 171.27\n",
      "(<StatusCode.NOT_FOUND: (5, 'not found')>, '50002', Metadata(tracking_id='7648d190d60aac9e9c8d317ab253d6d7', ratelimit_limit='200, 200;w=60', ratelimit_remaining=125, ratelimit_reset=2, message='instrument not found'))\n"
     ]
    },
    {
     "name": "stderr",
     "output_type": "stream",
     "text": [
      "2022-05-21 19:38:58,719 - tinkoff.invest.logging - INFO - f666c520c4b7ba80c6867019a9b60080 ShareBy\n",
      "2022-05-21 19:38:58,808 - tinkoff.invest.logging - INFO - 64b4bd49154f654cde34da954d285991 GetCandles\n",
      "2022-05-21 19:38:59,133 - tinkoff.invest.logging - ERROR - 599e1d07a87c7518fa987632b6f56472 ShareBy NOT_FOUND 50002\n"
     ]
    },
    {
     "name": "stdout",
     "output_type": "stream",
     "text": [
      "2014-AXP INIT BALANCE: 136.35000000000002 FINAL BALANCE: 148.63500000000002 + (SHARES 1)\n"
     ]
    },
    {
     "name": "stderr",
     "output_type": "stream",
     "text": [
      "2022-05-21 19:38:59,367 - tinkoff.invest.logging - INFO - c199f99237512341a86ef51ec668f26e ShareBy\n"
     ]
    },
    {
     "name": "stdout",
     "output_type": "stream",
     "text": [
      "(<StatusCode.NOT_FOUND: (5, 'not found')>, '50002', Metadata(tracking_id='599e1d07a87c7518fa987632b6f56472', ratelimit_limit='200, 200;w=60', ratelimit_remaining=123, ratelimit_reset=1, message='instrument not found'))\n"
     ]
    },
    {
     "name": "stderr",
     "output_type": "stream",
     "text": [
      "2022-05-21 19:38:59,808 - tinkoff.invest.logging - INFO - 7caaa17dc7cc7cbafe0710fdca44f30a GetCandles\n",
      "2022-05-21 19:39:00,136 - tinkoff.invest.logging - INFO - cdb7d43ff725e1198d7c3d07bc3e7ed9 ShareBy\n"
     ]
    },
    {
     "name": "stdout",
     "output_type": "stream",
     "text": [
      "2014-BIIB INIT BALANCE: 386.08949999999993 FINAL BALANCE: 386.08949999999993\n"
     ]
    },
    {
     "name": "stderr",
     "output_type": "stream",
     "text": [
      "2022-05-21 19:39:00,271 - tinkoff.invest.logging - INFO - 82da8099da4b14dafa555b106c1e8b6a GetCandles\n"
     ]
    },
    {
     "name": "stdout",
     "output_type": "stream",
     "text": [
      "2014-MMM INIT BALANCE: 207.75 FINAL BALANCE: 207.75\n"
     ]
    },
    {
     "name": "stderr",
     "output_type": "stream",
     "text": [
      "2022-05-21 19:39:00,573 - tinkoff.invest.logging - ERROR - aca4b9f6d0e5f03de46ba6abe9e183ea ShareBy NOT_FOUND 50002\n"
     ]
    },
    {
     "name": "stdout",
     "output_type": "stream",
     "text": [
      "(<StatusCode.NOT_FOUND: (5, 'not found')>, '50002', Metadata(tracking_id='aca4b9f6d0e5f03de46ba6abe9e183ea', ratelimit_limit='200, 200;w=60', ratelimit_remaining=198, ratelimit_reset=60, message='instrument not found'))\n"
     ]
    },
    {
     "name": "stderr",
     "output_type": "stream",
     "text": [
      "2022-05-21 19:39:00,787 - tinkoff.invest.logging - ERROR - 54961202d75417504e15c8a4f04cb9c0 ShareBy NOT_FOUND 50002\n",
      "2022-05-21 19:39:01,007 - tinkoff.invest.logging - INFO - f7faff2510d3ac4d53d846732b5ded64 ShareBy\n"
     ]
    },
    {
     "name": "stdout",
     "output_type": "stream",
     "text": [
      "(<StatusCode.NOT_FOUND: (5, 'not found')>, '50002', Metadata(tracking_id='54961202d75417504e15c8a4f04cb9c0', ratelimit_limit='200, 200;w=60', ratelimit_remaining=197, ratelimit_reset=60, message='instrument not found'))\n"
     ]
    },
    {
     "name": "stderr",
     "output_type": "stream",
     "text": [
      "2022-05-21 19:39:01,111 - tinkoff.invest.logging - INFO - 690de0c542b9613ae064b0b35ffcce53 GetCandles\n"
     ]
    },
    {
     "name": "stdout",
     "output_type": "stream",
     "text": [
      "2014-NVDA INIT BALANCE: 5.97 FINAL BALANCE: 5.97\n"
     ]
    },
    {
     "name": "stderr",
     "output_type": "stream",
     "text": [
      "2022-05-21 19:39:01,339 - tinkoff.invest.logging - INFO - 04353745fc7e3553f15ef45ec0934d72 ShareBy\n",
      "2022-05-21 19:39:01,447 - tinkoff.invest.logging - INFO - d57c1ec339bbef3bd53842562c58b1be GetCandles\n"
     ]
    },
    {
     "name": "stdout",
     "output_type": "stream",
     "text": [
      "2014-MYL INIT BALANCE: 65.07000000000001 FINAL BALANCE: 65.07000000000001\n"
     ]
    },
    {
     "name": "stderr",
     "output_type": "stream",
     "text": [
      "2022-05-21 19:39:01,699 - tinkoff.invest.logging - INFO - 2443faaa0aedcd9dee357b60586ce0fd ShareBy\n",
      "2022-05-21 19:39:01,806 - tinkoff.invest.logging - INFO - aab7fccd951322c7d5912d9301329bdc GetCandles\n",
      "2022-05-21 19:39:02,046 - tinkoff.invest.logging - INFO - 157833532b37e5836b1a82657174bbf4 ShareBy\n"
     ]
    },
    {
     "name": "stdout",
     "output_type": "stream",
     "text": [
      "2014-DD INIT BALANCE: 79.91805 FINAL BALANCE: 79.91805\n"
     ]
    },
    {
     "name": "stderr",
     "output_type": "stream",
     "text": [
      "2022-05-21 19:39:02,148 - tinkoff.invest.logging - INFO - 2d97d4c80a1ce50f18d241ec00d80bfa GetCandles\n"
     ]
    },
    {
     "name": "stdout",
     "output_type": "stream",
     "text": [
      "2014-GILD INIT BALANCE: 112.8075 FINAL BALANCE: 112.8075\n"
     ]
    },
    {
     "name": "stderr",
     "output_type": "stream",
     "text": [
      "2022-05-21 19:39:02,392 - tinkoff.invest.logging - INFO - d6365bb526387f01b8974fe5a7d495ca ShareBy\n",
      "2022-05-21 19:39:02,475 - tinkoff.invest.logging - INFO - a1602d56933ae81df2a4c4c28ba23991 GetCandles\n"
     ]
    },
    {
     "name": "stdout",
     "output_type": "stream",
     "text": [
      "2014-ORCL INIT BALANCE: 56.67 FINAL BALANCE: 54.00500000000001\n"
     ]
    },
    {
     "name": "stderr",
     "output_type": "stream",
     "text": [
      "2022-05-21 19:39:03,347 - tinkoff.invest.logging - INFO - 91506c3957f70b8b51eb729dbea2adc0 ShareBy\n",
      "2022-05-21 19:39:03,431 - tinkoff.invest.logging - INFO - a3a1fceb94970964592709e6f12307e9 GetCandles\n"
     ]
    },
    {
     "name": "stdout",
     "output_type": "stream",
     "text": [
      "2014-ADBE INIT BALANCE: 89.4 FINAL BALANCE: 98.945 + (SHARES 1)\n"
     ]
    },
    {
     "name": "stderr",
     "output_type": "stream",
     "text": [
      "2022-05-21 19:39:04,257 - tinkoff.invest.logging - INFO - d4804e2f81c9515f27683ae5daae87b2 ShareBy\n",
      "2022-05-21 19:39:04,369 - tinkoff.invest.logging - INFO - ceafc46838523ab1b5956623876356e1 GetCandles\n"
     ]
    },
    {
     "name": "stdout",
     "output_type": "stream",
     "text": [
      "2014-BIDU INIT BALANCE: 266.235 FINAL BALANCE: 266.6 + (SHARES 1)\n"
     ]
    },
    {
     "name": "stderr",
     "output_type": "stream",
     "text": [
      "2022-05-21 19:39:05,251 - tinkoff.invest.logging - INFO - f2b8bc027af744cc0afd177756095853 ShareBy\n",
      "2022-05-21 19:39:05,356 - tinkoff.invest.logging - INFO - 009b9676628f1d05fb2fedb93e2bfeb0 GetCandles\n"
     ]
    },
    {
     "name": "stdout",
     "output_type": "stream",
     "text": [
      "2014-VALE INIT BALANCE: 18.19485 FINAL BALANCE: 18.19485\n"
     ]
    },
    {
     "name": "stderr",
     "output_type": "stream",
     "text": [
      "2022-05-21 19:39:05,676 - tinkoff.invest.logging - INFO - e95f0d6b03787a60292b9b22a5d18a84 ShareBy\n",
      "2022-05-21 19:39:05,790 - tinkoff.invest.logging - INFO - 5965fb0031b22708ac1d7a15bf19aefa GetCandles\n"
     ]
    },
    {
     "name": "stdout",
     "output_type": "stream",
     "text": [
      "2014-CSCO INIT BALANCE: 33.255 FINAL BALANCE: 33.255\n"
     ]
    },
    {
     "name": "stderr",
     "output_type": "stream",
     "text": [
      "2022-05-21 19:39:06,513 - tinkoff.invest.logging - INFO - 048ffde41c7c5bfc934e2541c70947e4 ShareBy\n",
      "2022-05-21 19:39:06,622 - tinkoff.invest.logging - INFO - 5ec249e03eef2b5d209f2fea5ff4cfaa GetCandles\n"
     ]
    },
    {
     "name": "stdout",
     "output_type": "stream",
     "text": [
      "2014-SPGI INIT BALANCE: 116.16 FINAL BALANCE: 116.16\n"
     ]
    },
    {
     "name": "stderr",
     "output_type": "stream",
     "text": [
      "2022-05-21 19:39:06,860 - tinkoff.invest.logging - INFO - c3eef5f34c758d294d4970dd2f3c313d ShareBy\n",
      "2022-05-21 19:39:06,918 - tinkoff.invest.logging - INFO - 18211a51800fefc6b056904a36d918a4 GetCandles\n",
      "2022-05-21 19:39:07,142 - tinkoff.invest.logging - INFO - da86e11acc29305cc13dc2c2ee25e590 ShareBy\n",
      "2022-05-21 19:39:07,231 - tinkoff.invest.logging - INFO - a52ff1f9d9ca103a3f7f7edf4fa86496 GetCandles\n"
     ]
    },
    {
     "name": "stdout",
     "output_type": "stream",
     "text": [
      "2014-AZO INIT BALANCE: 716.505 FINAL BALANCE: 729.71 + (SHARES 1)\n"
     ]
    },
    {
     "name": "stderr",
     "output_type": "stream",
     "text": [
      "2022-05-21 19:39:07,717 - tinkoff.invest.logging - INFO - f4ab0a6ed0b0d791007b8c4a11c83d0a ShareBy\n",
      "2022-05-21 19:39:07,827 - tinkoff.invest.logging - INFO - 6fa10a7612c2e3352b48fa8f27b273bc GetCandles\n"
     ]
    },
    {
     "name": "stdout",
     "output_type": "stream",
     "text": [
      "2014-MA INIT BALANCE: 125.6115 FINAL BALANCE: 125.6115\n"
     ]
    },
    {
     "name": "stderr",
     "output_type": "stream",
     "text": [
      "2022-05-21 19:39:08,128 - tinkoff.invest.logging - INFO - 3e2b7d67247fe16726c904d6b21c6675 ShareBy\n",
      "2022-05-21 19:39:08,182 - tinkoff.invest.logging - INFO - a5170ba3df51dde74290062d914af51f GetCandles\n",
      "2022-05-21 19:39:08,393 - tinkoff.invest.logging - INFO - b78ae97e217f0067cd9f5c482d55f303 ShareBy\n",
      "2022-05-21 19:39:08,503 - tinkoff.invest.logging - INFO - 436108ed9c70db01a69b0a832a1437a2 GetCandles\n"
     ]
    },
    {
     "name": "stdout",
     "output_type": "stream",
     "text": [
      "2014-PM INIT BALANCE: 130.5 FINAL BALANCE: 130.5\n"
     ]
    },
    {
     "name": "stderr",
     "output_type": "stream",
     "text": [
      "2022-05-21 19:39:08,837 - tinkoff.invest.logging - INFO - b1e90193bbe6539da55116c62cf1c0d8 ShareBy\n",
      "2022-05-21 19:39:08,946 - tinkoff.invest.logging - INFO - 7865deee68d34b879314ba02b5c6a01f GetCandles\n"
     ]
    },
    {
     "name": "stdout",
     "output_type": "stream",
     "text": [
      "2014-URBN INIT BALANCE: 57.599999999999994 FINAL BALANCE: 57.599999999999994\n"
     ]
    },
    {
     "name": "stderr",
     "output_type": "stream",
     "text": [
      "2022-05-21 19:39:09,427 - tinkoff.invest.logging - ERROR - 1857ad55019a3b1ad996e04c3da5f9fc ShareBy NOT_FOUND 50002\n",
      "2022-05-21 19:39:09,647 - tinkoff.invest.logging - INFO - 2c889e99a4a327972fd467a38827ec55 ShareBy\n"
     ]
    },
    {
     "name": "stdout",
     "output_type": "stream",
     "text": [
      "(<StatusCode.NOT_FOUND: (5, 'not found')>, '50002', Metadata(tracking_id='1857ad55019a3b1ad996e04c3da5f9fc', ratelimit_limit='200, 200;w=60', ratelimit_remaining=180, ratelimit_reset=51, message='instrument not found'))\n"
     ]
    },
    {
     "name": "stderr",
     "output_type": "stream",
     "text": [
      "2022-05-21 19:39:09,732 - tinkoff.invest.logging - INFO - 809c3f5c1f89d89d16a869b78543fb97 GetCandles\n"
     ]
    },
    {
     "name": "stdout",
     "output_type": "stream",
     "text": [
      "2014-BMY INIT BALANCE: 78.78 FINAL BALANCE: 78.78\n"
     ]
    },
    {
     "name": "stderr",
     "output_type": "stream",
     "text": [
      "2022-05-21 19:39:10,044 - tinkoff.invest.logging - INFO - 18ee515d92f317e8f86c56aafd74c0b8 ShareBy\n",
      "2022-05-21 19:39:10,149 - tinkoff.invest.logging - INFO - 50a8a2e396b2f3e60185561a051071fb GetCandles\n"
     ]
    },
    {
     "name": "stdout",
     "output_type": "stream",
     "text": [
      "2015-AAPL INIT BALANCE: 41.775000000000006 FINAL BALANCE: 36.34500000000003\n"
     ]
    },
    {
     "name": "stderr",
     "output_type": "stream",
     "text": [
      "2022-05-21 19:39:42,291 - tinkoff.invest.logging - INFO - 263c5a0b4fae286b8507847c8ad76ffc ShareBy\n",
      "2022-05-21 19:39:42,409 - tinkoff.invest.logging - INFO - ea72ad9dfec0d7f5555e3ad328cd3a7f GetCandles\n"
     ]
    },
    {
     "name": "stdout",
     "output_type": "stream",
     "text": [
      "2015-MSFT INIT BALANCE: 69.99 FINAL BALANCE: 69.99\n"
     ]
    },
    {
     "name": "stderr",
     "output_type": "stream",
     "text": [
      "2022-05-21 19:39:43,165 - tinkoff.invest.logging - INFO - a11819cc0dcbc8c391a0dae7ee3ff612 ShareBy\n",
      "2022-05-21 19:39:43,253 - tinkoff.invest.logging - INFO - a81e526c7aac71b5988364f196258271 GetCandles\n"
     ]
    },
    {
     "name": "stdout",
     "output_type": "stream",
     "text": [
      "2015-BAC INIT BALANCE: 26.985 FINAL BALANCE: 26.849999999999998 + (SHARES 1)\n"
     ]
    },
    {
     "name": "stderr",
     "output_type": "stream",
     "text": [
      "2022-05-21 19:39:43,778 - tinkoff.invest.logging - INFO - c621f2662fcbda93c290cb423bc11862 ShareBy\n",
      "2022-05-21 19:39:43,882 - tinkoff.invest.logging - INFO - 172f541ff95d6a75e0bf0ec4fe4759bf GetCandles\n"
     ]
    },
    {
     "name": "stdout",
     "output_type": "stream",
     "text": [
      "2015-AMZN INIT BALANCE: 468.87 FINAL BALANCE: 760.71 + (SHARES 1)\n"
     ]
    },
    {
     "name": "stderr",
     "output_type": "stream",
     "text": [
      "2022-05-21 19:39:44,317 - tinkoff.invest.logging - INFO - 665f30593eacbe551816c2343bc6cb3e ShareBy\n",
      "2022-05-21 19:39:44,429 - tinkoff.invest.logging - INFO - 58c9b43209fc915858d4155d30feb1ac GetCandles\n"
     ]
    },
    {
     "name": "stdout",
     "output_type": "stream",
     "text": [
      "2015-NWSA INIT BALANCE: 23.73 FINAL BALANCE: 23.73\n"
     ]
    },
    {
     "name": "stderr",
     "output_type": "stream",
     "text": [
      "2022-05-21 19:39:44,674 - tinkoff.invest.logging - INFO - b178675e211ba36a0feec93c7a8b46f0 ShareBy\n",
      "2022-05-21 19:39:44,759 - tinkoff.invest.logging - INFO - c3837fe47dd2e23acc322ec7f3563d6e GetCandles\n"
     ]
    },
    {
     "name": "stdout",
     "output_type": "stream",
     "text": [
      "2015-BA INIT BALANCE: 197.54999999999998 FINAL BALANCE: 197.54999999999998\n"
     ]
    },
    {
     "name": "stderr",
     "output_type": "stream",
     "text": [
      "2022-05-21 19:39:45,221 - tinkoff.invest.logging - INFO - 78a895fb6ab48ac047fdb8e569414c80 ShareBy\n",
      "2022-05-21 19:39:45,310 - tinkoff.invest.logging - INFO - cb614ac6628474bf5ababcdfd852bf8d GetCandles\n"
     ]
    },
    {
     "name": "stdout",
     "output_type": "stream",
     "text": [
      "2015-GOOGL INIT BALANCE: 798.9000000000001 FINAL BALANCE: 888.0550000000002 + (SHARES 1)\n"
     ]
    },
    {
     "name": "stderr",
     "output_type": "stream",
     "text": [
      "2022-05-21 19:39:45,834 - tinkoff.invest.logging - INFO - f8a7c1718bde37c574fa9268b0a60554 ShareBy\n",
      "2022-05-21 19:39:45,921 - tinkoff.invest.logging - INFO - e9bab0b1a539db201968847472047ba7 GetCandles\n"
     ]
    },
    {
     "name": "stdout",
     "output_type": "stream",
     "text": [
      "2015-GS INIT BALANCE: 292.95000000000005 FINAL BALANCE: 277.4150000000001\n"
     ]
    },
    {
     "name": "stderr",
     "output_type": "stream",
     "text": [
      "2022-05-21 19:39:48,794 - tinkoff.invest.logging - INFO - f679c95d34cfb4b108709a0c2f343ff1 ShareBy\n",
      "2022-05-21 19:39:48,902 - tinkoff.invest.logging - INFO - 253afce17f40f759089c1267e5621fc3 GetCandles\n"
     ]
    },
    {
     "name": "stdout",
     "output_type": "stream",
     "text": [
      "2015-TSLA INIT BALANCE: 66.855 FINAL BALANCE: 67.995 + (SHARES 1)\n"
     ]
    },
    {
     "name": "stderr",
     "output_type": "stream",
     "text": [
      "2022-05-21 19:39:49,687 - tinkoff.invest.logging - INFO - 1fb412daf9426f91abcd837a02077613 ShareBy\n",
      "2022-05-21 19:39:49,804 - tinkoff.invest.logging - INFO - 4ccfcae87a82e6edf534e764d08ee628 GetCandles\n"
     ]
    },
    {
     "name": "stdout",
     "output_type": "stream",
     "text": [
      "2015-NFLX INIT BALANCE: 73.7265 FINAL BALANCE: 114.83600000000001\n"
     ]
    },
    {
     "name": "stderr",
     "output_type": "stream",
     "text": [
      "2022-05-21 19:39:54,058 - tinkoff.invest.logging - INFO - e7bcae54577a79c2d55d19e1fb8bfa64 ShareBy\n",
      "2022-05-21 19:39:54,168 - tinkoff.invest.logging - INFO - f20405a8bfddeb0fd8d8ebf21144ca4a GetCandles\n"
     ]
    },
    {
     "name": "stdout",
     "output_type": "stream",
     "text": [
      "2015-TGT INIT BALANCE: 114.16499999999999 FINAL BALANCE: 114.04\n"
     ]
    },
    {
     "name": "stderr",
     "output_type": "stream",
     "text": [
      "2022-05-21 19:39:57,751 - tinkoff.invest.logging - INFO - 6ebb8dddac9e2d9c22008446eaac57eb ShareBy\n",
      "2022-05-21 19:39:57,859 - tinkoff.invest.logging - INFO - 7308ede59aa5002066eebb1e0ea1a342 GetCandles\n"
     ]
    },
    {
     "name": "stdout",
     "output_type": "stream",
     "text": [
      "2015-INTC INIT BALANCE: 55.005 FINAL BALANCE: 55.005\n"
     ]
    },
    {
     "name": "stderr",
     "output_type": "stream",
     "text": [
      "2022-05-21 19:39:58,115 - tinkoff.invest.logging - INFO - 48ba6b70890396381806451ad9163180 ShareBy\n",
      "2022-05-21 19:39:58,204 - tinkoff.invest.logging - INFO - ae4c9c45874da114eaa0e2dd543625dd GetCandles\n"
     ]
    },
    {
     "name": "stdout",
     "output_type": "stream",
     "text": [
      "2015-DIS INIT BALANCE: 142.365 FINAL BALANCE: 136.125 + (SHARES 1)\n"
     ]
    },
    {
     "name": "stderr",
     "output_type": "stream",
     "text": [
      "2022-05-21 19:39:59,275 - tinkoff.invest.logging - INFO - 1733a65491f2fe2c90fd1ef1c2fe8b38 ShareBy\n",
      "2022-05-21 19:39:59,377 - tinkoff.invest.logging - INFO - 50d59b8c43fc6fcaf57a20e3b413ee1c GetCandles\n",
      "2022-05-21 19:39:59,784 - tinkoff.invest.logging - INFO - 26fb53d5611df18f8386cc50d98867e5 ShareBy\n"
     ]
    },
    {
     "name": "stdout",
     "output_type": "stream",
     "text": [
      "2015-XOM INIT BALANCE: 138.375 FINAL BALANCE: 131.14499999999998 + (SHARES 1)\n"
     ]
    },
    {
     "name": "stderr",
     "output_type": "stream",
     "text": [
      "2022-05-21 19:39:59,872 - tinkoff.invest.logging - INFO - 9fe141b12555f6fe28dcdd43198971eb GetCandles\n",
      "2022-05-21 19:40:03,891 - tinkoff.invest.logging - INFO - d862754b8c239b94a091d865c8b8caed ShareBy\n"
     ]
    },
    {
     "name": "stdout",
     "output_type": "stream",
     "text": [
      "2015-JPM INIT BALANCE: 93.92999999999999 FINAL BALANCE: 98.87\n"
     ]
    },
    {
     "name": "stderr",
     "output_type": "stream",
     "text": [
      "2022-05-21 19:40:03,990 - tinkoff.invest.logging - INFO - f17ee88d27fed7d130fb416d08ca5ac8 GetCandles\n",
      "2022-05-21 19:40:06,646 - tinkoff.invest.logging - INFO - 608145cda9f230b8932affb2e84790ec ShareBy\n"
     ]
    },
    {
     "name": "stdout",
     "output_type": "stream",
     "text": [
      "2015-MS INIT BALANCE: 59.25 FINAL BALANCE: 57.809999999999995\n"
     ]
    },
    {
     "name": "stderr",
     "output_type": "stream",
     "text": [
      "2022-05-21 19:40:06,755 - tinkoff.invest.logging - INFO - 7675acfbe98402624741ba16260a5c8f GetCandles\n",
      "2022-05-21 19:40:10,454 - tinkoff.invest.logging - INFO - 2a01f5a719ed5ab5569e74f6497193a9 ShareBy\n"
     ]
    },
    {
     "name": "stdout",
     "output_type": "stream",
     "text": [
      "2015-GM INIT BALANCE: 52.905 FINAL BALANCE: 56.560000000000024 + (SHARES 1)\n"
     ]
    },
    {
     "name": "stderr",
     "output_type": "stream",
     "text": [
      "2022-05-21 19:40:10,553 - tinkoff.invest.logging - INFO - 195a5359a6beb5e104207cee50456c1a GetCandles\n"
     ]
    },
    {
     "name": "stdout",
     "output_type": "stream",
     "text": [
      "2015-C INIT BALANCE: 81.53999999999999 FINAL BALANCE: 81.195 + (SHARES 1)\n"
     ]
    },
    {
     "name": "stderr",
     "output_type": "stream",
     "text": [
      "2022-05-21 19:40:13,376 - tinkoff.invest.logging - INFO - 79b0e38e2d79c00544d91bbaedf73c77 ShareBy\n",
      "2022-05-21 19:40:13,474 - tinkoff.invest.logging - INFO - 59ae8e92b350765094e0b416627f763a GetCandles\n"
     ]
    },
    {
     "name": "stdout",
     "output_type": "stream",
     "text": [
      "2015-GE INIT BALANCE: 304.08 FINAL BALANCE: 341.5199999999999 + (SHARES 1)\n"
     ]
    },
    {
     "name": "stderr",
     "output_type": "stream",
     "text": [
      "2022-05-21 19:40:15,443 - tinkoff.invest.logging - INFO - 3b8e5160ee9cc0e675ed186accc9ea41 ShareBy\n",
      "2022-05-21 19:40:15,551 - tinkoff.invest.logging - INFO - daf3081ad354cc7301ada83ea92ad76c GetCandles\n"
     ]
    },
    {
     "name": "stdout",
     "output_type": "stream",
     "text": [
      "2015-MU INIT BALANCE: 52.86 FINAL BALANCE: 32.7775 + (SHARES 1)\n"
     ]
    },
    {
     "name": "stderr",
     "output_type": "stream",
     "text": [
      "2022-05-21 19:40:16,362 - tinkoff.invest.logging - INFO - 066840d343f2f39dbb10947cd4747351 ShareBy\n",
      "2022-05-21 19:40:16,419 - tinkoff.invest.logging - INFO - 8eb655380148e3a6fa87c5f428af27cc GetCandles\n",
      "2022-05-21 19:40:16,642 - tinkoff.invest.logging - INFO - e2c955e61be6a485fb8ce6639a3cbd48 ShareBy\n",
      "2022-05-21 19:40:16,743 - tinkoff.invest.logging - INFO - 19a9d7a53fa9645c244accb900d0cd9b GetCandles\n"
     ]
    },
    {
     "name": "stdout",
     "output_type": "stream",
     "text": [
      "2015-WMB INIT BALANCE: 67.245 FINAL BALANCE: 67.245\n"
     ]
    },
    {
     "name": "stderr",
     "output_type": "stream",
     "text": [
      "2022-05-21 19:40:16,993 - tinkoff.invest.logging - INFO - 38fbcdad8df563177ce786cd88a46ac2 ShareBy\n",
      "2022-05-21 19:40:17,082 - tinkoff.invest.logging - INFO - c2e037bce880992dd410603124c5971b GetCandles\n"
     ]
    },
    {
     "name": "stdout",
     "output_type": "stream",
     "text": [
      "2015-KO INIT BALANCE: 63.39 FINAL BALANCE: 63.39\n"
     ]
    },
    {
     "name": "stderr",
     "output_type": "stream",
     "text": [
      "2022-05-21 19:40:17,479 - tinkoff.invest.logging - INFO - a877ce9a14f3c3068c6a44416247c28e ShareBy\n",
      "2022-05-21 19:40:17,589 - tinkoff.invest.logging - INFO - 18a74d677c02666f9cf5b85d197ec902 GetCandles\n"
     ]
    },
    {
     "name": "stdout",
     "output_type": "stream",
     "text": [
      "2015-WFC INIT BALANCE: 82.66499999999999 FINAL BALANCE: 82.66499999999999\n"
     ]
    },
    {
     "name": "stderr",
     "output_type": "stream",
     "text": [
      "2022-05-21 19:40:17,815 - tinkoff.invest.logging - INFO - cd437bc5e78a4da51bbd979d368ae639 ShareBy\n",
      "2022-05-21 19:40:17,924 - tinkoff.invest.logging - INFO - 36c1d6e0d5cab7304f47992ac67c1e6e GetCandles\n"
     ]
    },
    {
     "name": "stdout",
     "output_type": "stream",
     "text": [
      "2015-WMT INIT BALANCE: 129.405 FINAL BALANCE: 129.405\n"
     ]
    },
    {
     "name": "stderr",
     "output_type": "stream",
     "text": [
      "2022-05-21 19:40:18,234 - tinkoff.invest.logging - INFO - 432a546b6c699bcacc0fd9de81c7190a ShareBy\n",
      "2022-05-21 19:40:18,336 - tinkoff.invest.logging - INFO - 7a8e74f2a99060a3fe2c8a7dc140bba3 GetCandles\n"
     ]
    },
    {
     "name": "stdout",
     "output_type": "stream",
     "text": [
      "2015-IBM INIT BALANCE: 241.965 FINAL BALANCE: 231.66000000000003 + (SHARES 1)\n"
     ]
    },
    {
     "name": "stderr",
     "output_type": "stream",
     "text": [
      "2022-05-21 19:40:21,191 - tinkoff.invest.logging - INFO - ba6e90383f405c3c7116fdd2d9c2cd51 ShareBy\n",
      "2022-05-21 19:40:21,250 - tinkoff.invest.logging - INFO - 250b84613d69d45775184c2ed6c45627 GetCandles\n",
      "2022-05-21 19:40:21,474 - tinkoff.invest.logging - INFO - 8965471e6bde8c7baeb6b39f2e55be00 ShareBy\n",
      "2022-05-21 19:40:21,581 - tinkoff.invest.logging - INFO - f60c3d141fe82c768d377363fefbfcc9 GetCandles\n"
     ]
    },
    {
     "name": "stdout",
     "output_type": "stream",
     "text": [
      "2015-BLK INIT BALANCE: 536.97 FINAL BALANCE: 544.32\n"
     ]
    },
    {
     "name": "stderr",
     "output_type": "stream",
     "text": [
      "2022-05-21 19:40:22,975 - tinkoff.invest.logging - INFO - e0c121b80adac718482b3882c9645a0e ShareBy\n",
      "2022-05-21 19:40:23,061 - tinkoff.invest.logging - INFO - 2095bf4e62227a1e16ab61a34dbcedfc GetCandles\n"
     ]
    },
    {
     "name": "stdout",
     "output_type": "stream",
     "text": [
      "2015-CME INIT BALANCE: 133.82999999999998 FINAL BALANCE: 133.82999999999998\n"
     ]
    },
    {
     "name": "stderr",
     "output_type": "stream",
     "text": [
      "2022-05-21 19:40:23,555 - tinkoff.invest.logging - INFO - 93a3bc47b619f279373d553aa7c43f7b ShareBy\n",
      "2022-05-21 19:40:23,638 - tinkoff.invest.logging - INFO - 01df01c5818542641cbf0f09a0d3a430 GetCandles\n",
      "2022-05-21 19:40:25,246 - tinkoff.invest.logging - INFO - 76b02fb0579a1b3790e8cf435bdc1e82 ShareBy\n"
     ]
    },
    {
     "name": "stdout",
     "output_type": "stream",
     "text": [
      "2015-CVX INIT BALANCE: 167.445 FINAL BALANCE: 174.32\n"
     ]
    },
    {
     "name": "stderr",
     "output_type": "stream",
     "text": [
      "2022-05-21 19:40:25,348 - tinkoff.invest.logging - INFO - 629dbbf8dfac378dda6348b43461151e GetCandles\n"
     ]
    },
    {
     "name": "stdout",
     "output_type": "stream",
     "text": [
      "2015-AA INIT BALANCE: 53.31255 FINAL BALANCE: 45.59725 + (SHARES 1)\n"
     ]
    },
    {
     "name": "stderr",
     "output_type": "stream",
     "text": [
      "2022-05-21 19:40:25,788 - tinkoff.invest.logging - INFO - b7b64151d42eb6685ddd825c020a814f ShareBy\n",
      "2022-05-21 19:40:25,905 - tinkoff.invest.logging - INFO - 8db9aa6d3c5d3abd298c1a9fdf238045 GetCandles\n"
     ]
    },
    {
     "name": "stdout",
     "output_type": "stream",
     "text": [
      "2015-CMG INIT BALANCE: 1029.0 FINAL BALANCE: 1029.0\n"
     ]
    },
    {
     "name": "stderr",
     "output_type": "stream",
     "text": [
      "2022-05-21 19:40:26,401 - tinkoff.invest.logging - INFO - 4ce200deddb0101711378dcdd4b144dd ShareBy\n",
      "2022-05-21 19:40:26,489 - tinkoff.invest.logging - INFO - 1ce0e95f593157726c28728625cc5ef6 GetCandles\n"
     ]
    },
    {
     "name": "stdout",
     "output_type": "stream",
     "text": [
      "2015-SO INIT BALANCE: 73.785 FINAL BALANCE: 73.785\n"
     ]
    },
    {
     "name": "stderr",
     "output_type": "stream",
     "text": [
      "2022-05-21 19:40:26,981 - tinkoff.invest.logging - INFO - 1c7b6084380bd7420a5c23270c3f9f97 ShareBy\n",
      "2022-05-21 19:40:27,090 - tinkoff.invest.logging - INFO - 9316d6db978e80d3d1afe04092eb2181 GetCandles\n"
     ]
    },
    {
     "name": "stdout",
     "output_type": "stream",
     "text": [
      "2015-VZ INIT BALANCE: 70.5 FINAL BALANCE: 70.5\n"
     ]
    },
    {
     "name": "stderr",
     "output_type": "stream",
     "text": [
      "2022-05-21 19:40:27,448 - tinkoff.invest.logging - INFO - 5898989f7d74a1e0f4c98dd9f0074b68 ShareBy\n",
      "2022-05-21 19:40:27,556 - tinkoff.invest.logging - INFO - 7e6f10da272839ae36eae7d874fa73b8 GetCandles\n"
     ]
    },
    {
     "name": "stdout",
     "output_type": "stream",
     "text": [
      "2015-LMT INIT BALANCE: 288.15 FINAL BALANCE: 284.9 + (SHARES 1)\n"
     ]
    },
    {
     "name": "stderr",
     "output_type": "stream",
     "text": [
      "2022-05-21 19:40:28,192 - tinkoff.invest.logging - INFO - 5b0adcaf4ecc74f36d1562ab367f294c ShareBy\n",
      "2022-05-21 19:40:28,300 - tinkoff.invest.logging - INFO - d6dd15f183c4e00406b335d8c180d82a GetCandles\n"
     ]
    },
    {
     "name": "stdout",
     "output_type": "stream",
     "text": [
      "2015-EFX INIT BALANCE: 122.055 FINAL BALANCE: 122.055\n"
     ]
    },
    {
     "name": "stderr",
     "output_type": "stream",
     "text": [
      "2022-05-21 19:40:28,539 - tinkoff.invest.logging - INFO - b0943a99b667be706bdc4ffc552a6f64 ShareBy\n",
      "2022-05-21 19:40:28,644 - tinkoff.invest.logging - INFO - 94903444c8437eb6f29c2065419e3b82 GetCandles\n"
     ]
    },
    {
     "name": "stdout",
     "output_type": "stream",
     "text": [
      "2015-CAT INIT BALANCE: 137.655 FINAL BALANCE: 131.38 + (SHARES 1)\n"
     ]
    },
    {
     "name": "stderr",
     "output_type": "stream",
     "text": [
      "2022-05-21 19:40:30,271 - tinkoff.invest.logging - INFO - f7d5c5c7fbbde234c847927cb2580b53 ShareBy\n",
      "2022-05-21 19:40:30,333 - tinkoff.invest.logging - INFO - 81241163c3e3a72417ebfdf6edd55a46 GetCandles\n",
      "2022-05-21 19:40:30,560 - tinkoff.invest.logging - INFO - 7a58d79bd3c603d281474ca290595efe ShareBy\n",
      "2022-05-21 19:40:30,658 - tinkoff.invest.logging - INFO - 56908e6477fc6ba8e14ace931f0a3084 GetCandles\n"
     ]
    },
    {
     "name": "stdout",
     "output_type": "stream",
     "text": [
      "2015-SBUX INIT BALANCE: 62.474999999999994 FINAL BALANCE: 62.474999999999994\n"
     ]
    },
    {
     "name": "stderr",
     "output_type": "stream",
     "text": [
      "2022-05-21 19:40:31,072 - tinkoff.invest.logging - INFO - cacadee4cab8467d0c17f00c7f7288c0 ShareBy\n",
      "2022-05-21 19:40:31,174 - tinkoff.invest.logging - INFO - 36f8ccbe23f2182174e953fad40c8e0a GetCandles\n"
     ]
    },
    {
     "name": "stdout",
     "output_type": "stream",
     "text": [
      "2015-AGN INIT BALANCE: 390.405 FINAL BALANCE: 418.66499999999996\n"
     ]
    },
    {
     "name": "stderr",
     "output_type": "stream",
     "text": [
      "2022-05-21 19:40:33,035 - tinkoff.invest.logging - INFO - fb1ad866c327fcb574034f5c160c849f ShareBy\n",
      "2022-05-21 19:40:33,148 - tinkoff.invest.logging - INFO - bed9de074c214a7e6d28b5d5a3a06d37 GetCandles\n"
     ]
    },
    {
     "name": "stdout",
     "output_type": "stream",
     "text": [
      "2015-SLB INIT BALANCE: 127.215 FINAL BALANCE: 127.215\n"
     ]
    },
    {
     "name": "stderr",
     "output_type": "stream",
     "text": [
      "2022-05-21 19:40:34,305 - tinkoff.invest.logging - INFO - 5c343fcf6bce698d3e6b490262b321d2 ShareBy\n",
      "2022-05-21 19:40:34,417 - tinkoff.invest.logging - INFO - df7cb2e860ab54ca5f66854ade1fbe51 GetCandles\n"
     ]
    },
    {
     "name": "stdout",
     "output_type": "stream",
     "text": [
      "2015-JNJ INIT BALANCE: 158.25 FINAL BALANCE: 158.25\n"
     ]
    },
    {
     "name": "stderr",
     "output_type": "stream",
     "text": [
      "2022-05-21 19:40:34,668 - tinkoff.invest.logging - INFO - 7ce262d0c64f241753318a3c30186635 ShareBy\n",
      "2022-05-21 19:40:34,779 - tinkoff.invest.logging - INFO - 9fe391fd321185ed1cb8500e50f17897 GetCandles\n"
     ]
    },
    {
     "name": "stdout",
     "output_type": "stream",
     "text": [
      "2015-T INIT BALANCE: 50.64 FINAL BALANCE: 49.53499999999999 + (SHARES 1)\n"
     ]
    },
    {
     "name": "stderr",
     "output_type": "stream",
     "text": [
      "2022-05-21 19:40:36,522 - tinkoff.invest.logging - INFO - f1e0721726cffdf33402264ccc2e2bbc ShareBy\n",
      "2022-05-21 19:40:36,625 - tinkoff.invest.logging - INFO - 8a78012ce2cef20066d17eb4b1a920d6 GetCandles\n",
      "2022-05-21 19:40:37,112 - tinkoff.invest.logging - INFO - 536deca0a8994d03701eeea7d0eb0a32 ShareBy\n"
     ]
    },
    {
     "name": "stdout",
     "output_type": "stream",
     "text": [
      "2015-NKE INIT BALANCE: 72.4125 FINAL BALANCE: 84.455 + (SHARES 1)\n"
     ]
    },
    {
     "name": "stderr",
     "output_type": "stream",
     "text": [
      "2022-05-21 19:40:37,221 - tinkoff.invest.logging - INFO - 184043b180e766ce2a9d799e319c8d40 GetCandles\n"
     ]
    },
    {
     "name": "stdout",
     "output_type": "stream",
     "text": [
      "2015-PGR INIT BALANCE: 41.849999999999994 FINAL BALANCE: 41.849999999999994\n"
     ]
    },
    {
     "name": "stderr",
     "output_type": "stream",
     "text": [
      "2022-05-21 19:40:37,459 - tinkoff.invest.logging - INFO - 4775ed78428e821533100172d4a7560f ShareBy\n",
      "2022-05-21 19:40:37,605 - tinkoff.invest.logging - INFO - 13c415abbd136ed45a5cac568ba7f7c0 GetCandles\n"
     ]
    },
    {
     "name": "stdout",
     "output_type": "stream",
     "text": [
      "2015-AMGN INIT BALANCE: 240.24 FINAL BALANCE: 245.49\n"
     ]
    },
    {
     "name": "stderr",
     "output_type": "stream",
     "text": [
      "2022-05-21 19:40:38,320 - tinkoff.invest.logging - INFO - ddffc50f01ad64bc63c03b53d360bb10 ShareBy\n",
      "2022-05-21 19:40:38,429 - tinkoff.invest.logging - INFO - e2d9284d59dcca2d475eca522a563b33 GetCandles\n"
     ]
    },
    {
     "name": "stdout",
     "output_type": "stream",
     "text": [
      "2015-ICE INIT BALANCE: 67.17 FINAL BALANCE: 67.17\n"
     ]
    },
    {
     "name": "stderr",
     "output_type": "stream",
     "text": [
      "2022-05-21 19:40:38,754 - tinkoff.invest.logging - INFO - f7b642fb1a077b6dc766ab087e147122 ShareBy\n",
      "2022-05-21 19:40:38,838 - tinkoff.invest.logging - INFO - 2a077447248b10651cb1950dc17ece02 GetCandles\n"
     ]
    },
    {
     "name": "stdout",
     "output_type": "stream",
     "text": [
      "2015-FCX INIT BALANCE: 35.025000000000006 FINAL BALANCE: 35.025000000000006\n"
     ]
    },
    {
     "name": "stderr",
     "output_type": "stream",
     "text": [
      "2022-05-21 19:40:39,415 - tinkoff.invest.logging - INFO - 76789d0b72dbed66579f1796748032ea ShareBy\n",
      "2022-05-21 19:40:39,502 - tinkoff.invest.logging - INFO - 172a85a7f04aa37809c3c576709c5a96 GetCandles\n"
     ]
    },
    {
     "name": "stdout",
     "output_type": "stream",
     "text": [
      "2015-HD INIT BALANCE: 157.74 FINAL BALANCE: 157.74\n"
     ]
    },
    {
     "name": "stderr",
     "output_type": "stream",
     "text": [
      "2022-05-21 19:40:40,001 - tinkoff.invest.logging - INFO - 75515ac56204b0b8550b5429220ddc4a ShareBy\n",
      "2022-05-21 19:40:40,085 - tinkoff.invest.logging - INFO - 1c0594d79f52821469af6b13db8bae93 GetCandles\n"
     ]
    },
    {
     "name": "stdout",
     "output_type": "stream",
     "text": [
      "2015-FDX INIT BALANCE: 260.67 FINAL BALANCE: 242.38000000000002\n"
     ]
    },
    {
     "name": "stderr",
     "output_type": "stream",
     "text": [
      "2022-05-21 19:40:42,083 - tinkoff.invest.logging - ERROR - 836533f625a09c631892c98f320e0847 ShareBy NOT_FOUND 50002\n",
      "2022-05-21 19:40:42,305 - tinkoff.invest.logging - INFO - 0dd811e320fa9c93be876bbacd424e2a ShareBy\n"
     ]
    },
    {
     "name": "stdout",
     "output_type": "stream",
     "text": [
      "(<StatusCode.NOT_FOUND: (5, 'not found')>, '50002', Metadata(tracking_id='836533f625a09c631892c98f320e0847', ratelimit_limit='200, 200;w=60', ratelimit_remaining=164, ratelimit_reset=18, message='instrument not found'))\n"
     ]
    },
    {
     "name": "stderr",
     "output_type": "stream",
     "text": [
      "2022-05-21 19:40:42,406 - tinkoff.invest.logging - INFO - cbd83166461d1d3a185ad3f5a4054cc9 GetCandles\n"
     ]
    },
    {
     "name": "stdout",
     "output_type": "stream",
     "text": [
      "2015-DAL INIT BALANCE: 74.88 FINAL BALANCE: 81.22999999999999 + (SHARES 1)\n"
     ]
    },
    {
     "name": "stderr",
     "output_type": "stream",
     "text": [
      "2022-05-21 19:40:43,054 - tinkoff.invest.logging - ERROR - ceb73f7e31b1a173c6411354af5b111f ShareBy NOT_FOUND 50002\n"
     ]
    },
    {
     "name": "stdout",
     "output_type": "stream",
     "text": [
      "(<StatusCode.NOT_FOUND: (5, 'not found')>, '50002', Metadata(tracking_id='ceb73f7e31b1a173c6411354af5b111f', ratelimit_limit='200, 200;w=60', ratelimit_remaining=162, ratelimit_reset=17, message='instrument not found'))\n"
     ]
    },
    {
     "name": "stderr",
     "output_type": "stream",
     "text": [
      "2022-05-21 19:40:43,291 - tinkoff.invest.logging - ERROR - aa7c11d10046a1eb3918c878c0b8a668 ShareBy NOT_FOUND 50002\n"
     ]
    },
    {
     "name": "stdout",
     "output_type": "stream",
     "text": [
      "(<StatusCode.NOT_FOUND: (5, 'not found')>, '50002', Metadata(tracking_id='aa7c11d10046a1eb3918c878c0b8a668', ratelimit_limit='200, 200;w=60', ratelimit_remaining=161, ratelimit_reset=17, message='instrument not found'))\n"
     ]
    },
    {
     "name": "stderr",
     "output_type": "stream",
     "text": [
      "2022-05-21 19:40:43,525 - tinkoff.invest.logging - INFO - 19e2b892950e102efc09319c4b0ae64a ShareBy\n",
      "2022-05-21 19:40:43,640 - tinkoff.invest.logging - INFO - 7fa40c7e2dbf940ecc3c9f074a68e746 GetCandles\n"
     ]
    },
    {
     "name": "stdout",
     "output_type": "stream",
     "text": [
      "2015-PG INIT BALANCE: 136.26 FINAL BALANCE: 136.26\n"
     ]
    },
    {
     "name": "stderr",
     "output_type": "stream",
     "text": [
      "2022-05-21 19:40:44,134 - tinkoff.invest.logging - INFO - ab143cd8152f9c1644240bbaac7adb16 ShareBy\n",
      "2022-05-21 19:40:44,224 - tinkoff.invest.logging - INFO - c33650316f4b42f7cce837b896fd9b68 GetCandles\n"
     ]
    },
    {
     "name": "stdout",
     "output_type": "stream",
     "text": [
      "2015-MRK INIT BALANCE: 85.83 FINAL BALANCE: 78.55000000000001 + (SHARES 1)\n"
     ]
    },
    {
     "name": "stderr",
     "output_type": "stream",
     "text": [
      "2022-05-21 19:40:44,954 - tinkoff.invest.logging - ERROR - fd59829426705bb05f72ded634bf30c1 ShareBy NOT_FOUND 50002\n"
     ]
    },
    {
     "name": "stdout",
     "output_type": "stream",
     "text": [
      "(<StatusCode.NOT_FOUND: (5, 'not found')>, '50002', Metadata(tracking_id='fd59829426705bb05f72ded634bf30c1', ratelimit_limit='200, 200;w=60', ratelimit_remaining=158, ratelimit_reset=16, message='instrument not found'))\n"
     ]
    },
    {
     "name": "stderr",
     "output_type": "stream",
     "text": [
      "2022-05-21 19:40:45,189 - tinkoff.invest.logging - INFO - 774ac30a9de1abc47d36080ef73d8759 ShareBy\n",
      "2022-05-21 19:40:45,291 - tinkoff.invest.logging - INFO - 8618edd107bb4155782f0e66099f09ac GetCandles\n"
     ]
    },
    {
     "name": "stdout",
     "output_type": "stream",
     "text": [
      "2015-PFE INIT BALANCE: 46.905 FINAL BALANCE: 46.239999999999995 + (SHARES 1)\n"
     ]
    },
    {
     "name": "stderr",
     "output_type": "stream",
     "text": [
      "2022-05-21 19:40:46,489 - tinkoff.invest.logging - INFO - 4feae7845387e894d7ec92f09b7dd17a ShareBy\n",
      "2022-05-21 19:40:46,618 - tinkoff.invest.logging - INFO - 4ebfc5634f22e55dc90997eae2fb1a3e GetCandles\n"
     ]
    },
    {
     "name": "stdout",
     "output_type": "stream",
     "text": [
      "2015-ADP INIT BALANCE: 124.47 FINAL BALANCE: 124.47\n"
     ]
    },
    {
     "name": "stderr",
     "output_type": "stream",
     "text": [
      "2022-05-21 19:40:46,858 - tinkoff.invest.logging - INFO - c10cbb161bb1b1451eb9b3cfa01b3b21 ShareBy\n",
      "2022-05-21 19:40:46,951 - tinkoff.invest.logging - INFO - a530dd671602b3e6445032eb29a9e167 GetCandles\n"
     ]
    },
    {
     "name": "stdout",
     "output_type": "stream",
     "text": [
      "2015-JWN INIT BALANCE: 119.49 FINAL BALANCE: 101.16499999999999\n"
     ]
    },
    {
     "name": "stderr",
     "output_type": "stream",
     "text": [
      "2022-05-21 19:40:47,904 - tinkoff.invest.logging - ERROR - a193654123e1a98ce400ad80a823f049 ShareBy NOT_FOUND 50002\n",
      "2022-05-21 19:40:48,109 - tinkoff.invest.logging - INFO - 4216771c68b92d0146b4620af00069ea ShareBy\n"
     ]
    },
    {
     "name": "stdout",
     "output_type": "stream",
     "text": [
      "(<StatusCode.NOT_FOUND: (5, 'not found')>, '50002', Metadata(tracking_id='a193654123e1a98ce400ad80a823f049', ratelimit_limit='200, 200;w=60', ratelimit_remaining=154, ratelimit_reset=13, message='instrument not found'))\n"
     ]
    },
    {
     "name": "stderr",
     "output_type": "stream",
     "text": [
      "2022-05-21 19:40:48,195 - tinkoff.invest.logging - INFO - 920451492a14e4a50a999d1502b05d4b GetCandles\n"
     ]
    },
    {
     "name": "stdout",
     "output_type": "stream",
     "text": [
      "2015-AVGO INIT BALANCE: 151.395 FINAL BALANCE: 151.395\n"
     ]
    },
    {
     "name": "stderr",
     "output_type": "stream",
     "text": [
      "2022-05-21 19:40:48,442 - tinkoff.invest.logging - INFO - 664e875c2ff7017c58f95f2c11f2b7da ShareBy\n",
      "2022-05-21 19:40:48,505 - tinkoff.invest.logging - INFO - 31b2597536d9d428c936273ad66bbadf GetCandles\n",
      "2022-05-21 19:40:48,727 - tinkoff.invest.logging - INFO - a7e7d7ce24a61429da23670c3bf5649f ShareBy\n",
      "2022-05-21 19:40:48,816 - tinkoff.invest.logging - INFO - 4b4dec87d4e0960fba68a74a2503ba5e GetCandles\n"
     ]
    },
    {
     "name": "stdout",
     "output_type": "stream",
     "text": [
      "2015-HUM INIT BALANCE: 217.42499999999998 FINAL BALANCE: 217.42499999999998\n"
     ]
    },
    {
     "name": "stderr",
     "output_type": "stream",
     "text": [
      "2022-05-21 19:40:49,381 - tinkoff.invest.logging - INFO - 3b3e25084edfcc5ff986b6275557e64c ShareBy\n",
      "2022-05-21 19:40:49,485 - tinkoff.invest.logging - INFO - f36220df7c328a974826a135f81215e1 GetCandles\n",
      "2022-05-21 19:40:49,804 - tinkoff.invest.logging - INFO - e8b384f46b82a459391885eb2d1cbce5 ShareBy\n"
     ]
    },
    {
     "name": "stdout",
     "output_type": "stream",
     "text": [
      "2015-FMC INIT BALANCE: 86.69999999999999 FINAL BALANCE: 86.69999999999999\n"
     ]
    },
    {
     "name": "stderr",
     "output_type": "stream",
     "text": [
      "2022-05-21 19:40:49,919 - tinkoff.invest.logging - INFO - 7ff3d6a31d655eb7d12c38400611dbaa GetCandles\n"
     ]
    },
    {
     "name": "stdout",
     "output_type": "stream",
     "text": [
      "2015-COST INIT BALANCE: 212.805 FINAL BALANCE: 212.805\n"
     ]
    },
    {
     "name": "stderr",
     "output_type": "stream",
     "text": [
      "2022-05-21 19:40:50,243 - tinkoff.invest.logging - INFO - 6ceffc0be0443560efa7a4d98d74c4de ShareBy\n",
      "2022-05-21 19:40:50,305 - tinkoff.invest.logging - INFO - 17211c648358d17bd0feae5178fa177c GetCandles\n",
      "2022-05-21 19:40:50,505 - tinkoff.invest.logging - INFO - 06ab61d7edfd22d256e44e0345252ef7 ShareBy\n",
      "2022-05-21 19:40:50,627 - tinkoff.invest.logging - INFO - ce08a99a78db90dc7c39f5f0aa34009a GetCandles\n"
     ]
    },
    {
     "name": "stdout",
     "output_type": "stream",
     "text": [
      "2015-MCD INIT BALANCE: 141.195 FINAL BALANCE: 141.195\n"
     ]
    },
    {
     "name": "stderr",
     "output_type": "stream",
     "text": [
      "2022-05-21 19:40:50,887 - tinkoff.invest.logging - INFO - 50f33e75d5276aeae71462f926146343 ShareBy\n",
      "2022-05-21 19:40:50,993 - tinkoff.invest.logging - INFO - 86895cd9bd832b116a1ad09158884c90 GetCandles\n"
     ]
    },
    {
     "name": "stdout",
     "output_type": "stream",
     "text": [
      "2015-LLY INIT BALANCE: 104.655 FINAL BALANCE: 104.655\n"
     ]
    },
    {
     "name": "stderr",
     "output_type": "stream",
     "text": [
      "2022-05-21 19:40:51,326 - tinkoff.invest.logging - INFO - b1e59c1f73f49c6a506c0f7121fefe39 ShareBy\n",
      "2022-05-21 19:40:51,416 - tinkoff.invest.logging - INFO - 09cde138c2a225d221989c3f06f8f677 GetCandles\n"
     ]
    },
    {
     "name": "stdout",
     "output_type": "stream",
     "text": [
      "2015-UAL INIT BALANCE: 101.60999999999999 FINAL BALANCE: 101.60999999999999\n"
     ]
    },
    {
     "name": "stderr",
     "output_type": "stream",
     "text": [
      "2022-05-21 19:40:51,683 - tinkoff.invest.logging - INFO - 8f5cdf93f3fb6b61b93dae4b14045cc0 ShareBy\n",
      "2022-05-21 19:40:51,772 - tinkoff.invest.logging - INFO - 798bc31858af52003cb17ab324e36815 GetCandles\n"
     ]
    },
    {
     "name": "stdout",
     "output_type": "stream",
     "text": [
      "2015-STZ INIT BALANCE: 148.065 FINAL BALANCE: 172.98 + (SHARES 1)\n"
     ]
    },
    {
     "name": "stderr",
     "output_type": "stream",
     "text": [
      "2022-05-21 19:40:52,272 - tinkoff.invest.logging - INFO - 601525e6db904a15cb4e097743645525 ShareBy\n",
      "2022-05-21 19:40:52,388 - tinkoff.invest.logging - INFO - 272bd5fc1144f9d79318fabd4a29795a GetCandles\n"
     ]
    },
    {
     "name": "stdout",
     "output_type": "stream",
     "text": [
      "2015-COP INIT BALANCE: 102.75 FINAL BALANCE: 102.75\n"
     ]
    },
    {
     "name": "stderr",
     "output_type": "stream",
     "text": [
      "2022-05-21 19:40:52,825 - tinkoff.invest.logging - INFO - 967c86b83d62ac008076c1ac3b92649d ShareBy\n",
      "2022-05-21 19:40:52,943 - tinkoff.invest.logging - INFO - a09ccedf3f82cf094e2d45b302ac440c GetCandles\n"
     ]
    },
    {
     "name": "stdout",
     "output_type": "stream",
     "text": [
      "2015-BBY INIT BALANCE: 58.755 FINAL BALANCE: 58.755\n"
     ]
    },
    {
     "name": "stderr",
     "output_type": "stream",
     "text": [
      "2022-05-21 19:40:53,610 - tinkoff.invest.logging - INFO - cfc8d9bb2c0184807be3b7fce08471cf ShareBy\n",
      "2022-05-21 19:40:53,696 - tinkoff.invest.logging - INFO - 406d07278a47cd0fa4bda54c8347819c GetCandles\n"
     ]
    },
    {
     "name": "stdout",
     "output_type": "stream",
     "text": [
      "2015-CMCSA INIT BALANCE: 43.5 FINAL BALANCE: 42.925000000000004\n"
     ]
    },
    {
     "name": "stderr",
     "output_type": "stream",
     "text": [
      "2022-05-21 19:40:54,986 - tinkoff.invest.logging - INFO - e561876a604e3f5652253ea25efe2c12 ShareBy\n",
      "2022-05-21 19:40:55,073 - tinkoff.invest.logging - INFO - 992408198289e47bc41e934bf0c191de GetCandles\n"
     ]
    },
    {
     "name": "stdout",
     "output_type": "stream",
     "text": [
      "2015-NOC INIT BALANCE: 222.435 FINAL BALANCE: 235.94 + (SHARES 1)\n"
     ]
    },
    {
     "name": "stderr",
     "output_type": "stream",
     "text": [
      "2022-05-21 19:40:55,426 - tinkoff.invest.logging - ERROR - c5b191f8936a3d90da3a7ce72747c3a3 ShareBy NOT_FOUND 50002\n",
      "2022-05-21 19:40:55,655 - tinkoff.invest.logging - INFO - 490c87460d2bb0ed0cdbc7f65cb42dde ShareBy\n"
     ]
    },
    {
     "name": "stdout",
     "output_type": "stream",
     "text": [
      "(<StatusCode.NOT_FOUND: (5, 'not found')>, '50002', Metadata(tracking_id='c5b191f8936a3d90da3a7ce72747c3a3', ratelimit_limit='200, 200;w=60', ratelimit_remaining=139, ratelimit_reset=5, message='instrument not found'))\n"
     ]
    },
    {
     "name": "stderr",
     "output_type": "stream",
     "text": [
      "2022-05-21 19:40:55,761 - tinkoff.invest.logging - INFO - b4af40c555314f9d3b915af737df0bae GetCandles\n"
     ]
    },
    {
     "name": "stdout",
     "output_type": "stream",
     "text": [
      "2015-AXP INIT BALANCE: 139.755 FINAL BALANCE: 139.755\n"
     ]
    },
    {
     "name": "stderr",
     "output_type": "stream",
     "text": [
      "2022-05-21 19:40:56,563 - tinkoff.invest.logging - ERROR - ad5f79b1fca984db4dede030172d312d ShareBy NOT_FOUND 50002\n",
      "2022-05-21 19:40:56,795 - tinkoff.invest.logging - INFO - 67e5652913a68fa2aebbcd53c37846d5 ShareBy\n"
     ]
    },
    {
     "name": "stdout",
     "output_type": "stream",
     "text": [
      "(<StatusCode.NOT_FOUND: (5, 'not found')>, '50002', Metadata(tracking_id='ad5f79b1fca984db4dede030172d312d', ratelimit_limit='200, 200;w=60', ratelimit_remaining=137, ratelimit_reset=4, message='instrument not found'))\n"
     ]
    },
    {
     "name": "stderr",
     "output_type": "stream",
     "text": [
      "2022-05-21 19:40:56,904 - tinkoff.invest.logging - INFO - 055405cd59f9b7e76d0ef721e1835396 GetCandles\n"
     ]
    },
    {
     "name": "stdout",
     "output_type": "stream",
     "text": [
      "2015-BIIB INIT BALANCE: 473.68500000000006 FINAL BALANCE: 419.37050000000005\n"
     ]
    },
    {
     "name": "stderr",
     "output_type": "stream",
     "text": [
      "2022-05-21 19:40:57,716 - tinkoff.invest.logging - INFO - 926dcf793a80386ac35dc82d5c4010e7 ShareBy\n",
      "2022-05-21 19:40:57,806 - tinkoff.invest.logging - INFO - 7a452d8d2c36ac0abf1878f811c1912d GetCandles\n"
     ]
    },
    {
     "name": "stdout",
     "output_type": "stream",
     "text": [
      "2015-MMM INIT BALANCE: 247.065 FINAL BALANCE: 247.065\n"
     ]
    },
    {
     "name": "stderr",
     "output_type": "stream",
     "text": [
      "2022-05-21 19:40:58,027 - tinkoff.invest.logging - ERROR - 51b82fb1f4ed7da9b7b3a9acc9cf64b0 ShareBy NOT_FOUND 50002\n"
     ]
    },
    {
     "name": "stdout",
     "output_type": "stream",
     "text": [
      "(<StatusCode.NOT_FOUND: (5, 'not found')>, '50002', Metadata(tracking_id='51b82fb1f4ed7da9b7b3a9acc9cf64b0', ratelimit_limit='200, 200;w=60', ratelimit_remaining=134, ratelimit_reset=2, message='instrument not found'))\n"
     ]
    },
    {
     "name": "stderr",
     "output_type": "stream",
     "text": [
      "2022-05-21 19:40:58,257 - tinkoff.invest.logging - ERROR - 3e78fa445b6e61de18d5bbd9ba50c70c ShareBy NOT_FOUND 50002\n",
      "2022-05-21 19:40:58,490 - tinkoff.invest.logging - INFO - 7a62266b0d509cd42e2bc818df269a70 ShareBy\n"
     ]
    },
    {
     "name": "stdout",
     "output_type": "stream",
     "text": [
      "(<StatusCode.NOT_FOUND: (5, 'not found')>, '50002', Metadata(tracking_id='3e78fa445b6e61de18d5bbd9ba50c70c', ratelimit_limit='200, 200;w=60', ratelimit_remaining=133, ratelimit_reset=2, message='instrument not found'))\n"
     ]
    },
    {
     "name": "stderr",
     "output_type": "stream",
     "text": [
      "2022-05-21 19:40:58,597 - tinkoff.invest.logging - INFO - 71946cf2b8656825c7eb923ce3bfc32b GetCandles\n"
     ]
    },
    {
     "name": "stdout",
     "output_type": "stream",
     "text": [
      "2015-NVDA INIT BALANCE: 7.949999999999999 FINAL BALANCE: 7.949999999999999\n"
     ]
    },
    {
     "name": "stderr",
     "output_type": "stream",
     "text": [
      "2022-05-21 19:40:58,835 - tinkoff.invest.logging - INFO - dd1b683958ec9f31aecac1409108895e ShareBy\n",
      "2022-05-21 19:40:58,918 - tinkoff.invest.logging - INFO - be6c2789869459c902513ed54a761e6f GetCandles\n"
     ]
    },
    {
     "name": "stdout",
     "output_type": "stream",
     "text": [
      "2015-MYL INIT BALANCE: 84.81 FINAL BALANCE: 84.81\n"
     ]
    },
    {
     "name": "stderr",
     "output_type": "stream",
     "text": [
      "2022-05-21 19:40:59,153 - tinkoff.invest.logging - INFO - bd8ed0b7d64ad88114348469895452a3 ShareBy\n",
      "2022-05-21 19:40:59,259 - tinkoff.invest.logging - INFO - 2395ebeb68afcdca3bd4675f72b01dc8 GetCandles\n"
     ]
    },
    {
     "name": "stdout",
     "output_type": "stream",
     "text": [
      "2015-DD INIT BALANCE: 85.1823 FINAL BALANCE: 85.1823\n"
     ]
    },
    {
     "name": "stderr",
     "output_type": "stream",
     "text": [
      "2022-05-21 19:40:59,519 - tinkoff.invest.logging - INFO - 168e7ee5eaa326fca41a03b882b2bff7 ShareBy\n",
      "2022-05-21 19:40:59,606 - tinkoff.invest.logging - INFO - f29b44d2310f62af3ba0c6accde06976 GetCandles\n"
     ]
    },
    {
     "name": "stdout",
     "output_type": "stream",
     "text": [
      "2015-GILD INIT BALANCE: 142.71 FINAL BALANCE: 142.71\n"
     ]
    },
    {
     "name": "stderr",
     "output_type": "stream",
     "text": [
      "2022-05-21 19:41:00,113 - tinkoff.invest.logging - INFO - 1c864c5ddcacec7cc30c8fbc9ae3bf02 ShareBy\n",
      "2022-05-21 19:41:00,213 - tinkoff.invest.logging - INFO - 9c86496430c70588367775bc13a25534 GetCandles\n",
      "2022-05-21 19:41:01,356 - tinkoff.invest.logging - INFO - 744a413b3dfb89da9494e19becfc109b ShareBy\n"
     ]
    },
    {
     "name": "stdout",
     "output_type": "stream",
     "text": [
      "2015-ORCL INIT BALANCE: 67.80000000000001 FINAL BALANCE: 68.80500000000004 + (SHARES 1)\n"
     ]
    },
    {
     "name": "stderr",
     "output_type": "stream",
     "text": [
      "2022-05-21 19:41:01,475 - tinkoff.invest.logging - INFO - d85dc4cb4c17c5c13c395c3baf6f9e8b GetCandles\n",
      "2022-05-21 19:41:02,816 - tinkoff.invest.logging - INFO - d3cef3612ba9bd4b6a15bd2fb13d3daf ShareBy\n"
     ]
    },
    {
     "name": "stdout",
     "output_type": "stream",
     "text": [
      "2015-ADBE INIT BALANCE: 109.05000000000001 FINAL BALANCE: 119.37000000000002 + (SHARES 1)\n"
     ]
    },
    {
     "name": "stderr",
     "output_type": "stream",
     "text": [
      "2022-05-21 19:41:02,917 - tinkoff.invest.logging - INFO - 3b41adce3a84735f76fd47d608a3ce1e GetCandles\n"
     ]
    },
    {
     "name": "stdout",
     "output_type": "stream",
     "text": [
      "2015-BIDU INIT BALANCE: 344.19 FINAL BALANCE: 340.26\n"
     ]
    },
    {
     "name": "stderr",
     "output_type": "stream",
     "text": [
      "2022-05-21 19:41:04,031 - tinkoff.invest.logging - INFO - b1c13cccd7218bc9e951c1f0ce0fc2a1 ShareBy\n",
      "2022-05-21 19:41:04,134 - tinkoff.invest.logging - INFO - a7d6d4390af785cbacfe79280ea116bb GetCandles\n"
     ]
    },
    {
     "name": "stdout",
     "output_type": "stream",
     "text": [
      "2015-VALE INIT BALANCE: 10.443750000000001 FINAL BALANCE: 10.443750000000001\n"
     ]
    },
    {
     "name": "stderr",
     "output_type": "stream",
     "text": [
      "2022-05-21 19:41:04,378 - tinkoff.invest.logging - INFO - d204a358e7e981e9077d54de1e552229 ShareBy\n",
      "2022-05-21 19:41:04,468 - tinkoff.invest.logging - INFO - 5e34a653e6f541a0e9e3457ee51f5a92 GetCandles\n"
     ]
    },
    {
     "name": "stdout",
     "output_type": "stream",
     "text": [
      "2015-CSCO INIT BALANCE: 41.79 FINAL BALANCE: 38.82 + (SHARES 1)\n"
     ]
    },
    {
     "name": "stderr",
     "output_type": "stream",
     "text": [
      "2022-05-21 19:41:06,317 - tinkoff.invest.logging - INFO - 1c5d9c66f102a65574a331ed739b9c10 ShareBy\n",
      "2022-05-21 19:41:06,403 - tinkoff.invest.logging - INFO - 50a564b986a6f7469413a99fa35e1d26 GetCandles\n"
     ]
    },
    {
     "name": "stdout",
     "output_type": "stream",
     "text": [
      "2015-SPGI INIT BALANCE: 134.67000000000002 FINAL BALANCE: 134.67000000000002\n"
     ]
    },
    {
     "name": "stderr",
     "output_type": "stream",
     "text": [
      "2022-05-21 19:41:06,630 - tinkoff.invest.logging - INFO - 684047f948074efa3edbe6676aad4e70 ShareBy\n",
      "2022-05-21 19:41:06,706 - tinkoff.invest.logging - INFO - de58c08b495dd3bc6525f627b5adccdd GetCandles\n",
      "2022-05-21 19:41:06,920 - tinkoff.invest.logging - INFO - 06bcc0f454311100513c249168617d1c ShareBy\n",
      "2022-05-21 19:41:07,023 - tinkoff.invest.logging - INFO - be1b0e87d1cca0e0d95c8ea78856fc50 GetCandles\n"
     ]
    },
    {
     "name": "stdout",
     "output_type": "stream",
     "text": [
      "2015-AZO INIT BALANCE: 935.97 FINAL BALANCE: 985.6750000000001 + (SHARES 1)\n"
     ]
    },
    {
     "name": "stderr",
     "output_type": "stream",
     "text": [
      "2022-05-21 19:41:07,431 - tinkoff.invest.logging - INFO - 6c2802dcebfdfdc0a24993c32b4379ea ShareBy\n",
      "2022-05-21 19:41:07,537 - tinkoff.invest.logging - INFO - bb2dc74ab803377079531b7734a23819 GetCandles\n"
     ]
    },
    {
     "name": "stdout",
     "output_type": "stream",
     "text": [
      "2015-MA INIT BALANCE: 130.02 FINAL BALANCE: 130.02\n"
     ]
    },
    {
     "name": "stderr",
     "output_type": "stream",
     "text": [
      "2022-05-21 19:41:07,781 - tinkoff.invest.logging - INFO - 8179c10c83a0e1d8998c26dadae0dd3e ShareBy\n",
      "2022-05-21 19:41:07,846 - tinkoff.invest.logging - INFO - be7edc62b4cf0689cfbd0d218903034f GetCandles\n",
      "2022-05-21 19:41:08,069 - tinkoff.invest.logging - INFO - 9b33c414a8fe577d1a59c757b50b7a8c ShareBy\n",
      "2022-05-21 19:41:08,180 - tinkoff.invest.logging - INFO - fb41d7c5c0885874b03db0c2be094003 GetCandles\n"
     ]
    },
    {
     "name": "stdout",
     "output_type": "stream",
     "text": [
      "2015-PM INIT BALANCE: 122.39999999999999 FINAL BALANCE: 126.61999999999999 + (SHARES 1)\n"
     ]
    },
    {
     "name": "stderr",
     "output_type": "stream",
     "text": [
      "2022-05-21 19:41:08,487 - tinkoff.invest.logging - INFO - e553d0338d9889121202741c23e09da6 ShareBy\n",
      "2022-05-21 19:41:08,590 - tinkoff.invest.logging - INFO - 759a6f04ace8994cc6ee5a1f338fb206 GetCandles\n"
     ]
    },
    {
     "name": "stdout",
     "output_type": "stream",
     "text": [
      "2015-URBN INIT BALANCE: 52.89 FINAL BALANCE: 52.80500000000001\n"
     ]
    },
    {
     "name": "stderr",
     "output_type": "stream",
     "text": [
      "2022-05-21 19:41:09,651 - tinkoff.invest.logging - ERROR - d2d6459a61b1b0f50066070bc28c04ea ShareBy NOT_FOUND 50002\n",
      "2022-05-21 19:41:09,863 - tinkoff.invest.logging - INFO - 7a5c2a1700e235f2fdc79a6801bb7129 ShareBy\n"
     ]
    },
    {
     "name": "stdout",
     "output_type": "stream",
     "text": [
      "(<StatusCode.NOT_FOUND: (5, 'not found')>, '50002', Metadata(tracking_id='d2d6459a61b1b0f50066070bc28c04ea', ratelimit_limit='200, 200;w=60', ratelimit_remaining=187, ratelimit_reset=51, message='instrument not found'))\n"
     ]
    },
    {
     "name": "stderr",
     "output_type": "stream",
     "text": [
      "2022-05-21 19:41:09,953 - tinkoff.invest.logging - INFO - 124a9f1514563303b902b9c2bc463a6c GetCandles\n"
     ]
    },
    {
     "name": "stdout",
     "output_type": "stream",
     "text": [
      "2015-BMY INIT BALANCE: 89.145 FINAL BALANCE: 89.145\n"
     ]
    },
    {
     "name": "stderr",
     "output_type": "stream",
     "text": [
      "2022-05-21 19:41:10,198 - tinkoff.invest.logging - INFO - 16d3e292ca2f81809938ad8928ac2666 ShareBy\n",
      "2022-05-21 19:41:10,278 - tinkoff.invest.logging - INFO - 1428fd1880f329dc8566ec7e5a296a24 GetCandles\n"
     ]
    },
    {
     "name": "stdout",
     "output_type": "stream",
     "text": [
      "2016-AAPL INIT BALANCE: 38.474999999999994 FINAL BALANCE: 43.72000000000002 + (SHARES 1)\n"
     ]
    },
    {
     "name": "stderr",
     "output_type": "stream",
     "text": [
      "2022-05-21 19:41:57,538 - tinkoff.invest.logging - INFO - 7dc4f785f71ec4e789650bf3e2aaa5e8 ShareBy\n",
      "2022-05-21 19:41:57,661 - tinkoff.invest.logging - INFO - f762c22cb2c7ec40ff47862471f42030 GetCandles\n"
     ]
    },
    {
     "name": "stdout",
     "output_type": "stream",
     "text": [
      "2016-MSFT INIT BALANCE: 81.48 FINAL BALANCE: 91.60000000000001 + (SHARES 1)\n"
     ]
    },
    {
     "name": "stderr",
     "output_type": "stream",
     "text": [
      "2022-05-21 19:42:00,182 - tinkoff.invest.logging - INFO - e1cf2a6305b648ccba19af1dd6207975 ShareBy\n",
      "2022-05-21 19:42:00,267 - tinkoff.invest.logging - INFO - d52d13e902f48be5e51d61719abc9601 GetCandles\n"
     ]
    },
    {
     "name": "stdout",
     "output_type": "stream",
     "text": [
      "2016-BAC INIT BALANCE: 24.674999999999997 FINAL BALANCE: 27.769999999999996\n"
     ]
    },
    {
     "name": "stderr",
     "output_type": "stream",
     "text": [
      "2022-05-21 19:42:01,876 - tinkoff.invest.logging - INFO - c831090da76db98bb90d8201bb7e8723 ShareBy\n",
      "2022-05-21 19:42:01,995 - tinkoff.invest.logging - INFO - 06cb10987b0a8dfe7460570fe46157d4 GetCandles\n"
     ]
    },
    {
     "name": "stdout",
     "output_type": "stream",
     "text": [
      "2016-AMZN INIT BALANCE: 984.435 FINAL BALANCE: 1036.69 + (SHARES 1)\n"
     ]
    },
    {
     "name": "stderr",
     "output_type": "stream",
     "text": [
      "2022-05-21 19:42:04,195 - tinkoff.invest.logging - INFO - 1346e4e1b270ed340cb9fc4e0bdea250 ShareBy\n",
      "2022-05-21 19:42:04,286 - tinkoff.invest.logging - INFO - 0e03a42519661be99133a0cb57fb42f1 GetCandles\n"
     ]
    },
    {
     "name": "stdout",
     "output_type": "stream",
     "text": [
      "2016-NWSA INIT BALANCE: 19.68 FINAL BALANCE: 19.68\n"
     ]
    },
    {
     "name": "stderr",
     "output_type": "stream",
     "text": [
      "2022-05-21 19:42:04,786 - tinkoff.invest.logging - INFO - 55120261a3558fa404f38674d9ee3cbf ShareBy\n",
      "2022-05-21 19:42:04,876 - tinkoff.invest.logging - INFO - 155995531c476b58cd318e2d83f61c8e GetCandles\n"
     ]
    },
    {
     "name": "stdout",
     "output_type": "stream",
     "text": [
      "2016-BA INIT BALANCE: 212.07 FINAL BALANCE: 235.065 + (SHARES 1)\n"
     ]
    },
    {
     "name": "stderr",
     "output_type": "stream",
     "text": [
      "2022-05-21 19:42:06,877 - tinkoff.invest.logging - INFO - 7a2c1929c9258c260478a9cba0818071 ShareBy\n",
      "2022-05-21 19:42:06,980 - tinkoff.invest.logging - INFO - 93a66347eb07f862bd5bdd48ffee811d GetCandles\n"
     ]
    },
    {
     "name": "stdout",
     "output_type": "stream",
     "text": [
      "2016-GOOGL INIT BALANCE: 1143.3000000000002 FINAL BALANCE: 1085.065 + (SHARES 1)\n"
     ]
    },
    {
     "name": "stderr",
     "output_type": "stream",
     "text": [
      "2022-05-21 19:42:08,187 - tinkoff.invest.logging - INFO - 656b77ff457bb2f6b2099d437e977c74 ShareBy\n",
      "2022-05-21 19:42:08,274 - tinkoff.invest.logging - INFO - 4ec2bd0642ca87d57455362ff88ca21a GetCandles\n"
     ]
    },
    {
     "name": "stdout",
     "output_type": "stream",
     "text": [
      "2016-GS INIT BALANCE: 263.685 FINAL BALANCE: 314.7249999999999 + (SHARES 1)\n"
     ]
    },
    {
     "name": "stderr",
     "output_type": "stream",
     "text": [
      "2022-05-21 19:42:14,879 - tinkoff.invest.logging - INFO - 70be0d8788b7c052e72b8899dff137de ShareBy\n",
      "2022-05-21 19:42:14,966 - tinkoff.invest.logging - INFO - 81bdc98f39ad1e469b6af0c9f2b84bf1 GetCandles\n"
     ]
    },
    {
     "name": "stdout",
     "output_type": "stream",
     "text": [
      "2016-TSLA INIT BALANCE: 69.21000000000001 FINAL BALANCE: 75.56 + (SHARES 1)\n"
     ]
    },
    {
     "name": "stderr",
     "output_type": "stream",
     "text": [
      "2022-05-21 19:42:21,001 - tinkoff.invest.logging - INFO - 838952951ee082f194546ae6e860eb24 ShareBy\n",
      "2022-05-21 19:42:21,105 - tinkoff.invest.logging - INFO - 859727a72f5d2b83d0f57b458e8c64e4 GetCandles\n"
     ]
    },
    {
     "name": "stdout",
     "output_type": "stream",
     "text": [
      "2016-NFLX INIT BALANCE: 163.5 FINAL BALANCE: 172.73000000000002\n"
     ]
    },
    {
     "name": "stderr",
     "output_type": "stream",
     "text": [
      "2022-05-21 19:42:29,118 - tinkoff.invest.logging - INFO - 6944f8d5bb8f62b4b7026991bf87f48c ShareBy\n",
      "2022-05-21 19:42:29,231 - tinkoff.invest.logging - INFO - 71a7e9c6ea57116fc6735e44c8e8142c GetCandles\n"
     ]
    },
    {
     "name": "stdout",
     "output_type": "stream",
     "text": [
      "2016-TGT INIT BALANCE: 107.76 FINAL BALANCE: 106.52499999999999 + (SHARES 1)\n"
     ]
    },
    {
     "name": "stderr",
     "output_type": "stream",
     "text": [
      "2022-05-21 19:42:34,367 - tinkoff.invest.logging - INFO - c19cc3a437004ace9716ad7af319320d ShareBy\n",
      "2022-05-21 19:42:34,460 - tinkoff.invest.logging - INFO - 2838c1578d9c0bf5ada822e47069df1c GetCandles\n"
     ]
    },
    {
     "name": "stdout",
     "output_type": "stream",
     "text": [
      "2016-INTC INIT BALANCE: 50.82000000000001 FINAL BALANCE: 53.515\n"
     ]
    },
    {
     "name": "stderr",
     "output_type": "stream",
     "text": [
      "2022-05-21 19:42:36,716 - tinkoff.invest.logging - INFO - 28c511b7c3a9fc7bf402251a3caf4e1c ShareBy\n",
      "2022-05-21 19:42:36,826 - tinkoff.invest.logging - INFO - 550c90d47b75a5b800c0a64372277fb4 GetCandles\n",
      "2022-05-21 19:42:40,596 - tinkoff.invest.logging - INFO - f24d6451b8f45cd98081a4ecf523770c ShareBy\n"
     ]
    },
    {
     "name": "stdout",
     "output_type": "stream",
     "text": [
      "2016-DIS INIT BALANCE: 154.68 FINAL BALANCE: 171.135 + (SHARES 1)\n"
     ]
    },
    {
     "name": "stderr",
     "output_type": "stream",
     "text": [
      "2022-05-21 19:42:40,694 - tinkoff.invest.logging - INFO - 0234c08172bcd73d7725dd90b4d564a3 GetCandles\n"
     ]
    },
    {
     "name": "stdout",
     "output_type": "stream",
     "text": [
      "2016-XOM INIT BALANCE: 116.25 FINAL BALANCE: 123.77000000000001 + (SHARES 1)\n"
     ]
    },
    {
     "name": "stderr",
     "output_type": "stream",
     "text": [
      "2022-05-21 19:42:41,743 - tinkoff.invest.logging - INFO - 93ab9fad60a588e02e862a9a50ee0bde ShareBy\n",
      "2022-05-21 19:42:41,856 - tinkoff.invest.logging - INFO - 5e0f1ebc55d3429cbdcbde05972b1259 GetCandles\n"
     ]
    },
    {
     "name": "stdout",
     "output_type": "stream",
     "text": [
      "2016-JPM INIT BALANCE: 95.92500000000001 FINAL BALANCE: 106.31000000000003\n"
     ]
    },
    {
     "name": "stderr",
     "output_type": "stream",
     "text": [
      "2022-05-21 19:42:47,904 - tinkoff.invest.logging - INFO - 1ffb4b2eb6d5d06a9041c7d8a8a17c12 ShareBy\n",
      "2022-05-21 19:42:48,011 - tinkoff.invest.logging - INFO - 628c2f9a482d1d25ae2e66c9177d2d47 GetCandles\n"
     ]
    },
    {
     "name": "stdout",
     "output_type": "stream",
     "text": [
      "2016-MS INIT BALANCE: 46.05 FINAL BALANCE: 51.919999999999995\n"
     ]
    },
    {
     "name": "stderr",
     "output_type": "stream",
     "text": [
      "2022-05-21 19:42:51,725 - tinkoff.invest.logging - INFO - 247c406b25a8a41aa8523539fb8c5381 ShareBy\n",
      "2022-05-21 19:42:51,830 - tinkoff.invest.logging - INFO - 12532b64aebe03abb2859b471915d689 GetCandles\n"
     ]
    },
    {
     "name": "stdout",
     "output_type": "stream",
     "text": [
      "2016-GM INIT BALANCE: 50.175000000000004 FINAL BALANCE: 52.69500000000001\n"
     ]
    },
    {
     "name": "stderr",
     "output_type": "stream",
     "text": [
      "2022-05-21 19:42:55,729 - tinkoff.invest.logging - INFO - 8da0b847f6543b195446413ddfcb7314 ShareBy\n",
      "2022-05-21 19:42:55,829 - tinkoff.invest.logging - INFO - a17098bbc23dd9af18ba5c0e4d003a1c GetCandles\n",
      "2022-05-21 19:42:59,364 - tinkoff.invest.logging - INFO - 1eca647868fed57a8d2abb67c3e4c6c8 ShareBy\n"
     ]
    },
    {
     "name": "stdout",
     "output_type": "stream",
     "text": [
      "2016-C INIT BALANCE: 76.125 FINAL BALANCE: 84.285 + (SHARES 1)\n"
     ]
    },
    {
     "name": "stderr",
     "output_type": "stream",
     "text": [
      "2022-05-21 19:42:59,483 - tinkoff.invest.logging - INFO - 602b84a7a6f08308cae57dab0de4c574 GetCandles\n"
     ]
    },
    {
     "name": "stdout",
     "output_type": "stream",
     "text": [
      "2016-GE INIT BALANCE: 366.6 FINAL BALANCE: 380.40000000000003 + (SHARES 1)\n"
     ]
    },
    {
     "name": "stderr",
     "output_type": "stream",
     "text": [
      "2022-05-21 19:43:03,183 - tinkoff.invest.logging - INFO - 2fc3ea803b7a83a3fe2c39857fc9c08e ShareBy\n",
      "2022-05-21 19:43:03,284 - tinkoff.invest.logging - INFO - 62a6dd3a376fe65f2682e785f220d770 GetCandles\n"
     ]
    },
    {
     "name": "stdout",
     "output_type": "stream",
     "text": [
      "2016-MU INIT BALANCE: 20.745 FINAL BALANCE: 26.055000000000007 + (SHARES 1)\n"
     ]
    },
    {
     "name": "stderr",
     "output_type": "stream",
     "text": [
      "2022-05-21 19:43:05,325 - tinkoff.invest.logging - INFO - 7711060ae2d6da4a2f2b18367275cb46 ShareBy\n",
      "2022-05-21 19:43:05,383 - tinkoff.invest.logging - INFO - 03a1d2e33229b790cf2fe6b05e72e905 GetCandles\n",
      "2022-05-21 19:43:05,611 - tinkoff.invest.logging - INFO - aae4fdd6b621f16585144637e7205d73 ShareBy\n",
      "2022-05-21 19:43:05,731 - tinkoff.invest.logging - INFO - 64813c62cbda9db5a9f9627ba4ad0c75 GetCandles\n"
     ]
    },
    {
     "name": "stdout",
     "output_type": "stream",
     "text": [
      "2016-WMB INIT BALANCE: 38.28 FINAL BALANCE: 44.955 + (SHARES 1)\n"
     ]
    },
    {
     "name": "stderr",
     "output_type": "stream",
     "text": [
      "2022-05-21 19:43:06,953 - tinkoff.invest.logging - INFO - d2d9d51a9d715bf7a558eab33c2c1aa5 ShareBy\n",
      "2022-05-21 19:43:07,040 - tinkoff.invest.logging - INFO - 39dd641589c8f36db9a838692147f0e0 GetCandles\n"
     ]
    },
    {
     "name": "stdout",
     "output_type": "stream",
     "text": [
      "2016-KO INIT BALANCE: 63.510000000000005 FINAL BALANCE: 59.28000000000001 + (SHARES 1)\n"
     ]
    },
    {
     "name": "stderr",
     "output_type": "stream",
     "text": [
      "2022-05-21 19:43:08,426 - tinkoff.invest.logging - INFO - 1b84b90ccf26849c45c3f28d64da6adf ShareBy\n",
      "2022-05-21 19:43:08,513 - tinkoff.invest.logging - INFO - ef3fa115be6b550a596b7b1f2a3c7597 GetCandles\n"
     ]
    },
    {
     "name": "stdout",
     "output_type": "stream",
     "text": [
      "2016-WFC INIT BALANCE: 80.85 FINAL BALANCE: 90.54499999999999 + (SHARES 1)\n"
     ]
    },
    {
     "name": "stderr",
     "output_type": "stream",
     "text": [
      "2022-05-21 19:43:09,110 - tinkoff.invest.logging - INFO - 9b4ff7c4e5f5868a5fa3f74d528ad48d ShareBy\n",
      "2022-05-21 19:43:09,218 - tinkoff.invest.logging - INFO - d70439d83b5b795915249f571ffd3170 GetCandles\n"
     ]
    },
    {
     "name": "stdout",
     "output_type": "stream",
     "text": [
      "2016-WMT INIT BALANCE: 90.75 FINAL BALANCE: 93.18500000000002\n"
     ]
    },
    {
     "name": "stderr",
     "output_type": "stream",
     "text": [
      "2022-05-21 19:43:10,311 - tinkoff.invest.logging - INFO - 851a21b10415ae9c9c4e226e274b2485 ShareBy\n",
      "2022-05-21 19:43:10,426 - tinkoff.invest.logging - INFO - 46f6c4a143860d78672fac2d3c769e38 GetCandles\n"
     ]
    },
    {
     "name": "stdout",
     "output_type": "stream",
     "text": [
      "2016-IBM INIT BALANCE: 203.39999999999998 FINAL BALANCE: 248.40999999999988\n"
     ]
    },
    {
     "name": "stderr",
     "output_type": "stream",
     "text": [
      "2022-05-21 19:43:14,947 - tinkoff.invest.logging - INFO - df47828448db37bd8b1975df0a380b48 ShareBy\n",
      "2022-05-21 19:43:15,009 - tinkoff.invest.logging - INFO - 11901399f02749210aa0bd9ade5f3812 GetCandles\n",
      "2022-05-21 19:43:15,232 - tinkoff.invest.logging - INFO - 4d6ca8008bbe667522ae2eb182732fbd ShareBy\n",
      "2022-05-21 19:43:15,341 - tinkoff.invest.logging - INFO - 72be8c0f4d7772a8322b49bc142e66ef GetCandles\n",
      "2022-05-21 19:43:21,408 - tinkoff.invest.logging - INFO - 3d5862dd4bcc17d3edb7b4bf3047e681 ShareBy\n"
     ]
    },
    {
     "name": "stdout",
     "output_type": "stream",
     "text": [
      "2016-BLK INIT BALANCE: 500.09999999999997 FINAL BALANCE: 529.1749999999998\n"
     ]
    },
    {
     "name": "stderr",
     "output_type": "stream",
     "text": [
      "2022-05-21 19:43:21,518 - tinkoff.invest.logging - INFO - cf0b548f472bd1360ccd303ae5af0474 GetCandles\n"
     ]
    },
    {
     "name": "stdout",
     "output_type": "stream",
     "text": [
      "2016-CME INIT BALANCE: 133.2 FINAL BALANCE: 152.075\n"
     ]
    },
    {
     "name": "stderr",
     "output_type": "stream",
     "text": [
      "2022-05-21 19:43:22,278 - tinkoff.invest.logging - INFO - f521fa5f1b7a1ede7a176698b0a87438 ShareBy\n",
      "2022-05-21 19:43:22,379 - tinkoff.invest.logging - INFO - 227514850dbe63fbbd65359ffb147630 GetCandles\n",
      "2022-05-21 19:43:27,541 - tinkoff.invest.logging - INFO - ef1aa9491b8699cd8afcacb742a1b99f ShareBy\n"
     ]
    },
    {
     "name": "stdout",
     "output_type": "stream",
     "text": [
      "2016-CVX INIT BALANCE: 134.29500000000002 FINAL BALANCE: 140.445\n"
     ]
    },
    {
     "name": "stderr",
     "output_type": "stream",
     "text": [
      "2022-05-21 19:43:27,641 - tinkoff.invest.logging - INFO - c82fbe7bae6cbc433d576f9b9eae33ec GetCandles\n"
     ]
    },
    {
     "name": "stdout",
     "output_type": "stream",
     "text": [
      "2016-AA INIT BALANCE: 31.9809 FINAL BALANCE: 30.987999999999996\n"
     ]
    },
    {
     "name": "stderr",
     "output_type": "stream",
     "text": [
      "2022-05-21 19:43:28,529 - tinkoff.invest.logging - INFO - 1d40f3ebab9c976d5a1172e18710d8a8 ShareBy\n",
      "2022-05-21 19:43:28,632 - tinkoff.invest.logging - INFO - e0dd5cda7612c8d6639943f52bfb38aa GetCandles\n"
     ]
    },
    {
     "name": "stdout",
     "output_type": "stream",
     "text": [
      "2016-CMG INIT BALANCE: 703.05 FINAL BALANCE: 705.0950000000001\n"
     ]
    },
    {
     "name": "stderr",
     "output_type": "stream",
     "text": [
      "2022-05-21 19:43:31,550 - tinkoff.invest.logging - INFO - b515f1a42d5d65631e23784966f12c84 ShareBy\n",
      "2022-05-21 19:43:31,653 - tinkoff.invest.logging - INFO - 446be879b7f0b61e1c572f82789429fc GetCandles\n"
     ]
    },
    {
     "name": "stdout",
     "output_type": "stream",
     "text": [
      "2016-SO INIT BALANCE: 69.63 FINAL BALANCE: 66.50999999999999 + (SHARES 1)\n"
     ]
    },
    {
     "name": "stderr",
     "output_type": "stream",
     "text": [
      "2022-05-21 19:43:32,781 - tinkoff.invest.logging - INFO - 32e9e22ea805fd537235c9befbecb978 ShareBy\n",
      "2022-05-21 19:43:32,895 - tinkoff.invest.logging - INFO - 58d8d90b16d5da6bd10cc6455e77513d GetCandles\n"
     ]
    },
    {
     "name": "stdout",
     "output_type": "stream",
     "text": [
      "2016-VZ INIT BALANCE: 68.505 FINAL BALANCE: 65.41499999999999 + (SHARES 1)\n"
     ]
    },
    {
     "name": "stderr",
     "output_type": "stream",
     "text": [
      "2022-05-21 19:43:34,590 - tinkoff.invest.logging - INFO - 68daec220f313b0ca31321ec01456227 ShareBy\n",
      "2022-05-21 19:43:34,699 - tinkoff.invest.logging - INFO - b076d26de4d08ebd1e732279bdf55a51 GetCandles\n",
      "2022-05-21 19:43:38,150 - tinkoff.invest.logging - INFO - f5891544b7c2f74876900057e417152c ShareBy\n"
     ]
    },
    {
     "name": "stdout",
     "output_type": "stream",
     "text": [
      "2016-LMT INIT BALANCE: 321.0 FINAL BALANCE: 328.85 + (SHARES 1)\n"
     ]
    },
    {
     "name": "stderr",
     "output_type": "stream",
     "text": [
      "2022-05-21 19:43:38,260 - tinkoff.invest.logging - INFO - 5da2f16c5268f20cc1c3711144c9a7c4 GetCandles\n"
     ]
    },
    {
     "name": "stdout",
     "output_type": "stream",
     "text": [
      "2016-EFX INIT BALANCE: 164.88 FINAL BALANCE: 152.195 + (SHARES 1)\n"
     ]
    },
    {
     "name": "stderr",
     "output_type": "stream",
     "text": [
      "2022-05-21 19:43:38,588 - tinkoff.invest.logging - INFO - 5fe560166ce1c397a2c0b84d9df5155a ShareBy\n",
      "2022-05-21 19:43:38,681 - tinkoff.invest.logging - INFO - 40896837eefc886e29a94faebee27765 GetCandles\n"
     ]
    },
    {
     "name": "stdout",
     "output_type": "stream",
     "text": [
      "2016-CAT INIT BALANCE: 100.32 FINAL BALANCE: 118.05499999999999\n"
     ]
    },
    {
     "name": "stderr",
     "output_type": "stream",
     "text": [
      "2022-05-21 19:43:41,224 - tinkoff.invest.logging - INFO - 7587696f18a2a95b8e457c3579502852 ShareBy\n",
      "2022-05-21 19:43:41,285 - tinkoff.invest.logging - INFO - 1e83e613acd2e59c9608edf5bcc5688b GetCandles\n",
      "2022-05-21 19:43:41,495 - tinkoff.invest.logging - INFO - 44a81cd83ce08f8bf453dd408867221e ShareBy\n",
      "2022-05-21 19:43:41,597 - tinkoff.invest.logging - INFO - 16f04c0d2fd76c30551ad93b9b397612 GetCandles\n"
     ]
    },
    {
     "name": "stdout",
     "output_type": "stream",
     "text": [
      "2016-SBUX INIT BALANCE: 88.155 FINAL BALANCE: 88.375 + (SHARES 1)\n"
     ]
    },
    {
     "name": "stderr",
     "output_type": "stream",
     "text": [
      "2022-05-21 19:43:42,414 - tinkoff.invest.logging - INFO - ded33094e78b155e92897e8e6d1e8d82 ShareBy\n",
      "2022-05-21 19:43:42,518 - tinkoff.invest.logging - INFO - 77ff90dd030d1568e86880a445b12b12 GetCandles\n"
     ]
    },
    {
     "name": "stdout",
     "output_type": "stream",
     "text": [
      "2016-AGN INIT BALANCE: 459.75 FINAL BALANCE: 413.65\n"
     ]
    },
    {
     "name": "stderr",
     "output_type": "stream",
     "text": [
      "2022-05-21 19:43:46,566 - tinkoff.invest.logging - INFO - 013d9654bdaab73736745ed78e6e6111 ShareBy\n",
      "2022-05-21 19:43:46,671 - tinkoff.invest.logging - INFO - 751e43beac2104fe71295f70a7eb3bfe GetCandles\n"
     ]
    },
    {
     "name": "stdout",
     "output_type": "stream",
     "text": [
      "2016-SLB INIT BALANCE: 104.17500000000001 FINAL BALANCE: 118.88500000000002 + (SHARES 1)\n"
     ]
    },
    {
     "name": "stderr",
     "output_type": "stream",
     "text": [
      "2022-05-21 19:43:48,427 - tinkoff.invest.logging - INFO - 248f92c6457397c63f6595c287bc3d0d ShareBy\n",
      "2022-05-21 19:43:48,533 - tinkoff.invest.logging - INFO - 750e68a7497e6fcadf6fb67658a7589f GetCandles\n"
     ]
    },
    {
     "name": "stdout",
     "output_type": "stream",
     "text": [
      "2016-JNJ INIT BALANCE: 152.565 FINAL BALANCE: 147.15999999999997 + (SHARES 1)\n"
     ]
    },
    {
     "name": "stderr",
     "output_type": "stream",
     "text": [
      "2022-05-21 19:43:49,236 - tinkoff.invest.logging - INFO - 6aa4fb942d6386eee5980944dd754add ShareBy\n",
      "2022-05-21 19:43:49,335 - tinkoff.invest.logging - INFO - 2c0c529af9dd5cf33a3e8f11bffa8771 GetCandles\n",
      "2022-05-21 19:43:52,701 - tinkoff.invest.logging - INFO - e116c2a5695a63ccc9893e7df7a1808a ShareBy\n"
     ]
    },
    {
     "name": "stdout",
     "output_type": "stream",
     "text": [
      "2016-T INIT BALANCE: 52.199999999999996 FINAL BALANCE: 59.07 + (SHARES 1)\n"
     ]
    },
    {
     "name": "stderr",
     "output_type": "stream",
     "text": [
      "2022-05-21 19:43:52,800 - tinkoff.invest.logging - INFO - 70349fe67dc6a40340160a67c8a4f708 GetCandles\n"
     ]
    },
    {
     "name": "stdout",
     "output_type": "stream",
     "text": [
      "2016-NKE INIT BALANCE: 91.66499999999999 FINAL BALANCE: 76.55499999999999 + (SHARES 1)\n"
     ]
    },
    {
     "name": "stderr",
     "output_type": "stream",
     "text": [
      "2022-05-21 19:43:53,806 - tinkoff.invest.logging - INFO - 59231654c85650947688bb21fee38af8 ShareBy\n",
      "2022-05-21 19:43:53,913 - tinkoff.invest.logging - INFO - c088d88dc79c4d935ca7f9dad050c8f0 GetCandles\n"
     ]
    },
    {
     "name": "stdout",
     "output_type": "stream",
     "text": [
      "2016-PGR INIT BALANCE: 47.099999999999994 FINAL BALANCE: 46.55500000000001 + (SHARES 1)\n"
     ]
    },
    {
     "name": "stderr",
     "output_type": "stream",
     "text": [
      "2022-05-21 19:43:54,884 - tinkoff.invest.logging - INFO - 2f84b6a42f55e4487588c4638843a66d ShareBy\n",
      "2022-05-21 19:43:54,987 - tinkoff.invest.logging - INFO - c32ece107bf61af54fabdad167ff9f24 GetCandles\n"
     ]
    },
    {
     "name": "stdout",
     "output_type": "stream",
     "text": [
      "2016-AMGN INIT BALANCE: 238.5 FINAL BALANCE: 241.40500000000003 + (SHARES 1)\n"
     ]
    },
    {
     "name": "stderr",
     "output_type": "stream",
     "text": [
      "2022-05-21 19:43:57,055 - tinkoff.invest.logging - INFO - 4fe142c5bc1a3855fb6d2f9d382890fe ShareBy\n",
      "2022-05-21 19:43:57,154 - tinkoff.invest.logging - INFO - f3346898b4dec7a2dc3c8f34a146336b GetCandles\n"
     ]
    },
    {
     "name": "stdout",
     "output_type": "stream",
     "text": [
      "2016-ICE INIT BALANCE: 75.67500000000001 FINAL BALANCE: 75.64700000000002 + (SHARES 1)\n"
     ]
    },
    {
     "name": "stderr",
     "output_type": "stream",
     "text": [
      "2022-05-21 19:43:57,812 - tinkoff.invest.logging - INFO - 04891d8980a8fa3e4e9d834e4e74827f ShareBy\n",
      "2022-05-21 19:43:57,904 - tinkoff.invest.logging - INFO - 92e3c0db49fbea2e3e4e54db0a60990a GetCandles\n"
     ]
    },
    {
     "name": "stdout",
     "output_type": "stream",
     "text": [
      "2016-FCX INIT BALANCE: 9.899999999999999 FINAL BALANCE: 9.899999999999999\n"
     ]
    },
    {
     "name": "stderr",
     "output_type": "stream",
     "text": [
      "2022-05-21 19:43:58,962 - tinkoff.invest.logging - INFO - 2e4b3bebb3b34c7944c87fb113f49ab9 ShareBy\n",
      "2022-05-21 19:43:59,070 - tinkoff.invest.logging - INFO - 5870b02a2b7fea69de5f7ef4baa83a21 GetCandles\n",
      "2022-05-21 19:44:00,607 - tinkoff.invest.logging - INFO - 078f7ad9681b85124f01f6c2aa6c9bb7 ShareBy\n"
     ]
    },
    {
     "name": "stdout",
     "output_type": "stream",
     "text": [
      "2016-HD INIT BALANCE: 195.16500000000002 FINAL BALANCE: 204.20000000000005 + (SHARES 1)\n"
     ]
    },
    {
     "name": "stderr",
     "output_type": "stream",
     "text": [
      "2022-05-21 19:44:00,692 - tinkoff.invest.logging - INFO - 39125c1b37518c32ca7b2b246a523c44 GetCandles\n"
     ]
    },
    {
     "name": "stdout",
     "output_type": "stream",
     "text": [
      "2016-FDX INIT BALANCE: 219.615 FINAL BALANCE: 248.02499999999995\n"
     ]
    },
    {
     "name": "stderr",
     "output_type": "stream",
     "text": [
      "2022-05-21 19:44:02,511 - tinkoff.invest.logging - ERROR - f0365a2d0aa6c699e06023a1abe51c8e ShareBy NOT_FOUND 50002\n"
     ]
    },
    {
     "name": "stdout",
     "output_type": "stream",
     "text": [
      "(<StatusCode.NOT_FOUND: (5, 'not found')>, '50002', Metadata(tracking_id='f0365a2d0aa6c699e06023a1abe51c8e', ratelimit_limit='200, 200;w=60', ratelimit_remaining=198, ratelimit_reset=58, message='instrument not found'))\n"
     ]
    },
    {
     "name": "stderr",
     "output_type": "stream",
     "text": [
      "2022-05-21 19:44:02,745 - tinkoff.invest.logging - INFO - 227e0edc80a3ae16d16db77d513d2c11 ShareBy\n",
      "2022-05-21 19:44:02,843 - tinkoff.invest.logging - INFO - 0d372d68f8517a82f4e4c0bb0b88c0b3 GetCandles\n",
      "2022-05-21 19:44:05,403 - tinkoff.invest.logging - ERROR - 76825a6f7d0b785bac3c7b8917b748a9 ShareBy NOT_FOUND 50002\n"
     ]
    },
    {
     "name": "stdout",
     "output_type": "stream",
     "text": [
      "2016-DAL INIT BALANCE: 74.13 FINAL BALANCE: 75.93499999999997\n",
      "(<StatusCode.NOT_FOUND: (5, 'not found')>, '50002', Metadata(tracking_id='76825a6f7d0b785bac3c7b8917b748a9', ratelimit_limit='200, 200;w=60', ratelimit_remaining=196, ratelimit_reset=55, message='instrument not found'))\n"
     ]
    },
    {
     "name": "stderr",
     "output_type": "stream",
     "text": [
      "2022-05-21 19:44:05,645 - tinkoff.invest.logging - ERROR - e5b63d96f475fa82fd9cafb90c5e618b ShareBy NOT_FOUND 50002\n"
     ]
    },
    {
     "name": "stdout",
     "output_type": "stream",
     "text": [
      "(<StatusCode.NOT_FOUND: (5, 'not found')>, '50002', Metadata(tracking_id='e5b63d96f475fa82fd9cafb90c5e618b', ratelimit_limit='200, 200;w=60', ratelimit_remaining=195, ratelimit_reset=55, message='instrument not found'))\n"
     ]
    },
    {
     "name": "stderr",
     "output_type": "stream",
     "text": [
      "2022-05-21 19:44:05,882 - tinkoff.invest.logging - INFO - 4eea131a04e8c5bf47e8e19018169dff ShareBy\n",
      "2022-05-21 19:44:05,985 - tinkoff.invest.logging - INFO - abf9989666a628b96b84a1b87ea057fb GetCandles\n"
     ]
    },
    {
     "name": "stdout",
     "output_type": "stream",
     "text": [
      "2016-PG INIT BALANCE: 117.53999999999999 FINAL BALANCE: 122.425 + (SHARES 1)\n"
     ]
    },
    {
     "name": "stderr",
     "output_type": "stream",
     "text": [
      "2022-05-21 19:44:06,899 - tinkoff.invest.logging - INFO - 9b946e01427c3d85ad0ce3859f07652f ShareBy\n",
      "2022-05-21 19:44:07,004 - tinkoff.invest.logging - INFO - a369e368056106837ab92eb9b53e41cf GetCandles\n"
     ]
    },
    {
     "name": "stdout",
     "output_type": "stream",
     "text": [
      "2016-MRK INIT BALANCE: 78.15 FINAL BALANCE: 82.345 + (SHARES 1)\n"
     ]
    },
    {
     "name": "stderr",
     "output_type": "stream",
     "text": [
      "2022-05-21 19:44:08,687 - tinkoff.invest.logging - ERROR - d63b75f5e953f30adfdef1b7a347a4c8 ShareBy NOT_FOUND 50002\n"
     ]
    },
    {
     "name": "stdout",
     "output_type": "stream",
     "text": [
      "(<StatusCode.NOT_FOUND: (5, 'not found')>, '50002', Metadata(tracking_id='d63b75f5e953f30adfdef1b7a347a4c8', ratelimit_limit='200, 200;w=60', ratelimit_remaining=192, ratelimit_reset=52, message='instrument not found'))\n"
     ]
    },
    {
     "name": "stderr",
     "output_type": "stream",
     "text": [
      "2022-05-21 19:44:08,930 - tinkoff.invest.logging - INFO - 749ec1329a9e6984b391c8a43643d4ed ShareBy\n",
      "2022-05-21 19:44:09,047 - tinkoff.invest.logging - INFO - 9c32d488fc548af6f6fb7a963f2aee95 GetCandles\n"
     ]
    },
    {
     "name": "stdout",
     "output_type": "stream",
     "text": [
      "2016-PFE INIT BALANCE: 47.775000000000006 FINAL BALANCE: 49.28\n"
     ]
    },
    {
     "name": "stderr",
     "output_type": "stream",
     "text": [
      "2022-05-21 19:44:12,748 - tinkoff.invest.logging - INFO - a50f8dad823ed2a00c5d1d477d243b88 ShareBy\n",
      "2022-05-21 19:44:12,857 - tinkoff.invest.logging - INFO - 21a0355daca214d29d5961ba4409c1ef GetCandles\n"
     ]
    },
    {
     "name": "stdout",
     "output_type": "stream",
     "text": [
      "2016-ADP INIT BALANCE: 124.39500000000001 FINAL BALANCE: 124.39500000000001\n"
     ]
    },
    {
     "name": "stderr",
     "output_type": "stream",
     "text": [
      "2022-05-21 19:44:13,245 - tinkoff.invest.logging - INFO - 7b79b3a800c0088b5c32e7a56e3bcd53 ShareBy\n",
      "2022-05-21 19:44:13,330 - tinkoff.invest.logging - INFO - 9dd10d43cc17e0e8d2dcc2e55901f1ed GetCandles\n"
     ]
    },
    {
     "name": "stdout",
     "output_type": "stream",
     "text": [
      "2016-JWN INIT BALANCE: 73.94999999999999 FINAL BALANCE: 84.96499999999997 + (SHARES 1)\n"
     ]
    },
    {
     "name": "stderr",
     "output_type": "stream",
     "text": [
      "2022-05-21 19:44:15,768 - tinkoff.invest.logging - ERROR - 27de962608ee7366f2954fa7c25803c0 ShareBy NOT_FOUND 50002\n"
     ]
    },
    {
     "name": "stdout",
     "output_type": "stream",
     "text": [
      "(<StatusCode.NOT_FOUND: (5, 'not found')>, '50002', Metadata(tracking_id='27de962608ee7366f2954fa7c25803c0', ratelimit_limit='200, 200;w=60', ratelimit_remaining=188, ratelimit_reset=45, message='instrument not found'))\n"
     ]
    },
    {
     "name": "stderr",
     "output_type": "stream",
     "text": [
      "2022-05-21 19:44:16,014 - tinkoff.invest.logging - INFO - 8497d6646662d7c00f04d5d1d71a63a2 ShareBy\n",
      "2022-05-21 19:44:16,135 - tinkoff.invest.logging - INFO - 641b80a3471cdff88f9f170d75e8e544 GetCandles\n"
     ]
    },
    {
     "name": "stdout",
     "output_type": "stream",
     "text": [
      "2016-AVGO INIT BALANCE: 214.04999999999998 FINAL BALANCE: 229.015 + (SHARES 1)\n"
     ]
    },
    {
     "name": "stderr",
     "output_type": "stream",
     "text": [
      "2022-05-21 19:44:17,586 - tinkoff.invest.logging - INFO - 2f56c08c273956d3e1adf6f4d65cf0fa ShareBy\n",
      "2022-05-21 19:44:17,650 - tinkoff.invest.logging - INFO - f02498f2d758bb24185d55ff53e5b497 GetCandles\n",
      "2022-05-21 19:44:17,877 - tinkoff.invest.logging - INFO - da874b6aaf8f3828a8b8b2bd080f6644 ShareBy\n",
      "2022-05-21 19:44:17,981 - tinkoff.invest.logging - INFO - c0a7efe980c53f5d4654d7d39d418e93 GetCandles\n",
      "2022-05-21 19:44:21,012 - tinkoff.invest.logging - INFO - 6c8457ac448c5253c0c75cc99a02230d ShareBy\n"
     ]
    },
    {
     "name": "stdout",
     "output_type": "stream",
     "text": [
      "2016-HUM INIT BALANCE: 266.505 FINAL BALANCE: 292.45000000000005 + (SHARES 1)\n"
     ]
    },
    {
     "name": "stderr",
     "output_type": "stream",
     "text": [
      "2022-05-21 19:44:21,099 - tinkoff.invest.logging - INFO - e4892bbbcfe56640c9dfbe62df4fe042 GetCandles\n"
     ]
    },
    {
     "name": "stdout",
     "output_type": "stream",
     "text": [
      "2016-FMC INIT BALANCE: 56.715 FINAL BALANCE: 64.535 + (SHARES 1)\n"
     ]
    },
    {
     "name": "stderr",
     "output_type": "stream",
     "text": [
      "2022-05-21 19:44:22,057 - tinkoff.invest.logging - INFO - 1e05b64ed206da17c1d31cd8a9c5f5a2 ShareBy\n",
      "2022-05-21 19:44:22,161 - tinkoff.invest.logging - INFO - 57d2a5766e8dd0e47af3a8a60a05cbdd GetCandles\n"
     ]
    },
    {
     "name": "stdout",
     "output_type": "stream",
     "text": [
      "2016-COST INIT BALANCE: 239.715 FINAL BALANCE: 239.945\n"
     ]
    },
    {
     "name": "stderr",
     "output_type": "stream",
     "text": [
      "2022-05-21 19:44:23,227 - tinkoff.invest.logging - INFO - a487970bec7696b564e6d6a3943c3267 ShareBy\n",
      "2022-05-21 19:44:23,283 - tinkoff.invest.logging - INFO - 253ffba180eea67dfef7363a30cd5a42 GetCandles\n",
      "2022-05-21 19:44:23,517 - tinkoff.invest.logging - INFO - 92ed15f7d5d39b4676472cc2b6cfb34e ShareBy\n",
      "2022-05-21 19:44:23,605 - tinkoff.invest.logging - INFO - 49dbf165a0d4f144458f4ee0f228d0d4 GetCandles\n"
     ]
    },
    {
     "name": "stdout",
     "output_type": "stream",
     "text": [
      "2016-MCD INIT BALANCE: 175.875 FINAL BALANCE: 186.66 + (SHARES 1)\n"
     ]
    },
    {
     "name": "stderr",
     "output_type": "stream",
     "text": [
      "2022-05-21 19:44:24,447 - tinkoff.invest.logging - INFO - 329b1b8b306128ad5062006d7742432e ShareBy\n",
      "2022-05-21 19:44:24,552 - tinkoff.invest.logging - INFO - 8abeb37329a07128041b86f7f9cb57e2 GetCandles\n"
     ]
    },
    {
     "name": "stdout",
     "output_type": "stream",
     "text": [
      "2016-LLY INIT BALANCE: 125.10000000000001 FINAL BALANCE: 125.10000000000001\n"
     ]
    },
    {
     "name": "stderr",
     "output_type": "stream",
     "text": [
      "2022-05-21 19:44:24,883 - tinkoff.invest.logging - INFO - 7fb399b0467eca41410be944ba88d513 ShareBy\n",
      "2022-05-21 19:44:24,985 - tinkoff.invest.logging - INFO - 1321a1d9093416e41d21798e35651482 GetCandles\n"
     ]
    },
    {
     "name": "stdout",
     "output_type": "stream",
     "text": [
      "2016-UAL INIT BALANCE: 83.685 FINAL BALANCE: 108.99 + (SHARES 1)\n"
     ]
    },
    {
     "name": "stderr",
     "output_type": "stream",
     "text": [
      "2022-05-21 19:44:25,954 - tinkoff.invest.logging - INFO - b4d5a645fe7a24f3202ef28e485780bb ShareBy\n",
      "2022-05-21 19:44:26,061 - tinkoff.invest.logging - INFO - beb0a2cdf2ecd8a090e1252674255e2c GetCandles\n",
      "2022-05-21 19:44:27,684 - tinkoff.invest.logging - INFO - 7159d586f9f7cda6ca58526fdab41003 ShareBy\n"
     ]
    },
    {
     "name": "stdout",
     "output_type": "stream",
     "text": [
      "2016-STZ INIT BALANCE: 211.95000000000002 FINAL BALANCE: 211.10500000000002 + (SHARES 1)\n"
     ]
    },
    {
     "name": "stderr",
     "output_type": "stream",
     "text": [
      "2022-05-21 19:44:27,785 - tinkoff.invest.logging - INFO - 4d15e27e2abdf4252d1415249a4581ea GetCandles\n"
     ]
    },
    {
     "name": "stdout",
     "output_type": "stream",
     "text": [
      "2016-COP INIT BALANCE: 69.615 FINAL BALANCE: 73.535 + (SHARES 1)\n"
     ]
    },
    {
     "name": "stderr",
     "output_type": "stream",
     "text": [
      "2022-05-21 19:44:30,173 - tinkoff.invest.logging - INFO - eb3856a45625c6815ee732e8abb4d6af ShareBy\n",
      "2022-05-21 19:44:30,281 - tinkoff.invest.logging - INFO - 274c7bade2da963e285545a173b6014d GetCandles\n"
     ]
    },
    {
     "name": "stdout",
     "output_type": "stream",
     "text": [
      "2016-BBY INIT BALANCE: 44.76 FINAL BALANCE: 53.370000000000005 + (SHARES 1)\n"
     ]
    },
    {
     "name": "stderr",
     "output_type": "stream",
     "text": [
      "2022-05-21 19:44:31,586 - tinkoff.invest.logging - INFO - 14324a86d2990694d460f6fed117ead9 ShareBy\n",
      "2022-05-21 19:44:31,672 - tinkoff.invest.logging - INFO - 817d0e592dcad8cc8c0a846ba2f4de96 GetCandles\n"
     ]
    },
    {
     "name": "stdout",
     "output_type": "stream",
     "text": [
      "2016-CMCSA INIT BALANCE: 41.3625 FINAL BALANCE: 44.99249999999999 + (SHARES 1)\n"
     ]
    },
    {
     "name": "stderr",
     "output_type": "stream",
     "text": [
      "2022-05-21 19:44:32,406 - tinkoff.invest.logging - INFO - f53b93e3ba52780a583f830be6cfd2af ShareBy\n",
      "2022-05-21 19:44:32,517 - tinkoff.invest.logging - INFO - 2fc76fb21a117fb2c0af77d56f482e41 GetCandles\n"
     ]
    },
    {
     "name": "stdout",
     "output_type": "stream",
     "text": [
      "2016-NOC INIT BALANCE: 278.96999999999997 FINAL BALANCE: 304.54999999999995 + (SHARES 1)\n"
     ]
    },
    {
     "name": "stderr",
     "output_type": "stream",
     "text": [
      "2022-05-21 19:44:34,195 - tinkoff.invest.logging - ERROR - 613672149e54faf1bcc3a9d18d15a360 ShareBy NOT_FOUND 50002\n"
     ]
    },
    {
     "name": "stdout",
     "output_type": "stream",
     "text": [
      "(<StatusCode.NOT_FOUND: (5, 'not found')>, '50002', Metadata(tracking_id='613672149e54faf1bcc3a9d18d15a360', ratelimit_limit='200, 200;w=60', ratelimit_remaining=173, ratelimit_reset=26, message='instrument not found'))\n"
     ]
    },
    {
     "name": "stderr",
     "output_type": "stream",
     "text": [
      "2022-05-21 19:44:34,423 - tinkoff.invest.logging - INFO - 27644e06b57d0c8c9779d2c73d6fcb16 ShareBy\n",
      "2022-05-21 19:44:34,533 - tinkoff.invest.logging - INFO - 9e5bfd52ce46a09471857f3e8a57de39 GetCandles\n"
     ]
    },
    {
     "name": "stdout",
     "output_type": "stream",
     "text": [
      "2016-AXP INIT BALANCE: 103.35000000000001 FINAL BALANCE: 119.65 + (SHARES 1)\n"
     ]
    },
    {
     "name": "stderr",
     "output_type": "stream",
     "text": [
      "2022-05-21 19:44:35,228 - tinkoff.invest.logging - ERROR - 51fcf8b8896c18254e45cfc1643e7829 ShareBy NOT_FOUND 50002\n",
      "2022-05-21 19:44:35,442 - tinkoff.invest.logging - INFO - a2ff0c25652c4d287da4dfacf97ac56b ShareBy\n"
     ]
    },
    {
     "name": "stdout",
     "output_type": "stream",
     "text": [
      "(<StatusCode.NOT_FOUND: (5, 'not found')>, '50002', Metadata(tracking_id='51fcf8b8896c18254e45cfc1643e7829', ratelimit_limit='200, 200;w=60', ratelimit_remaining=171, ratelimit_reset=25, message='instrument not found'))\n"
     ]
    },
    {
     "name": "stderr",
     "output_type": "stream",
     "text": [
      "2022-05-21 19:44:35,553 - tinkoff.invest.logging - INFO - fb861ce60e5e1991d2563391da2abe16 GetCandles\n"
     ]
    },
    {
     "name": "stdout",
     "output_type": "stream",
     "text": [
      "2016-BIIB INIT BALANCE: 414.966 FINAL BALANCE: 435.63550000000004 + (SHARES 1)\n"
     ]
    },
    {
     "name": "stderr",
     "output_type": "stream",
     "text": [
      "2022-05-21 19:44:37,651 - tinkoff.invest.logging - INFO - 3b837a7fdbbc4f8d1d3573400ec20257 ShareBy\n",
      "2022-05-21 19:44:37,754 - tinkoff.invest.logging - INFO - 1544658f854252c6c6148801769e6622 GetCandles\n"
     ]
    },
    {
     "name": "stdout",
     "output_type": "stream",
     "text": [
      "2016-MMM INIT BALANCE: 222.75 FINAL BALANCE: 222.495\n"
     ]
    },
    {
     "name": "stderr",
     "output_type": "stream",
     "text": [
      "2022-05-21 19:44:38,301 - tinkoff.invest.logging - ERROR - 5218b6e8630c3863153721d1ff46a24d ShareBy NOT_FOUND 50002\n",
      "2022-05-21 19:44:38,528 - tinkoff.invest.logging - ERROR - 49e3aeefd112f0aa715532a07af1aa07 ShareBy NOT_FOUND 50002\n"
     ]
    },
    {
     "name": "stdout",
     "output_type": "stream",
     "text": [
      "(<StatusCode.NOT_FOUND: (5, 'not found')>, '50002', Metadata(tracking_id='5218b6e8630c3863153721d1ff46a24d', ratelimit_limit='200, 200;w=60', ratelimit_remaining=168, ratelimit_reset=22, message='instrument not found'))\n",
      "(<StatusCode.NOT_FOUND: (5, 'not found')>, '50002', Metadata(tracking_id='49e3aeefd112f0aa715532a07af1aa07', ratelimit_limit='200, 200;w=60', ratelimit_remaining=167, ratelimit_reset=22, message='instrument not found'))\n"
     ]
    },
    {
     "name": "stderr",
     "output_type": "stream",
     "text": [
      "2022-05-21 19:44:38,765 - tinkoff.invest.logging - INFO - 19c39c877891d9f88ecede4adcec5218 ShareBy\n",
      "2022-05-21 19:44:38,875 - tinkoff.invest.logging - INFO - 1c2f3d372bc192dcee2f6156aaa1b059 GetCandles\n"
     ]
    },
    {
     "name": "stdout",
     "output_type": "stream",
     "text": [
      "2016-NVDA INIT BALANCE: 13.049999999999999 FINAL BALANCE: 13.049999999999999\n"
     ]
    },
    {
     "name": "stderr",
     "output_type": "stream",
     "text": [
      "2022-05-21 19:44:39,134 - tinkoff.invest.logging - INFO - 1708bf2de2fd68948889c92d2570b5b9 ShareBy\n",
      "2022-05-21 19:44:39,242 - tinkoff.invest.logging - INFO - b8bb22ffeb46b91dc78d69bd7f3ff209 GetCandles\n"
     ]
    },
    {
     "name": "stdout",
     "output_type": "stream",
     "text": [
      "2016-MYL INIT BALANCE: 79.32000000000001 FINAL BALANCE: 77.67500000000001\n"
     ]
    },
    {
     "name": "stderr",
     "output_type": "stream",
     "text": [
      "2022-05-21 19:44:40,479 - tinkoff.invest.logging - INFO - eb0d96702c3197bc013e271486d309e7 ShareBy\n",
      "2022-05-21 19:44:40,568 - tinkoff.invest.logging - INFO - 7185bd4cce8b1d5fc691b81db8914713 GetCandles\n"
     ]
    },
    {
     "name": "stdout",
     "output_type": "stream",
     "text": [
      "2016-DD INIT BALANCE: 97.13174999999998 FINAL BALANCE: 106.54994999999998 + (SHARES 1)\n"
     ]
    },
    {
     "name": "stderr",
     "output_type": "stream",
     "text": [
      "2022-05-21 19:44:41,687 - tinkoff.invest.logging - INFO - 04955c715752b68304c25f4665dff00d ShareBy\n",
      "2022-05-21 19:44:41,795 - tinkoff.invest.logging - INFO - 68fb06f7747523cf775a69a7f8898705 GetCandles\n"
     ]
    },
    {
     "name": "stdout",
     "output_type": "stream",
     "text": [
      "2016-GILD INIT BALANCE: 149.655 FINAL BALANCE: 149.555\n"
     ]
    },
    {
     "name": "stderr",
     "output_type": "stream",
     "text": [
      "2022-05-21 19:44:42,776 - tinkoff.invest.logging - INFO - 5566e6cd9e6c2b83f1f2bd80a4bfdae2 ShareBy\n",
      "2022-05-21 19:44:42,882 - tinkoff.invest.logging - INFO - 16c7012a1270eb7a9407b36337881722 GetCandles\n"
     ]
    },
    {
     "name": "stdout",
     "output_type": "stream",
     "text": [
      "2016-ORCL INIT BALANCE: 54.150000000000006 FINAL BALANCE: 53.32000000000001 + (SHARES 1)\n"
     ]
    },
    {
     "name": "stderr",
     "output_type": "stream",
     "text": [
      "2022-05-21 19:44:44,342 - tinkoff.invest.logging - INFO - 986f1de0ea64980905bb5c569adff7db ShareBy\n",
      "2022-05-21 19:44:44,439 - tinkoff.invest.logging - INFO - c15178529499f6765f9d41b2eb00aa13 GetCandles\n",
      "2022-05-21 19:44:46,293 - tinkoff.invest.logging - INFO - c8c3fb195ccb6c57d374302af6a7c75d ShareBy\n"
     ]
    },
    {
     "name": "stdout",
     "output_type": "stream",
     "text": [
      "2016-ADBE INIT BALANCE: 137.655 FINAL BALANCE: 151.41500000000002 + (SHARES 1)\n"
     ]
    },
    {
     "name": "stderr",
     "output_type": "stream",
     "text": [
      "2022-05-21 19:44:46,377 - tinkoff.invest.logging - INFO - 3d04fef41ce85c7e694b7d795a194327 GetCandles\n"
     ]
    },
    {
     "name": "stdout",
     "output_type": "stream",
     "text": [
      "2016-BIDU INIT BALANCE: 271.935 FINAL BALANCE: 274.68500000000006\n"
     ]
    },
    {
     "name": "stderr",
     "output_type": "stream",
     "text": [
      "2022-05-21 19:44:48,591 - tinkoff.invest.logging - INFO - ea2f141ed8533d5e4bbd750a289fe10c ShareBy\n",
      "2022-05-21 19:44:48,696 - tinkoff.invest.logging - INFO - 36be56751d1953b783c4371a6f0e586d GetCandles\n",
      "2022-05-21 19:44:49,592 - tinkoff.invest.logging - INFO - 009e9eb765e150588eb07879247c0e23 ShareBy\n"
     ]
    },
    {
     "name": "stdout",
     "output_type": "stream",
     "text": [
      "2016-VALE INIT BALANCE: 4.350899999999999 FINAL BALANCE: 5.389399999999999\n"
     ]
    },
    {
     "name": "stderr",
     "output_type": "stream",
     "text": [
      "2022-05-21 19:44:49,693 - tinkoff.invest.logging - INFO - d6fe0807c79396e7d5d779112deba122 GetCandles\n"
     ]
    },
    {
     "name": "stdout",
     "output_type": "stream",
     "text": [
      "2016-CSCO INIT BALANCE: 39.585 FINAL BALANCE: 47.489999999999995 + (SHARES 1)\n"
     ]
    },
    {
     "name": "stderr",
     "output_type": "stream",
     "text": [
      "2022-05-21 19:44:53,274 - tinkoff.invest.logging - INFO - 7123b7f8beef1f84dc38b19224e95252 ShareBy\n",
      "2022-05-21 19:44:53,381 - tinkoff.invest.logging - INFO - 27ec4936fdfe0db90346449ce446c3d7 GetCandles\n"
     ]
    },
    {
     "name": "stdout",
     "output_type": "stream",
     "text": [
      "2016-SPGI INIT BALANCE: 144.84 FINAL BALANCE: 135.17000000000002 + (SHARES 1)\n"
     ]
    },
    {
     "name": "stderr",
     "output_type": "stream",
     "text": [
      "2022-05-21 19:44:53,813 - tinkoff.invest.logging - INFO - 0b975bf34fc951bb7e103799e00bed4f ShareBy\n",
      "2022-05-21 19:44:53,886 - tinkoff.invest.logging - INFO - b6a8c6bde0b54f58c02078bdaac57ed2 GetCandles\n",
      "2022-05-21 19:44:54,090 - tinkoff.invest.logging - INFO - 73f2ac3e78a16b5cb9500c2752e264d0 ShareBy\n",
      "2022-05-21 19:44:54,191 - tinkoff.invest.logging - INFO - 5b807c3d2f6c258c4e64b8d06dc929ae GetCandles\n",
      "2022-05-21 19:44:54,766 - tinkoff.invest.logging - INFO - deaddf1c366c693ec43ee3a9f6b0e9e1 ShareBy\n"
     ]
    },
    {
     "name": "stdout",
     "output_type": "stream",
     "text": [
      "2016-AZO INIT BALANCE: 1099.5 FINAL BALANCE: 1130.575 + (SHARES 1)\n"
     ]
    },
    {
     "name": "stderr",
     "output_type": "stream",
     "text": [
      "2022-05-21 19:44:54,853 - tinkoff.invest.logging - INFO - 76248cc2a40bcf3279a10036b84f87d8 GetCandles\n"
     ]
    },
    {
     "name": "stdout",
     "output_type": "stream",
     "text": [
      "2016-MA INIT BALANCE: 143.055 FINAL BALANCE: 152.355 + (SHARES 1)\n"
     ]
    },
    {
     "name": "stderr",
     "output_type": "stream",
     "text": [
      "2022-05-21 19:44:55,671 - tinkoff.invest.logging - INFO - 73a8cbd8d4d12fb58cdf275ce809b3b4 ShareBy\n",
      "2022-05-21 19:44:55,724 - tinkoff.invest.logging - INFO - f1b043d024ea49d4ce4fde507410b438 GetCandles\n",
      "2022-05-21 19:44:55,935 - tinkoff.invest.logging - INFO - 4146b9f32ac0336e3e44bb35f80168cc ShareBy\n",
      "2022-05-21 19:44:56,042 - tinkoff.invest.logging - INFO - a923ddf4bf3143b2356fdd37e4b5a867 GetCandles\n"
     ]
    },
    {
     "name": "stdout",
     "output_type": "stream",
     "text": [
      "2016-PM INIT BALANCE: 130.27499999999998 FINAL BALANCE: 122.83499999999997 + (SHARES 1)\n"
     ]
    },
    {
     "name": "stderr",
     "output_type": "stream",
     "text": [
      "2022-05-21 19:44:57,333 - tinkoff.invest.logging - INFO - 125befb6d83939a06a0ba60f3b2c65bb ShareBy\n",
      "2022-05-21 19:44:57,438 - tinkoff.invest.logging - INFO - 0e4cf864c4be767bc5424bfed0096648 GetCandles\n"
     ]
    },
    {
     "name": "stdout",
     "output_type": "stream",
     "text": [
      "2016-URBN INIT BALANCE: 33.599999999999994 FINAL BALANCE: 41.315\n"
     ]
    },
    {
     "name": "stderr",
     "output_type": "stream",
     "text": [
      "2022-05-21 19:44:59,887 - tinkoff.invest.logging - ERROR - 75a6e68057543f943bf3ec44e025db90 ShareBy NOT_FOUND 50002\n",
      "2022-05-21 19:45:00,115 - tinkoff.invest.logging - INFO - 7c89b89cdadb2ed2569e79599c7290fc ShareBy\n"
     ]
    },
    {
     "name": "stdout",
     "output_type": "stream",
     "text": [
      "(<StatusCode.NOT_FOUND: (5, 'not found')>, '50002', Metadata(tracking_id='75a6e68057543f943bf3ec44e025db90', ratelimit_limit='200, 200;w=60', ratelimit_remaining=150, ratelimit_reset=1, message='instrument not found'))\n"
     ]
    },
    {
     "name": "stderr",
     "output_type": "stream",
     "text": [
      "2022-05-21 19:45:00,213 - tinkoff.invest.logging - INFO - 2672913768b318463916aefa76b88fdb GetCandles\n"
     ]
    },
    {
     "name": "stdout",
     "output_type": "stream",
     "text": [
      "2016-BMY INIT BALANCE: 101.17500000000001 FINAL BALANCE: 86.70500000000001 + (SHARES 1)\n"
     ]
    },
    {
     "name": "stderr",
     "output_type": "stream",
     "text": [
      "2022-05-21 19:45:00,709 - tinkoff.invest.logging - INFO - 0b47c5184663229c14017f3a11ac9911 ShareBy\n",
      "2022-05-21 19:45:00,794 - tinkoff.invest.logging - INFO - a4cd014d6ec393090e490b9da46c3339 GetCandles\n"
     ]
    },
    {
     "name": "stdout",
     "output_type": "stream",
     "text": [
      "2017-AAPL INIT BALANCE: 43.425 FINAL BALANCE: 56.664999999999985 + (SHARES 1)\n"
     ]
    },
    {
     "name": "stderr",
     "output_type": "stream",
     "text": [
      "2022-05-21 19:46:12,641 - tinkoff.invest.logging - INFO - c386f18a69070240917fd9a1788445ea ShareBy\n",
      "2022-05-21 19:46:12,756 - tinkoff.invest.logging - INFO - a14f0c62d0e00f20f2342688e1f5cb2f GetCandles\n"
     ]
    },
    {
     "name": "stdout",
     "output_type": "stream",
     "text": [
      "2017-MSFT INIT BALANCE: 94.185 FINAL BALANCE: 114.02 + (SHARES 1)\n"
     ]
    },
    {
     "name": "stderr",
     "output_type": "stream",
     "text": [
      "2022-05-21 19:46:14,782 - tinkoff.invest.logging - INFO - 36ac49726cb5d2a31ee327f01b4f9e9a ShareBy\n",
      "2022-05-21 19:46:14,898 - tinkoff.invest.logging - INFO - 3a707f40fff2ef11e55aba1eb3963007 GetCandles\n"
     ]
    },
    {
     "name": "stdout",
     "output_type": "stream",
     "text": [
      "2017-BAC INIT BALANCE: 33.900000000000006 FINAL BALANCE: 39.58 + (SHARES 1)\n"
     ]
    },
    {
     "name": "stderr",
     "output_type": "stream",
     "text": [
      "2022-05-21 19:46:16,749 - tinkoff.invest.logging - INFO - 86c900231b891b49432b8cbdd0240d2a ShareBy\n",
      "2022-05-21 19:46:16,866 - tinkoff.invest.logging - INFO - 50dc23e22d21f47105b0a9bfa126df39 GetCandles\n"
     ]
    },
    {
     "name": "stdout",
     "output_type": "stream",
     "text": [
      "2017-AMZN INIT BALANCE: 1136.8799999999999 FINAL BALANCE: 1463.94 + (SHARES 1)\n"
     ]
    },
    {
     "name": "stderr",
     "output_type": "stream",
     "text": [
      "2022-05-21 19:46:19,113 - tinkoff.invest.logging - INFO - 7be831bd36bcf9c2c4965b172ef79ba2 ShareBy\n",
      "2022-05-21 19:46:19,202 - tinkoff.invest.logging - INFO - 89045d6285fdffec01912ccf24bded33 GetCandles\n"
     ]
    },
    {
     "name": "stdout",
     "output_type": "stream",
     "text": [
      "2017-NWSA INIT BALANCE: 17.325000000000003 FINAL BALANCE: 17.325000000000003\n"
     ]
    },
    {
     "name": "stderr",
     "output_type": "stream",
     "text": [
      "2022-05-21 19:46:19,595 - tinkoff.invest.logging - INFO - 852093c337d5ff2dc593a8763a22a79b ShareBy\n",
      "2022-05-21 19:46:19,701 - tinkoff.invest.logging - INFO - 79822eb0a9a46362890f317b6527bc1a GetCandles\n"
     ]
    },
    {
     "name": "stdout",
     "output_type": "stream",
     "text": [
      "2017-BA INIT BALANCE: 234.45000000000002 FINAL BALANCE: 350.845 + (SHARES 1)\n"
     ]
    },
    {
     "name": "stderr",
     "output_type": "stream",
     "text": [
      "2022-05-21 19:46:23,158 - tinkoff.invest.logging - INFO - 556c60adeb8b7c759da361512c5394a4 ShareBy\n",
      "2022-05-21 19:46:23,249 - tinkoff.invest.logging - INFO - 48896ef9b87e52a677c173c95cd6944b GetCandles\n"
     ]
    },
    {
     "name": "stdout",
     "output_type": "stream",
     "text": [
      "2017-GOOGL INIT BALANCE: 1200.93 FINAL BALANCE: 1381.5150000000003 + (SHARES 1)\n"
     ]
    },
    {
     "name": "stderr",
     "output_type": "stream",
     "text": [
      "2022-05-21 19:46:24,505 - tinkoff.invest.logging - INFO - 467b666b061351c9dd5aad5ff94be34b ShareBy\n",
      "2022-05-21 19:46:24,612 - tinkoff.invest.logging - INFO - 848be8d923ca543374997b48d2540895 GetCandles\n"
     ]
    },
    {
     "name": "stdout",
     "output_type": "stream",
     "text": [
      "2017-GS INIT BALANCE: 364.04999999999995 FINAL BALANCE: 394.005\n"
     ]
    },
    {
     "name": "stderr",
     "output_type": "stream",
     "text": [
      "2022-05-21 19:46:32,413 - tinkoff.invest.logging - INFO - ecc9eb155b189e3bb011705b2a3312d0 ShareBy\n",
      "2022-05-21 19:46:32,516 - tinkoff.invest.logging - INFO - c63e3bcd675edb24d0272f0928c01049 GetCandles\n"
     ]
    },
    {
     "name": "stdout",
     "output_type": "stream",
     "text": [
      "2017-TSLA INIT BALANCE: 64.455 FINAL BALANCE: 65.82999999999998 + (SHARES 1)\n"
     ]
    },
    {
     "name": "stderr",
     "output_type": "stream",
     "text": [
      "2022-05-21 19:46:35,652 - tinkoff.invest.logging - INFO - 90488b785b724461bd77f326c16c2741 ShareBy\n",
      "2022-05-21 19:46:35,763 - tinkoff.invest.logging - INFO - ed2df96ccfd5b6753fb81255c1072c6a GetCandles\n"
     ]
    },
    {
     "name": "stdout",
     "output_type": "stream",
     "text": [
      "2017-NFLX INIT BALANCE: 187.44 FINAL BALANCE: 229.80500000000004 + (SHARES 1)\n"
     ]
    },
    {
     "name": "stderr",
     "output_type": "stream",
     "text": [
      "2022-05-21 19:46:51,107 - tinkoff.invest.logging - INFO - ae4df91c3918d3a4e8c23d50bbeac385 ShareBy\n",
      "2022-05-21 19:46:51,196 - tinkoff.invest.logging - INFO - 4cdfd10233cdcc803170da1f7bcb218f GetCandles\n"
     ]
    },
    {
     "name": "stdout",
     "output_type": "stream",
     "text": [
      "2017-TGT INIT BALANCE: 108.99 FINAL BALANCE: 121.29500000000003 + (SHARES 1)\n"
     ]
    },
    {
     "name": "stderr",
     "output_type": "stream",
     "text": [
      "2022-05-21 19:46:58,845 - tinkoff.invest.logging - INFO - 4ea839b18e507f1132e9630662a6177c ShareBy\n",
      "2022-05-21 19:46:58,948 - tinkoff.invest.logging - INFO - b063656f7ae8ddc9bb1a705f5811a8a8 GetCandles\n"
     ]
    },
    {
     "name": "stdout",
     "output_type": "stream",
     "text": [
      "2017-INTC INIT BALANCE: 54.915 FINAL BALANCE: 65.07499999999999 + (SHARES 1)\n"
     ]
    },
    {
     "name": "stderr",
     "output_type": "stream",
     "text": [
      "2022-05-21 19:47:00,127 - tinkoff.invest.logging - INFO - 02f574f014179f8801459f22bd111368 ShareBy\n",
      "2022-05-21 19:47:00,211 - tinkoff.invest.logging - INFO - 2ba9867e8c5754fe541974544dfb064f GetCandles\n"
     ]
    },
    {
     "name": "stdout",
     "output_type": "stream",
     "text": [
      "2017-DIS INIT BALANCE: 157.95 FINAL BALANCE: 162.54999999999995 + (SHARES 1)\n"
     ]
    },
    {
     "name": "stderr",
     "output_type": "stream",
     "text": [
      "2022-05-21 19:47:03,387 - tinkoff.invest.logging - INFO - 25326f2d58bb0051d3a2a99d5306e3bd ShareBy\n",
      "2022-05-21 19:47:03,490 - tinkoff.invest.logging - INFO - 98c7e3ce7fd578ec8e301a6b192d3431 GetCandles\n"
     ]
    },
    {
     "name": "stdout",
     "output_type": "stream",
     "text": [
      "2017-XOM INIT BALANCE: 136.41 FINAL BALANCE: 135.95 + (SHARES 1)\n"
     ]
    },
    {
     "name": "stderr",
     "output_type": "stream",
     "text": [
      "2022-05-21 19:47:05,467 - tinkoff.invest.logging - INFO - 5e94a43e86bb32ef8b2a803ec9148821 ShareBy\n",
      "2022-05-21 19:47:05,575 - tinkoff.invest.logging - INFO - 924fe39f48151cdd278e698aef0ab7b9 GetCandles\n"
     ]
    },
    {
     "name": "stdout",
     "output_type": "stream",
     "text": [
      "2017-JPM INIT BALANCE: 131.01 FINAL BALANCE: 134.08249999999998\n"
     ]
    },
    {
     "name": "stderr",
     "output_type": "stream",
     "text": [
      "2022-05-21 19:47:13,026 - tinkoff.invest.logging - INFO - 61adaefb4f86687909c0a689fca6a096 ShareBy\n",
      "2022-05-21 19:47:13,127 - tinkoff.invest.logging - INFO - a97415d782e8078705238d9888daf199 GetCandles\n"
     ]
    },
    {
     "name": "stdout",
     "output_type": "stream",
     "text": [
      "2017-MS INIT BALANCE: 65.85 FINAL BALANCE: 63.945000000000036\n"
     ]
    },
    {
     "name": "stderr",
     "output_type": "stream",
     "text": [
      "2022-05-21 19:47:21,403 - tinkoff.invest.logging - INFO - 33341bfffb025ba0f5003ad82f1a27b1 ShareBy\n",
      "2022-05-21 19:47:21,518 - tinkoff.invest.logging - INFO - 18a88711cd7e7e92468846ce0febf7b6 GetCandles\n"
     ]
    },
    {
     "name": "stdout",
     "output_type": "stream",
     "text": [
      "2017-GM INIT BALANCE: 52.47 FINAL BALANCE: 58.419999999999995\n"
     ]
    },
    {
     "name": "stderr",
     "output_type": "stream",
     "text": [
      "2022-05-21 19:47:27,473 - tinkoff.invest.logging - INFO - c0d113730cd77e0611eab64ee87ff0cf ShareBy\n",
      "2022-05-21 19:47:27,561 - tinkoff.invest.logging - INFO - 5ebf8ee58aaa7b03babb30de313ab359 GetCandles\n"
     ]
    },
    {
     "name": "stdout",
     "output_type": "stream",
     "text": [
      "2017-C INIT BALANCE: 91.02 FINAL BALANCE: 103.97999999999998\n"
     ]
    },
    {
     "name": "stderr",
     "output_type": "stream",
     "text": [
      "2022-05-21 19:47:30,566 - tinkoff.invest.logging - INFO - e6b984d9013a30f846d6c98baca8fa32 ShareBy\n",
      "2022-05-21 19:47:30,670 - tinkoff.invest.logging - INFO - 72abb54ecff926b63036d000ffc9e989 GetCandles\n"
     ]
    },
    {
     "name": "stdout",
     "output_type": "stream",
     "text": [
      "2017-GE INIT BALANCE: 380.04 FINAL BALANCE: 360.76\n"
     ]
    },
    {
     "name": "stderr",
     "output_type": "stream",
     "text": [
      "2022-05-21 19:47:34,228 - tinkoff.invest.logging - INFO - afac96da0eed7a4ee3e20153fe45524b ShareBy\n",
      "2022-05-21 19:47:34,316 - tinkoff.invest.logging - INFO - 9f7cc1d33379943b9c672c97a70dd953 GetCandles\n"
     ]
    },
    {
     "name": "stdout",
     "output_type": "stream",
     "text": [
      "2017-MU INIT BALANCE: 34.05 FINAL BALANCE: 48.10999999999999 + (SHARES 1)\n"
     ]
    },
    {
     "name": "stderr",
     "output_type": "stream",
     "text": [
      "2022-05-21 19:47:38,979 - tinkoff.invest.logging - INFO - 115efc15e96a945ec82a95a674a5ffd1 ShareBy\n",
      "2022-05-21 19:47:39,041 - tinkoff.invest.logging - INFO - e973bf590a059cb3d35af15d7772214f GetCandles\n",
      "2022-05-21 19:47:39,245 - tinkoff.invest.logging - INFO - c766bbeec0644de67cf32d3aff2d4a81 ShareBy\n",
      "2022-05-21 19:47:39,353 - tinkoff.invest.logging - INFO - e2a9adef0960706305c34097870f23b3 GetCandles\n",
      "2022-05-21 19:47:39,841 - tinkoff.invest.logging - INFO - 587cdd2382a7d4f0a0e3d84e072d0383 ShareBy\n"
     ]
    },
    {
     "name": "stdout",
     "output_type": "stream",
     "text": [
      "2017-WMB INIT BALANCE: 47.025000000000006 FINAL BALANCE: 47.15500000000001\n"
     ]
    },
    {
     "name": "stderr",
     "output_type": "stream",
     "text": [
      "2022-05-21 19:47:39,927 - tinkoff.invest.logging - INFO - d08277c4e5cb962baea92b40e6554fef GetCandles\n"
     ]
    },
    {
     "name": "stdout",
     "output_type": "stream",
     "text": [
      "2017-KO INIT BALANCE: 62.25 FINAL BALANCE: 62.68500000000001 + (SHARES 1)\n"
     ]
    },
    {
     "name": "stderr",
     "output_type": "stream",
     "text": [
      "2022-05-21 19:47:41,082 - tinkoff.invest.logging - INFO - f0d7edea5531222118cb32883a970cc2 ShareBy\n",
      "2022-05-21 19:47:41,173 - tinkoff.invest.logging - INFO - daf8a148c9dcd99306f1e9bb3619fcd9 GetCandles\n"
     ]
    },
    {
     "name": "stdout",
     "output_type": "stream",
     "text": [
      "2017-WFC INIT BALANCE: 83.505 FINAL BALANCE: 84.69\n"
     ]
    },
    {
     "name": "stderr",
     "output_type": "stream",
     "text": [
      "2022-05-21 19:47:41,585 - tinkoff.invest.logging - INFO - f608ecd76db4f6cc526d11580e2bec0e ShareBy\n",
      "2022-05-21 19:47:41,672 - tinkoff.invest.logging - INFO - 4412f30d05d58e4b9de6f44f0650e26c GetCandles\n"
     ]
    },
    {
     "name": "stdout",
     "output_type": "stream",
     "text": [
      "2017-WMT INIT BALANCE: 103.85999999999999 FINAL BALANCE: 111.30999999999997 + (SHARES 1)\n"
     ]
    },
    {
     "name": "stderr",
     "output_type": "stream",
     "text": [
      "2022-05-21 19:47:42,406 - tinkoff.invest.logging - INFO - 5d642ece45fe2f954281c30b9f70252d ShareBy\n",
      "2022-05-21 19:47:42,496 - tinkoff.invest.logging - INFO - 3f0a700e6a382d637b2b7d9cb3a5ff0a GetCandles\n"
     ]
    },
    {
     "name": "stdout",
     "output_type": "stream",
     "text": [
      "2017-IBM INIT BALANCE: 250.5 FINAL BALANCE: 256.38499999999993 + (SHARES 1)\n"
     ]
    },
    {
     "name": "stderr",
     "output_type": "stream",
     "text": [
      "2022-05-21 19:47:49,461 - tinkoff.invest.logging - INFO - 04008f0791ad4272af127e40e4420045 ShareBy\n",
      "2022-05-21 19:47:49,514 - tinkoff.invest.logging - INFO - dbd499bf673914f4c10e47cc21fca1a6 GetCandles\n",
      "2022-05-21 19:47:49,730 - tinkoff.invest.logging - INFO - 86d18b523c885046fb335891ea3167f8 ShareBy\n",
      "2022-05-21 19:47:49,841 - tinkoff.invest.logging - INFO - 7da3f13e8717867609a624297560493d GetCandles\n"
     ]
    },
    {
     "name": "stdout",
     "output_type": "stream",
     "text": [
      "2017-BLK INIT BALANCE: 576.9300000000001 FINAL BALANCE: 687.8800000000001 + (SHARES 1)\n"
     ]
    },
    {
     "name": "stderr",
     "output_type": "stream",
     "text": [
      "2022-05-21 19:47:56,261 - tinkoff.invest.logging - INFO - 736d7dd7d9ccd1a9d149b29eb64eac1b ShareBy\n",
      "2022-05-21 19:47:56,372 - tinkoff.invest.logging - INFO - ccfb39cd68f42ee96eb3fb9bc7a1d0db GetCandles\n"
     ]
    },
    {
     "name": "stdout",
     "output_type": "stream",
     "text": [
      "2017-CME INIT BALANCE: 174.24 FINAL BALANCE: 201.785 + (SHARES 1)\n"
     ]
    },
    {
     "name": "stderr",
     "output_type": "stream",
     "text": [
      "2022-05-21 19:47:58,152 - tinkoff.invest.logging - INFO - 9a72169f481256c7e81a631367015c44 ShareBy\n",
      "2022-05-21 19:47:58,255 - tinkoff.invest.logging - INFO - 534df1b95e090d92fba00f14f2e52f03 GetCandles\n",
      "2022-05-21 19:48:03,135 - tinkoff.invest.logging - INFO - b8a3f9c94f3172036614aeeaac896138 ShareBy\n"
     ]
    },
    {
     "name": "stdout",
     "output_type": "stream",
     "text": [
      "2017-CVX INIT BALANCE: 177.57 FINAL BALANCE: 177.655\n"
     ]
    },
    {
     "name": "stderr",
     "output_type": "stream",
     "text": [
      "2022-05-21 19:48:03,221 - tinkoff.invest.logging - INFO - 18e3ac83085c11af8e4ddbed01124706 GetCandles\n",
      "2022-05-21 19:48:04,205 - tinkoff.invest.logging - INFO - 15841c5e7b81a9b13578f4bdfbcdceea ShareBy\n"
     ]
    },
    {
     "name": "stdout",
     "output_type": "stream",
     "text": [
      "2017-AA INIT BALANCE: 42.900000000000006 FINAL BALANCE: 54.15000000000001\n"
     ]
    },
    {
     "name": "stderr",
     "output_type": "stream",
     "text": [
      "2022-05-21 19:48:04,326 - tinkoff.invest.logging - INFO - 3292b47ec9ec1038f20cc2026519f147 GetCandles\n"
     ]
    },
    {
     "name": "stdout",
     "output_type": "stream",
     "text": [
      "2017-CMG INIT BALANCE: 568.665 FINAL BALANCE: 509.75250000000005 + (SHARES 1)\n"
     ]
    },
    {
     "name": "stderr",
     "output_type": "stream",
     "text": [
      "2022-05-21 19:48:07,278 - tinkoff.invest.logging - INFO - 2d5565fae287a0e29c084301ed6ca669 ShareBy\n",
      "2022-05-21 19:48:07,386 - tinkoff.invest.logging - INFO - 4265b26aaeb7b18b8d9e790f1bac00cb GetCandles\n"
     ]
    },
    {
     "name": "stdout",
     "output_type": "stream",
     "text": [
      "2017-SO INIT BALANCE: 73.725 FINAL BALANCE: 74.32 + (SHARES 1)\n"
     ]
    },
    {
     "name": "stderr",
     "output_type": "stream",
     "text": [
      "2022-05-21 19:48:08,575 - tinkoff.invest.logging - INFO - 37adfe5d49cf6fc63e2a510cfa013cdc ShareBy\n",
      "2022-05-21 19:48:08,689 - tinkoff.invest.logging - INFO - 149fa5f864ab97c18e7de9ea58e656c4 GetCandles\n"
     ]
    },
    {
     "name": "stdout",
     "output_type": "stream",
     "text": [
      "2017-VZ INIT BALANCE: 80.94 FINAL BALANCE: 88.39 + (SHARES 1)\n"
     ]
    },
    {
     "name": "stderr",
     "output_type": "stream",
     "text": [
      "2022-05-21 19:48:09,681 - tinkoff.invest.logging - INFO - e3ab10c0e54540aa0814821f40149a74 ShareBy\n",
      "2022-05-21 19:48:09,792 - tinkoff.invest.logging - INFO - 06db05d551fa264845cc82cce856068e GetCandles\n"
     ]
    },
    {
     "name": "stdout",
     "output_type": "stream",
     "text": [
      "2017-LMT INIT BALANCE: 376.79999999999995 FINAL BALANCE: 442.5199999999999 + (SHARES 1)\n"
     ]
    },
    {
     "name": "stderr",
     "output_type": "stream",
     "text": [
      "2022-05-21 19:48:12,211 - tinkoff.invest.logging - INFO - 193e5f53ebc338db00998069d940be74 ShareBy\n",
      "2022-05-21 19:48:12,317 - tinkoff.invest.logging - INFO - bc1b82030e748009338936c5d2586c76 GetCandles\n"
     ]
    },
    {
     "name": "stdout",
     "output_type": "stream",
     "text": [
      "2017-EFX INIT BALANCE: 177.885 FINAL BALANCE: 176.38\n"
     ]
    },
    {
     "name": "stderr",
     "output_type": "stream",
     "text": [
      "2022-05-21 19:48:18,461 - tinkoff.invest.logging - INFO - ad619bf303ec645905dbbba01df59222 ShareBy\n",
      "2022-05-21 19:48:18,563 - tinkoff.invest.logging - INFO - 31ecef61d576c3be511a27f9634f64b5 GetCandles\n"
     ]
    },
    {
     "name": "stdout",
     "output_type": "stream",
     "text": [
      "2017-CAT INIT BALANCE: 141.0 FINAL BALANCE: 192.2 + (SHARES 1)\n"
     ]
    },
    {
     "name": "stderr",
     "output_type": "stream",
     "text": [
      "2022-05-21 19:48:23,482 - tinkoff.invest.logging - INFO - c7357241a700287360a3220cb5096fd9 ShareBy\n",
      "2022-05-21 19:48:23,554 - tinkoff.invest.logging - INFO - 792c4761a9f6af002bbc6019e1e02327 GetCandles\n",
      "2022-05-21 19:48:23,758 - tinkoff.invest.logging - INFO - a9d1a7156b46d8834b4ef94b44cad887 ShareBy\n",
      "2022-05-21 19:48:23,862 - tinkoff.invest.logging - INFO - d72b4ce304fdda204988f0c07b6f3882 GetCandles\n",
      "2022-05-21 19:48:25,048 - tinkoff.invest.logging - INFO - 0a3386f4ebf823cc75113b6a4babd1ff ShareBy\n"
     ]
    },
    {
     "name": "stdout",
     "output_type": "stream",
     "text": [
      "2017-SBUX INIT BALANCE: 83.865 FINAL BALANCE: 76.32499999999999 + (SHARES 1)\n"
     ]
    },
    {
     "name": "stderr",
     "output_type": "stream",
     "text": [
      "2022-05-21 19:48:25,144 - tinkoff.invest.logging - INFO - 8668ff1af213122c029e93e6039666b9 GetCandles\n"
     ]
    },
    {
     "name": "stdout",
     "output_type": "stream",
     "text": [
      "2017-AGN INIT BALANCE: 321.225 FINAL BALANCE: 266.5 + (SHARES 1)\n"
     ]
    },
    {
     "name": "stderr",
     "output_type": "stream",
     "text": [
      "2022-05-21 19:48:30,310 - tinkoff.invest.logging - INFO - 6ba8c7aabc531862b5b30f314af964fa ShareBy\n",
      "2022-05-21 19:48:30,416 - tinkoff.invest.logging - INFO - ec14ccdde4725421da27027afb4acc7a GetCandles\n"
     ]
    },
    {
     "name": "stdout",
     "output_type": "stream",
     "text": [
      "2017-SLB INIT BALANCE: 127.28999999999999 FINAL BALANCE: 130.445\n"
     ]
    },
    {
     "name": "stderr",
     "output_type": "stream",
     "text": [
      "2022-05-21 19:48:33,165 - tinkoff.invest.logging - INFO - 94bd953d5352afd91830ff219d9ae3d6 ShareBy\n",
      "2022-05-21 19:48:33,298 - tinkoff.invest.logging - INFO - 940c45f1da2ea77bd4f2ef26224fc8a9 GetCandles\n"
     ]
    },
    {
     "name": "stdout",
     "output_type": "stream",
     "text": [
      "2017-JNJ INIT BALANCE: 173.67000000000002 FINAL BALANCE: 187.93 + (SHARES 1)\n"
     ]
    },
    {
     "name": "stderr",
     "output_type": "stream",
     "text": [
      "2022-05-21 19:48:34,030 - tinkoff.invest.logging - INFO - 95968ca70aa339cc2882792228512f40 ShareBy\n",
      "2022-05-21 19:48:34,133 - tinkoff.invest.logging - INFO - f3f34ad697e93be43675bafc281c86da GetCandles\n"
     ]
    },
    {
     "name": "stdout",
     "output_type": "stream",
     "text": [
      "2017-T INIT BALANCE: 64.035 FINAL BALANCE: 60.495\n"
     ]
    },
    {
     "name": "stderr",
     "output_type": "stream",
     "text": [
      "2022-05-21 19:48:38,708 - tinkoff.invest.logging - INFO - 2a3a8cf8ab75ea9937905feba7c0f4d5 ShareBy\n",
      "2022-05-21 19:48:38,808 - tinkoff.invest.logging - INFO - e53abafb7930db89c7bd062fc7160e8d GetCandles\n"
     ]
    },
    {
     "name": "stdout",
     "output_type": "stream",
     "text": [
      "2017-NKE INIT BALANCE: 77.985 FINAL BALANCE: 73.19000000000001 + (SHARES 1)\n"
     ]
    },
    {
     "name": "stderr",
     "output_type": "stream",
     "text": [
      "2022-05-21 19:48:39,659 - tinkoff.invest.logging - INFO - 4f18a1e2ac5fcf19da45b4b6381eb7ec ShareBy\n",
      "2022-05-21 19:48:39,774 - tinkoff.invest.logging - INFO - 2d9ab53abb299c751622e6fa7af77a63 GetCandles\n"
     ]
    },
    {
     "name": "stdout",
     "output_type": "stream",
     "text": [
      "2017-PGR INIT BALANCE: 53.61 FINAL BALANCE: 66.155 + (SHARES 1)\n"
     ]
    },
    {
     "name": "stderr",
     "output_type": "stream",
     "text": [
      "2022-05-21 19:48:41,952 - tinkoff.invest.logging - INFO - e00c6c8c302b7e4fc8fbac6731acfcbe ShareBy\n",
      "2022-05-21 19:48:42,062 - tinkoff.invest.logging - INFO - dfccede518d6dea5711114e90f3ad3ec GetCandles\n"
     ]
    },
    {
     "name": "stdout",
     "output_type": "stream",
     "text": [
      "2017-AMGN INIT BALANCE: 221.79000000000002 FINAL BALANCE: 243.37500000000003 + (SHARES 1)\n"
     ]
    },
    {
     "name": "stderr",
     "output_type": "stream",
     "text": [
      "2022-05-21 19:48:45,000 - tinkoff.invest.logging - INFO - a6d52a202d807e84677e35af5fe61829 ShareBy\n",
      "2022-05-21 19:48:45,087 - tinkoff.invest.logging - INFO - 1a0f12eae39336d2f9d3970808026dfd GetCandles\n"
     ]
    },
    {
     "name": "stdout",
     "output_type": "stream",
     "text": [
      "2017-ICE INIT BALANCE: 85.35 FINAL BALANCE: 94.35499999999999 + (SHARES 1)\n"
     ]
    },
    {
     "name": "stderr",
     "output_type": "stream",
     "text": [
      "2022-05-21 19:48:45,745 - tinkoff.invest.logging - INFO - d9b6ca9154da191c8de63b98fb2b850d ShareBy\n",
      "2022-05-21 19:48:45,885 - tinkoff.invest.logging - INFO - c69451a737efad35db8299be3c2387d0 GetCandles\n"
     ]
    },
    {
     "name": "stdout",
     "output_type": "stream",
     "text": [
      "2017-FCX INIT BALANCE: 20.235 FINAL BALANCE: 25.045 + (SHARES 1)\n"
     ]
    },
    {
     "name": "stderr",
     "output_type": "stream",
     "text": [
      "2022-05-21 19:48:47,502 - tinkoff.invest.logging - INFO - b9f8b7871ef1f2de0ee20fbb6eee54f0 ShareBy\n",
      "2022-05-21 19:48:47,591 - tinkoff.invest.logging - INFO - daab643aec093fcbc928062314ad023f GetCandles\n",
      "2022-05-21 19:48:48,435 - tinkoff.invest.logging - INFO - 41d5b054f9323435f0bae04ab30e0ee9 ShareBy\n"
     ]
    },
    {
     "name": "stdout",
     "output_type": "stream",
     "text": [
      "2017-HD INIT BALANCE: 202.64999999999998 FINAL BALANCE: 234.63999999999996 + (SHARES 1)\n"
     ]
    },
    {
     "name": "stderr",
     "output_type": "stream",
     "text": [
      "2022-05-21 19:48:48,536 - tinkoff.invest.logging - INFO - 13a0edf85456342801ec25d528fcd404 GetCandles\n",
      "2022-05-21 19:48:51,280 - tinkoff.invest.logging - ERROR - 963ab4bb359a9ada3ff4c277b801acae ShareBy NOT_FOUND 50002\n"
     ]
    },
    {
     "name": "stdout",
     "output_type": "stream",
     "text": [
      "2017-FDX INIT BALANCE: 279.85515 FINAL BALANCE: 333.88015 + (SHARES 1)\n",
      "(<StatusCode.NOT_FOUND: (5, 'not found')>, '50002', Metadata(tracking_id='963ab4bb359a9ada3ff4c277b801acae', ratelimit_limit='200, 200;w=60', ratelimit_remaining=179, ratelimit_reset=9, message='instrument not found'))\n"
     ]
    },
    {
     "name": "stderr",
     "output_type": "stream",
     "text": [
      "2022-05-21 19:48:51,517 - tinkoff.invest.logging - INFO - da56eedf3fed4a1a98c4576d4065e67f ShareBy\n",
      "2022-05-21 19:48:51,625 - tinkoff.invest.logging - INFO - ba34be85d5b1cd3625f9d1ddf700954e GetCandles\n"
     ]
    },
    {
     "name": "stdout",
     "output_type": "stream",
     "text": [
      "2017-DAL INIT BALANCE: 74.05499999999999 FINAL BALANCE: 78.47999999999999\n"
     ]
    },
    {
     "name": "stderr",
     "output_type": "stream",
     "text": [
      "2022-05-21 19:48:53,812 - tinkoff.invest.logging - ERROR - ea573df26bd29914edce16d27c50086c ShareBy NOT_FOUND 50002\n"
     ]
    },
    {
     "name": "stdout",
     "output_type": "stream",
     "text": [
      "(<StatusCode.NOT_FOUND: (5, 'not found')>, '50002', Metadata(tracking_id='ea573df26bd29914edce16d27c50086c', ratelimit_limit='200, 200;w=60', ratelimit_remaining=177, ratelimit_reset=7, message='instrument not found'))\n"
     ]
    },
    {
     "name": "stderr",
     "output_type": "stream",
     "text": [
      "2022-05-21 19:48:54,044 - tinkoff.invest.logging - ERROR - 91da6e06b918dd777425fa8e5f44a858 ShareBy NOT_FOUND 50002\n",
      "2022-05-21 19:48:54,276 - tinkoff.invest.logging - INFO - 5d9b0f7c2ad43e62356ec52ce6874532 ShareBy\n"
     ]
    },
    {
     "name": "stdout",
     "output_type": "stream",
     "text": [
      "(<StatusCode.NOT_FOUND: (5, 'not found')>, '50002', Metadata(tracking_id='91da6e06b918dd777425fa8e5f44a858', ratelimit_limit='200, 200;w=60', ratelimit_remaining=176, ratelimit_reset=6, message='instrument not found'))\n"
     ]
    },
    {
     "name": "stderr",
     "output_type": "stream",
     "text": [
      "2022-05-21 19:48:54,385 - tinkoff.invest.logging - INFO - 5cc352077c716290aa5b6745018747cb GetCandles\n"
     ]
    },
    {
     "name": "stdout",
     "output_type": "stream",
     "text": [
      "2017-PG INIT BALANCE: 125.82 FINAL BALANCE: 128.33499999999998 + (SHARES 1)\n"
     ]
    },
    {
     "name": "stderr",
     "output_type": "stream",
     "text": [
      "2022-05-21 19:48:55,169 - tinkoff.invest.logging - INFO - 843291bef4d0da7991401e99a41e8f58 ShareBy\n",
      "2022-05-21 19:48:55,276 - tinkoff.invest.logging - INFO - 72d1b7e1c013d70c028ab77c679fd732 GetCandles\n",
      "2022-05-21 19:48:58,459 - tinkoff.invest.logging - ERROR - 7975759c42b41be0cf278e59deb33f86 ShareBy NOT_FOUND 50002\n"
     ]
    },
    {
     "name": "stdout",
     "output_type": "stream",
     "text": [
      "2017-MRK INIT BALANCE: 88.725 FINAL BALANCE: 91.68 + (SHARES 1)\n",
      "(<StatusCode.NOT_FOUND: (5, 'not found')>, '50002', Metadata(tracking_id='7975759c42b41be0cf278e59deb33f86', ratelimit_limit='200, 200;w=60', ratelimit_remaining=173, ratelimit_reset=2, message='instrument not found'))\n"
     ]
    },
    {
     "name": "stderr",
     "output_type": "stream",
     "text": [
      "2022-05-21 19:48:58,733 - tinkoff.invest.logging - INFO - 03ce93486e337242f5e77668a6018cc1 ShareBy\n",
      "2022-05-21 19:48:58,831 - tinkoff.invest.logging - INFO - dc65d64208c672ef895f0e1c36c6280e GetCandles\n"
     ]
    },
    {
     "name": "stdout",
     "output_type": "stream",
     "text": [
      "2017-PFE INIT BALANCE: 49.050000000000004 FINAL BALANCE: 52.475 + (SHARES 1)\n"
     ]
    },
    {
     "name": "stderr",
     "output_type": "stream",
     "text": [
      "2022-05-21 19:49:01,636 - tinkoff.invest.logging - INFO - 19b0a03147763eb3f9614c577dbc8ce4 ShareBy\n",
      "2022-05-21 19:49:01,773 - tinkoff.invest.logging - INFO - 73e69bda6f380237d5b105a83525f267 GetCandles\n"
     ]
    },
    {
     "name": "stdout",
     "output_type": "stream",
     "text": [
      "2017-ADP INIT BALANCE: 153.57 FINAL BALANCE: 157.895 + (SHARES 1)\n"
     ]
    },
    {
     "name": "stderr",
     "output_type": "stream",
     "text": [
      "2022-05-21 19:49:03,710 - tinkoff.invest.logging - INFO - 9c44d015cbe41d98edbe246afba4be4c ShareBy\n",
      "2022-05-21 19:49:03,813 - tinkoff.invest.logging - INFO - 29f50ff3fcb2db24a66487a5e09a936a GetCandles\n"
     ]
    },
    {
     "name": "stdout",
     "output_type": "stream",
     "text": [
      "2017-JWN INIT BALANCE: 72.36 FINAL BALANCE: 76.02 + (SHARES 1)\n"
     ]
    },
    {
     "name": "stderr",
     "output_type": "stream",
     "text": [
      "2022-05-21 19:49:07,121 - tinkoff.invest.logging - ERROR - bf040798a1185a9fca83cf1e04753dbd ShareBy NOT_FOUND 50002\n",
      "2022-05-21 19:49:07,327 - tinkoff.invest.logging - INFO - ce46c36dd815b91ef998637844c6b309 ShareBy\n"
     ]
    },
    {
     "name": "stdout",
     "output_type": "stream",
     "text": [
      "(<StatusCode.NOT_FOUND: (5, 'not found')>, '50002', Metadata(tracking_id='bf040798a1185a9fca83cf1e04753dbd', ratelimit_limit='200, 200;w=60', ratelimit_remaining=197, ratelimit_reset=53, message='instrument not found'))\n"
     ]
    },
    {
     "name": "stderr",
     "output_type": "stream",
     "text": [
      "2022-05-21 19:49:07,434 - tinkoff.invest.logging - INFO - 8e8ae76f0e19ff4d12e9da49374e3242 GetCandles\n"
     ]
    },
    {
     "name": "stdout",
     "output_type": "stream",
     "text": [
      "2017-AVGO INIT BALANCE: 267.435 FINAL BALANCE: 312.40999999999997\n"
     ]
    },
    {
     "name": "stderr",
     "output_type": "stream",
     "text": [
      "2022-05-21 19:49:11,446 - tinkoff.invest.logging - INFO - e5a47c447c7d030355063ed610fa2b90 ShareBy\n",
      "2022-05-21 19:49:11,501 - tinkoff.invest.logging - INFO - b5186c1d59c4d5d3bbd8560815d86018 GetCandles\n",
      "2022-05-21 19:49:11,731 - tinkoff.invest.logging - INFO - 2fd6920c19e513b68d34d7e16bcf15f0 ShareBy\n",
      "2022-05-21 19:49:11,832 - tinkoff.invest.logging - INFO - 47cef7c09ae0c67f4a51a39616d84c37 GetCandles\n"
     ]
    },
    {
     "name": "stdout",
     "output_type": "stream",
     "text": [
      "2017-HUM INIT BALANCE: 304.305 FINAL BALANCE: 311.41499999999996\n"
     ]
    },
    {
     "name": "stderr",
     "output_type": "stream",
     "text": [
      "2022-05-21 19:49:13,848 - tinkoff.invest.logging - INFO - bce858511c83a09d497b3b1b29ec9c11 ShareBy\n",
      "2022-05-21 19:49:13,952 - tinkoff.invest.logging - INFO - 7199022a25d647e071395c89113c5b0d GetCandles\n"
     ]
    },
    {
     "name": "stdout",
     "output_type": "stream",
     "text": [
      "2017-FMC INIT BALANCE: 85.845 FINAL BALANCE: 109.815 + (SHARES 1)\n"
     ]
    },
    {
     "name": "stderr",
     "output_type": "stream",
     "text": [
      "2022-05-21 19:49:15,296 - tinkoff.invest.logging - INFO - 85cc0cb5a071246003dd2c9a0e3ec105 ShareBy\n",
      "2022-05-21 19:49:15,386 - tinkoff.invest.logging - INFO - 38771b58ac9c3785adf0fddd784cbc51 GetCandles\n"
     ]
    },
    {
     "name": "stdout",
     "output_type": "stream",
     "text": [
      "2017-COST INIT BALANCE: 240.97500000000002 FINAL BALANCE: 254.3 + (SHARES 1)\n"
     ]
    },
    {
     "name": "stderr",
     "output_type": "stream",
     "text": [
      "2022-05-21 19:49:16,420 - tinkoff.invest.logging - INFO - 2c5c0d939ce981240704bf097b2a9329 ShareBy\n",
      "2022-05-21 19:49:16,478 - tinkoff.invest.logging - INFO - 9e0781f9eb0e1d84e5f8ec878cab4c50 GetCandles\n",
      "2022-05-21 19:49:16,704 - tinkoff.invest.logging - INFO - 214154db3eb2991ca069caff35e9b03a ShareBy\n",
      "2022-05-21 19:49:16,810 - tinkoff.invest.logging - INFO - d6f3454053553b4f09777e5b4f5155f1 GetCandles\n",
      "2022-05-21 19:49:17,382 - tinkoff.invest.logging - INFO - b42c1982149c0e0157e6c2bcb49ae2a2 ShareBy\n"
     ]
    },
    {
     "name": "stdout",
     "output_type": "stream",
     "text": [
      "2017-MCD INIT BALANCE: 182.79 FINAL BALANCE: 187.51999999999998 + (SHARES 1)\n"
     ]
    },
    {
     "name": "stderr",
     "output_type": "stream",
     "text": [
      "2022-05-21 19:49:17,488 - tinkoff.invest.logging - INFO - 1a09f2ecfcf1aa42c227642340811686 GetCandles\n"
     ]
    },
    {
     "name": "stdout",
     "output_type": "stream",
     "text": [
      "2017-LLY INIT BALANCE: 110.91 FINAL BALANCE: 111.72499999999998 + (SHARES 1)\n"
     ]
    },
    {
     "name": "stderr",
     "output_type": "stream",
     "text": [
      "2022-05-21 19:49:18,333 - tinkoff.invest.logging - INFO - e97c40e1deede1d99c8f97dd8abc55d8 ShareBy\n",
      "2022-05-21 19:49:18,436 - tinkoff.invest.logging - INFO - 97b1a09f80f1c4e28f1fc1a6bcfd67cb GetCandles\n"
     ]
    },
    {
     "name": "stdout",
     "output_type": "stream",
     "text": [
      "2017-UAL INIT BALANCE: 111.30000000000001 FINAL BALANCE: 112.685 + (SHARES 1)\n"
     ]
    },
    {
     "name": "stderr",
     "output_type": "stream",
     "text": [
      "2022-05-21 19:49:19,542 - tinkoff.invest.logging - INFO - 5cd482ad207b7fc4637efd24c8fbd865 ShareBy\n",
      "2022-05-21 19:49:19,650 - tinkoff.invest.logging - INFO - 897402968dcb84cf0dfff1d537b6675c GetCandles\n",
      "2022-05-21 19:49:21,308 - tinkoff.invest.logging - INFO - 742b4ae820078ccaab4901f8596dd43d ShareBy\n"
     ]
    },
    {
     "name": "stdout",
     "output_type": "stream",
     "text": [
      "2017-STZ INIT BALANCE: 232.64999999999998 FINAL BALANCE: 290.215 + (SHARES 1)\n"
     ]
    },
    {
     "name": "stderr",
     "output_type": "stream",
     "text": [
      "2022-05-21 19:49:21,414 - tinkoff.invest.logging - INFO - e82fafa940afdbf1c1a0534cbaddd4f7 GetCandles\n",
      "2022-05-21 19:49:24,126 - tinkoff.invest.logging - INFO - 957e430ccbcfbb5f92bcfb75d80fb9f3 ShareBy\n"
     ]
    },
    {
     "name": "stdout",
     "output_type": "stream",
     "text": [
      "2017-COP INIT BALANCE: 76.23 FINAL BALANCE: 84.30000000000001 + (SHARES 1)\n"
     ]
    },
    {
     "name": "stderr",
     "output_type": "stream",
     "text": [
      "2022-05-21 19:49:24,245 - tinkoff.invest.logging - INFO - c61d70ebeb49b99b112d48509cf46b2d GetCandles\n"
     ]
    },
    {
     "name": "stdout",
     "output_type": "stream",
     "text": [
      "2017-BBY INIT BALANCE: 65.25 FINAL BALANCE: 73.685\n"
     ]
    },
    {
     "name": "stderr",
     "output_type": "stream",
     "text": [
      "2022-05-21 19:49:25,784 - tinkoff.invest.logging - INFO - 3119cafa762fb106c891325bf4f4c709 ShareBy\n",
      "2022-05-21 19:49:25,884 - tinkoff.invest.logging - INFO - 1dd3e47dbe12b31976ad3edd265266bc GetCandles\n",
      "2022-05-21 19:49:27,562 - tinkoff.invest.logging - INFO - 2c4b79f66c499b7e2bad8be182928e50 ShareBy\n"
     ]
    },
    {
     "name": "stdout",
     "output_type": "stream",
     "text": [
      "2017-CMCSA INIT BALANCE: 52.2525 FINAL BALANCE: 56.0525 + (SHARES 1)\n"
     ]
    },
    {
     "name": "stderr",
     "output_type": "stream",
     "text": [
      "2022-05-21 19:49:27,664 - tinkoff.invest.logging - INFO - e93535574412c4fa7a875549be529ea5 GetCandles\n"
     ]
    },
    {
     "name": "stdout",
     "output_type": "stream",
     "text": [
      "2017-NOC INIT BALANCE: 351.15 FINAL BALANCE: 409.93 + (SHARES 1)\n"
     ]
    },
    {
     "name": "stderr",
     "output_type": "stream",
     "text": [
      "2022-05-21 19:49:28,959 - tinkoff.invest.logging - ERROR - fa9e3281af72550f2e8ae7beb5957ad9 ShareBy NOT_FOUND 50002\n"
     ]
    },
    {
     "name": "stdout",
     "output_type": "stream",
     "text": [
      "(<StatusCode.NOT_FOUND: (5, 'not found')>, '50002', Metadata(tracking_id='fa9e3281af72550f2e8ae7beb5957ad9', ratelimit_limit='200, 200;w=60', ratelimit_remaining=182, ratelimit_reset=32, message='instrument not found'))\n"
     ]
    },
    {
     "name": "stderr",
     "output_type": "stream",
     "text": [
      "2022-05-21 19:49:29,197 - tinkoff.invest.logging - INFO - 776c94427d9f60cadf1bb5795c07852f ShareBy\n",
      "2022-05-21 19:49:29,308 - tinkoff.invest.logging - INFO - 927279ccbd1972ea2e9cddbd053d6ffb GetCandles\n",
      "2022-05-21 19:49:30,848 - tinkoff.invest.logging - ERROR - 1f134310376a8d96cc61811613a5f458 ShareBy NOT_FOUND 50002\n"
     ]
    },
    {
     "name": "stdout",
     "output_type": "stream",
     "text": [
      "2017-AXP INIT BALANCE: 112.33500000000001 FINAL BALANCE: 133.315 + (SHARES 1)\n"
     ]
    },
    {
     "name": "stderr",
     "output_type": "stream",
     "text": [
      "2022-05-21 19:49:31,087 - tinkoff.invest.logging - INFO - 3583295af270337ce59f3a19fd1c106b ShareBy\n"
     ]
    },
    {
     "name": "stdout",
     "output_type": "stream",
     "text": [
      "(<StatusCode.NOT_FOUND: (5, 'not found')>, '50002', Metadata(tracking_id='1f134310376a8d96cc61811613a5f458', ratelimit_limit='200, 200;w=60', ratelimit_remaining=180, ratelimit_reset=30, message='instrument not found'))\n"
     ]
    },
    {
     "name": "stderr",
     "output_type": "stream",
     "text": [
      "2022-05-21 19:49:31,193 - tinkoff.invest.logging - INFO - f682d65c8c163664c567005bbe8052cf GetCandles\n"
     ]
    },
    {
     "name": "stdout",
     "output_type": "stream",
     "text": [
      "2017-BIIB INIT BALANCE: 394.9035 FINAL BALANCE: 433.61350000000004\n"
     ]
    },
    {
     "name": "stderr",
     "output_type": "stream",
     "text": [
      "2022-05-21 19:49:33,044 - tinkoff.invest.logging - INFO - 23cc2d6b361d68d020863ae728b21e8e ShareBy\n",
      "2022-05-21 19:49:33,152 - tinkoff.invest.logging - INFO - 77e0e86b2aa594c8a131d5fed31ae2ae GetCandles\n"
     ]
    },
    {
     "name": "stdout",
     "output_type": "stream",
     "text": [
      "2017-MMM INIT BALANCE: 268.245 FINAL BALANCE: 310.0 + (SHARES 1)\n"
     ]
    },
    {
     "name": "stderr",
     "output_type": "stream",
     "text": [
      "2022-05-21 19:49:33,983 - tinkoff.invest.logging - ERROR - 09ab3aa51e2989ea0e89342a7da2f4e8 ShareBy NOT_FOUND 50002\n",
      "2022-05-21 19:49:34,204 - tinkoff.invest.logging - ERROR - 565fa02bdca019d50cc84455daecd808 ShareBy NOT_FOUND 50002\n"
     ]
    },
    {
     "name": "stdout",
     "output_type": "stream",
     "text": [
      "(<StatusCode.NOT_FOUND: (5, 'not found')>, '50002', Metadata(tracking_id='09ab3aa51e2989ea0e89342a7da2f4e8', ratelimit_limit='200, 200;w=60', ratelimit_remaining=177, ratelimit_reset=27, message='instrument not found'))\n",
      "(<StatusCode.NOT_FOUND: (5, 'not found')>, '50002', Metadata(tracking_id='565fa02bdca019d50cc84455daecd808', ratelimit_limit='200, 200;w=60', ratelimit_remaining=176, ratelimit_reset=26, message='instrument not found'))\n"
     ]
    },
    {
     "name": "stderr",
     "output_type": "stream",
     "text": [
      "2022-05-21 19:49:34,437 - tinkoff.invest.logging - INFO - 0257731bf0b6e57af790d56701a2ab92 ShareBy\n",
      "2022-05-21 19:49:34,550 - tinkoff.invest.logging - INFO - f6ed419d5bf563454f10a321da6337b0 GetCandles\n"
     ]
    },
    {
     "name": "stdout",
     "output_type": "stream",
     "text": [
      "2017-NVDA INIT BALANCE: 39.150000000000006 FINAL BALANCE: 39.150000000000006\n"
     ]
    },
    {
     "name": "stderr",
     "output_type": "stream",
     "text": [
      "2022-05-21 19:49:35,219 - tinkoff.invest.logging - INFO - d41b57dd9d6e36e12a15c227f1ca997f ShareBy\n",
      "2022-05-21 19:49:35,321 - tinkoff.invest.logging - INFO - 24318ded648b4cf5dc9f94660824d09f GetCandles\n"
     ]
    },
    {
     "name": "stdout",
     "output_type": "stream",
     "text": [
      "2017-MYL INIT BALANCE: 57.72 FINAL BALANCE: 56.97999999999999\n"
     ]
    },
    {
     "name": "stderr",
     "output_type": "stream",
     "text": [
      "2022-05-21 19:49:36,073 - tinkoff.invest.logging - INFO - 1325ee618c4609b9e1b47dd515bcbfb0 ShareBy\n",
      "2022-05-21 19:49:36,179 - tinkoff.invest.logging - INFO - 330bffbc40dd3825ccfcbe58f015d374 GetCandles\n"
     ]
    },
    {
     "name": "stdout",
     "output_type": "stream",
     "text": [
      "2017-DD INIT BALANCE: 114.44265000000001 FINAL BALANCE: 126.64040000000001 + (SHARES 1)\n"
     ]
    },
    {
     "name": "stderr",
     "output_type": "stream",
     "text": [
      "2022-05-21 19:49:36,818 - tinkoff.invest.logging - INFO - 991d7163f9d48df0f8ce535f88d15471 ShareBy\n",
      "2022-05-21 19:49:36,907 - tinkoff.invest.logging - INFO - 2d04663c9e532d94e617eccb8c08b618 GetCandles\n"
     ]
    },
    {
     "name": "stdout",
     "output_type": "stream",
     "text": [
      "2017-GILD INIT BALANCE: 108.51 FINAL BALANCE: 120.105\n"
     ]
    },
    {
     "name": "stderr",
     "output_type": "stream",
     "text": [
      "2022-05-21 19:49:38,231 - tinkoff.invest.logging - INFO - d20e47229c983b7d68d454528d3d0077 ShareBy\n",
      "2022-05-21 19:49:38,321 - tinkoff.invest.logging - INFO - 96006ee04d495e5be5e0dd6d80d9c461 GetCandles\n"
     ]
    },
    {
     "name": "stdout",
     "output_type": "stream",
     "text": [
      "2017-ORCL INIT BALANCE: 57.675000000000004 FINAL BALANCE: 58.050000000000004 + (SHARES 1)\n"
     ]
    },
    {
     "name": "stderr",
     "output_type": "stream",
     "text": [
      "2022-05-21 19:49:40,478 - tinkoff.invest.logging - INFO - 2553cef8c3fef31bf73008614ca3b227 ShareBy\n",
      "2022-05-21 19:49:40,583 - tinkoff.invest.logging - INFO - 48d92f994180eec54d918a4566fa8d29 GetCandles\n"
     ]
    },
    {
     "name": "stdout",
     "output_type": "stream",
     "text": [
      "2017-ADBE INIT BALANCE: 155.145 FINAL BALANCE: 202.71000000000004 + (SHARES 1)\n"
     ]
    },
    {
     "name": "stderr",
     "output_type": "stream",
     "text": [
      "2022-05-21 19:49:43,167 - tinkoff.invest.logging - INFO - d083213c730e983b43ce4a75d3c4107a ShareBy\n",
      "2022-05-21 19:49:43,278 - tinkoff.invest.logging - INFO - ca118b327da15c9486c24a599c3c4279 GetCandles\n"
     ]
    },
    {
     "name": "stdout",
     "output_type": "stream",
     "text": [
      "2017-BIDU INIT BALANCE: 249.45000000000002 FINAL BALANCE: 310.2250000000001\n"
     ]
    },
    {
     "name": "stderr",
     "output_type": "stream",
     "text": [
      "2022-05-21 19:49:45,810 - tinkoff.invest.logging - INFO - 9403541de9166b48e24f13dd938ccd92 ShareBy\n",
      "2022-05-21 19:49:45,925 - tinkoff.invest.logging - INFO - c6e057b5d78791d677a03d08bcf2aba3 GetCandles\n"
     ]
    },
    {
     "name": "stdout",
     "output_type": "stream",
     "text": [
      "2017-VALE INIT BALANCE: 10.89405 FINAL BALANCE: 12.5527 + (SHARES 1)\n"
     ]
    },
    {
     "name": "stderr",
     "output_type": "stream",
     "text": [
      "2022-05-21 19:49:46,880 - tinkoff.invest.logging - INFO - dbd417183fe80277e20d9c6b716c88d6 ShareBy\n",
      "2022-05-21 19:49:46,989 - tinkoff.invest.logging - INFO - 082ed3b238401ffd31901b0323029532 GetCandles\n"
     ]
    },
    {
     "name": "stdout",
     "output_type": "stream",
     "text": [
      "2017-CSCO INIT BALANCE: 45.555 FINAL BALANCE: 52.99\n"
     ]
    },
    {
     "name": "stderr",
     "output_type": "stream",
     "text": [
      "2022-05-21 19:49:49,639 - tinkoff.invest.logging - INFO - ba62cf4317758c5395232278469ba101 ShareBy\n",
      "2022-05-21 19:49:49,753 - tinkoff.invest.logging - INFO - 8dd7783a02094b4596a54bfcdd0bb961 GetCandles\n"
     ]
    },
    {
     "name": "stdout",
     "output_type": "stream",
     "text": [
      "2017-SPGI INIT BALANCE: 162.615 FINAL BALANCE: 198.42000000000002 + (SHARES 1)\n"
     ]
    },
    {
     "name": "stderr",
     "output_type": "stream",
     "text": [
      "2022-05-21 19:49:50,408 - tinkoff.invest.logging - INFO - b8d1fb543ceee12cf7fd7c71c87689ec ShareBy\n",
      "2022-05-21 19:49:50,469 - tinkoff.invest.logging - INFO - 8f69c94e7e1bbba9a98921c972d712d0 GetCandles\n",
      "2022-05-21 19:49:50,696 - tinkoff.invest.logging - INFO - f8d612662e018b1c6ce9b7558dd5a424 ShareBy\n",
      "2022-05-21 19:49:50,805 - tinkoff.invest.logging - INFO - cacf89c16e0ca23c21771bc94a6f0e5b GetCandles\n"
     ]
    },
    {
     "name": "stdout",
     "output_type": "stream",
     "text": [
      "2017-AZO INIT BALANCE: 1193.3700000000001 FINAL BALANCE: 1319.27 + (SHARES 1)\n"
     ]
    },
    {
     "name": "stderr",
     "output_type": "stream",
     "text": [
      "2022-05-21 19:49:52,309 - tinkoff.invest.logging - INFO - 970155a049a93c1baa91d16a1f8261c1 ShareBy\n",
      "2022-05-21 19:49:52,394 - tinkoff.invest.logging - INFO - 04781fb4c3b41180e0d0dfe21a10710b GetCandles\n",
      "2022-05-21 19:49:53,398 - tinkoff.invest.logging - INFO - 205bb2dddfe7763620cfd06f043cb681 ShareBy\n"
     ]
    },
    {
     "name": "stdout",
     "output_type": "stream",
     "text": [
      "2017-MA INIT BALANCE: 156.615 FINAL BALANCE: 192.22500000000002 + (SHARES 1)\n"
     ]
    },
    {
     "name": "stderr",
     "output_type": "stream",
     "text": [
      "2022-05-21 19:49:53,477 - tinkoff.invest.logging - INFO - 67847ce6d1029ae3b9dbae5713334c87 GetCandles\n",
      "2022-05-21 19:49:53,702 - tinkoff.invest.logging - INFO - 3d7aa53ea48f337d951508106502c69b ShareBy\n",
      "2022-05-21 19:49:53,809 - tinkoff.invest.logging - INFO - efed80cb44984dd51590cbd2b74f7e38 GetCandles\n"
     ]
    },
    {
     "name": "stdout",
     "output_type": "stream",
     "text": [
      "2017-PM INIT BALANCE: 137.685 FINAL BALANCE: 132.45\n"
     ]
    },
    {
     "name": "stderr",
     "output_type": "stream",
     "text": [
      "2022-05-21 19:49:55,931 - tinkoff.invest.logging - INFO - aeabac7f38caa2a5ef38b6e3b11d7529 ShareBy\n",
      "2022-05-21 19:49:56,027 - tinkoff.invest.logging - INFO - a0f865fcd616426a22824477fc481ffa GetCandles\n"
     ]
    },
    {
     "name": "stdout",
     "output_type": "stream",
     "text": [
      "2017-URBN INIT BALANCE: 43.230000000000004 FINAL BALANCE: 78.42000000000002 + (SHARES 2)\n"
     ]
    },
    {
     "name": "stderr",
     "output_type": "stream",
     "text": [
      "2022-05-21 19:49:58,960 - tinkoff.invest.logging - ERROR - aacc40e61bbdcf0f5b48328f260990b0 ShareBy NOT_FOUND 50002\n",
      "2022-05-21 19:49:59,161 - tinkoff.invest.logging - INFO - 9821a26b1b5adcdc8932832bb674604a ShareBy\n"
     ]
    },
    {
     "name": "stdout",
     "output_type": "stream",
     "text": [
      "(<StatusCode.NOT_FOUND: (5, 'not found')>, '50002', Metadata(tracking_id='aacc40e61bbdcf0f5b48328f260990b0', ratelimit_limit='200, 200;w=60', ratelimit_remaining=159, ratelimit_reset=2, message='instrument not found'))\n"
     ]
    },
    {
     "name": "stderr",
     "output_type": "stream",
     "text": [
      "2022-05-21 19:49:59,261 - tinkoff.invest.logging - INFO - 6b9f3e11df53cd5cae32aa6d7379126d GetCandles\n"
     ]
    },
    {
     "name": "stdout",
     "output_type": "stream",
     "text": [
      "2017-BMY INIT BALANCE: 88.17 FINAL BALANCE: 95.935\n"
     ]
    },
    {
     "name": "stderr",
     "output_type": "stream",
     "text": [
      "2022-05-21 19:49:59,678 - tinkoff.invest.logging - INFO - 201bfc79bbd889a319fff85a3c04a2c6 ShareBy\n",
      "2022-05-21 19:49:59,769 - tinkoff.invest.logging - INFO - 30fda35ccbc3f03bf8a6eeea2e0d5776 GetCandles\n"
     ]
    },
    {
     "name": "stdout",
     "output_type": "stream",
     "text": [
      "2018-AAPL INIT BALANCE: 63.81 FINAL BALANCE: 64.03500000000004 + (SHARES 1)\n"
     ]
    },
    {
     "name": "stderr",
     "output_type": "stream",
     "text": [
      "2022-05-21 19:51:02,540 - tinkoff.invest.logging - INFO - 6631658d390c87bd41391e74d6662952 ShareBy\n",
      "2022-05-21 19:51:02,664 - tinkoff.invest.logging - INFO - 25254d25644aaf5f6d7a6bb3f39d09ae GetCandles\n"
     ]
    },
    {
     "name": "stdout",
     "output_type": "stream",
     "text": [
      "2018-MSFT INIT BALANCE: 129.1875 FINAL BALANCE: 137.9875 + (SHARES 1)\n"
     ]
    },
    {
     "name": "stderr",
     "output_type": "stream",
     "text": [
      "2022-05-21 19:51:04,977 - tinkoff.invest.logging - INFO - a3781a2ef3cc1d9c8a39d45109983430 ShareBy\n",
      "2022-05-21 19:51:05,092 - tinkoff.invest.logging - INFO - 291e24e3387aa419c9cc26f36ab4a6c0 GetCandles\n"
     ]
    },
    {
     "name": "stdout",
     "output_type": "stream",
     "text": [
      "2018-BAC INIT BALANCE: 44.625 FINAL BALANCE: 43.91000000000001\n"
     ]
    },
    {
     "name": "stderr",
     "output_type": "stream",
     "text": [
      "2022-05-21 19:51:08,445 - tinkoff.invest.logging - INFO - e4977008855feb8644b15b1565f19e2e ShareBy\n",
      "2022-05-21 19:51:08,549 - tinkoff.invest.logging - INFO - 408bbe650cd853463ff39a53dd238953 GetCandles\n"
     ]
    },
    {
     "name": "stdout",
     "output_type": "stream",
     "text": [
      "2018-AMZN INIT BALANCE: 1758.0 FINAL BALANCE: 1810.8149999999998\n"
     ]
    },
    {
     "name": "stderr",
     "output_type": "stream",
     "text": [
      "2022-05-21 19:51:11,119 - tinkoff.invest.logging - INFO - 30bb5c071b8f2280538acc42e0eb5434 ShareBy\n",
      "2022-05-21 19:51:11,218 - tinkoff.invest.logging - INFO - 6b9bac91873bb30da9ff1bb5ade6c0b3 GetCandles\n"
     ]
    },
    {
     "name": "stdout",
     "output_type": "stream",
     "text": [
      "2018-NWSA INIT BALANCE: 24.450000000000003 FINAL BALANCE: 24.450000000000003\n"
     ]
    },
    {
     "name": "stderr",
     "output_type": "stream",
     "text": [
      "2022-05-21 19:51:11,829 - tinkoff.invest.logging - INFO - 67f6b24bb08d87e2ad91b252caea2429 ShareBy\n",
      "2022-05-21 19:51:11,927 - tinkoff.invest.logging - INFO - b00537d748abf0f2c88e535617e80e7c GetCandles\n"
     ]
    },
    {
     "name": "stdout",
     "output_type": "stream",
     "text": [
      "2018-BA INIT BALANCE: 443.625 FINAL BALANCE: 456.7050000000001 + (SHARES 1)\n"
     ]
    },
    {
     "name": "stderr",
     "output_type": "stream",
     "text": [
      "2022-05-21 19:51:15,663 - tinkoff.invest.logging - INFO - b321508583491163932f03f7b47a0148 ShareBy\n",
      "2022-05-21 19:51:15,785 - tinkoff.invest.logging - INFO - 8d496cbd271158ec42914c21d84cd2ca GetCandles\n"
     ]
    },
    {
     "name": "stdout",
     "output_type": "stream",
     "text": [
      "2018-GOOGL INIT BALANCE: 1579.8000000000002 FINAL BALANCE: 1535.4700000000003 + (SHARES 1)\n"
     ]
    },
    {
     "name": "stderr",
     "output_type": "stream",
     "text": [
      "2022-05-21 19:51:17,290 - tinkoff.invest.logging - INFO - 8fa24303883ac1b28ed4ad11042a0ed7 ShareBy\n",
      "2022-05-21 19:51:17,380 - tinkoff.invest.logging - INFO - 8339836469184a936c7e439e73080fe4 GetCandles\n"
     ]
    },
    {
     "name": "stdout",
     "output_type": "stream",
     "text": [
      "2018-GS INIT BALANCE: 386.655 FINAL BALANCE: 317.7149999999999 + (SHARES 1)\n"
     ]
    },
    {
     "name": "stderr",
     "output_type": "stream",
     "text": [
      "2022-05-21 19:51:29,526 - tinkoff.invest.logging - INFO - 1edc0523685892290de685c784666d3a ShareBy\n",
      "2022-05-21 19:51:29,631 - tinkoff.invest.logging - INFO - b4c7f80aebd59eabbdd1646e1f9b922f GetCandles\n"
     ]
    },
    {
     "name": "stdout",
     "output_type": "stream",
     "text": [
      "2018-TSLA INIT BALANCE: 93.6 FINAL BALANCE: 98.165 + (SHARES 1)\n"
     ]
    },
    {
     "name": "stderr",
     "output_type": "stream",
     "text": [
      "2022-05-21 19:51:33,115 - tinkoff.invest.logging - INFO - 52e086c808566cadca541e6a1067121b ShareBy\n",
      "2022-05-21 19:51:33,227 - tinkoff.invest.logging - INFO - 9c2540205536cef824670ab2f99e9ae6 GetCandles\n"
     ]
    },
    {
     "name": "stdout",
     "output_type": "stream",
     "text": [
      "2018-NFLX INIT BALANCE: 294.15 FINAL BALANCE: 543.21 + (SHARES 2)\n"
     ]
    },
    {
     "name": "stderr",
     "output_type": "stream",
     "text": [
      "2022-05-21 19:51:56,343 - tinkoff.invest.logging - INFO - a3ea2f34256b9f18cf98c63ef7379dcf ShareBy\n",
      "2022-05-21 19:51:56,453 - tinkoff.invest.logging - INFO - 2a03115f3ae2e1f668700eb955b59829 GetCandles\n",
      "2022-05-21 19:52:03,453 - tinkoff.invest.logging - INFO - 00cddfc90760b983d46209e3f47ea0eb ShareBy\n"
     ]
    },
    {
     "name": "stdout",
     "output_type": "stream",
     "text": [
      "2018-TGT INIT BALANCE: 98.92500000000001 FINAL BALANCE: 112.5950000000001\n"
     ]
    },
    {
     "name": "stderr",
     "output_type": "stream",
     "text": [
      "2022-05-21 19:52:03,534 - tinkoff.invest.logging - INFO - 1cb5f6d745f01621960eb1b7ea77df2e GetCandles\n"
     ]
    },
    {
     "name": "stdout",
     "output_type": "stream",
     "text": [
      "2018-INTC INIT BALANCE: 69.57000000000001 FINAL BALANCE: 71.375 + (SHARES 1)\n"
     ]
    },
    {
     "name": "stderr",
     "output_type": "stream",
     "text": [
      "2022-05-21 19:52:05,497 - tinkoff.invest.logging - INFO - ecfd1ad121138edbd37cae8e55192a47 ShareBy\n",
      "2022-05-21 19:52:05,606 - tinkoff.invest.logging - INFO - e861fa6cfa8899909b898eed6859ab84 GetCandles\n"
     ]
    },
    {
     "name": "stdout",
     "output_type": "stream",
     "text": [
      "2018-DIS INIT BALANCE: 163.425 FINAL BALANCE: 166.625 + (SHARES 1)\n"
     ]
    },
    {
     "name": "stderr",
     "output_type": "stream",
     "text": [
      "2022-05-21 19:52:10,201 - tinkoff.invest.logging - INFO - 24d885a54787aea54200560686ba01bc ShareBy\n",
      "2022-05-21 19:52:10,287 - tinkoff.invest.logging - INFO - 220cd435c367172f3671fcc32ad83c64 GetCandles\n"
     ]
    },
    {
     "name": "stdout",
     "output_type": "stream",
     "text": [
      "2018-XOM INIT BALANCE: 125.72999999999999 FINAL BALANCE: 118.35\n"
     ]
    },
    {
     "name": "stderr",
     "output_type": "stream",
     "text": [
      "2022-05-21 19:52:13,494 - tinkoff.invest.logging - INFO - 850998e0f57e52eed70b726a53764244 ShareBy\n",
      "2022-05-21 19:52:13,595 - tinkoff.invest.logging - INFO - fe3eeab2a2348c6af88f2efeb5363b17 GetCandles\n"
     ]
    },
    {
     "name": "stdout",
     "output_type": "stream",
     "text": [
      "2018-JPM INIT BALANCE: 161.445 FINAL BALANCE: 161.90000000000003\n"
     ]
    },
    {
     "name": "stderr",
     "output_type": "stream",
     "text": [
      "2022-05-21 19:52:23,356 - tinkoff.invest.logging - INFO - f4c7216ee7ba238d3122e718d3247d8e ShareBy\n",
      "2022-05-21 19:52:23,470 - tinkoff.invest.logging - INFO - a16e32dae7536158032325c182566d1d GetCandles\n"
     ]
    },
    {
     "name": "stdout",
     "output_type": "stream",
     "text": [
      "2018-MS INIT BALANCE: 79.14 FINAL BALANCE: 72.10499999999999\n"
     ]
    },
    {
     "name": "stderr",
     "output_type": "stream",
     "text": [
      "2022-05-21 19:52:31,690 - tinkoff.invest.logging - INFO - 52b661b4e694a3c8a1648c791cbb7472 ShareBy\n",
      "2022-05-21 19:52:31,803 - tinkoff.invest.logging - INFO - fd85edda2c6dd974b8cb3f4932b7ceeb GetCandles\n",
      "2022-05-21 19:52:38,924 - tinkoff.invest.logging - INFO - b06ae1a1b7a913363d5fdeb62c85eb93 ShareBy\n"
     ]
    },
    {
     "name": "stdout",
     "output_type": "stream",
     "text": [
      "2018-GM INIT BALANCE: 61.86 FINAL BALANCE: 63.794999999999995\n"
     ]
    },
    {
     "name": "stderr",
     "output_type": "stream",
     "text": [
      "2022-05-21 19:52:39,034 - tinkoff.invest.logging - INFO - 5708c041e6bec646e99e42cb1ba23784 GetCandles\n"
     ]
    },
    {
     "name": "stdout",
     "output_type": "stream",
     "text": [
      "2018-C INIT BALANCE: 113.85000000000001 FINAL BALANCE: 99.41000000000003\n"
     ]
    },
    {
     "name": "stderr",
     "output_type": "stream",
     "text": [
      "2022-05-21 19:52:42,691 - tinkoff.invest.logging - INFO - c2bf5fbe0d9d33807bd08ea0090702db ShareBy\n",
      "2022-05-21 19:52:42,796 - tinkoff.invest.logging - INFO - 1589855c9b622b95ac05519900b61e76 GetCandles\n"
     ]
    },
    {
     "name": "stdout",
     "output_type": "stream",
     "text": [
      "2018-GE INIT BALANCE: 210.95999999999998 FINAL BALANCE: 203.3849999999999\n"
     ]
    },
    {
     "name": "stderr",
     "output_type": "stream",
     "text": [
      "2022-05-21 19:52:48,710 - tinkoff.invest.logging - INFO - 19eb1a72fc9673c0bd75afe57ec852fa ShareBy\n",
      "2022-05-21 19:52:48,824 - tinkoff.invest.logging - INFO - 1301034120e3b494df338b041ba2f320 GetCandles\n"
     ]
    },
    {
     "name": "stdout",
     "output_type": "stream",
     "text": [
      "2018-MU INIT BALANCE: 62.31 FINAL BALANCE: 45.65000000000001\n"
     ]
    },
    {
     "name": "stderr",
     "output_type": "stream",
     "text": [
      "2022-05-21 19:52:53,522 - tinkoff.invest.logging - INFO - 3419ab3dca2c3145343bdda798df0ca8 ShareBy\n",
      "2022-05-21 19:52:53,586 - tinkoff.invest.logging - INFO - 46ad6470b2124573aa5dff4eb877a059 GetCandles\n",
      "2022-05-21 19:52:53,810 - tinkoff.invest.logging - INFO - 980111b52b8af999397bea63de62c701 ShareBy\n",
      "2022-05-21 19:52:53,918 - tinkoff.invest.logging - INFO - d9e72c196ce8aa26040c78176a43a2c3 GetCandles\n"
     ]
    },
    {
     "name": "stdout",
     "output_type": "stream",
     "text": [
      "2018-WMB INIT BALANCE: 46.005 FINAL BALANCE: 45.855000000000004\n"
     ]
    },
    {
     "name": "stderr",
     "output_type": "stream",
     "text": [
      "2022-05-21 19:52:54,672 - tinkoff.invest.logging - INFO - 0ffc7e6a9df091a8ba5a0d78143a0790 ShareBy\n",
      "2022-05-21 19:52:54,758 - tinkoff.invest.logging - INFO - 9e6f1f739b305f21890c7921d53777ac GetCandles\n"
     ]
    },
    {
     "name": "stdout",
     "output_type": "stream",
     "text": [
      "2018-KO INIT BALANCE: 68.865 FINAL BALANCE: 68.41499999999999 + (SHARES 1)\n"
     ]
    },
    {
     "name": "stderr",
     "output_type": "stream",
     "text": [
      "2022-05-21 19:52:56,277 - tinkoff.invest.logging - INFO - 0074ae569fbeef592009270ba5e862e4 ShareBy\n",
      "2022-05-21 19:52:56,368 - tinkoff.invest.logging - INFO - d5226fb16919f9d1dd6825a20efaaf7e GetCandles\n",
      "2022-05-21 19:52:57,513 - tinkoff.invest.logging - INFO - 8fcd8a659e169f662e11e3d1d3fb7639 ShareBy\n"
     ]
    },
    {
     "name": "stdout",
     "output_type": "stream",
     "text": [
      "2018-WFC INIT BALANCE: 92.1 FINAL BALANCE: 81.93 + (SHARES 1)\n"
     ]
    },
    {
     "name": "stderr",
     "output_type": "stream",
     "text": [
      "2022-05-21 19:52:57,623 - tinkoff.invest.logging - INFO - ea3ffc0ebe2320cec5b7ccf863c6ef4e GetCandles\n"
     ]
    },
    {
     "name": "stdout",
     "output_type": "stream",
     "text": [
      "2018-WMT INIT BALANCE: 148.95 FINAL BALANCE: 157.555 + (SHARES 1)\n"
     ]
    },
    {
     "name": "stderr",
     "output_type": "stream",
     "text": [
      "2022-05-21 19:52:58,877 - tinkoff.invest.logging - INFO - 7a0cd2d85f10b103b81a229c2a8ec960 ShareBy\n",
      "2022-05-21 19:52:58,983 - tinkoff.invest.logging - INFO - 637f26118e51de469c4cb9db63791b13 GetCandles\n"
     ]
    },
    {
     "name": "stdout",
     "output_type": "stream",
     "text": [
      "2018-IBM INIT BALANCE: 231.75 FINAL BALANCE: 197.00999999999993 + (SHARES 1)\n"
     ]
    },
    {
     "name": "stderr",
     "output_type": "stream",
     "text": [
      "2022-05-21 19:53:11,518 - tinkoff.invest.logging - INFO - 07c025d4ca96b4baebd5eb5b81f6e261 ShareBy\n",
      "2022-05-21 19:53:11,573 - tinkoff.invest.logging - INFO - 97ae0d09b4ce190c7442b379f05b942a GetCandles\n",
      "2022-05-21 19:53:11,804 - tinkoff.invest.logging - INFO - 46a376f30bc9e1d970a87430e84ecbed ShareBy\n",
      "2022-05-21 19:53:11,911 - tinkoff.invest.logging - INFO - 1e576b12e0bea7d1fc9e9f1351bb6277 GetCandles\n"
     ]
    },
    {
     "name": "stdout",
     "output_type": "stream",
     "text": [
      "2018-BLK INIT BALANCE: 778.17 FINAL BALANCE: 623.5400000000001\n"
     ]
    },
    {
     "name": "stderr",
     "output_type": "stream",
     "text": [
      "2022-05-21 19:53:18,140 - tinkoff.invest.logging - INFO - a887c5deda94ee66cb0ded86bbdced3b ShareBy\n",
      "2022-05-21 19:53:18,256 - tinkoff.invest.logging - INFO - 8190654210fe5f2b160667c1558e9159 GetCandles\n"
     ]
    },
    {
     "name": "stdout",
     "output_type": "stream",
     "text": [
      "2018-CME INIT BALANCE: 219.18 FINAL BALANCE: 235.47000000000003 + (SHARES 1)\n"
     ]
    },
    {
     "name": "stderr",
     "output_type": "stream",
     "text": [
      "2022-05-21 19:53:19,888 - tinkoff.invest.logging - INFO - 6987969e66daf94b86a7bcdddba43e90 ShareBy\n",
      "2022-05-21 19:53:19,997 - tinkoff.invest.logging - INFO - e56deddfac2dea274765dff1614797fb GetCandles\n"
     ]
    },
    {
     "name": "stdout",
     "output_type": "stream",
     "text": [
      "2018-CVX INIT BALANCE: 188.565 FINAL BALANCE: 184.91000000000003 + (SHARES 1)\n"
     ]
    },
    {
     "name": "stderr",
     "output_type": "stream",
     "text": [
      "2022-05-21 19:53:24,634 - tinkoff.invest.logging - INFO - f151f77ead95a011a8edfd98c9302746 ShareBy\n",
      "2022-05-21 19:53:24,738 - tinkoff.invest.logging - INFO - 6172793a93a81db2dc396e79449ff63c GetCandles\n"
     ]
    },
    {
     "name": "stdout",
     "output_type": "stream",
     "text": [
      "2018-AA INIT BALANCE: 81.9 FINAL BALANCE: 55.22500000000001 + (SHARES 1)\n"
     ]
    },
    {
     "name": "stderr",
     "output_type": "stream",
     "text": [
      "2022-05-21 19:53:25,473 - tinkoff.invest.logging - INFO - cecf0e3019722fb3510706eac2a7a553 ShareBy\n",
      "2022-05-21 19:53:25,597 - tinkoff.invest.logging - INFO - b5362100410160ddd0f21e4dd6987c41 GetCandles\n"
     ]
    },
    {
     "name": "stdout",
     "output_type": "stream",
     "text": [
      "2018-CMG INIT BALANCE: 436.34999999999997 FINAL BALANCE: 605.795 + (SHARES 1)\n"
     ]
    },
    {
     "name": "stderr",
     "output_type": "stream",
     "text": [
      "2022-05-21 19:53:27,023 - tinkoff.invest.logging - INFO - 59db7ab7a9e42121597debe53fe1e507 ShareBy\n",
      "2022-05-21 19:53:27,110 - tinkoff.invest.logging - INFO - 2df84a69193189d661542372f2798670 GetCandles\n",
      "2022-05-21 19:53:29,270 - tinkoff.invest.logging - INFO - c2180510ccc36f84f0050950dae231c8 ShareBy\n"
     ]
    },
    {
     "name": "stdout",
     "output_type": "stream",
     "text": [
      "2018-SO INIT BALANCE: 72.15 FINAL BALANCE: 67.33500000000001 + (SHARES 1)\n"
     ]
    },
    {
     "name": "stderr",
     "output_type": "stream",
     "text": [
      "2022-05-21 19:53:29,372 - tinkoff.invest.logging - INFO - dba59642a05361c65842c0bc4aa5b980 GetCandles\n"
     ]
    },
    {
     "name": "stdout",
     "output_type": "stream",
     "text": [
      "2018-VZ INIT BALANCE: 79.74 FINAL BALANCE: 78.12 + (SHARES 1)\n"
     ]
    },
    {
     "name": "stderr",
     "output_type": "stream",
     "text": [
      "2022-05-21 19:53:30,334 - tinkoff.invest.logging - INFO - 69a932ff17fd27454b4fc4b366bc2b54 ShareBy\n",
      "2022-05-21 19:53:30,441 - tinkoff.invest.logging - INFO - 1a8447ad73e02ec5b64828c1cdf72c9b GetCandles\n"
     ]
    },
    {
     "name": "stdout",
     "output_type": "stream",
     "text": [
      "2018-LMT INIT BALANCE: 483.0 FINAL BALANCE: 404.64 + (SHARES 1)\n"
     ]
    },
    {
     "name": "stderr",
     "output_type": "stream",
     "text": [
      "2022-05-21 19:53:32,830 - tinkoff.invest.logging - INFO - 496218d011c6321e3dd9144901de5be2 ShareBy\n",
      "2022-05-21 19:53:32,955 - tinkoff.invest.logging - INFO - aceedec742f832c8194ddadcc16b655d GetCandles\n"
     ]
    },
    {
     "name": "stdout",
     "output_type": "stream",
     "text": [
      "2018-EFX INIT BALANCE: 177.255 FINAL BALANCE: 179.1\n"
     ]
    },
    {
     "name": "stderr",
     "output_type": "stream",
     "text": [
      "2022-05-21 19:53:35,159 - tinkoff.invest.logging - INFO - 6df34e5ec97612f2b590d08e42cbf8e9 ShareBy\n",
      "2022-05-21 19:53:35,249 - tinkoff.invest.logging - INFO - a0e2d6b5f85eeedbe182bb95bb5defdb GetCandles\n"
     ]
    },
    {
     "name": "stdout",
     "output_type": "stream",
     "text": [
      "2018-CAT INIT BALANCE: 237.45000000000002 FINAL BALANCE: 204.22499999999997\n"
     ]
    },
    {
     "name": "stderr",
     "output_type": "stream",
     "text": [
      "2022-05-21 19:53:39,234 - tinkoff.invest.logging - INFO - 627ccc09d13f462eac53bd776c30628d ShareBy\n",
      "2022-05-21 19:53:39,292 - tinkoff.invest.logging - INFO - e5eef1c1de622f6fa7af202b026c8d82 GetCandles\n",
      "2022-05-21 19:53:39,506 - tinkoff.invest.logging - INFO - bd87959ea7dc4948b4631e76fe0c7a81 ShareBy\n",
      "2022-05-21 19:53:39,608 - tinkoff.invest.logging - INFO - 2338c4359d04b709ff66d1721ed04681 GetCandles\n"
     ]
    },
    {
     "name": "stdout",
     "output_type": "stream",
     "text": [
      "2018-SBUX INIT BALANCE: 86.92500000000001 FINAL BALANCE: 84.35000000000002 + (SHARES 1)\n"
     ]
    },
    {
     "name": "stderr",
     "output_type": "stream",
     "text": [
      "2022-05-21 19:53:41,790 - tinkoff.invest.logging - INFO - 6da371781df9db58805b0bc088f16757 ShareBy\n",
      "2022-05-21 19:53:41,896 - tinkoff.invest.logging - INFO - 227d46d9b9b510786fcb1fde9d738b33 GetCandles\n"
     ]
    },
    {
     "name": "stdout",
     "output_type": "stream",
     "text": [
      "2018-AGN INIT BALANCE: 246.75 FINAL BALANCE: 180.91500000000005\n"
     ]
    },
    {
     "name": "stderr",
     "output_type": "stream",
     "text": [
      "2022-05-21 19:53:45,946 - tinkoff.invest.logging - INFO - 7eb8b141a0e38f2bde89d339bfb3b986 ShareBy\n",
      "2022-05-21 19:53:46,055 - tinkoff.invest.logging - INFO - f37cf49a242038a16b2822ed6c82cb6c GetCandles\n"
     ]
    },
    {
     "name": "stdout",
     "output_type": "stream",
     "text": [
      "2018-SLB INIT BALANCE: 103.05000000000001 FINAL BALANCE: 54.759999999999984 + (SHARES 1)\n"
     ]
    },
    {
     "name": "stderr",
     "output_type": "stream",
     "text": [
      "2022-05-21 19:53:49,424 - tinkoff.invest.logging - INFO - 4c4f0b96891197fab44827f2450fed3a ShareBy\n",
      "2022-05-21 19:53:49,522 - tinkoff.invest.logging - INFO - 6141f4cb1610e277e6ae51253390039e GetCandles\n",
      "2022-05-21 19:53:50,909 - tinkoff.invest.logging - INFO - 577b341c8247ae9b53641bd9f185c81b ShareBy\n"
     ]
    },
    {
     "name": "stdout",
     "output_type": "stream",
     "text": [
      "2018-JNJ INIT BALANCE: 209.49 FINAL BALANCE: 178.20000000000002 + (SHARES 1)\n"
     ]
    },
    {
     "name": "stderr",
     "output_type": "stream",
     "text": [
      "2022-05-21 19:53:51,013 - tinkoff.invest.logging - INFO - 5845ba4e9ddb2980b63e7f25c0da5cf9 GetCandles\n"
     ]
    },
    {
     "name": "stdout",
     "output_type": "stream",
     "text": [
      "2018-T INIT BALANCE: 59.400000000000006 FINAL BALANCE: 54.785 + (SHARES 1)\n"
     ]
    },
    {
     "name": "stderr",
     "output_type": "stream",
     "text": [
      "2022-05-21 19:53:57,412 - tinkoff.invest.logging - INFO - 517bcc86a6c0501949a96c448d9c3c78 ShareBy\n",
      "2022-05-21 19:53:57,520 - tinkoff.invest.logging - INFO - ca4f9af1018ad98986aa8f0b0d10addf GetCandles\n"
     ]
    },
    {
     "name": "stdout",
     "output_type": "stream",
     "text": [
      "2018-NKE INIT BALANCE: 94.275 FINAL BALANCE: 96.83 + (SHARES 1)\n"
     ]
    },
    {
     "name": "stderr",
     "output_type": "stream",
     "text": [
      "2022-05-21 19:53:58,595 - tinkoff.invest.logging - INFO - 676d4d11e74cf69f97754d6c1c551d43 ShareBy\n",
      "2022-05-21 19:53:58,708 - tinkoff.invest.logging - INFO - 67903563e36ddadcb78825f50fde0776 GetCandles\n"
     ]
    },
    {
     "name": "stdout",
     "output_type": "stream",
     "text": [
      "2018-PGR INIT BALANCE: 84.69 FINAL BALANCE: 90.87 + (SHARES 1)\n"
     ]
    },
    {
     "name": "stderr",
     "output_type": "stream",
     "text": [
      "2022-05-21 19:54:01,406 - tinkoff.invest.logging - INFO - 6f5a99d47791c8d944715f94bce8363f ShareBy\n",
      "2022-05-21 19:54:01,510 - tinkoff.invest.logging - INFO - 5eac75a5cc23f84bc62c9853e54f978f GetCandles\n"
     ]
    },
    {
     "name": "stdout",
     "output_type": "stream",
     "text": [
      "2018-AMGN INIT BALANCE: 263.025 FINAL BALANCE: 290.16499999999996 + (SHARES 1)\n"
     ]
    },
    {
     "name": "stderr",
     "output_type": "stream",
     "text": [
      "2022-05-21 19:54:05,180 - tinkoff.invest.logging - INFO - 9dc692419db6a6147595ca70c5f2ddc0 ShareBy\n",
      "2022-05-21 19:54:05,288 - tinkoff.invest.logging - INFO - 7d48aeea46278fa1c5d84b6076f128ff GetCandles\n"
     ]
    },
    {
     "name": "stdout",
     "output_type": "stream",
     "text": [
      "2018-ICE INIT BALANCE: 106.155 FINAL BALANCE: 109.57 + (SHARES 1)\n"
     ]
    },
    {
     "name": "stderr",
     "output_type": "stream",
     "text": [
      "2022-05-21 19:54:06,495 - tinkoff.invest.logging - INFO - 985330fb71f967b5f4380a102a38fff8 ShareBy\n",
      "2022-05-21 19:54:06,607 - tinkoff.invest.logging - INFO - c0edacd6974ebcdadd46288883f37624 GetCandles\n"
     ]
    },
    {
     "name": "stdout",
     "output_type": "stream",
     "text": [
      "2018-FCX INIT BALANCE: 29.25 FINAL BALANCE: 23.240000000000002 + (SHARES 1)\n"
     ]
    },
    {
     "name": "stderr",
     "output_type": "stream",
     "text": [
      "2022-05-21 19:54:07,976 - tinkoff.invest.logging - INFO - d84934bd873dc1c14021459bea377a76 ShareBy\n",
      "2022-05-21 19:54:08,085 - tinkoff.invest.logging - INFO - 97defce751affdea9d170ad64c037c20 GetCandles\n"
     ]
    },
    {
     "name": "stdout",
     "output_type": "stream",
     "text": [
      "2018-HD INIT BALANCE: 285.315 FINAL BALANCE: 262.1\n"
     ]
    },
    {
     "name": "stderr",
     "output_type": "stream",
     "text": [
      "2022-05-21 19:54:09,460 - tinkoff.invest.logging - INFO - 5548405ec796db275feb7e347ec3627a ShareBy\n",
      "2022-05-21 19:54:09,549 - tinkoff.invest.logging - INFO - bd80b9dd6a813be5b295d7afe1f1db54 GetCandles\n"
     ]
    },
    {
     "name": "stdout",
     "output_type": "stream",
     "text": [
      "2018-FDX INIT BALANCE: 376.245 FINAL BALANCE: 327.83\n"
     ]
    },
    {
     "name": "stderr",
     "output_type": "stream",
     "text": [
      "2022-05-21 19:54:13,913 - tinkoff.invest.logging - ERROR - 153ebf2fbb92fa62c82bf26d44b14b3e ShareBy NOT_FOUND 50002\n"
     ]
    },
    {
     "name": "stdout",
     "output_type": "stream",
     "text": [
      "(<StatusCode.NOT_FOUND: (5, 'not found')>, '50002', Metadata(tracking_id='153ebf2fbb92fa62c82bf26d44b14b3e', ratelimit_limit='200, 200;w=60', ratelimit_remaining=194, ratelimit_reset=47, message='instrument not found'))\n"
     ]
    },
    {
     "name": "stderr",
     "output_type": "stream",
     "text": [
      "2022-05-21 19:54:14,141 - tinkoff.invest.logging - INFO - 2b6a3baa2ecdef39f6a5b7ee6c4eb296 ShareBy\n",
      "2022-05-21 19:54:14,247 - tinkoff.invest.logging - INFO - 80d340ea23ca968c9f972596eea6d4f4 GetCandles\n"
     ]
    },
    {
     "name": "stdout",
     "output_type": "stream",
     "text": [
      "2018-DAL INIT BALANCE: 84.435 FINAL BALANCE: 77.025\n"
     ]
    },
    {
     "name": "stderr",
     "output_type": "stream",
     "text": [
      "2022-05-21 19:54:16,081 - tinkoff.invest.logging - ERROR - 9f417c0813795318d519681e5a619df2 ShareBy NOT_FOUND 50002\n"
     ]
    },
    {
     "name": "stdout",
     "output_type": "stream",
     "text": [
      "(<StatusCode.NOT_FOUND: (5, 'not found')>, '50002', Metadata(tracking_id='9f417c0813795318d519681e5a619df2', ratelimit_limit='200, 200;w=60', ratelimit_remaining=192, ratelimit_reset=44, message='instrument not found'))\n"
     ]
    },
    {
     "name": "stderr",
     "output_type": "stream",
     "text": [
      "2022-05-21 19:54:16,315 - tinkoff.invest.logging - ERROR - e18ee1086c72bb67ab7d0774d98e4824 ShareBy NOT_FOUND 50002\n",
      "2022-05-21 19:54:16,541 - tinkoff.invest.logging - INFO - 749358e2a3acb30ae4628015f5fbd77c ShareBy\n"
     ]
    },
    {
     "name": "stdout",
     "output_type": "stream",
     "text": [
      "(<StatusCode.NOT_FOUND: (5, 'not found')>, '50002', Metadata(tracking_id='e18ee1086c72bb67ab7d0774d98e4824', ratelimit_limit='200, 200;w=60', ratelimit_remaining=191, ratelimit_reset=44, message='instrument not found'))\n"
     ]
    },
    {
     "name": "stderr",
     "output_type": "stream",
     "text": [
      "2022-05-21 19:54:16,628 - tinkoff.invest.logging - INFO - 43895f5ac102b4b63ed7ada7ea4bb6f9 GetCandles\n"
     ]
    },
    {
     "name": "stdout",
     "output_type": "stream",
     "text": [
      "2018-PG INIT BALANCE: 137.88 FINAL BALANCE: 150.32999999999998 + (SHARES 1)\n"
     ]
    },
    {
     "name": "stderr",
     "output_type": "stream",
     "text": [
      "2022-05-21 19:54:18,346 - tinkoff.invest.logging - INFO - a46f638311b9438d72ab973d95829071 ShareBy\n",
      "2022-05-21 19:54:18,461 - tinkoff.invest.logging - INFO - c93261ebefbc849e08399b9d35cc0045 GetCandles\n"
     ]
    },
    {
     "name": "stdout",
     "output_type": "stream",
     "text": [
      "2018-MRK INIT BALANCE: 84.885 FINAL BALANCE: 100.27999999999999 + (SHARES 1)\n"
     ]
    },
    {
     "name": "stderr",
     "output_type": "stream",
     "text": [
      "2022-05-21 19:54:20,643 - tinkoff.invest.logging - ERROR - a4c7d42df114c3d6af8f91aba8e3e747 ShareBy NOT_FOUND 50002\n",
      "2022-05-21 19:54:20,873 - tinkoff.invest.logging - INFO - bce52aa334b50f60dba4c259df86e3fc ShareBy\n"
     ]
    },
    {
     "name": "stdout",
     "output_type": "stream",
     "text": [
      "(<StatusCode.NOT_FOUND: (5, 'not found')>, '50002', Metadata(tracking_id='a4c7d42df114c3d6af8f91aba8e3e747', ratelimit_limit='200, 200;w=60', ratelimit_remaining=188, ratelimit_reset=40, message='instrument not found'))\n"
     ]
    },
    {
     "name": "stderr",
     "output_type": "stream",
     "text": [
      "2022-05-21 19:54:20,968 - tinkoff.invest.logging - INFO - 0a7ccafd2873041ff9a1279b2c03fbfa GetCandles\n"
     ]
    },
    {
     "name": "stdout",
     "output_type": "stream",
     "text": [
      "2018-PFE INIT BALANCE: 54.57000000000001 FINAL BALANCE: 57.430000000000014 + (SHARES 1)\n"
     ]
    },
    {
     "name": "stderr",
     "output_type": "stream",
     "text": [
      "2022-05-21 19:54:24,449 - tinkoff.invest.logging - INFO - 1321ee2ab44b017567517f1f7c1134a0 ShareBy\n",
      "2022-05-21 19:54:24,557 - tinkoff.invest.logging - INFO - 38bf680e8d5efac1816044e2c4b53bc7 GetCandles\n"
     ]
    },
    {
     "name": "stdout",
     "output_type": "stream",
     "text": [
      "2018-ADP INIT BALANCE: 174.45 FINAL BALANCE: 179.265\n"
     ]
    },
    {
     "name": "stderr",
     "output_type": "stream",
     "text": [
      "2022-05-21 19:54:25,621 - tinkoff.invest.logging - INFO - a7c36b785479b6f65a74271340d4f21a ShareBy\n",
      "2022-05-21 19:54:25,731 - tinkoff.invest.logging - INFO - 014f69bd855c7a75a0166c88b7aa1ffc GetCandles\n"
     ]
    },
    {
     "name": "stdout",
     "output_type": "stream",
     "text": [
      "2018-JWN INIT BALANCE: 73.14 FINAL BALANCE: 71.81\n"
     ]
    },
    {
     "name": "stderr",
     "output_type": "stream",
     "text": [
      "2022-05-21 19:54:28,895 - tinkoff.invest.logging - ERROR - b1a9e62eb71c26c2c97fe3ee95dc1476 ShareBy NOT_FOUND 50002\n"
     ]
    },
    {
     "name": "stdout",
     "output_type": "stream",
     "text": [
      "(<StatusCode.NOT_FOUND: (5, 'not found')>, '50002', Metadata(tracking_id='b1a9e62eb71c26c2c97fe3ee95dc1476', ratelimit_limit='200, 200;w=60', ratelimit_remaining=184, ratelimit_reset=32, message='instrument not found'))\n"
     ]
    },
    {
     "name": "stderr",
     "output_type": "stream",
     "text": [
      "2022-05-21 19:54:29,170 - tinkoff.invest.logging - INFO - cfaa99d44e1519a2bc0742e0d0f7af73 ShareBy\n",
      "2022-05-21 19:54:29,274 - tinkoff.invest.logging - INFO - f12a65c8f5d890724ac41f81e0e38554 GetCandles\n"
     ]
    },
    {
     "name": "stdout",
     "output_type": "stream",
     "text": [
      "2018-AVGO INIT BALANCE: 389.655 FINAL BALANCE: 426.21500000000003 + (SHARES 1)\n"
     ]
    },
    {
     "name": "stderr",
     "output_type": "stream",
     "text": [
      "2022-05-21 19:54:34,317 - tinkoff.invest.logging - INFO - 5802aeac643fc8f47d4ee2878fb2d587 ShareBy\n",
      "2022-05-21 19:54:34,386 - tinkoff.invest.logging - INFO - 586c520753e94c83ada71e64c6a93fa3 GetCandles\n",
      "2022-05-21 19:54:34,595 - tinkoff.invest.logging - INFO - d312b7ca645bc958b1f7f4b0da603df4 ShareBy\n",
      "2022-05-21 19:54:34,692 - tinkoff.invest.logging - INFO - bef17fc9a559d78c49fdfda2edac875d GetCandles\n",
      "2022-05-21 19:54:37,399 - tinkoff.invest.logging - INFO - 83fb473ac1397c660d092017ad96f1d7 ShareBy\n"
     ]
    },
    {
     "name": "stdout",
     "output_type": "stream",
     "text": [
      "2018-HUM INIT BALANCE: 374.04 FINAL BALANCE: 384.9700000000001 + (SHARES 1)\n"
     ]
    },
    {
     "name": "stderr",
     "output_type": "stream",
     "text": [
      "2022-05-21 19:54:37,486 - tinkoff.invest.logging - INFO - 9a4a3437e710e25d574ba28177e91f02 GetCandles\n"
     ]
    },
    {
     "name": "stdout",
     "output_type": "stream",
     "text": [
      "2018-FMC INIT BALANCE: 143.07 FINAL BALANCE: 119.37499999999999 + (SHARES 1)\n"
     ]
    },
    {
     "name": "stderr",
     "output_type": "stream",
     "text": [
      "2022-05-21 19:54:38,334 - tinkoff.invest.logging - INFO - cae3a15e38276ffe789ebc208573820c ShareBy\n",
      "2022-05-21 19:54:38,418 - tinkoff.invest.logging - INFO - 97d54dd2ec4c2cc58d11215315bca92f GetCandles\n"
     ]
    },
    {
     "name": "stdout",
     "output_type": "stream",
     "text": [
      "2018-COST INIT BALANCE: 280.84499999999997 FINAL BALANCE: 307.1749999999999\n"
     ]
    },
    {
     "name": "stderr",
     "output_type": "stream",
     "text": [
      "2022-05-21 19:54:40,163 - tinkoff.invest.logging - INFO - c6a3ba200873741724996f500b593a08 ShareBy\n",
      "2022-05-21 19:54:40,226 - tinkoff.invest.logging - INFO - 6d877f0e27153d583c3bcde5e4860875 GetCandles\n",
      "2022-05-21 19:54:40,463 - tinkoff.invest.logging - INFO - ba51e6e1f713d4a9dc46cb2ac1d8bc9e ShareBy\n",
      "2022-05-21 19:54:40,548 - tinkoff.invest.logging - INFO - b2a9a04fcc4dbf360d60cade8a3df2b4 GetCandles\n"
     ]
    },
    {
     "name": "stdout",
     "output_type": "stream",
     "text": [
      "2018-MCD INIT BALANCE: 260.59499999999997 FINAL BALANCE: 248.32499999999996\n"
     ]
    },
    {
     "name": "stderr",
     "output_type": "stream",
     "text": [
      "2022-05-21 19:54:41,996 - tinkoff.invest.logging - INFO - 2fe32e297ce2ac8cc0edead23789df82 ShareBy\n",
      "2022-05-21 19:54:42,106 - tinkoff.invest.logging - INFO - 60518bc43d00814b3534317fd3a15b39 GetCandles\n"
     ]
    },
    {
     "name": "stdout",
     "output_type": "stream",
     "text": [
      "2018-LLY INIT BALANCE: 126.69 FINAL BALANCE: 154.51999999999998 + (SHARES 1)\n"
     ]
    },
    {
     "name": "stderr",
     "output_type": "stream",
     "text": [
      "2022-05-21 19:54:43,646 - tinkoff.invest.logging - INFO - 95a6c26aa27a5298354d3ce3619defb1 ShareBy\n",
      "2022-05-21 19:54:43,736 - tinkoff.invest.logging - INFO - 8b1b25b650fd1d669afe1683fd1bacf6 GetCandles\n"
     ]
    },
    {
     "name": "stdout",
     "output_type": "stream",
     "text": [
      "2018-UAL INIT BALANCE: 101.85000000000001 FINAL BALANCE: 101.85000000000001\n"
     ]
    },
    {
     "name": "stderr",
     "output_type": "stream",
     "text": [
      "2022-05-21 19:54:44,311 - tinkoff.invest.logging - INFO - 9df11cf9ffddd7d7d2aada8d7cfe17d2 ShareBy\n",
      "2022-05-21 19:54:44,426 - tinkoff.invest.logging - INFO - a42358d9ce27464a363d7feea51f13a0 GetCandles\n"
     ]
    },
    {
     "name": "stdout",
     "output_type": "stream",
     "text": [
      "2018-STZ INIT BALANCE: 343.5 FINAL BALANCE: 310.49 + (SHARES 1)\n"
     ]
    },
    {
     "name": "stderr",
     "output_type": "stream",
     "text": [
      "2022-05-21 19:54:46,503 - tinkoff.invest.logging - INFO - 146640307a4fba1617e747c74d22048c ShareBy\n",
      "2022-05-21 19:54:46,592 - tinkoff.invest.logging - INFO - c2cce2bd6c9ef2a4eb418afdc176154d GetCandles\n"
     ]
    },
    {
     "name": "stdout",
     "output_type": "stream",
     "text": [
      "2018-COP INIT BALANCE: 83.85 FINAL BALANCE: 99.62499999999997 + (SHARES 1)\n"
     ]
    },
    {
     "name": "stderr",
     "output_type": "stream",
     "text": [
      "2022-05-21 19:54:49,025 - tinkoff.invest.logging - INFO - 385b7de160615d4811a3565dc583f2f6 ShareBy\n",
      "2022-05-21 19:54:49,150 - tinkoff.invest.logging - INFO - 78afdb7dc2c48401b65fc46003ff3523 GetCandles\n"
     ]
    },
    {
     "name": "stdout",
     "output_type": "stream",
     "text": [
      "2018-BBY INIT BALANCE: 102.39000000000001 FINAL BALANCE: 82.89500000000001 + (SHARES 1)\n"
     ]
    },
    {
     "name": "stderr",
     "output_type": "stream",
     "text": [
      "2022-05-21 19:54:50,274 - tinkoff.invest.logging - INFO - 2e51baff99be3c42ce2cbbfa3ffda1dd ShareBy\n",
      "2022-05-21 19:54:50,359 - tinkoff.invest.logging - INFO - 8f109949ee49974a1e314f3c8997a02c GetCandles\n"
     ]
    },
    {
     "name": "stdout",
     "output_type": "stream",
     "text": [
      "2018-CMCSA INIT BALANCE: 60.585 FINAL BALANCE: 56.79499999999999 + (SHARES 1)\n"
     ]
    },
    {
     "name": "stderr",
     "output_type": "stream",
     "text": [
      "2022-05-21 19:54:53,596 - tinkoff.invest.logging - INFO - a23c2e9364a46a57960d28c155513221 ShareBy\n",
      "2022-05-21 19:54:53,704 - tinkoff.invest.logging - INFO - 3c7d8227cc520c0465b8fd2364204aef GetCandles\n"
     ]
    },
    {
     "name": "stdout",
     "output_type": "stream",
     "text": [
      "2018-NOC INIT BALANCE: 461.02500000000003 FINAL BALANCE: 399.54 + (SHARES 1)\n"
     ]
    },
    {
     "name": "stderr",
     "output_type": "stream",
     "text": [
      "2022-05-21 19:54:55,404 - tinkoff.invest.logging - ERROR - 2220399b7bb8091916962e2e3629d6a0 ShareBy NOT_FOUND 50002\n"
     ]
    },
    {
     "name": "stdout",
     "output_type": "stream",
     "text": [
      "(<StatusCode.NOT_FOUND: (5, 'not found')>, '50002', Metadata(tracking_id='2220399b7bb8091916962e2e3629d6a0', ratelimit_limit='200, 200;w=60', ratelimit_remaining=169, ratelimit_reset=5, message='instrument not found'))\n"
     ]
    },
    {
     "name": "stderr",
     "output_type": "stream",
     "text": [
      "2022-05-21 19:54:55,622 - tinkoff.invest.logging - INFO - dc3cb98cd9ca32878d810a3b142e990c ShareBy\n",
      "2022-05-21 19:54:55,711 - tinkoff.invest.logging - INFO - e980352f187518a0f4e7ead2d78b2b2a GetCandles\n"
     ]
    },
    {
     "name": "stdout",
     "output_type": "stream",
     "text": [
      "2018-AXP INIT BALANCE: 149.595 FINAL BALANCE: 136.015 + (SHARES 1)\n"
     ]
    },
    {
     "name": "stderr",
     "output_type": "stream",
     "text": [
      "2022-05-21 19:54:57,871 - tinkoff.invest.logging - ERROR - eaee95853cb8c647d972b42b68a2228c ShareBy NOT_FOUND 50002\n"
     ]
    },
    {
     "name": "stdout",
     "output_type": "stream",
     "text": [
      "(<StatusCode.NOT_FOUND: (5, 'not found')>, '50002', Metadata(tracking_id='eaee95853cb8c647d972b42b68a2228c', ratelimit_limit='200, 200;w=60', ratelimit_remaining=167, ratelimit_reset=3, message='instrument not found'))\n"
     ]
    },
    {
     "name": "stderr",
     "output_type": "stream",
     "text": [
      "2022-05-21 19:54:58,099 - tinkoff.invest.logging - INFO - c08aaadf842d56b6cb759b27130d8a28 ShareBy\n",
      "2022-05-21 19:54:58,195 - tinkoff.invest.logging - INFO - 930eae6e5c0080f742a9bcbb06232382 GetCandles\n",
      "2022-05-21 19:55:00,291 - tinkoff.invest.logging - INFO - eabc542bbc34c98ec07dbfb9c9913da6 ShareBy\n"
     ]
    },
    {
     "name": "stdout",
     "output_type": "stream",
     "text": [
      "2018-BIIB INIT BALANCE: 481.72499999999997 FINAL BALANCE: 438.5999999999999 + (SHARES 1)\n"
     ]
    },
    {
     "name": "stderr",
     "output_type": "stream",
     "text": [
      "2022-05-21 19:55:00,374 - tinkoff.invest.logging - INFO - 5513f8a89e6d012b2c2a0881d022285c GetCandles\n",
      "2022-05-21 19:55:01,549 - tinkoff.invest.logging - ERROR - e33ecdf48a4ac982275cb7eb43ebbc98 ShareBy NOT_FOUND 50002\n"
     ]
    },
    {
     "name": "stdout",
     "output_type": "stream",
     "text": [
      "2018-MMM INIT BALANCE: 353.67 FINAL BALANCE: 333.5300000000001\n",
      "(<StatusCode.NOT_FOUND: (5, 'not found')>, '50002', Metadata(tracking_id='e33ecdf48a4ac982275cb7eb43ebbc98', ratelimit_limit='200, 200;w=60', ratelimit_remaining=198, ratelimit_reset=59, message='instrument not found'))\n"
     ]
    },
    {
     "name": "stderr",
     "output_type": "stream",
     "text": [
      "2022-05-21 19:55:01,779 - tinkoff.invest.logging - ERROR - 4a95ce2e3e2156e94c8c9ca62e974c39 ShareBy NOT_FOUND 50002\n"
     ]
    },
    {
     "name": "stdout",
     "output_type": "stream",
     "text": [
      "(<StatusCode.NOT_FOUND: (5, 'not found')>, '50002', Metadata(tracking_id='4a95ce2e3e2156e94c8c9ca62e974c39', ratelimit_limit='200, 200;w=60', ratelimit_remaining=197, ratelimit_reset=59, message='instrument not found'))\n"
     ]
    },
    {
     "name": "stderr",
     "output_type": "stream",
     "text": [
      "2022-05-21 19:55:02,017 - tinkoff.invest.logging - INFO - e48326bf43426d33d9e18a323dfb5222 ShareBy\n",
      "2022-05-21 19:55:02,130 - tinkoff.invest.logging - INFO - 9ce8b0f6d25fe63d218e1b46c7a3b607 GetCandles\n"
     ]
    },
    {
     "name": "stdout",
     "output_type": "stream",
     "text": [
      "2018-NVDA INIT BALANCE: 73.42500000000001 FINAL BALANCE: 48.965\n"
     ]
    },
    {
     "name": "stderr",
     "output_type": "stream",
     "text": [
      "2022-05-21 19:55:08,783 - tinkoff.invest.logging - INFO - 4775b616f9806f60525d299688c6ede1 ShareBy\n",
      "2022-05-21 19:55:08,883 - tinkoff.invest.logging - INFO - 9b79ffcccc5eda7203bb453569b80d7b GetCandles\n"
     ]
    },
    {
     "name": "stdout",
     "output_type": "stream",
     "text": [
      "2018-MYL INIT BALANCE: 63.525000000000006 FINAL BALANCE: 54.105000000000004\n"
     ]
    },
    {
     "name": "stderr",
     "output_type": "stream",
     "text": [
      "2022-05-21 19:55:09,888 - tinkoff.invest.logging - INFO - 3dafa09db61cf0f411d2c93e48fc6147 ShareBy\n",
      "2022-05-21 19:55:10,001 - tinkoff.invest.logging - INFO - f7606e6f86af31d579e778ba23281e1d GetCandles\n",
      "2022-05-21 19:55:10,247 - tinkoff.invest.logging - INFO - 9f5aa9b3df130895f59efb372964022d ShareBy\n"
     ]
    },
    {
     "name": "stdout",
     "output_type": "stream",
     "text": [
      "2018-DD INIT BALANCE: 147.79500000000002 FINAL BALANCE: 147.79500000000002\n"
     ]
    },
    {
     "name": "stderr",
     "output_type": "stream",
     "text": [
      "2022-05-21 19:55:10,361 - tinkoff.invest.logging - INFO - e7fae6d61418adedcac519da0c88deb6 GetCandles\n"
     ]
    },
    {
     "name": "stdout",
     "output_type": "stream",
     "text": [
      "2018-GILD INIT BALANCE: 108.285 FINAL BALANCE: 94.875 + (SHARES 1)\n"
     ]
    },
    {
     "name": "stderr",
     "output_type": "stream",
     "text": [
      "2022-05-21 19:55:11,642 - tinkoff.invest.logging - INFO - a7246f6d2ebf982ab4ee39a301f1a317 ShareBy\n",
      "2022-05-21 19:55:11,754 - tinkoff.invest.logging - INFO - c50f527ed58ac9ee1912c2045911134c GetCandles\n"
     ]
    },
    {
     "name": "stdout",
     "output_type": "stream",
     "text": [
      "2018-ORCL INIT BALANCE: 71.355 FINAL BALANCE: 67.645 + (SHARES 1)\n"
     ]
    },
    {
     "name": "stderr",
     "output_type": "stream",
     "text": [
      "2022-05-21 19:55:14,811 - tinkoff.invest.logging - INFO - 52e0b37c52d59d0db8c859acbf4cb118 ShareBy\n",
      "2022-05-21 19:55:14,897 - tinkoff.invest.logging - INFO - 67af582c274a7b6608b52f3faa419619 GetCandles\n"
     ]
    },
    {
     "name": "stdout",
     "output_type": "stream",
     "text": [
      "2018-ADBE INIT BALANCE: 263.775 FINAL BALANCE: 310.4150000000001 + (SHARES 1)\n"
     ]
    },
    {
     "name": "stderr",
     "output_type": "stream",
     "text": [
      "2022-05-21 19:55:21,133 - tinkoff.invest.logging - INFO - 3e07e9f573cdab6acf246143424336a7 ShareBy\n",
      "2022-05-21 19:55:21,256 - tinkoff.invest.logging - INFO - 5319480063d2f2d8914a1fa1f392cee9 GetCandles\n"
     ]
    },
    {
     "name": "stdout",
     "output_type": "stream",
     "text": [
      "2018-BIDU INIT BALANCE: 354.735 FINAL BALANCE: 335.245\n"
     ]
    },
    {
     "name": "stderr",
     "output_type": "stream",
     "text": [
      "2022-05-21 19:55:23,641 - tinkoff.invest.logging - INFO - 18334d4ae1cfb91eca37da06e5a8fc2f ShareBy\n",
      "2022-05-21 19:55:23,739 - tinkoff.invest.logging - INFO - c4414b2385ae24b981690724e28555cb GetCandles\n"
     ]
    },
    {
     "name": "stdout",
     "output_type": "stream",
     "text": [
      "2018-VALE INIT BALANCE: 18.9375 FINAL BALANCE: 18.6084 + (SHARES 1)\n"
     ]
    },
    {
     "name": "stderr",
     "output_type": "stream",
     "text": [
      "2022-05-21 19:55:24,492 - tinkoff.invest.logging - INFO - 854cff4ef1e0846f6fa1fb5921ec1636 ShareBy\n",
      "2022-05-21 19:55:24,597 - tinkoff.invest.logging - INFO - e4684da03140638cc43099a4ba1ad1eb GetCandles\n"
     ]
    },
    {
     "name": "stdout",
     "output_type": "stream",
     "text": [
      "2018-CSCO INIT BALANCE: 58.005 FINAL BALANCE: 65.3475 + (SHARES 1)\n"
     ]
    },
    {
     "name": "stderr",
     "output_type": "stream",
     "text": [
      "2022-05-21 19:55:28,724 - tinkoff.invest.logging - INFO - c0642a31b6e2198aa0c3474684da0d07 ShareBy\n",
      "2022-05-21 19:55:28,831 - tinkoff.invest.logging - INFO - 4c327ff52cd0497cd08ccf08b9b64d53 GetCandles\n"
     ]
    },
    {
     "name": "stdout",
     "output_type": "stream",
     "text": [
      "2018-SPGI INIT BALANCE: 254.61 FINAL BALANCE: 234.35500000000002 + (SHARES 1)\n"
     ]
    },
    {
     "name": "stderr",
     "output_type": "stream",
     "text": [
      "2022-05-21 19:55:29,328 - tinkoff.invest.logging - INFO - f3cefd8efe5a8f0c0a2e2d98ac3aa14e ShareBy\n",
      "2022-05-21 19:55:29,387 - tinkoff.invest.logging - INFO - 56d93538c981cc2ff867a6d35f841656 GetCandles\n",
      "2022-05-21 19:55:29,603 - tinkoff.invest.logging - INFO - 68e7fcbd264fcefcb6a1ed359a771d39 ShareBy\n",
      "2022-05-21 19:55:29,692 - tinkoff.invest.logging - INFO - f4f1f08418c6bc33cebec5dc30dbf6e6 GetCandles\n"
     ]
    },
    {
     "name": "stdout",
     "output_type": "stream",
     "text": [
      "2018-AZO INIT BALANCE: 1074.81 FINAL BALANCE: 1200.9050000000002 + (SHARES 1)\n"
     ]
    },
    {
     "name": "stderr",
     "output_type": "stream",
     "text": [
      "2022-05-21 19:55:32,240 - tinkoff.invest.logging - INFO - 02aa8806f6aa473ced55e25df21ed632 ShareBy\n",
      "2022-05-21 19:55:32,341 - tinkoff.invest.logging - INFO - d22ccb42261d144194111d96b4011ac3 GetCandles\n"
     ]
    },
    {
     "name": "stdout",
     "output_type": "stream",
     "text": [
      "2018-MA INIT BALANCE: 228.14999999999998 FINAL BALANCE: 265.65000000000003 + (SHARES 1)\n"
     ]
    },
    {
     "name": "stderr",
     "output_type": "stream",
     "text": [
      "2022-05-21 19:55:38,067 - tinkoff.invest.logging - INFO - 5bab1ef7f5e4888844659c1abd9d1335 ShareBy\n",
      "2022-05-21 19:55:38,124 - tinkoff.invest.logging - INFO - 5f7dc84861466577ce45fd7b12adf6ec GetCandles\n",
      "2022-05-21 19:55:38,335 - tinkoff.invest.logging - INFO - 8beb3ef706661381a9bf099f892d2909 ShareBy\n",
      "2022-05-21 19:55:38,444 - tinkoff.invest.logging - INFO - 7be558e98a7aee4243c853b266d9b324 GetCandles\n"
     ]
    },
    {
     "name": "stdout",
     "output_type": "stream",
     "text": [
      "2018-PM INIT BALANCE: 158.73 FINAL BALANCE: 151.32 + (SHARES 2)\n"
     ]
    },
    {
     "name": "stderr",
     "output_type": "stream",
     "text": [
      "2022-05-21 19:55:42,235 - tinkoff.invest.logging - INFO - d236ee6ba6197fbaf6844e75bca5f07f ShareBy\n",
      "2022-05-21 19:55:42,336 - tinkoff.invest.logging - INFO - 97ef8abbab618a8460e5a85b4cf02fc4 GetCandles\n"
     ]
    },
    {
     "name": "stdout",
     "output_type": "stream",
     "text": [
      "2018-URBN INIT BALANCE: 53.400000000000006 FINAL BALANCE: 53.710000000000015\n"
     ]
    },
    {
     "name": "stderr",
     "output_type": "stream",
     "text": [
      "2022-05-21 19:55:45,076 - tinkoff.invest.logging - ERROR - 4ec5e6c494cc2ff702eb0d29edf69e34 ShareBy NOT_FOUND 50002\n",
      "2022-05-21 19:55:45,296 - tinkoff.invest.logging - INFO - b5736387f2b839b22b6d600b6800fb71 ShareBy\n"
     ]
    },
    {
     "name": "stdout",
     "output_type": "stream",
     "text": [
      "(<StatusCode.NOT_FOUND: (5, 'not found')>, '50002', Metadata(tracking_id='4ec5e6c494cc2ff702eb0d29edf69e34', ratelimit_limit='200, 200;w=60', ratelimit_remaining=180, ratelimit_reset=15, message='instrument not found'))\n"
     ]
    },
    {
     "name": "stderr",
     "output_type": "stream",
     "text": [
      "2022-05-21 19:55:45,390 - tinkoff.invest.logging - INFO - 0c64f89849f52885ae56ac480433750f GetCandles\n"
     ]
    },
    {
     "name": "stdout",
     "output_type": "stream",
     "text": [
      "2018-BMY INIT BALANCE: 92.1 FINAL BALANCE: 83.035 + (SHARES 1)\n"
     ]
    },
    {
     "name": "stderr",
     "output_type": "stream",
     "text": [
      "2022-05-21 19:55:46,205 - tinkoff.invest.logging - INFO - 5ba265fa01f1da44628a5f8769372a49 ShareBy\n",
      "2022-05-21 19:55:46,312 - tinkoff.invest.logging - INFO - fc55660f16c0476de4a23aecc96bb055 GetCandles\n"
     ]
    },
    {
     "name": "stdout",
     "output_type": "stream",
     "text": [
      "2019-AAPL INIT BALANCE: 58.665 FINAL BALANCE: 95.33000000000001 + (SHARES 1)\n"
     ]
    },
    {
     "name": "stderr",
     "output_type": "stream",
     "text": [
      "2022-05-21 19:56:52,603 - tinkoff.invest.logging - INFO - e8f19e42f6b6e7e36e7b0d85fded71a4 ShareBy\n",
      "2022-05-21 19:56:52,713 - tinkoff.invest.logging - INFO - c2d7c6d613ad94a632e660401cd4b6ed GetCandles\n"
     ]
    },
    {
     "name": "stdout",
     "output_type": "stream",
     "text": [
      "2019-MSFT INIT BALANCE: 152.20499999999998 FINAL BALANCE: 205.605 + (SHARES 1)\n"
     ]
    },
    {
     "name": "stderr",
     "output_type": "stream",
     "text": [
      "2022-05-21 19:56:57,393 - tinkoff.invest.logging - INFO - f2f1f0e7620e5694938e5e3703b546e4 ShareBy\n",
      "2022-05-21 19:56:57,515 - tinkoff.invest.logging - INFO - 50c0277a929bcf973af2c55a076c9cc0 GetCandles\n"
     ]
    },
    {
     "name": "stdout",
     "output_type": "stream",
     "text": [
      "2019-BAC INIT BALANCE: 36.900000000000006 FINAL BALANCE: 41.48500000000002\n"
     ]
    },
    {
     "name": "stderr",
     "output_type": "stream",
     "text": [
      "2022-05-21 19:57:02,165 - tinkoff.invest.logging - INFO - bca55454aa2ac68fccc1cf082e711855 ShareBy\n",
      "2022-05-21 19:57:02,612 - tinkoff.invest.logging - INFO - 5e00a3afcc0427b226a802b9f867c2af GetCandles\n"
     ]
    },
    {
     "name": "stdout",
     "output_type": "stream",
     "text": [
      "2019-AMZN INIT BALANCE: 2241.69 FINAL BALANCE: 2512.625\n"
     ]
    },
    {
     "name": "stderr",
     "output_type": "stream",
     "text": [
      "2022-05-21 19:57:05,938 - tinkoff.invest.logging - INFO - 7a500e398b821731e72642b8d6d9bcf7 ShareBy\n",
      "2022-05-21 19:57:06,048 - tinkoff.invest.logging - INFO - 204f2afddf78af7fa41b881c4e95dba5 GetCandles\n"
     ]
    },
    {
     "name": "stdout",
     "output_type": "stream",
     "text": [
      "2019-NWSA INIT BALANCE: 17.235 FINAL BALANCE: 18.07\n"
     ]
    },
    {
     "name": "stderr",
     "output_type": "stream",
     "text": [
      "2022-05-21 19:57:07,455 - tinkoff.invest.logging - INFO - 8dd1b78b74d1c822b68867d1acafbd67 ShareBy\n",
      "2022-05-21 19:57:07,574 - tinkoff.invest.logging - INFO - b530d296b01c14bf1eeedb6f21729e3e GetCandles\n"
     ]
    },
    {
     "name": "stdout",
     "output_type": "stream",
     "text": [
      "2019-BA INIT BALANCE: 480.0 FINAL BALANCE: 441.30499999999984 + (SHARES 1)\n"
     ]
    },
    {
     "name": "stderr",
     "output_type": "stream",
     "text": [
      "2022-05-21 19:57:13,017 - tinkoff.invest.logging - INFO - 8b6446d66940cbaec09a5f35f1bd1e73 ShareBy\n",
      "2022-05-21 19:57:13,104 - tinkoff.invest.logging - INFO - f4136d9c2655ff61b496dbc037e62128 GetCandles\n",
      "2022-05-21 19:57:15,653 - tinkoff.invest.logging - INFO - 24dd406208c50752446ece39b65b2127 ShareBy\n"
     ]
    },
    {
     "name": "stdout",
     "output_type": "stream",
     "text": [
      "2019-GOOGL INIT BALANCE: 1525.935 FINAL BALANCE: 1776.28 + (SHARES 1)\n"
     ]
    },
    {
     "name": "stderr",
     "output_type": "stream",
     "text": [
      "2022-05-21 19:57:15,737 - tinkoff.invest.logging - INFO - 14e710bab969a927a162482c85a0713e GetCandles\n",
      "2022-05-21 19:57:27,599 - tinkoff.invest.logging - INFO - 9802133f2591bd1cf5fc689c37c41853 ShareBy\n"
     ]
    },
    {
     "name": "stdout",
     "output_type": "stream",
     "text": [
      "2019-GS INIT BALANCE: 247.68 FINAL BALANCE: 249.57999999999996\n"
     ]
    },
    {
     "name": "stderr",
     "output_type": "stream",
     "text": [
      "2022-05-21 19:57:27,735 - tinkoff.invest.logging - INFO - d43dc83e2b8b2664931f9400b623c67e GetCandles\n"
     ]
    },
    {
     "name": "stdout",
     "output_type": "stream",
     "text": [
      "2019-TSLA INIT BALANCE: 99.39000000000001 FINAL BALANCE: 113.91000000000003 + (SHARES 1)\n"
     ]
    },
    {
     "name": "stderr",
     "output_type": "stream",
     "text": [
      "2022-05-21 19:57:32,366 - tinkoff.invest.logging - INFO - 05b4f6b8f96e2f3152e45bf74ca42ca9 ShareBy\n",
      "2022-05-21 19:57:32,474 - tinkoff.invest.logging - INFO - 851e6ffc6aa886fff4d7ab1a567eb60d GetCandles\n"
     ]
    },
    {
     "name": "stdout",
     "output_type": "stream",
     "text": [
      "2019-NFLX INIT BALANCE: 402.72 FINAL BALANCE: 569.45 + (SHARES 1)\n"
     ]
    },
    {
     "name": "stderr",
     "output_type": "stream",
     "text": [
      "2022-05-21 19:57:49,088 - tinkoff.invest.logging - INFO - 07f960ea1dfc8e4ff5471bb43a01ee18 ShareBy\n",
      "2022-05-21 19:57:49,199 - tinkoff.invest.logging - INFO - 81e511fb19a6f1661bc92365b3cf5a81 GetCandles\n"
     ]
    },
    {
     "name": "stdout",
     "output_type": "stream",
     "text": [
      "2019-TGT INIT BALANCE: 98.94 FINAL BALANCE: 153.905 + (SHARES 1)\n"
     ]
    },
    {
     "name": "stderr",
     "output_type": "stream",
     "text": [
      "2022-05-21 19:58:01,102 - tinkoff.invest.logging - INFO - db4b38a9b6452bc7bf6a708fd8861b25 ShareBy\n",
      "2022-05-21 19:58:01,227 - tinkoff.invest.logging - INFO - 443e8c34606fc8dc1be2e71d5ea21aac GetCandles\n"
     ]
    },
    {
     "name": "stdout",
     "output_type": "stream",
     "text": [
      "2019-INTC INIT BALANCE: 70.245 FINAL BALANCE: 66.74000000000001 + (SHARES 1)\n"
     ]
    },
    {
     "name": "stderr",
     "output_type": "stream",
     "text": [
      "2022-05-21 19:58:04,297 - tinkoff.invest.logging - INFO - 5a0275833f0ba8e8c9484dd677895a0b ShareBy\n",
      "2022-05-21 19:58:04,387 - tinkoff.invest.logging - INFO - f19506ccd50b3fa3b8b0a39be4d17e32 GetCandles\n"
     ]
    },
    {
     "name": "stdout",
     "output_type": "stream",
     "text": [
      "2019-DIS INIT BALANCE: 163.965 FINAL BALANCE: 197.7 + (SHARES 1)\n"
     ]
    },
    {
     "name": "stderr",
     "output_type": "stream",
     "text": [
      "2022-05-21 19:58:12,127 - tinkoff.invest.logging - INFO - 44af7bd0529da1d8143b5c9eb6eb150c ShareBy\n",
      "2022-05-21 19:58:12,236 - tinkoff.invest.logging - INFO - dd2ef1ce5690b9230ee69e80819cc59b GetCandles\n"
     ]
    },
    {
     "name": "stdout",
     "output_type": "stream",
     "text": [
      "2019-XOM INIT BALANCE: 102.47999999999999 FINAL BALANCE: 103.95499999999998 + (SHARES 1)\n"
     ]
    },
    {
     "name": "stderr",
     "output_type": "stream",
     "text": [
      "2022-05-21 19:58:16,331 - tinkoff.invest.logging - INFO - fd700e57f88d428a63d29a758f77e8d5 ShareBy\n",
      "2022-05-21 19:58:16,452 - tinkoff.invest.logging - INFO - 328767c1b15ac8017e4f8a17624578ed GetCandles\n"
     ]
    },
    {
     "name": "stdout",
     "output_type": "stream",
     "text": [
      "2019-JPM INIT BALANCE: 145.005 FINAL BALANCE: 165.66000000000005\n"
     ]
    },
    {
     "name": "stderr",
     "output_type": "stream",
     "text": [
      "2022-05-21 19:58:30,779 - tinkoff.invest.logging - INFO - 0cfa7f6eb8c9b8148307936734015ee3 ShareBy\n",
      "2022-05-21 19:58:30,883 - tinkoff.invest.logging - INFO - ad8c44adc69a63fc7f0616ba0f53bcdf GetCandles\n"
     ]
    },
    {
     "name": "stdout",
     "output_type": "stream",
     "text": [
      "2019-MS INIT BALANCE: 58.5 FINAL BALANCE: 59.07999999999999\n"
     ]
    },
    {
     "name": "stderr",
     "output_type": "stream",
     "text": [
      "2022-05-21 19:58:37,833 - tinkoff.invest.logging - INFO - 00bf62281e7f026e6cd686f46f51a227 ShareBy\n",
      "2022-05-21 19:58:37,939 - tinkoff.invest.logging - INFO - fbfcf2c10ced9b2eea53490d70c3c32d GetCandles\n"
     ]
    },
    {
     "name": "stdout",
     "output_type": "stream",
     "text": [
      "2019-GM INIT BALANCE: 50.07000000000001 FINAL BALANCE: 52.15500000000001\n"
     ]
    },
    {
     "name": "stderr",
     "output_type": "stream",
     "text": [
      "2022-05-21 19:58:48,283 - tinkoff.invest.logging - INFO - f65300ff6946e398a63710494347e1c2 ShareBy\n",
      "2022-05-21 19:58:48,402 - tinkoff.invest.logging - INFO - ca47d4832225957796e4aa150692d79c GetCandles\n"
     ]
    },
    {
     "name": "stdout",
     "output_type": "stream",
     "text": [
      "2019-C INIT BALANCE: 76.725 FINAL BALANCE: 94.27\n"
     ]
    },
    {
     "name": "stderr",
     "output_type": "stream",
     "text": [
      "2022-05-21 19:58:54,596 - tinkoff.invest.logging - INFO - 476e639591c529f91afa0338c2806e1d ShareBy\n",
      "2022-05-21 19:58:54,697 - tinkoff.invest.logging - INFO - d0f7d3cd9faa0a5c4bb6ce441e25306c GetCandles\n"
     ]
    },
    {
     "name": "stdout",
     "output_type": "stream",
     "text": [
      "2019-GE INIT BALANCE: 89.88 FINAL BALANCE: 111.79999999999997\n"
     ]
    },
    {
     "name": "stderr",
     "output_type": "stream",
     "text": [
      "2022-05-21 19:58:59,763 - tinkoff.invest.logging - INFO - 338116b8b0e5799816508ce9d209525d ShareBy\n",
      "2022-05-21 19:58:59,872 - tinkoff.invest.logging - INFO - d7f6786feace58685169d1ab973b46e4 GetCandles\n"
     ]
    },
    {
     "name": "stdout",
     "output_type": "stream",
     "text": [
      "2019-MU INIT BALANCE: 47.685 FINAL BALANCE: 74.54499999999999 + (SHARES 1)\n"
     ]
    },
    {
     "name": "stderr",
     "output_type": "stream",
     "text": [
      "2022-05-21 19:59:05,044 - tinkoff.invest.logging - INFO - c8bc3691da69a0a89d92e452d9fe1894 ShareBy\n",
      "2022-05-21 19:59:05,135 - tinkoff.invest.logging - INFO - 868165eec178b32978b0c7c40686a322 GetCandles\n",
      "2022-05-21 19:59:05,370 - tinkoff.invest.logging - INFO - b1ccc2844aad9c960c22a96765af1673 ShareBy\n",
      "2022-05-21 19:59:05,470 - tinkoff.invest.logging - INFO - df62ffe541c060c5a84e6756e1cb8502 GetCandles\n"
     ]
    },
    {
     "name": "stdout",
     "output_type": "stream",
     "text": [
      "2019-WMB INIT BALANCE: 32.685 FINAL BALANCE: 30.210000000000004\n"
     ]
    },
    {
     "name": "stderr",
     "output_type": "stream",
     "text": [
      "2022-05-21 19:59:07,271 - tinkoff.invest.logging - INFO - de307cb38158835eaf6217bf647824cb ShareBy\n",
      "2022-05-21 19:59:07,371 - tinkoff.invest.logging - INFO - a79f2626b0f20bf77bc09ddb48b1b484 GetCandles\n"
     ]
    },
    {
     "name": "stdout",
     "output_type": "stream",
     "text": [
      "2019-KO INIT BALANCE: 71.85 FINAL BALANCE: 76.15 + (SHARES 1)\n"
     ]
    },
    {
     "name": "stderr",
     "output_type": "stream",
     "text": [
      "2022-05-21 19:59:10,642 - tinkoff.invest.logging - INFO - ecbcb3a186e152ba5b484c2ec98851ea ShareBy\n",
      "2022-05-21 19:59:10,747 - tinkoff.invest.logging - INFO - ae49e7b3fafa7811136a40eba779a3b8 GetCandles\n"
     ]
    },
    {
     "name": "stdout",
     "output_type": "stream",
     "text": [
      "2019-WFC INIT BALANCE: 68.655 FINAL BALANCE: 67.565\n"
     ]
    },
    {
     "name": "stderr",
     "output_type": "stream",
     "text": [
      "2022-05-21 19:59:12,994 - tinkoff.invest.logging - INFO - f62dd0e3339cca15e100a36d0d21f4cd ShareBy\n",
      "2022-05-21 19:59:13,096 - tinkoff.invest.logging - INFO - 6821edbea0290b819b6d6751bfdedf96 GetCandles\n"
     ]
    },
    {
     "name": "stdout",
     "output_type": "stream",
     "text": [
      "2019-WMT INIT BALANCE: 139.10999999999999 FINAL BALANCE: 161.925\n"
     ]
    },
    {
     "name": "stderr",
     "output_type": "stream",
     "text": [
      "2022-05-21 19:59:16,077 - tinkoff.invest.logging - INFO - 2bed848bbb78d4f5baf28333bcdd8715 ShareBy\n",
      "2022-05-21 19:59:16,173 - tinkoff.invest.logging - INFO - 913b6190d7039d29d188ad34e68fd338 GetCandles\n"
     ]
    },
    {
     "name": "stdout",
     "output_type": "stream",
     "text": [
      "2019-IBM INIT BALANCE: 169.44 FINAL BALANCE: 188.59500000000006 + (SHARES 1)\n"
     ]
    },
    {
     "name": "stderr",
     "output_type": "stream",
     "text": [
      "2022-05-21 19:59:26,666 - tinkoff.invest.logging - INFO - 4b67a1397911fcf9fd59f77d93c787c7 ShareBy\n",
      "2022-05-21 19:59:26,743 - tinkoff.invest.logging - INFO - f9d9b0b36eab195137dbb026a2872502 GetCandles\n"
     ]
    },
    {
     "name": "stdout",
     "output_type": "stream",
     "text": [
      "2019-UBER INIT BALANCE: 68.25 FINAL BALANCE: 64.83\n"
     ]
    },
    {
     "name": "stderr",
     "output_type": "stream",
     "text": [
      "2022-05-21 19:59:56,790 - tinkoff.invest.logging - INFO - 634968d8621bfa4ac4a99c23847ed22f ShareBy\n",
      "2022-05-21 19:59:56,908 - tinkoff.invest.logging - INFO - 1c1408572bd5b11da5925ad00895e223 GetCandles\n"
     ]
    },
    {
     "name": "stdout",
     "output_type": "stream",
     "text": [
      "2019-BLK INIT BALANCE: 581.895 FINAL BALANCE: 726.49 + (SHARES 1)\n"
     ]
    },
    {
     "name": "stderr",
     "output_type": "stream",
     "text": [
      "2022-05-21 20:00:08,743 - tinkoff.invest.logging - INFO - bc43501d38cc4f597dc1b2061e745b0d ShareBy\n",
      "2022-05-21 20:00:08,863 - tinkoff.invest.logging - INFO - ceccbfc0c030b287b81466d4da23c8ca GetCandles\n"
     ]
    },
    {
     "name": "stdout",
     "output_type": "stream",
     "text": [
      "2019-CME INIT BALANCE: 285.9 FINAL BALANCE: 299.78999999999996 + (SHARES 1)\n"
     ]
    },
    {
     "name": "stderr",
     "output_type": "stream",
     "text": [
      "2022-05-21 20:00:11,518 - tinkoff.invest.logging - INFO - f5c33c758b6e5b35d2ecb281a419d7d9 ShareBy\n",
      "2022-05-21 20:00:11,624 - tinkoff.invest.logging - INFO - 47abe1b1bffd6ea58501f8e6e73db48a GetCandles\n"
     ]
    },
    {
     "name": "stdout",
     "output_type": "stream",
     "text": [
      "2019-CVX INIT BALANCE: 161.04 FINAL BALANCE: 161.85000000000002 + (SHARES 1)\n"
     ]
    },
    {
     "name": "stderr",
     "output_type": "stream",
     "text": [
      "2022-05-21 20:00:19,160 - tinkoff.invest.logging - INFO - 9faba543aaed9275b207937ada333824 ShareBy\n",
      "2022-05-21 20:00:19,268 - tinkoff.invest.logging - INFO - 1604638d14578e11872c0075a2c1b49b GetCandles\n"
     ]
    },
    {
     "name": "stdout",
     "output_type": "stream",
     "text": [
      "2019-AA INIT BALANCE: 39.33 FINAL BALANCE: 39.93\n"
     ]
    },
    {
     "name": "stderr",
     "output_type": "stream",
     "text": [
      "2022-05-21 20:00:20,462 - tinkoff.invest.logging - INFO - 834165596f0f7e5b1fcdec6f806e51d7 ShareBy\n",
      "2022-05-21 20:00:20,565 - tinkoff.invest.logging - INFO - 3137c04e654a80722c89842f5f10e681 GetCandles\n"
     ]
    },
    {
     "name": "stdout",
     "output_type": "stream",
     "text": [
      "2019-CMG INIT BALANCE: 640.8149999999999 FINAL BALANCE: 986.245 + (SHARES 1)\n"
     ]
    },
    {
     "name": "stderr",
     "output_type": "stream",
     "text": [
      "2022-05-21 20:00:25,912 - tinkoff.invest.logging - INFO - 9266e2b6b5caf2bf547c25b4f841e91a ShareBy\n",
      "2022-05-21 20:00:25,996 - tinkoff.invest.logging - INFO - 35a0eea31efc6eddbd83830f9d19edc0 GetCandles\n"
     ]
    },
    {
     "name": "stdout",
     "output_type": "stream",
     "text": [
      "2019-SO INIT BALANCE: 65.82000000000001 FINAL BALANCE: 73.51500000000001\n"
     ]
    },
    {
     "name": "stderr",
     "output_type": "stream",
     "text": [
      "2022-05-21 20:00:34,680 - tinkoff.invest.logging - INFO - b4639273bc03bb8819054e0382d10de9 ShareBy\n",
      "2022-05-21 20:00:34,789 - tinkoff.invest.logging - INFO - eeab694422bbcbf25d4695b61a6e8f68 GetCandles\n"
     ]
    },
    {
     "name": "stdout",
     "output_type": "stream",
     "text": [
      "2019-VZ INIT BALANCE: 84.27 FINAL BALANCE: 89.94999999999999 + (SHARES 1)\n"
     ]
    },
    {
     "name": "stderr",
     "output_type": "stream",
     "text": [
      "2022-05-21 20:00:42,388 - tinkoff.invest.logging - INFO - f85c9504e65da7d114a38950541ba940 ShareBy\n",
      "2022-05-21 20:00:42,497 - tinkoff.invest.logging - INFO - f586fb0d94b8318596890eb16e99003a GetCandles\n"
     ]
    },
    {
     "name": "stdout",
     "output_type": "stream",
     "text": [
      "2019-LMT INIT BALANCE: 384.97499999999997 FINAL BALANCE: 519.815 + (SHARES 1)\n"
     ]
    },
    {
     "name": "stderr",
     "output_type": "stream",
     "text": [
      "2022-05-21 20:00:48,122 - tinkoff.invest.logging - INFO - 92e214864f9bf9be005df87cb1145d26 ShareBy\n",
      "2022-05-21 20:00:48,209 - tinkoff.invest.logging - INFO - 9fba7e0155689ee93c37e681bd799938 GetCandles\n"
     ]
    },
    {
     "name": "stdout",
     "output_type": "stream",
     "text": [
      "2019-EFX INIT BALANCE: 138.675 FINAL BALANCE: 157.65 + (SHARES 1)\n"
     ]
    },
    {
     "name": "stderr",
     "output_type": "stream",
     "text": [
      "2022-05-21 20:00:55,923 - tinkoff.invest.logging - INFO - 309ce8522f510f848b57af05096a3298 ShareBy\n",
      "2022-05-21 20:00:56,034 - tinkoff.invest.logging - INFO - 13d79c403d042b00745b587d88ce55c5 GetCandles\n"
     ]
    },
    {
     "name": "stdout",
     "output_type": "stream",
     "text": [
      "2019-CAT INIT BALANCE: 189.675 FINAL BALANCE: 187.62000000000006\n"
     ]
    },
    {
     "name": "stderr",
     "output_type": "stream",
     "text": [
      "2022-05-21 20:01:00,772 - tinkoff.invest.logging - INFO - adcdd9ad5ddba1eba1e885c3f149486a ShareBy\n",
      "2022-05-21 20:01:00,842 - tinkoff.invest.logging - INFO - dc182f284132c83702a275a0bc115017 GetCandles\n"
     ]
    },
    {
     "name": "stdout",
     "output_type": "stream",
     "text": [
      "2019-BKR INIT BALANCE: 33.18 FINAL BALANCE: 36.185 + (SHARES 1)\n"
     ]
    },
    {
     "name": "stderr",
     "output_type": "stream",
     "text": [
      "2022-05-21 20:01:02,389 - tinkoff.invest.logging - INFO - c443b4f5394ec5354c7047d2bdc174bf ShareBy\n",
      "2022-05-21 20:01:02,508 - tinkoff.invest.logging - INFO - ae4f99cbcc572ed9acdfcf2ea63f8ce4 GetCandles\n",
      "2022-05-21 20:01:05,519 - tinkoff.invest.logging - INFO - fc0abf0f4804f4aecacf0d295be32197 ShareBy\n"
     ]
    },
    {
     "name": "stdout",
     "output_type": "stream",
     "text": [
      "2019-SBUX INIT BALANCE: 95.67 FINAL BALANCE: 119.605 + (SHARES 1)\n"
     ]
    },
    {
     "name": "stderr",
     "output_type": "stream",
     "text": [
      "2022-05-21 20:01:05,620 - tinkoff.invest.logging - INFO - 078118362030000d1418b03e61902c8a GetCandles\n"
     ]
    },
    {
     "name": "stdout",
     "output_type": "stream",
     "text": [
      "2019-AGN INIT BALANCE: 200.895 FINAL BALANCE: 255.795 + (SHARES 1)\n"
     ]
    },
    {
     "name": "stderr",
     "output_type": "stream",
     "text": [
      "2022-05-21 20:01:12,308 - tinkoff.invest.logging - INFO - c76d43e6cf8a3efcb9ffc89262574a0f ShareBy\n",
      "2022-05-21 20:01:12,421 - tinkoff.invest.logging - INFO - c38aacc2f26915807d82a09368a599b6 GetCandles\n"
     ]
    },
    {
     "name": "stdout",
     "output_type": "stream",
     "text": [
      "2019-SLB INIT BALANCE: 54.36 FINAL BALANCE: 58.05999999999999 + (SHARES 1)\n"
     ]
    },
    {
     "name": "stderr",
     "output_type": "stream",
     "text": [
      "2022-05-21 20:01:18,463 - tinkoff.invest.logging - INFO - 6b806a497a8f57d0f321d6aa77ac1e58 ShareBy\n",
      "2022-05-21 20:01:18,581 - tinkoff.invest.logging - INFO - f1861f938cc93dc6ee3c9d3be1edf878 GetCandles\n"
     ]
    },
    {
     "name": "stdout",
     "output_type": "stream",
     "text": [
      "2019-JNJ INIT BALANCE: 193.965 FINAL BALANCE: 193.85999999999993\n"
     ]
    },
    {
     "name": "stderr",
     "output_type": "stream",
     "text": [
      "2022-05-21 20:01:22,062 - tinkoff.invest.logging - INFO - a29b6f3d64d4a77176c8e4e056412636 ShareBy\n",
      "2022-05-21 20:01:22,149 - tinkoff.invest.logging - INFO - 32cd93d8be89f113a548c9d170f2e0dc GetCandles\n"
     ]
    },
    {
     "name": "stdout",
     "output_type": "stream",
     "text": [
      "2019-T INIT BALANCE: 42.75 FINAL BALANCE: 48.679999999999986\n"
     ]
    },
    {
     "name": "stderr",
     "output_type": "stream",
     "text": [
      "2022-05-21 20:01:28,481 - tinkoff.invest.logging - INFO - af87cb3322997cba08ef540f76500efe ShareBy\n",
      "2022-05-21 20:01:28,570 - tinkoff.invest.logging - INFO - 7b49d90d8434cf52cd1b33ffc25b1bfc GetCandles\n"
     ]
    },
    {
     "name": "stdout",
     "output_type": "stream",
     "text": [
      "2019-NKE INIT BALANCE: 110.625 FINAL BALANCE: 128.13000000000002 + (SHARES 1)\n"
     ]
    },
    {
     "name": "stderr",
     "output_type": "stream",
     "text": [
      "2022-05-21 20:01:31,355 - tinkoff.invest.logging - INFO - 0bd875f9206be9dd3f67785f5def1fe2 ShareBy\n",
      "2022-05-21 20:01:31,473 - tinkoff.invest.logging - INFO - 5a2f8e089a4e1baa7f1d2cc717ee5d09 GetCandles\n"
     ]
    },
    {
     "name": "stdout",
     "output_type": "stream",
     "text": [
      "2019-PGR INIT BALANCE: 90.44999999999999 FINAL BALANCE: 106.015 + (SHARES 1)\n"
     ]
    },
    {
     "name": "stderr",
     "output_type": "stream",
     "text": [
      "2022-05-21 20:01:36,564 - tinkoff.invest.logging - INFO - 5af7b9a0fb17aec2315a73ca2ec75152 ShareBy\n",
      "2022-05-21 20:01:36,672 - tinkoff.invest.logging - INFO - 4605d38c9c5dc74fe6095de2f72ddbb0 GetCandles\n",
      "2022-05-21 20:01:42,943 - tinkoff.invest.logging - INFO - 94979d0aaa82291e6663a005fb36c038 ShareBy\n"
     ]
    },
    {
     "name": "stdout",
     "output_type": "stream",
     "text": [
      "2019-AMGN INIT BALANCE: 285.915 FINAL BALANCE: 332.3349999999999 + (SHARES 1)\n"
     ]
    },
    {
     "name": "stderr",
     "output_type": "stream",
     "text": [
      "2022-05-21 20:01:43,041 - tinkoff.invest.logging - INFO - 7b484b2a0f3583c0cc8914a3f77026f8 GetCandles\n"
     ]
    },
    {
     "name": "stdout",
     "output_type": "stream",
     "text": [
      "2019-ICE INIT BALANCE: 111.58500000000001 FINAL BALANCE: 120.35000000000001 + (SHARES 1)\n"
     ]
    },
    {
     "name": "stderr",
     "output_type": "stream",
     "text": [
      "2022-05-21 20:01:45,507 - tinkoff.invest.logging - INFO - 74a93c406a6509a509f860b7443e8d63 ShareBy\n",
      "2022-05-21 20:01:45,595 - tinkoff.invest.logging - INFO - 74dbbc822c8f485e67af40681936a525 GetCandles\n"
     ]
    },
    {
     "name": "stdout",
     "output_type": "stream",
     "text": [
      "2019-FCX INIT BALANCE: 15.299999999999999 FINAL BALANCE: 16.49 + (SHARES 1)\n"
     ]
    },
    {
     "name": "stderr",
     "output_type": "stream",
     "text": [
      "2022-05-21 20:01:47,007 - tinkoff.invest.logging - INFO - 7d68a06d0551924c55ab1b7e902a2d39 ShareBy\n",
      "2022-05-21 20:01:47,111 - tinkoff.invest.logging - INFO - d41858f018375a30e1b0606c7867552d GetCandles\n",
      "2022-05-21 20:01:49,369 - tinkoff.invest.logging - INFO - b5158e6e5a2bbe947285f1a768356021 ShareBy\n"
     ]
    },
    {
     "name": "stdout",
     "output_type": "stream",
     "text": [
      "2019-HD INIT BALANCE: 256.35 FINAL BALANCE: 285.665\n"
     ]
    },
    {
     "name": "stderr",
     "output_type": "stream",
     "text": [
      "2022-05-21 20:01:49,470 - tinkoff.invest.logging - INFO - 6309d10369411b2d0b070260a5279b73 GetCandles\n"
     ]
    },
    {
     "name": "stdout",
     "output_type": "stream",
     "text": [
      "2019-FDX INIT BALANCE: 238.64999999999998 FINAL BALANCE: 242.05499999999998\n"
     ]
    },
    {
     "name": "stderr",
     "output_type": "stream",
     "text": [
      "2022-05-21 20:01:54,567 - tinkoff.invest.logging - ERROR - e792a20d1f620cd32b40467481fea8ce ShareBy NOT_FOUND 50002\n"
     ]
    },
    {
     "name": "stdout",
     "output_type": "stream",
     "text": [
      "(<StatusCode.NOT_FOUND: (5, 'not found')>, '50002', Metadata(tracking_id='e792a20d1f620cd32b40467481fea8ce', ratelimit_limit='200, 200;w=60', ratelimit_remaining=186, ratelimit_reset=6, message='instrument not found'))\n"
     ]
    },
    {
     "name": "stderr",
     "output_type": "stream",
     "text": [
      "2022-05-21 20:01:54,803 - tinkoff.invest.logging - INFO - 9e55aa42ef545624ad5f92f4389c1ade ShareBy\n",
      "2022-05-21 20:01:54,893 - tinkoff.invest.logging - INFO - a818bef20de66c84b7a8cbc008dadbb1 GetCandles\n"
     ]
    },
    {
     "name": "stdout",
     "output_type": "stream",
     "text": [
      "2019-DAL INIT BALANCE: 74.22 FINAL BALANCE: 84.94999999999999 + (SHARES 1)\n"
     ]
    },
    {
     "name": "stderr",
     "output_type": "stream",
     "text": [
      "2022-05-21 20:02:03,921 - tinkoff.invest.logging - ERROR - 917e2eac2f5df2072ab64e873c2a2661 ShareBy NOT_FOUND 50002\n"
     ]
    },
    {
     "name": "stdout",
     "output_type": "stream",
     "text": [
      "(<StatusCode.NOT_FOUND: (5, 'not found')>, '50002', Metadata(tracking_id='917e2eac2f5df2072ab64e873c2a2661', ratelimit_limit='200, 200;w=60', ratelimit_remaining=199, ratelimit_reset=57, message='instrument not found'))\n"
     ]
    },
    {
     "name": "stderr",
     "output_type": "stream",
     "text": [
      "2022-05-21 20:02:04,155 - tinkoff.invest.logging - ERROR - 64e5bc8896e486d3d871ce0f6ce4208d ShareBy NOT_FOUND 50002\n"
     ]
    },
    {
     "name": "stdout",
     "output_type": "stream",
     "text": [
      "(<StatusCode.NOT_FOUND: (5, 'not found')>, '50002', Metadata(tracking_id='64e5bc8896e486d3d871ce0f6ce4208d', ratelimit_limit='200, 200;w=60', ratelimit_remaining=198, ratelimit_reset=56, message='instrument not found'))\n"
     ]
    },
    {
     "name": "stderr",
     "output_type": "stream",
     "text": [
      "2022-05-21 20:02:09,419 - tinkoff.invest.logging - INFO - 158b4cefe247be5f344da087a040c374 ShareBy\n",
      "2022-05-21 20:02:09,529 - tinkoff.invest.logging - INFO - efdaa749e4102d1db6f984dfaf13b151 GetCandles\n"
     ]
    },
    {
     "name": "stdout",
     "output_type": "stream",
     "text": [
      "2019-PG INIT BALANCE: 136.815 FINAL BALANCE: 167.385\n"
     ]
    },
    {
     "name": "stderr",
     "output_type": "stream",
     "text": [
      "2022-05-21 20:02:12,826 - tinkoff.invest.logging - INFO - 0a5679772189178faed099852af57176 ShareBy\n",
      "2022-05-21 20:02:12,950 - tinkoff.invest.logging - INFO - e7a61f3c0a909541ea3ff74e97b01223 GetCandles\n"
     ]
    },
    {
     "name": "stdout",
     "output_type": "stream",
     "text": [
      "2019-MRK INIT BALANCE: 114.58500000000001 FINAL BALANCE: 130.89000000000004 + (SHARES 1)\n"
     ]
    },
    {
     "name": "stderr",
     "output_type": "stream",
     "text": [
      "2022-05-21 20:02:16,157 - tinkoff.invest.logging - ERROR - 37658f507278930647e9ebc84b16d620 ShareBy NOT_FOUND 50002\n"
     ]
    },
    {
     "name": "stdout",
     "output_type": "stream",
     "text": [
      "(<StatusCode.NOT_FOUND: (5, 'not found')>, '50002', Metadata(tracking_id='37658f507278930647e9ebc84b16d620', ratelimit_limit='200, 200;w=60', ratelimit_remaining=195, ratelimit_reset=44, message='instrument not found'))\n"
     ]
    },
    {
     "name": "stderr",
     "output_type": "stream",
     "text": [
      "2022-05-21 20:02:16,371 - tinkoff.invest.logging - INFO - 5230d986cf8dded962941199bcb19148 ShareBy\n",
      "2022-05-21 20:02:16,479 - tinkoff.invest.logging - INFO - aaea660e43a8823c8acfad277d28f212 GetCandles\n"
     ]
    },
    {
     "name": "stdout",
     "output_type": "stream",
     "text": [
      "2019-PFE INIT BALANCE: 65.115 FINAL BALANCE: 57.329999999999984\n"
     ]
    },
    {
     "name": "stderr",
     "output_type": "stream",
     "text": [
      "2022-05-21 20:02:19,673 - tinkoff.invest.logging - INFO - a19bcada20dface6a3cb7dde63e206c0 ShareBy\n",
      "2022-05-21 20:02:19,799 - tinkoff.invest.logging - INFO - bdb973eb87f56940055651807f8f4bd4 GetCandles\n"
     ]
    },
    {
     "name": "stdout",
     "output_type": "stream",
     "text": [
      "2019-ADP INIT BALANCE: 192.67499999999998 FINAL BALANCE: 233.14499999999998 + (SHARES 1)\n"
     ]
    },
    {
     "name": "stderr",
     "output_type": "stream",
     "text": [
      "2022-05-21 20:02:23,871 - tinkoff.invest.logging - INFO - 82988330595cef4dea4f4796edd4b182 ShareBy\n",
      "2022-05-21 20:02:23,982 - tinkoff.invest.logging - INFO - d8439c4e36884964e5e7eef5cbbd4c46 GetCandles\n"
     ]
    },
    {
     "name": "stdout",
     "output_type": "stream",
     "text": [
      "2019-JWN INIT BALANCE: 69.6 FINAL BALANCE: 81.90499999999999 + (SHARES 2)\n"
     ]
    },
    {
     "name": "stderr",
     "output_type": "stream",
     "text": [
      "2022-05-21 20:02:29,007 - tinkoff.invest.logging - ERROR - 6368199f135d083fe6e97ccffd243333 ShareBy NOT_FOUND 50002\n",
      "2022-05-21 20:02:29,209 - tinkoff.invest.logging - INFO - 7c9f89475c23ec2af38b4dccbe683462 ShareBy\n"
     ]
    },
    {
     "name": "stdout",
     "output_type": "stream",
     "text": [
      "(<StatusCode.NOT_FOUND: (5, 'not found')>, '50002', Metadata(tracking_id='6368199f135d083fe6e97ccffd243333', ratelimit_limit='200, 200;w=60', ratelimit_remaining=191, ratelimit_reset=32, message='instrument not found'))\n"
     ]
    },
    {
     "name": "stderr",
     "output_type": "stream",
     "text": [
      "2022-05-21 20:02:29,320 - tinkoff.invest.logging - INFO - d885823c773eb89c415c8968570b3bf7 GetCandles\n"
     ]
    },
    {
     "name": "stdout",
     "output_type": "stream",
     "text": [
      "2019-AVGO INIT BALANCE: 373.65 FINAL BALANCE: 453.18499999999995 + (SHARES 1)\n"
     ]
    },
    {
     "name": "stderr",
     "output_type": "stream",
     "text": [
      "2022-05-21 20:02:33,439 - tinkoff.invest.logging - INFO - b053254c928e4a15acc3db7ac4b22499 ShareBy\n",
      "2022-05-21 20:02:33,502 - tinkoff.invest.logging - INFO - eea19b83f0a8558ed5178c3033912dad GetCandles\n",
      "2022-05-21 20:02:33,824 - tinkoff.invest.logging - INFO - 6e99f32a3776dc86be9c3451ab445137 ShareBy\n"
     ]
    },
    {
     "name": "stdout",
     "output_type": "stream",
     "text": [
      "2019-NLOK INIT BALANCE: 36.39 FINAL BALANCE: 36.39\n"
     ]
    },
    {
     "name": "stderr",
     "output_type": "stream",
     "text": [
      "2022-05-21 20:02:33,920 - tinkoff.invest.logging - INFO - f2458356784efcb3b312dfa414484f4f GetCandles\n"
     ]
    },
    {
     "name": "stdout",
     "output_type": "stream",
     "text": [
      "2019-HUM INIT BALANCE: 425.40000000000003 FINAL BALANCE: 383.33 + (SHARES 1)\n"
     ]
    },
    {
     "name": "stderr",
     "output_type": "stream",
     "text": [
      "2022-05-21 20:02:37,445 - tinkoff.invest.logging - INFO - 9b02608c102cdbd22ac7229b51455a0e ShareBy\n",
      "2022-05-21 20:02:37,559 - tinkoff.invest.logging - INFO - e49cd8827360176c0e98179e59d2deb1 GetCandles\n"
     ]
    },
    {
     "name": "stdout",
     "output_type": "stream",
     "text": [
      "2019-FMC INIT BALANCE: 109.05000000000001 FINAL BALANCE: 117.26\n"
     ]
    },
    {
     "name": "stderr",
     "output_type": "stream",
     "text": [
      "2022-05-21 20:02:39,720 - tinkoff.invest.logging - INFO - e673e73740b82836f963b7bb37a6b874 ShareBy\n",
      "2022-05-21 20:02:39,826 - tinkoff.invest.logging - INFO - 56a294fe8e84480dbe1186f17266f6f7 GetCandles\n"
     ]
    },
    {
     "name": "stdout",
     "output_type": "stream",
     "text": [
      "2019-COST INIT BALANCE: 302.88 FINAL BALANCE: 353.145 + (SHARES 1)\n"
     ]
    },
    {
     "name": "stderr",
     "output_type": "stream",
     "text": [
      "2022-05-21 20:02:42,424 - tinkoff.invest.logging - INFO - 61c92799083e3a4387ef27090b07062b ShareBy\n",
      "2022-05-21 20:02:42,482 - tinkoff.invest.logging - INFO - 4e98670db3fb1dd7a3b05f49a7fbca5d GetCandles\n",
      "2022-05-21 20:02:42,697 - tinkoff.invest.logging - INFO - ed40f41392196da2fea97ac6f0b7ea05 ShareBy\n",
      "2022-05-21 20:02:42,804 - tinkoff.invest.logging - INFO - f492b301348044f80bdeefddcaed2355 GetCandles\n",
      "2022-05-21 20:02:44,457 - tinkoff.invest.logging - INFO - 985c41ead13262ad949ff292efbda8aa ShareBy\n"
     ]
    },
    {
     "name": "stdout",
     "output_type": "stream",
     "text": [
      "2019-MCD INIT BALANCE: 265.32 FINAL BALANCE: 275.235\n"
     ]
    },
    {
     "name": "stderr",
     "output_type": "stream",
     "text": [
      "2022-05-21 20:02:44,566 - tinkoff.invest.logging - INFO - 2da4866254c6e166c1c388311d5d62cc GetCandles\n"
     ]
    },
    {
     "name": "stdout",
     "output_type": "stream",
     "text": [
      "2019-LLY INIT BALANCE: 171.3 FINAL BALANCE: 193.88 + (SHARES 1)\n"
     ]
    },
    {
     "name": "stderr",
     "output_type": "stream",
     "text": [
      "2022-05-21 20:02:47,529 - tinkoff.invest.logging - INFO - 56053ebb663459f8afd3dd29179b7bf2 ShareBy\n",
      "2022-05-21 20:02:47,636 - tinkoff.invest.logging - INFO - a56442b6b41c190160295f10297540cb GetCandles\n"
     ]
    },
    {
     "name": "stdout",
     "output_type": "stream",
     "text": [
      "2019-UAL INIT BALANCE: 122.78999999999999 FINAL BALANCE: 121.86499999999998 + (SHARES 1)\n"
     ]
    },
    {
     "name": "stderr",
     "output_type": "stream",
     "text": [
      "2022-05-21 20:02:48,762 - tinkoff.invest.logging - INFO - a33eb0a80e8e338e23bc9542934b22ff ShareBy\n",
      "2022-05-21 20:02:48,870 - tinkoff.invest.logging - INFO - 1cd2e018ebf2d820bc8f3b593891ec39 GetCandles\n"
     ]
    },
    {
     "name": "stdout",
     "output_type": "stream",
     "text": [
      "2019-STZ INIT BALANCE: 240.29999999999998 FINAL BALANCE: 259.775\n"
     ]
    },
    {
     "name": "stderr",
     "output_type": "stream",
     "text": [
      "2022-05-21 20:02:52,654 - tinkoff.invest.logging - INFO - c4ef65a43f4d4991f8b046afc3fe5f32 ShareBy\n",
      "2022-05-21 20:02:52,760 - tinkoff.invest.logging - INFO - 52b02fd2c56cb13577db3883db6833ce GetCandles\n"
     ]
    },
    {
     "name": "stdout",
     "output_type": "stream",
     "text": [
      "2019-COP INIT BALANCE: 92.265 FINAL BALANCE: 96.72000000000001 + (SHARES 1)\n"
     ]
    },
    {
     "name": "stderr",
     "output_type": "stream",
     "text": [
      "2022-05-21 20:02:57,448 - tinkoff.invest.logging - INFO - 2926dead76f1204d136d132f54a201c8 ShareBy\n",
      "2022-05-21 20:02:57,571 - tinkoff.invest.logging - INFO - 3ca68e1691df146e94e54081e15cadb8 GetCandles\n"
     ]
    },
    {
     "name": "stdout",
     "output_type": "stream",
     "text": [
      "2019-BBY INIT BALANCE: 79.33500000000001 FINAL BALANCE: 97.86500000000002\n"
     ]
    },
    {
     "name": "stderr",
     "output_type": "stream",
     "text": [
      "2022-05-21 20:02:59,953 - tinkoff.invest.logging - INFO - 9bbba4b97ea9595f14a93954a6d049ca ShareBy\n",
      "2022-05-21 20:03:00,067 - tinkoff.invest.logging - INFO - 613564cf9dbc147b7c12a805530b9d29 GetCandles\n"
     ]
    },
    {
     "name": "stdout",
     "output_type": "stream",
     "text": [
      "2019-CMCSA INIT BALANCE: 49.995 FINAL BALANCE: 59.38 + (SHARES 1)\n"
     ]
    },
    {
     "name": "stderr",
     "output_type": "stream",
     "text": [
      "2022-05-21 20:03:05,860 - tinkoff.invest.logging - INFO - 845f38fce684779cb73bd435eb4c1f9f ShareBy\n",
      "2022-05-21 20:03:05,966 - tinkoff.invest.logging - INFO - 9b451ed368bd07a1037331e0393a14a9 GetCandles\n"
     ]
    },
    {
     "name": "stdout",
     "output_type": "stream",
     "text": [
      "2019-NOC INIT BALANCE: 362.76 FINAL BALANCE: 429.9800000000001 + (SHARES 1)\n"
     ]
    },
    {
     "name": "stderr",
     "output_type": "stream",
     "text": [
      "2022-05-21 20:03:10,411 - tinkoff.invest.logging - ERROR - 0d7c3f129fb73af93fdaeaec82e52f5b ShareBy NOT_FOUND 50002\n",
      "2022-05-21 20:03:10,638 - tinkoff.invest.logging - INFO - f980eb632c1e6ce0b2c36d72e19e45e9 ShareBy\n"
     ]
    },
    {
     "name": "stdout",
     "output_type": "stream",
     "text": [
      "(<StatusCode.NOT_FOUND: (5, 'not found')>, '50002', Metadata(tracking_id='0d7c3f129fb73af93fdaeaec82e52f5b', ratelimit_limit='200, 200;w=60', ratelimit_remaining=198, ratelimit_reset=50, message='instrument not found'))\n"
     ]
    },
    {
     "name": "stderr",
     "output_type": "stream",
     "text": [
      "2022-05-21 20:03:10,754 - tinkoff.invest.logging - INFO - d59e1635d98ea86e7ed73a4a63fad766 GetCandles\n"
     ]
    },
    {
     "name": "stdout",
     "output_type": "stream",
     "text": [
      "2019-AXP INIT BALANCE: 143.02499999999998 FINAL BALANCE: 157.90999999999997 + (SHARES 1)\n"
     ]
    },
    {
     "name": "stderr",
     "output_type": "stream",
     "text": [
      "2022-05-21 20:03:14,104 - tinkoff.invest.logging - ERROR - 8aa1a06bd5b69f97301103762cbe8d38 ShareBy NOT_FOUND 50002\n",
      "2022-05-21 20:03:14,305 - tinkoff.invest.logging - INFO - 8249bff4ca3dd6bb3cb001e94752add5 ShareBy\n"
     ]
    },
    {
     "name": "stdout",
     "output_type": "stream",
     "text": [
      "(<StatusCode.NOT_FOUND: (5, 'not found')>, '50002', Metadata(tracking_id='8aa1a06bd5b69f97301103762cbe8d38', ratelimit_limit='200, 200;w=60', ratelimit_remaining=196, ratelimit_reset=46, message='instrument not found'))\n"
     ]
    },
    {
     "name": "stderr",
     "output_type": "stream",
     "text": [
      "2022-05-21 20:03:14,421 - tinkoff.invest.logging - INFO - a34e5d61fb9b44a52d2cd194ef86e79a GetCandles\n"
     ]
    },
    {
     "name": "stdout",
     "output_type": "stream",
     "text": [
      "2019-BIIB INIT BALANCE: 444.945 FINAL BALANCE: 492.88 + (SHARES 1)\n"
     ]
    },
    {
     "name": "stderr",
     "output_type": "stream",
     "text": [
      "2022-05-21 20:03:18,334 - tinkoff.invest.logging - INFO - 95fe69cdbc2a55bf95803201a4c973cf ShareBy\n",
      "2022-05-21 20:03:18,455 - tinkoff.invest.logging - INFO - e0abf842645f9b47fef32c91ae86f6f9 GetCandles\n"
     ]
    },
    {
     "name": "stdout",
     "output_type": "stream",
     "text": [
      "2019-MMM INIT BALANCE: 281.54999999999995 FINAL BALANCE: 274.3399999999999 + (SHARES 1)\n"
     ]
    },
    {
     "name": "stderr",
     "output_type": "stream",
     "text": [
      "2022-05-21 20:03:20,340 - tinkoff.invest.logging - ERROR - 4ef24fe615617db4a8659c0673500d25 ShareBy NOT_FOUND 50002\n",
      "2022-05-21 20:03:20,568 - tinkoff.invest.logging - ERROR - dcf564c4e3425483365cbaf8ea635e07 ShareBy NOT_FOUND 50002\n"
     ]
    },
    {
     "name": "stdout",
     "output_type": "stream",
     "text": [
      "(<StatusCode.NOT_FOUND: (5, 'not found')>, '50002', Metadata(tracking_id='4ef24fe615617db4a8659c0673500d25', ratelimit_limit='200, 200;w=60', ratelimit_remaining=193, ratelimit_reset=40, message='instrument not found'))\n",
      "(<StatusCode.NOT_FOUND: (5, 'not found')>, '50002', Metadata(tracking_id='dcf564c4e3425483365cbaf8ea635e07', ratelimit_limit='200, 200;w=60', ratelimit_remaining=192, ratelimit_reset=40, message='instrument not found'))\n"
     ]
    },
    {
     "name": "stderr",
     "output_type": "stream",
     "text": [
      "2022-05-21 20:03:20,803 - tinkoff.invest.logging - INFO - df2429d8691c8e9b709f6233fb6f4bf4 ShareBy\n",
      "2022-05-21 20:03:20,922 - tinkoff.invest.logging - INFO - d2d354611597fcf1f6883155db558a19 GetCandles\n"
     ]
    },
    {
     "name": "stdout",
     "output_type": "stream",
     "text": [
      "2019-NVDA INIT BALANCE: 49.980000000000004 FINAL BALANCE: 76.01500000000001 + (SHARES 1)\n"
     ]
    },
    {
     "name": "stderr",
     "output_type": "stream",
     "text": [
      "2022-05-21 20:03:30,923 - tinkoff.invest.logging - INFO - b7e3b225cadc8b60fb80535c60cb29c5 ShareBy\n",
      "2022-05-21 20:03:31,036 - tinkoff.invest.logging - INFO - f64a76ab98e63d44aa50565675f15e31 GetCandles\n"
     ]
    },
    {
     "name": "stdout",
     "output_type": "stream",
     "text": [
      "2019-MYL INIT BALANCE: 40.38 FINAL BALANCE: 29.179999999999996\n"
     ]
    },
    {
     "name": "stderr",
     "output_type": "stream",
     "text": [
      "2022-05-21 20:03:32,690 - tinkoff.invest.logging - INFO - 4f397ad3f532ccd49cf91dac4de34a4f ShareBy\n",
      "2022-05-21 20:03:32,810 - tinkoff.invest.logging - INFO - 3947de0917d7aa19c4258eae63eabd91 GetCandles\n"
     ]
    },
    {
     "name": "stdout",
     "output_type": "stream",
     "text": [
      "2019-DD INIT BALANCE: 110.39025000000001 FINAL BALANCE: 107.29025 + (SHARES 1)\n"
     ]
    },
    {
     "name": "stderr",
     "output_type": "stream",
     "text": [
      "2022-05-21 20:03:33,735 - tinkoff.invest.logging - INFO - 3196110467034cb991d8e78466ccf019 ShareBy\n",
      "2022-05-21 20:03:33,842 - tinkoff.invest.logging - INFO - c644d1d4ce82d50650d3e34c96974fdc GetCandles\n",
      "2022-05-21 20:03:36,098 - tinkoff.invest.logging - INFO - a7c97c4cf10f9b33433f37fca37b01ee ShareBy\n"
     ]
    },
    {
     "name": "stdout",
     "output_type": "stream",
     "text": [
      "2019-GILD INIT BALANCE: 93.30000000000001 FINAL BALANCE: 93.13000000000004\n"
     ]
    },
    {
     "name": "stderr",
     "output_type": "stream",
     "text": [
      "2022-05-21 20:03:36,212 - tinkoff.invest.logging - INFO - e19ab377db74dd35be482025e3510aa1 GetCandles\n"
     ]
    },
    {
     "name": "stdout",
     "output_type": "stream",
     "text": [
      "2019-ORCL INIT BALANCE: 67.89 FINAL BALANCE: 77.20500000000001\n"
     ]
    },
    {
     "name": "stderr",
     "output_type": "stream",
     "text": [
      "2022-05-21 20:03:40,152 - tinkoff.invest.logging - INFO - 55c57529f6f2a4ca1b827344bf15878d ShareBy\n",
      "2022-05-21 20:03:40,282 - tinkoff.invest.logging - INFO - ea114b7e8bb57d3702ac1511f7d542dc GetCandles\n"
     ]
    },
    {
     "name": "stdout",
     "output_type": "stream",
     "text": [
      "2019-ADBE INIT BALANCE: 335.805 FINAL BALANCE: 434.68000000000006 + (SHARES 1)\n"
     ]
    },
    {
     "name": "stderr",
     "output_type": "stream",
     "text": [
      "2022-05-21 20:03:46,609 - tinkoff.invest.logging - INFO - 719e683be9ebf54de6f03f1b5b144f0f ShareBy\n",
      "2022-05-21 20:03:46,742 - tinkoff.invest.logging - INFO - 99f52918479ee2fd840db4f7dac06424 GetCandles\n"
     ]
    },
    {
     "name": "stdout",
     "output_type": "stream",
     "text": [
      "2019-BIDU INIT BALANCE: 237.14999999999998 FINAL BALANCE: 285.57 + (SHARES 2)\n"
     ]
    },
    {
     "name": "stderr",
     "output_type": "stream",
     "text": [
      "2022-05-21 20:03:49,014 - tinkoff.invest.logging - INFO - 4a97bc605e04e6539cb9484d672ef407 ShareBy\n",
      "2022-05-21 20:03:49,132 - tinkoff.invest.logging - INFO - 87ece1b8766c37e27dad0db44e6be619 GetCandles\n"
     ]
    },
    {
     "name": "stdout",
     "output_type": "stream",
     "text": [
      "2019-VALE INIT BALANCE: 19.29 FINAL BALANCE: 20.17\n"
     ]
    },
    {
     "name": "stderr",
     "output_type": "stream",
     "text": [
      "2022-05-21 20:03:50,667 - tinkoff.invest.logging - INFO - 18456faa5d4aeb806c4289fdb0c8108a ShareBy\n",
      "2022-05-21 20:03:50,755 - tinkoff.invest.logging - INFO - 2d97fa80f03c520d958bc8c453d160c9 GetCandles\n"
     ]
    },
    {
     "name": "stdout",
     "output_type": "stream",
     "text": [
      "2019-CSCO INIT BALANCE: 64.66499999999999 FINAL BALANCE: 74.405 + (SHARES 1)\n"
     ]
    },
    {
     "name": "stderr",
     "output_type": "stream",
     "text": [
      "2022-05-21 20:03:56,327 - tinkoff.invest.logging - INFO - bef63de5276041614c45c3b209b282c9 ShareBy\n",
      "2022-05-21 20:03:56,443 - tinkoff.invest.logging - INFO - 8870b3194615353829408f60f6f8bd6c GetCandles\n"
     ]
    },
    {
     "name": "stdout",
     "output_type": "stream",
     "text": [
      "2019-SPGI INIT BALANCE: 251.96999999999997 FINAL BALANCE: 313.735 + (SHARES 1)\n"
     ]
    },
    {
     "name": "stderr",
     "output_type": "stream",
     "text": [
      "2022-05-21 20:03:58,307 - tinkoff.invest.logging - INFO - c87d7cf90f9369c1270baf233355a566 ShareBy\n",
      "2022-05-21 20:03:58,365 - tinkoff.invest.logging - INFO - 4a58b08350a59066510feadbce795f6f GetCandles\n",
      "2022-05-21 20:03:58,579 - tinkoff.invest.logging - INFO - 909dbd5eee10b0d4c140a984bb4c05b3 ShareBy\n",
      "2022-05-21 20:03:58,699 - tinkoff.invest.logging - INFO - ed1cd5edf0b1aa42136ff9e919e9e2dc GetCandles\n"
     ]
    },
    {
     "name": "stdout",
     "output_type": "stream",
     "text": [
      "2019-AZO INIT BALANCE: 1254.75 FINAL BALANCE: 1625.47 + (SHARES 1)\n"
     ]
    },
    {
     "name": "stderr",
     "output_type": "stream",
     "text": [
      "2022-05-21 20:04:03,203 - tinkoff.invest.logging - INFO - 99505aa6d0f090502eaad307d3acab4c ShareBy\n",
      "2022-05-21 20:04:03,314 - tinkoff.invest.logging - INFO - 9ad55da8163a5041e0166eda14607767 GetCandles\n"
     ]
    },
    {
     "name": "stdout",
     "output_type": "stream",
     "text": [
      "2019-MA INIT BALANCE: 280.005 FINAL BALANCE: 373.82 + (SHARES 1)\n"
     ]
    },
    {
     "name": "stderr",
     "output_type": "stream",
     "text": [
      "2022-05-21 20:04:09,815 - tinkoff.invest.logging - INFO - 73fce40349727a57333a0d0e4fc66559 ShareBy\n",
      "2022-05-21 20:04:09,887 - tinkoff.invest.logging - INFO - f4e98f18e2d78a0a3008d764dd320e0a GetCandles\n",
      "2022-05-21 20:04:10,095 - tinkoff.invest.logging - INFO - aa435be88e0eae5e92ea8f529075dfc9 ShareBy\n",
      "2022-05-21 20:04:10,211 - tinkoff.invest.logging - INFO - 5704dd4b79db6249349cb87e09050f7e GetCandles\n"
     ]
    },
    {
     "name": "stdout",
     "output_type": "stream",
     "text": [
      "2019-PM INIT BALANCE: 102.255 FINAL BALANCE: 129.73 + (SHARES 1)\n"
     ]
    },
    {
     "name": "stderr",
     "output_type": "stream",
     "text": [
      "2022-05-21 20:04:16,661 - tinkoff.invest.logging - INFO - 27657fd407f2412ff5d0741376b9b099 ShareBy\n",
      "2022-05-21 20:04:16,752 - tinkoff.invest.logging - INFO - 58707fadf4cfd1933499134a94a1daae GetCandles\n"
     ]
    },
    {
     "name": "stdout",
     "output_type": "stream",
     "text": [
      "2019-URBN INIT BALANCE: 48.885000000000005 FINAL BALANCE: 53.165000000000006 + (SHARES 1)\n"
     ]
    },
    {
     "name": "stderr",
     "output_type": "stream",
     "text": [
      "2022-05-21 20:04:19,579 - tinkoff.invest.logging - ERROR - e9061c07e8c5f5ef2d4abaac2abfa774 ShareBy NOT_FOUND 50002\n",
      "2022-05-21 20:04:19,801 - tinkoff.invest.logging - INFO - a57fa82329f3edfa6259854ee72f2c71 ShareBy\n"
     ]
    },
    {
     "name": "stdout",
     "output_type": "stream",
     "text": [
      "(<StatusCode.NOT_FOUND: (5, 'not found')>, '50002', Metadata(tracking_id='e9061c07e8c5f5ef2d4abaac2abfa774', ratelimit_limit='200, 200;w=60', ratelimit_remaining=195, ratelimit_reset=41, message='instrument not found'))\n"
     ]
    },
    {
     "name": "stderr",
     "output_type": "stream",
     "text": [
      "2022-05-21 20:04:19,907 - tinkoff.invest.logging - INFO - 48c2e96aadd17dff30f5f21d8345ee92 GetCandles\n"
     ]
    },
    {
     "name": "stdout",
     "output_type": "stream",
     "text": [
      "2019-BMY INIT BALANCE: 77.145 FINAL BALANCE: 90.22499999999998 + (SHARES 1)\n"
     ]
    },
    {
     "name": "stderr",
     "output_type": "stream",
     "text": [
      "2022-05-21 20:04:23,679 - tinkoff.invest.logging - INFO - 740d5019cc2a8b23a0848ed1c436f0bc ShareBy\n",
      "2022-05-21 20:04:23,799 - tinkoff.invest.logging - INFO - deb42c14e2cbc1d7267974f49a2efa6f GetCandles\n",
      "2022-05-21 20:04:45,405 - tinkoff.invest.logging - INFO - 362640a14c4d70a769a50226acfba39a ShareBy\n"
     ]
    },
    {
     "name": "stdout",
     "output_type": "stream",
     "text": [
      "2020-AAPL INIT BALANCE: 109.695 FINAL BALANCE: 168.24499999999998 + (SHARES 1)\n"
     ]
    },
    {
     "name": "stderr",
     "output_type": "stream",
     "text": [
      "2022-05-21 20:04:45,509 - tinkoff.invest.logging - INFO - dbb55b5356cddd6a38eef0e9b8a80276 GetCandles\n"
     ]
    },
    {
     "name": "stdout",
     "output_type": "stream",
     "text": [
      "2020-MSFT INIT BALANCE: 238.5 FINAL BALANCE: 294.74 + (SHARES 1)\n"
     ]
    },
    {
     "name": "stderr",
     "output_type": "stream",
     "text": [
      "2022-05-21 20:04:46,537 - tinkoff.invest.logging - INFO - 61064c07e2953f4d6e0dd8fd55042c6a ShareBy\n",
      "2022-05-21 20:04:46,642 - tinkoff.invest.logging - INFO - 74a11a0e2bf30b2643f62fa8ef1ee377 GetCandles\n"
     ]
    },
    {
     "name": "stdout",
     "output_type": "stream",
     "text": [
      "2020-BAC INIT BALANCE: 53.010000000000005 FINAL BALANCE: 48.57000000000001 + (SHARES 1)\n"
     ]
    },
    {
     "name": "stderr",
     "output_type": "stream",
     "text": [
      "2022-05-21 20:04:48,120 - tinkoff.invest.logging - INFO - 699954d1cd2e59e69e2407b9b88fecec ShareBy\n",
      "2022-05-21 20:04:48,208 - tinkoff.invest.logging - INFO - 122aee9e69c2a7fcab49f28208b69bd7 GetCandles\n",
      "2022-05-21 20:04:49,031 - tinkoff.invest.logging - INFO - caa041368d1d69af33f74fe1e731da7c ShareBy\n"
     ]
    },
    {
     "name": "stdout",
     "output_type": "stream",
     "text": [
      "2020-AMZN INIT BALANCE: 2794.11 FINAL BALANCE: 4186.76 + (SHARES 1)\n"
     ]
    },
    {
     "name": "stderr",
     "output_type": "stream",
     "text": [
      "2022-05-21 20:04:49,133 - tinkoff.invest.logging - INFO - dd2f67606982110dfd0329f05ad81dcc GetCandles\n"
     ]
    },
    {
     "name": "stdout",
     "output_type": "stream",
     "text": [
      "2020-NWSA INIT BALANCE: 21.435 FINAL BALANCE: 25.684999999999995 + (SHARES 1)\n"
     ]
    },
    {
     "name": "stderr",
     "output_type": "stream",
     "text": [
      "2022-05-21 20:04:49,726 - tinkoff.invest.logging - INFO - da0ef845ab894152f419f3899077dede ShareBy\n",
      "2022-05-21 20:04:49,823 - tinkoff.invest.logging - INFO - f510fdb5525f65a687f259ecd6ca9322 GetCandles\n"
     ]
    },
    {
     "name": "stdout",
     "output_type": "stream",
     "text": [
      "2020-BA INIT BALANCE: 491.68500000000006 FINAL BALANCE: 465.83000000000004\n"
     ]
    },
    {
     "name": "stderr",
     "output_type": "stream",
     "text": [
      "2022-05-21 20:04:50,967 - tinkoff.invest.logging - INFO - 3a5da9f5954d81c1a91d997f03f2ebeb ShareBy\n",
      "2022-05-21 20:04:51,066 - tinkoff.invest.logging - INFO - b6bf98d7e1b26efcce76a76af2cd5660 GetCandles\n"
     ]
    },
    {
     "name": "stdout",
     "output_type": "stream",
     "text": [
      "2020-GOOGL INIT BALANCE: 2020.47 FINAL BALANCE: 2320.955 + (SHARES 1)\n"
     ]
    },
    {
     "name": "stderr",
     "output_type": "stream",
     "text": [
      "2022-05-21 20:04:51,754 - tinkoff.invest.logging - INFO - 179de460aba42603358ff9bd4cbff6f2 ShareBy\n",
      "2022-05-21 20:04:51,874 - tinkoff.invest.logging - INFO - 6e867c8595a6525dba6b709bf292ad5b GetCandles\n"
     ]
    },
    {
     "name": "stdout",
     "output_type": "stream",
     "text": [
      "2020-GS INIT BALANCE: 345.81 FINAL BALANCE: 371.66999999999996 + (SHARES 1)\n"
     ]
    },
    {
     "name": "stderr",
     "output_type": "stream",
     "text": [
      "2022-05-21 20:04:55,721 - tinkoff.invest.logging - INFO - e5663ff1493ac51d6479083784c1126c ShareBy\n",
      "2022-05-21 20:04:55,829 - tinkoff.invest.logging - INFO - fdf650895437ca960ae6f60e1914d11b GetCandles\n"
     ]
    },
    {
     "name": "stdout",
     "output_type": "stream",
     "text": [
      "2020-TSLA INIT BALANCE: 125.445 FINAL BALANCE: 734.0899999999999 + (SHARES 1)\n"
     ]
    },
    {
     "name": "stderr",
     "output_type": "stream",
     "text": [
      "2022-05-21 20:04:56,842 - tinkoff.invest.logging - INFO - 1d23b1ac1f1e9e9463b7cd201930256d ShareBy\n",
      "2022-05-21 20:04:56,956 - tinkoff.invest.logging - INFO - fea823915220421aee9f4648afe36898 GetCandles\n"
     ]
    },
    {
     "name": "stdout",
     "output_type": "stream",
     "text": [
      "2020-NFLX INIT BALANCE: 485.355 FINAL BALANCE: 694.49 + (SHARES 1)\n"
     ]
    },
    {
     "name": "stderr",
     "output_type": "stream",
     "text": [
      "2022-05-21 20:05:07,633 - tinkoff.invest.logging - INFO - 008b2c7323127967354a09385e51ee0c ShareBy\n",
      "2022-05-21 20:05:07,722 - tinkoff.invest.logging - INFO - 39bfde285088f08de856c80be80bfdb1 GetCandles\n"
     ]
    },
    {
     "name": "stdout",
     "output_type": "stream",
     "text": [
      "2020-TGT INIT BALANCE: 194.19 FINAL BALANCE: 187.15999999999997\n"
     ]
    },
    {
     "name": "stderr",
     "output_type": "stream",
     "text": [
      "2022-05-21 20:05:08,532 - tinkoff.invest.logging - INFO - aaa77c544fb6b0e421c13427f80ca95d ShareBy\n",
      "2022-05-21 20:05:08,631 - tinkoff.invest.logging - INFO - e4fcf4759c4ca68bb026e412aec4d0f1 GetCandles\n"
     ]
    },
    {
     "name": "stdout",
     "output_type": "stream",
     "text": [
      "2020-INTC INIT BALANCE: 90.15 FINAL BALANCE: 77.73500000000001 + (SHARES 1)\n"
     ]
    },
    {
     "name": "stderr",
     "output_type": "stream",
     "text": [
      "2022-05-21 20:05:09,645 - tinkoff.invest.logging - INFO - fa7c0d613c090e9a1a32be5da9c71323 ShareBy\n",
      "2022-05-21 20:05:09,753 - tinkoff.invest.logging - INFO - 4e4bbc78e7f4c7f677f4f898137b8045 GetCandles\n"
     ]
    },
    {
     "name": "stdout",
     "output_type": "stream",
     "text": [
      "2020-DIS INIT BALANCE: 218.94 FINAL BALANCE: 255.17000000000002 + (SHARES 1)\n"
     ]
    },
    {
     "name": "stderr",
     "output_type": "stream",
     "text": [
      "2022-05-21 20:05:10,317 - tinkoff.invest.logging - INFO - 71d369ae6537ea547bec2e415ddb60dc ShareBy\n",
      "2022-05-21 20:05:10,414 - tinkoff.invest.logging - INFO - 6b84e5f73e06e9cdde262f29e09c12ca GetCandles\n"
     ]
    },
    {
     "name": "stdout",
     "output_type": "stream",
     "text": [
      "2020-XOM INIT BALANCE: 105.58500000000001 FINAL BALANCE: 105.58500000000001\n"
     ]
    },
    {
     "name": "stderr",
     "output_type": "stream",
     "text": [
      "2022-05-21 20:05:11,277 - tinkoff.invest.logging - INFO - 8c27de3f7d7184b44f36729751a698dd ShareBy\n",
      "2022-05-21 20:05:11,385 - tinkoff.invest.logging - INFO - 1b637a7aa38ddc5a814bfde3b7ba64c9 GetCandles\n"
     ]
    },
    {
     "name": "stdout",
     "output_type": "stream",
     "text": [
      "2020-JPM INIT BALANCE: 210.495 FINAL BALANCE: 198.885 + (SHARES 1)\n"
     ]
    },
    {
     "name": "stderr",
     "output_type": "stream",
     "text": [
      "2022-05-21 20:05:16,441 - tinkoff.invest.logging - INFO - b4b85d08b8cfae61510df75677f2f936 ShareBy\n",
      "2022-05-21 20:05:16,556 - tinkoff.invest.logging - INFO - 6b399df3def521bf5f30836b75212643 GetCandles\n"
     ]
    },
    {
     "name": "stdout",
     "output_type": "stream",
     "text": [
      "2020-MS INIT BALANCE: 76.92 FINAL BALANCE: 94.155 + (SHARES 1)\n"
     ]
    },
    {
     "name": "stderr",
     "output_type": "stream",
     "text": [
      "2022-05-21 20:05:18,898 - tinkoff.invest.logging - INFO - 2cf48e2581fc08e9bce63370befba200 ShareBy\n",
      "2022-05-21 20:05:18,986 - tinkoff.invest.logging - INFO - 393e269060076c6d3b215716f8a2d906 GetCandles\n"
     ]
    },
    {
     "name": "stdout",
     "output_type": "stream",
     "text": [
      "2020-GM INIT BALANCE: 54.824999999999996 FINAL BALANCE: 54.910000000000004\n"
     ]
    },
    {
     "name": "stderr",
     "output_type": "stream",
     "text": [
      "2022-05-21 20:05:21,729 - tinkoff.invest.logging - INFO - bc465db60a2af45d7f0d8ad5797bd55c ShareBy\n",
      "2022-05-21 20:05:21,834 - tinkoff.invest.logging - INFO - ac7a88a0058417f813620231a9d68381 GetCandles\n"
     ]
    },
    {
     "name": "stdout",
     "output_type": "stream",
     "text": [
      "2020-C INIT BALANCE: 120.255 FINAL BALANCE: 102.70499999999998 + (SHARES 1)\n"
     ]
    },
    {
     "name": "stderr",
     "output_type": "stream",
     "text": [
      "2022-05-21 20:05:23,547 - tinkoff.invest.logging - INFO - f26db82bc92c02afdcd631d1b33e0968 ShareBy\n",
      "2022-05-21 20:05:23,644 - tinkoff.invest.logging - INFO - 52c0b32feab1994816c9210a0d8f3b7a GetCandles\n"
     ]
    },
    {
     "name": "stdout",
     "output_type": "stream",
     "text": [
      "2020-GE INIT BALANCE: 134.39999999999998 FINAL BALANCE: 128.6 + (SHARES 1)\n"
     ]
    },
    {
     "name": "stderr",
     "output_type": "stream",
     "text": [
      "2022-05-21 20:05:24,819 - tinkoff.invest.logging - INFO - 9f7a66763b27eda29b66eaea5385a630 ShareBy\n",
      "2022-05-21 20:05:24,903 - tinkoff.invest.logging - INFO - c7ee3063903bebab85f92770fb2ddeb8 GetCandles\n",
      "2022-05-21 20:05:25,203 - tinkoff.invest.logging - INFO - 32d450223d12c753c5fc2a5120b27827 ShareBy\n"
     ]
    },
    {
     "name": "stdout",
     "output_type": "stream",
     "text": [
      "2020-MU INIT BALANCE: 81.44999999999999 FINAL BALANCE: 99.53 + (SHARES 1)\n"
     ]
    },
    {
     "name": "stderr",
     "output_type": "stream",
     "text": [
      "2022-05-21 20:05:25,267 - tinkoff.invest.logging - INFO - d4c7924b80b31a13e3c382af31dab253 GetCandles\n",
      "2022-05-21 20:05:25,476 - tinkoff.invest.logging - INFO - b25f0b2ec494e624ea3589caf216b94c ShareBy\n",
      "2022-05-21 20:05:25,628 - tinkoff.invest.logging - INFO - 7701824a496352dfef49dab6868631ec GetCandles\n"
     ]
    },
    {
     "name": "stdout",
     "output_type": "stream",
     "text": [
      "2020-WMB INIT BALANCE: 35.64 FINAL BALANCE: 35.64\n"
     ]
    },
    {
     "name": "stderr",
     "output_type": "stream",
     "text": [
      "2022-05-21 20:05:25,906 - tinkoff.invest.logging - INFO - fd008bccd19342c7607ae59b4d6372a0 ShareBy\n",
      "2022-05-21 20:05:26,015 - tinkoff.invest.logging - INFO - 0cdb78fcc84ab64345f2b1fa36c94459 GetCandles\n"
     ]
    },
    {
     "name": "stdout",
     "output_type": "stream",
     "text": [
      "2020-KO INIT BALANCE: 83.25 FINAL BALANCE: 81.59 + (SHARES 1)\n"
     ]
    },
    {
     "name": "stderr",
     "output_type": "stream",
     "text": [
      "2022-05-21 20:05:26,669 - tinkoff.invest.logging - INFO - 0a9ca8960b750e021f42a499bc321ed8 ShareBy\n",
      "2022-05-21 20:05:26,777 - tinkoff.invest.logging - INFO - cd5f461de07ee4bffde8ea8868ab3cc3 GetCandles\n"
     ]
    },
    {
     "name": "stdout",
     "output_type": "stream",
     "text": [
      "2020-WFC INIT BALANCE: 80.94 FINAL BALANCE: 80.94\n"
     ]
    },
    {
     "name": "stderr",
     "output_type": "stream",
     "text": [
      "2022-05-21 20:05:27,263 - tinkoff.invest.logging - INFO - 2ce774375af35f5e49862e52e3167cdf ShareBy\n",
      "2022-05-21 20:05:27,346 - tinkoff.invest.logging - INFO - 25fab16a6ea5dade18c43ec7d334ddc9 GetCandles\n",
      "2022-05-21 20:05:27,651 - tinkoff.invest.logging - INFO - 342b49c31017a5735625c5488e4ee73e ShareBy\n"
     ]
    },
    {
     "name": "stdout",
     "output_type": "stream",
     "text": [
      "2020-WMT INIT BALANCE: 179.39999999999998 FINAL BALANCE: 179.39999999999998\n"
     ]
    },
    {
     "name": "stderr",
     "output_type": "stream",
     "text": [
      "2022-05-21 20:05:27,744 - tinkoff.invest.logging - INFO - d326387a500c44e79f3ea3834a02a093 GetCandles\n"
     ]
    },
    {
     "name": "stdout",
     "output_type": "stream",
     "text": [
      "2020-IBM INIT BALANCE: 201.84 FINAL BALANCE: 195.82999999999996 + (SHARES 1)\n"
     ]
    },
    {
     "name": "stderr",
     "output_type": "stream",
     "text": [
      "2022-05-21 20:05:32,731 - tinkoff.invest.logging - INFO - 4b8d57ecdbae29a3036cc5b761db3e1c ShareBy\n",
      "2022-05-21 20:05:32,838 - tinkoff.invest.logging - INFO - 5dd55d4dced65efd5b167dc425390cf1 GetCandles\n"
     ]
    },
    {
     "name": "stdout",
     "output_type": "stream",
     "text": [
      "2020-UBER INIT BALANCE: 46.875 FINAL BALANCE: 65.86 + (SHARES 1)\n"
     ]
    },
    {
     "name": "stderr",
     "output_type": "stream",
     "text": [
      "2022-05-21 20:05:37,453 - tinkoff.invest.logging - INFO - 4694ad7a967d2f0a4ec29a47fa7366e8 ShareBy\n",
      "2022-05-21 20:05:37,555 - tinkoff.invest.logging - INFO - 8a6473e46c7fb38f3e2328c6d10216c2 GetCandles\n"
     ]
    },
    {
     "name": "stdout",
     "output_type": "stream",
     "text": [
      "2020-BLK INIT BALANCE: 756.6899999999999 FINAL BALANCE: 968.8499999999999 + (SHARES 1)\n"
     ]
    },
    {
     "name": "stderr",
     "output_type": "stream",
     "text": [
      "2022-05-21 20:05:39,919 - tinkoff.invest.logging - INFO - bc0fa587471be97240348bf123a85191 ShareBy\n",
      "2022-05-21 20:05:40,027 - tinkoff.invest.logging - INFO - 60630b3f57811942df4ebd2be1a12d4f GetCandles\n"
     ]
    },
    {
     "name": "stdout",
     "output_type": "stream",
     "text": [
      "2020-CME INIT BALANCE: 302.025 FINAL BALANCE: 274.92499999999995 + (SHARES 1)\n"
     ]
    },
    {
     "name": "stderr",
     "output_type": "stream",
     "text": [
      "2022-05-21 20:05:40,758 - tinkoff.invest.logging - INFO - 976e5387137101dda161b72434b3df53 ShareBy\n",
      "2022-05-21 20:05:40,867 - tinkoff.invest.logging - INFO - 093cab62ba681fe27e02837a34a3347b GetCandles\n"
     ]
    },
    {
     "name": "stdout",
     "output_type": "stream",
     "text": [
      "2020-CVX INIT BALANCE: 181.245 FINAL BALANCE: 153.49 + (SHARES 1)\n"
     ]
    },
    {
     "name": "stderr",
     "output_type": "stream",
     "text": [
      "2022-05-21 20:05:44,441 - tinkoff.invest.logging - INFO - 7cd1d90188c76667524ab48af692609e ShareBy\n",
      "2022-05-21 20:05:44,543 - tinkoff.invest.logging - INFO - 6e2e18c8dcf99935c21d5c1142deeefc GetCandles\n",
      "2022-05-21 20:05:45,030 - tinkoff.invest.logging - INFO - ceb134beb33b21f0ffecf167d2c99be2 ShareBy\n"
     ]
    },
    {
     "name": "stdout",
     "output_type": "stream",
     "text": [
      "2020-AA INIT BALANCE: 32.55 FINAL BALANCE: 32.55\n"
     ]
    },
    {
     "name": "stderr",
     "output_type": "stream",
     "text": [
      "2022-05-21 20:05:45,135 - tinkoff.invest.logging - INFO - 28f143a0cc56193f6e61602084fc1389 GetCandles\n"
     ]
    },
    {
     "name": "stdout",
     "output_type": "stream",
     "text": [
      "2020-CMG INIT BALANCE: 1264.4850000000001 FINAL BALANCE: 1790.4450000000002 + (SHARES 1)\n"
     ]
    },
    {
     "name": "stderr",
     "output_type": "stream",
     "text": [
      "2022-05-21 20:05:46,105 - tinkoff.invest.logging - INFO - ed3bcfb7a2aaed0a80e254e07d6e9325 ShareBy\n",
      "2022-05-21 20:05:46,194 - tinkoff.invest.logging - INFO - 17e5bf53ce891c13126fa6167646ccad GetCandles\n"
     ]
    },
    {
     "name": "stdout",
     "output_type": "stream",
     "text": [
      "2020-SO INIT BALANCE: 95.73 FINAL BALANCE: 93.63 + (SHARES 1)\n"
     ]
    },
    {
     "name": "stderr",
     "output_type": "stream",
     "text": [
      "2022-05-21 20:05:46,838 - tinkoff.invest.logging - INFO - 39e8ef9fa0e283d7cfb81a886a87eb28 ShareBy\n",
      "2022-05-21 20:05:46,938 - tinkoff.invest.logging - INFO - 4daf6557473e268daaf68561dc046e4d GetCandles\n"
     ]
    },
    {
     "name": "stdout",
     "output_type": "stream",
     "text": [
      "2020-VZ INIT BALANCE: 92.78999999999999 FINAL BALANCE: 92.72999999999999\n"
     ]
    },
    {
     "name": "stderr",
     "output_type": "stream",
     "text": [
      "2022-05-21 20:05:47,565 - tinkoff.invest.logging - INFO - 881103c35ae692661140e7f8dd901f36 ShareBy\n",
      "2022-05-21 20:05:47,672 - tinkoff.invest.logging - INFO - 853b6bd0bb873ae8909e97862b311d20 GetCandles\n"
     ]
    },
    {
     "name": "stdout",
     "output_type": "stream",
     "text": [
      "2020-LMT INIT BALANCE: 588.36 FINAL BALANCE: 512.12 + (SHARES 1)\n"
     ]
    },
    {
     "name": "stderr",
     "output_type": "stream",
     "text": [
      "2022-05-21 20:05:49,069 - tinkoff.invest.logging - INFO - 1531f125ea5eec50a18f6ae8da28d98e ShareBy\n",
      "2022-05-21 20:05:49,177 - tinkoff.invest.logging - INFO - f3c7246781b9f21df3d59ea87f13f632 GetCandles\n"
     ]
    },
    {
     "name": "stdout",
     "output_type": "stream",
     "text": [
      "2020-EFX INIT BALANCE: 211.935 FINAL BALANCE: 211.935\n"
     ]
    },
    {
     "name": "stderr",
     "output_type": "stream",
     "text": [
      "2022-05-21 20:05:49,770 - tinkoff.invest.logging - INFO - aa4f08ee9dc453af362bfc59c1f370c5 ShareBy\n",
      "2022-05-21 20:05:49,866 - tinkoff.invest.logging - INFO - 90255c1590a150b42091f25b163e5707 GetCandles\n"
     ]
    },
    {
     "name": "stdout",
     "output_type": "stream",
     "text": [
      "2020-CAT INIT BALANCE: 221.91 FINAL BALANCE: 220.5\n"
     ]
    },
    {
     "name": "stderr",
     "output_type": "stream",
     "text": [
      "2022-05-21 20:05:50,706 - tinkoff.invest.logging - INFO - cf5e768d68ffa6c6a0997ca846ce6e18 ShareBy\n",
      "2022-05-21 20:05:50,817 - tinkoff.invest.logging - INFO - f7f12ab1d192bfa36fcd8b4bd248019d GetCandles\n"
     ]
    },
    {
     "name": "stdout",
     "output_type": "stream",
     "text": [
      "2020-BKR INIT BALANCE: 38.82 FINAL BALANCE: 37.2 + (SHARES 1)\n"
     ]
    },
    {
     "name": "stderr",
     "output_type": "stream",
     "text": [
      "2022-05-21 20:05:52,209 - tinkoff.invest.logging - INFO - f31e09d37aabb9eb3b2957f32e599e5f ShareBy\n",
      "2022-05-21 20:05:52,307 - tinkoff.invest.logging - INFO - 99dea44e8d4e4c21b948646d80d25285 GetCandles\n"
     ]
    },
    {
     "name": "stdout",
     "output_type": "stream",
     "text": [
      "2020-SBUX INIT BALANCE: 131.895 FINAL BALANCE: 150.09000000000003 + (SHARES 1)\n"
     ]
    },
    {
     "name": "stderr",
     "output_type": "stream",
     "text": [
      "2022-05-21 20:05:53,068 - tinkoff.invest.logging - INFO - 83a427fcc371c7c2fc6b1dfccc4c7c5d ShareBy\n",
      "2022-05-21 20:05:53,128 - tinkoff.invest.logging - INFO - c3c9274287718ed633e10dd4ad9bcbea GetCandles\n"
     ]
    },
    {
     "name": "stdout",
     "output_type": "stream",
     "text": [
      "2020-AGN INIT BALANCE: 287.15999999999997 FINAL BALANCE: 283.78 + (SHARES 1)\n"
     ]
    },
    {
     "name": "stderr",
     "output_type": "stream",
     "text": [
      "2022-05-21 20:05:54,285 - tinkoff.invest.logging - INFO - 79ff47da84023ce2bba62fb160df981b ShareBy\n",
      "2022-05-21 20:05:54,406 - tinkoff.invest.logging - INFO - f3cb879acdc5b4ae0a59282c4914c797 GetCandles\n"
     ]
    },
    {
     "name": "stdout",
     "output_type": "stream",
     "text": [
      "2020-SLB INIT BALANCE: 60.36 FINAL BALANCE: 42.655 + (SHARES 1)\n"
     ]
    },
    {
     "name": "stderr",
     "output_type": "stream",
     "text": [
      "2022-05-21 20:05:55,716 - tinkoff.invest.logging - INFO - 0f4b84b332647318681b2bc05303b79c ShareBy\n",
      "2022-05-21 20:05:55,822 - tinkoff.invest.logging - INFO - acbe1f5c374cd6570e347d4d0eab235d GetCandles\n"
     ]
    },
    {
     "name": "stdout",
     "output_type": "stream",
     "text": [
      "2020-JNJ INIT BALANCE: 218.64 FINAL BALANCE: 230.70499999999996 + (SHARES 1)\n"
     ]
    },
    {
     "name": "stderr",
     "output_type": "stream",
     "text": [
      "2022-05-21 20:05:56,739 - tinkoff.invest.logging - INFO - 08ef0d7be02e71cd5a8cbc7b49bd8d2a ShareBy\n",
      "2022-05-21 20:05:56,852 - tinkoff.invest.logging - INFO - 889c87d0ec0d7282494004feac1fec94 GetCandles\n",
      "2022-05-21 20:05:59,877 - tinkoff.invest.logging - INFO - e948723b8610649afbb4998dbef9ed76 ShareBy\n"
     ]
    },
    {
     "name": "stdout",
     "output_type": "stream",
     "text": [
      "2020-T INIT BALANCE: 59.385000000000005 FINAL BALANCE: 50.004999999999995 + (SHARES 1)\n"
     ]
    },
    {
     "name": "stderr",
     "output_type": "stream",
     "text": [
      "2022-05-21 20:05:59,977 - tinkoff.invest.logging - INFO - 38b4cd260c4cb2be7768c297a422f961 GetCandles\n",
      "2022-05-21 20:06:00,461 - tinkoff.invest.logging - INFO - 82ff45b24a8ee557c1cc09c865f4285e ShareBy\n"
     ]
    },
    {
     "name": "stdout",
     "output_type": "stream",
     "text": [
      "2020-NKE INIT BALANCE: 152.37 FINAL BALANCE: 148.97000000000003\n"
     ]
    },
    {
     "name": "stderr",
     "output_type": "stream",
     "text": [
      "2022-05-21 20:06:00,562 - tinkoff.invest.logging - INFO - 01084556f1c4464437794695fbf8f0e2 GetCandles\n"
     ]
    },
    {
     "name": "stdout",
     "output_type": "stream",
     "text": [
      "2020-PGR INIT BALANCE: 109.215 FINAL BALANCE: 133.65 + (SHARES 1)\n"
     ]
    },
    {
     "name": "stderr",
     "output_type": "stream",
     "text": [
      "2022-05-21 20:06:01,211 - tinkoff.invest.logging - INFO - 703c940ba91f5f4575e01710ccf06b48 ShareBy\n",
      "2022-05-21 20:06:01,314 - tinkoff.invest.logging - INFO - c6a733bf1c7f787d50de5e2f11d8a5d1 GetCandles\n",
      "2022-05-21 20:06:03,678 - tinkoff.invest.logging - INFO - 407a088044ce5bb55a5e61664f59738d ShareBy\n"
     ]
    },
    {
     "name": "stdout",
     "output_type": "stream",
     "text": [
      "2020-AMGN INIT BALANCE: 362.67 FINAL BALANCE: 351.4599999999999 + (SHARES 1)\n"
     ]
    },
    {
     "name": "stderr",
     "output_type": "stream",
     "text": [
      "2022-05-21 20:06:03,782 - tinkoff.invest.logging - INFO - 57919b9ee80987e5cfc82b58fd2a8018 GetCandles\n",
      "2022-05-21 20:06:05,266 - tinkoff.invest.logging - INFO - f1332286cde1e318734306d9c7cd8250 ShareBy\n"
     ]
    },
    {
     "name": "stdout",
     "output_type": "stream",
     "text": [
      "2020-ICE INIT BALANCE: 139.07999999999998 FINAL BALANCE: 139.07999999999998\n"
     ]
    },
    {
     "name": "stderr",
     "output_type": "stream",
     "text": [
      "2022-05-21 20:06:05,366 - tinkoff.invest.logging - INFO - 8a64da6673d3b4b8e649af779eda4d2e GetCandles\n",
      "2022-05-21 20:06:05,887 - tinkoff.invest.logging - INFO - f7a0e81d45f50179fd6c338f5d3934ef ShareBy\n"
     ]
    },
    {
     "name": "stdout",
     "output_type": "stream",
     "text": [
      "2020-FCX INIT BALANCE: 19.875 FINAL BALANCE: 33.7 + (SHARES 1)\n"
     ]
    },
    {
     "name": "stderr",
     "output_type": "stream",
     "text": [
      "2022-05-21 20:06:05,989 - tinkoff.invest.logging - INFO - d44675bc42f2a2e2a200a75ccc60f95e GetCandles\n",
      "2022-05-21 20:06:06,398 - tinkoff.invest.logging - INFO - 019fa923b157b93644b82ce511404376 ShareBy\n"
     ]
    },
    {
     "name": "stdout",
     "output_type": "stream",
     "text": [
      "2020-HD INIT BALANCE: 327.915 FINAL BALANCE: 327.915\n"
     ]
    },
    {
     "name": "stderr",
     "output_type": "stream",
     "text": [
      "2022-05-21 20:06:06,484 - tinkoff.invest.logging - INFO - 29d34ebd55a349af97ea7cfb35da0018 GetCandles\n"
     ]
    },
    {
     "name": "stdout",
     "output_type": "stream",
     "text": [
      "2020-FDX INIT BALANCE: 227.055 FINAL BALANCE: 326.03000000000003 + (SHARES 1)\n"
     ]
    },
    {
     "name": "stderr",
     "output_type": "stream",
     "text": [
      "2022-05-21 20:06:07,389 - tinkoff.invest.logging - ERROR - f3718b2e80d5929b8be87869df60d86a ShareBy NOT_FOUND 50002\n"
     ]
    },
    {
     "name": "stdout",
     "output_type": "stream",
     "text": [
      "(<StatusCode.NOT_FOUND: (5, 'not found')>, '50002', Metadata(tracking_id='f3718b2e80d5929b8be87869df60d86a', ratelimit_limit='200, 200;w=60', ratelimit_remaining=193, ratelimit_reset=53, message='instrument not found'))\n"
     ]
    },
    {
     "name": "stderr",
     "output_type": "stream",
     "text": [
      "2022-05-21 20:06:07,625 - tinkoff.invest.logging - INFO - 358c03f0e9f60863bf549748b50414be ShareBy\n",
      "2022-05-21 20:06:07,723 - tinkoff.invest.logging - INFO - f7b6a3d7d627ae0b2f2e7f770d81653c GetCandles\n"
     ]
    },
    {
     "name": "stdout",
     "output_type": "stream",
     "text": [
      "2020-DAL INIT BALANCE: 88.08 FINAL BALANCE: 70.59 + (SHARES 1)\n"
     ]
    },
    {
     "name": "stderr",
     "output_type": "stream",
     "text": [
      "2022-05-21 20:06:08,880 - tinkoff.invest.logging - ERROR - 4a1cdfc255898e463de8dbe6a7daf1cf ShareBy NOT_FOUND 50002\n",
      "2022-05-21 20:06:09,096 - tinkoff.invest.logging - ERROR - 3adc97743f85c2a691214837e1e8ce6e ShareBy NOT_FOUND 50002\n"
     ]
    },
    {
     "name": "stdout",
     "output_type": "stream",
     "text": [
      "(<StatusCode.NOT_FOUND: (5, 'not found')>, '50002', Metadata(tracking_id='4a1cdfc255898e463de8dbe6a7daf1cf', ratelimit_limit='200, 200;w=60', ratelimit_remaining=191, ratelimit_reset=52, message='instrument not found'))\n",
      "(<StatusCode.NOT_FOUND: (5, 'not found')>, '50002', Metadata(tracking_id='3adc97743f85c2a691214837e1e8ce6e', ratelimit_limit='200, 200;w=60', ratelimit_remaining=190, ratelimit_reset=51, message='instrument not found'))\n"
     ]
    },
    {
     "name": "stderr",
     "output_type": "stream",
     "text": [
      "2022-05-21 20:06:09,317 - tinkoff.invest.logging - INFO - d26b5267f1a75cd2bbe2ed2c191b719f ShareBy\n",
      "2022-05-21 20:06:09,402 - tinkoff.invest.logging - INFO - ec2f335e755393dbcd71b80d320382bd GetCandles\n"
     ]
    },
    {
     "name": "stdout",
     "output_type": "stream",
     "text": [
      "2020-PG INIT BALANCE: 188.625 FINAL BALANCE: 201.14999999999998 + (SHARES 1)\n"
     ]
    },
    {
     "name": "stderr",
     "output_type": "stream",
     "text": [
      "2022-05-21 20:06:10,049 - tinkoff.invest.logging - INFO - 7c7c3ec3a9415a2ed7c357afd792a62b ShareBy\n",
      "2022-05-21 20:06:10,137 - tinkoff.invest.logging - INFO - 0c95ef924f66698ecf5bdc0b8850e811 GetCandles\n"
     ]
    },
    {
     "name": "stdout",
     "output_type": "stream",
     "text": [
      "2020-MRK INIT BALANCE: 137.23499999999999 FINAL BALANCE: 137.035\n"
     ]
    },
    {
     "name": "stderr",
     "output_type": "stream",
     "text": [
      "2022-05-21 20:06:13,126 - tinkoff.invest.logging - ERROR - daadbed67f39fe1ac7d3dbe62255438b ShareBy NOT_FOUND 50002\n",
      "2022-05-21 20:06:13,365 - tinkoff.invest.logging - INFO - bd9853fb62b50882a7ec67a8611ebc04 ShareBy\n"
     ]
    },
    {
     "name": "stdout",
     "output_type": "stream",
     "text": [
      "(<StatusCode.NOT_FOUND: (5, 'not found')>, '50002', Metadata(tracking_id='daadbed67f39fe1ac7d3dbe62255438b', ratelimit_limit='200, 200;w=60', ratelimit_remaining=187, ratelimit_reset=47, message='instrument not found'))\n"
     ]
    },
    {
     "name": "stderr",
     "output_type": "stream",
     "text": [
      "2022-05-21 20:06:13,452 - tinkoff.invest.logging - INFO - 94ec8540fd9a591794023cd30250fc46 GetCandles\n"
     ]
    },
    {
     "name": "stdout",
     "output_type": "stream",
     "text": [
      "2020-PFE INIT BALANCE: 58.83 FINAL BALANCE: 57.769999999999996 + (SHARES 1)\n"
     ]
    },
    {
     "name": "stderr",
     "output_type": "stream",
     "text": [
      "2022-05-21 20:06:15,966 - tinkoff.invest.logging - INFO - 9cf8f9f3809a02b37c59f77b5021b56f ShareBy\n",
      "2022-05-21 20:06:16,077 - tinkoff.invest.logging - INFO - 998f456e395b38052ad944670a4af73c GetCandles\n",
      "2022-05-21 20:06:16,735 - tinkoff.invest.logging - INFO - 53f318dcc23124c353801b8aba3f9c82 ShareBy\n"
     ]
    },
    {
     "name": "stdout",
     "output_type": "stream",
     "text": [
      "2020-ADP INIT BALANCE: 256.79999999999995 FINAL BALANCE: 255.06499999999994 + (SHARES 1)\n"
     ]
    },
    {
     "name": "stderr",
     "output_type": "stream",
     "text": [
      "2022-05-21 20:06:16,821 - tinkoff.invest.logging - INFO - 80fb10e10dabd10e5d8817e04266baa1 GetCandles\n"
     ]
    },
    {
     "name": "stdout",
     "output_type": "stream",
     "text": [
      "2020-JWN INIT BALANCE: 61.08 FINAL BALANCE: 52.155 + (SHARES 1)\n"
     ]
    },
    {
     "name": "stderr",
     "output_type": "stream",
     "text": [
      "2022-05-21 20:06:18,070 - tinkoff.invest.logging - ERROR - c8d34c3b0313d0df1f207150550c19d9 ShareBy NOT_FOUND 50002\n",
      "2022-05-21 20:06:18,289 - tinkoff.invest.logging - INFO - f8de66b6533fe44bd5bacd3a29714317 ShareBy\n"
     ]
    },
    {
     "name": "stdout",
     "output_type": "stream",
     "text": [
      "(<StatusCode.NOT_FOUND: (5, 'not found')>, '50002', Metadata(tracking_id='c8d34c3b0313d0df1f207150550c19d9', ratelimit_limit='200, 200;w=60', ratelimit_remaining=183, ratelimit_reset=42, message='instrument not found'))\n"
     ]
    },
    {
     "name": "stderr",
     "output_type": "stream",
     "text": [
      "2022-05-21 20:06:18,389 - tinkoff.invest.logging - INFO - 8d261700d4a55fae4ff167e132f966c1 GetCandles\n"
     ]
    },
    {
     "name": "stdout",
     "output_type": "stream",
     "text": [
      "2020-AVGO INIT BALANCE: 474.29999999999995 FINAL BALANCE: 606.56 + (SHARES 1)\n"
     ]
    },
    {
     "name": "stderr",
     "output_type": "stream",
     "text": [
      "2022-05-21 20:06:19,122 - tinkoff.invest.logging - INFO - 8e2eb8677c4cec2e621362b568f7170c ShareBy\n",
      "2022-05-21 20:06:19,233 - tinkoff.invest.logging - INFO - a561d2ea46bfdf014a1c6f60260894da GetCandles\n"
     ]
    },
    {
     "name": "stdout",
     "output_type": "stream",
     "text": [
      "2020-NLOK INIT BALANCE: 38.535000000000004 FINAL BALANCE: 43.825 + (SHARES 2)\n"
     ]
    },
    {
     "name": "stderr",
     "output_type": "stream",
     "text": [
      "2022-05-21 20:06:19,909 - tinkoff.invest.logging - INFO - 2dc3e6721835786d203ac4e5337fbb54 ShareBy\n",
      "2022-05-21 20:06:19,994 - tinkoff.invest.logging - INFO - e994fe064719f32f5f149cb20982406a GetCandles\n"
     ]
    },
    {
     "name": "stdout",
     "output_type": "stream",
     "text": [
      "2020-HUM INIT BALANCE: 551.25 FINAL BALANCE: 609.11 + (SHARES 1)\n"
     ]
    },
    {
     "name": "stderr",
     "output_type": "stream",
     "text": [
      "2022-05-21 20:06:21,006 - tinkoff.invest.logging - INFO - 58cf12f759676835ad868b6bf50a71d9 ShareBy\n",
      "2022-05-21 20:06:21,115 - tinkoff.invest.logging - INFO - f783f62fb566309a343679e133517fda GetCandles\n"
     ]
    },
    {
     "name": "stdout",
     "output_type": "stream",
     "text": [
      "2020-FMC INIT BALANCE: 150.885 FINAL BALANCE: 150.885\n"
     ]
    },
    {
     "name": "stderr",
     "output_type": "stream",
     "text": [
      "2022-05-21 20:06:21,444 - tinkoff.invest.logging - INFO - f1cb1e1ad3e44127c64d3ac3545ffef8 ShareBy\n",
      "2022-05-21 20:06:21,541 - tinkoff.invest.logging - INFO - c9b3fc2c922e5e9847d5a571d061c563 GetCandles\n"
     ]
    },
    {
     "name": "stdout",
     "output_type": "stream",
     "text": [
      "2020-COST INIT BALANCE: 442.5 FINAL BALANCE: 442.5\n"
     ]
    },
    {
     "name": "stderr",
     "output_type": "stream",
     "text": [
      "2022-05-21 20:06:22,214 - tinkoff.invest.logging - INFO - 902912824cdb7035fb13923867c4fadc ShareBy\n",
      "2022-05-21 20:06:22,273 - tinkoff.invest.logging - INFO - 099c140da714b272a242fbc3b8c47a16 GetCandles\n"
     ]
    },
    {
     "name": "stdout",
     "output_type": "stream",
     "text": [
      "2020-BX INIT BALANCE: 97.39500000000001 FINAL BALANCE: 97.39500000000001\n"
     ]
    },
    {
     "name": "stderr",
     "output_type": "stream",
     "text": [
      "2022-05-21 20:06:23,179 - tinkoff.invest.logging - INFO - e3344d229bbe72bca3b9b88d83750e11 ShareBy\n",
      "2022-05-21 20:06:23,286 - tinkoff.invest.logging - INFO - 5e6a3351eac88939d786e89475de4f14 GetCandles\n"
     ]
    },
    {
     "name": "stdout",
     "output_type": "stream",
     "text": [
      "2020-MCD INIT BALANCE: 299.295 FINAL BALANCE: 302.13 + (SHARES 1)\n"
     ]
    },
    {
     "name": "stderr",
     "output_type": "stream",
     "text": [
      "2022-05-21 20:06:23,774 - tinkoff.invest.logging - INFO - aa767a613463ff83fdfa00b032a01bee ShareBy\n",
      "2022-05-21 20:06:23,861 - tinkoff.invest.logging - INFO - 9adee25632d671713b5b3b4c141bcef1 GetCandles\n"
     ]
    },
    {
     "name": "stdout",
     "output_type": "stream",
     "text": [
      "2020-LLY INIT BALANCE: 197.745 FINAL BALANCE: 226.94000000000003 + (SHARES 1)\n"
     ]
    },
    {
     "name": "stderr",
     "output_type": "stream",
     "text": [
      "2022-05-21 20:06:24,426 - tinkoff.invest.logging - INFO - 7cef77f87809c93d9f32ab9bad0141c2 ShareBy\n",
      "2022-05-21 20:06:24,514 - tinkoff.invest.logging - INFO - f013845f568357cfb5e5be33d38058e4 GetCandles\n",
      "2022-05-21 20:06:24,825 - tinkoff.invest.logging - INFO - d14f9acf347ba3661fc11e4176b98d77 ShareBy\n"
     ]
    },
    {
     "name": "stdout",
     "output_type": "stream",
     "text": [
      "2020-UAL INIT BALANCE: 132.75 FINAL BALANCE: 132.75\n"
     ]
    },
    {
     "name": "stderr",
     "output_type": "stream",
     "text": [
      "2022-05-21 20:06:24,924 - tinkoff.invest.logging - INFO - 12235d3634a5108261cce395da2fb325 GetCandles\n",
      "2022-05-21 20:06:27,228 - tinkoff.invest.logging - INFO - ea76f47c64543dd7616f967035be4a59 ShareBy\n"
     ]
    },
    {
     "name": "stdout",
     "output_type": "stream",
     "text": [
      "2020-STZ INIT BALANCE: 285.46500000000003 FINAL BALANCE: 290.905\n"
     ]
    },
    {
     "name": "stderr",
     "output_type": "stream",
     "text": [
      "2022-05-21 20:06:27,315 - tinkoff.invest.logging - INFO - 5f570f37e91ea067ed7485b48fd8f5f0 GetCandles\n"
     ]
    },
    {
     "name": "stdout",
     "output_type": "stream",
     "text": [
      "2020-COP INIT BALANCE: 97.47 FINAL BALANCE: 93.58\n"
     ]
    },
    {
     "name": "stderr",
     "output_type": "stream",
     "text": [
      "2022-05-21 20:06:28,474 - tinkoff.invest.logging - INFO - a4672e3926c3965cbca064571d290b75 ShareBy\n",
      "2022-05-21 20:06:28,579 - tinkoff.invest.logging - INFO - 53108bec2c4d70a0b54c4f5590bffef7 GetCandles\n"
     ]
    },
    {
     "name": "stdout",
     "output_type": "stream",
     "text": [
      "2020-BBY INIT BALANCE: 131.07 FINAL BALANCE: 143.51999999999998 + (SHARES 1)\n"
     ]
    },
    {
     "name": "stderr",
     "output_type": "stream",
     "text": [
      "2022-05-21 20:06:29,086 - tinkoff.invest.logging - INFO - fb51079252e2ed26bf96556f96b4f626 ShareBy\n",
      "2022-05-21 20:06:29,191 - tinkoff.invest.logging - INFO - 1cfda3b70dd2815d52971b1fe7a80218 GetCandles\n"
     ]
    },
    {
     "name": "stdout",
     "output_type": "stream",
     "text": [
      "2020-CMCSA INIT BALANCE: 67.365 FINAL BALANCE: 68.85000000000001\n"
     ]
    },
    {
     "name": "stderr",
     "output_type": "stream",
     "text": [
      "2022-05-21 20:06:32,294 - tinkoff.invest.logging - INFO - cd61ad6074682b148be99da9bbd7567d ShareBy\n",
      "2022-05-21 20:06:32,409 - tinkoff.invest.logging - INFO - 7258369ec1373006caed18e617e6bb8c GetCandles\n",
      "2022-05-21 20:06:33,406 - tinkoff.invest.logging - ERROR - 648aa967e3e694cb32f85a86d080f471 ShareBy NOT_FOUND 50002\n"
     ]
    },
    {
     "name": "stdout",
     "output_type": "stream",
     "text": [
      "2020-NOC INIT BALANCE: 518.175 FINAL BALANCE: 465.85 + (SHARES 1)\n",
      "(<StatusCode.NOT_FOUND: (5, 'not found')>, '50002', Metadata(tracking_id='648aa967e3e694cb32f85a86d080f471', ratelimit_limit='200, 200;w=60', ratelimit_remaining=168, ratelimit_reset=27, message='instrument not found'))\n"
     ]
    },
    {
     "name": "stderr",
     "output_type": "stream",
     "text": [
      "2022-05-21 20:06:33,637 - tinkoff.invest.logging - INFO - 80ba2112a7790fd1da6b8a3c48e89a11 ShareBy\n",
      "2022-05-21 20:06:33,745 - tinkoff.invest.logging - INFO - e2b38a6086b3c8907ac0ed83879d68bf GetCandles\n"
     ]
    },
    {
     "name": "stdout",
     "output_type": "stream",
     "text": [
      "2020-AXP INIT BALANCE: 186.57 FINAL BALANCE: 179.61999999999998 + (SHARES 1)\n"
     ]
    },
    {
     "name": "stderr",
     "output_type": "stream",
     "text": [
      "2022-05-21 20:06:35,452 - tinkoff.invest.logging - ERROR - 6d52484ae75d1ceefea004ffcccb705f ShareBy NOT_FOUND 50002\n",
      "2022-05-21 20:06:35,653 - tinkoff.invest.logging - INFO - 65c6d6ea6914441fac74084d5000c660 ShareBy\n"
     ]
    },
    {
     "name": "stdout",
     "output_type": "stream",
     "text": [
      "(<StatusCode.NOT_FOUND: (5, 'not found')>, '50002', Metadata(tracking_id='6d52484ae75d1ceefea004ffcccb705f', ratelimit_limit='200, 200;w=60', ratelimit_remaining=166, ratelimit_reset=25, message='instrument not found'))\n"
     ]
    },
    {
     "name": "stderr",
     "output_type": "stream",
     "text": [
      "2022-05-21 20:06:35,765 - tinkoff.invest.logging - INFO - 37dbb3240ec261b33ad6453535b30d4f GetCandles\n"
     ]
    },
    {
     "name": "stdout",
     "output_type": "stream",
     "text": [
      "2020-BIIB INIT BALANCE: 446.93999999999994 FINAL BALANCE: 409.44499999999994 + (SHARES 1)\n"
     ]
    },
    {
     "name": "stderr",
     "output_type": "stream",
     "text": [
      "2022-05-21 20:06:37,421 - tinkoff.invest.logging - INFO - 21a99d511f873c32dae2188346b13bde ShareBy\n",
      "2022-05-21 20:06:37,532 - tinkoff.invest.logging - INFO - 60dedc3618095711040f963db0692b5b GetCandles\n"
     ]
    },
    {
     "name": "stdout",
     "output_type": "stream",
     "text": [
      "2020-MMM INIT BALANCE: 265.65 FINAL BALANCE: 262.06499999999994 + (SHARES 1)\n"
     ]
    },
    {
     "name": "stderr",
     "output_type": "stream",
     "text": [
      "2022-05-21 20:06:38,292 - tinkoff.invest.logging - ERROR - a9d6900dc39353b04613df1db8e43bb5 ShareBy NOT_FOUND 50002\n",
      "2022-05-21 20:06:38,519 - tinkoff.invest.logging - ERROR - d0232acb4f5cf6c6ae04ad495f84324a ShareBy NOT_FOUND 50002\n"
     ]
    },
    {
     "name": "stdout",
     "output_type": "stream",
     "text": [
      "(<StatusCode.NOT_FOUND: (5, 'not found')>, '50002', Metadata(tracking_id='a9d6900dc39353b04613df1db8e43bb5', ratelimit_limit='200, 200;w=60', ratelimit_remaining=163, ratelimit_reset=22, message='instrument not found'))\n",
      "(<StatusCode.NOT_FOUND: (5, 'not found')>, '50002', Metadata(tracking_id='d0232acb4f5cf6c6ae04ad495f84324a', ratelimit_limit='200, 200;w=60', ratelimit_remaining=162, ratelimit_reset=22, message='instrument not found'))\n"
     ]
    },
    {
     "name": "stderr",
     "output_type": "stream",
     "text": [
      "2022-05-21 20:06:38,745 - tinkoff.invest.logging - INFO - a71dcd7891fddae9a939ccbac65ea1d8 ShareBy\n",
      "2022-05-21 20:06:38,856 - tinkoff.invest.logging - INFO - 597b25b66d8d29cc5c26f4ef40bd1cac GetCandles\n"
     ]
    },
    {
     "name": "stdout",
     "output_type": "stream",
     "text": [
      "2020-NVDA INIT BALANCE: 88.5 FINAL BALANCE: 92.57499999999999\n"
     ]
    },
    {
     "name": "stderr",
     "output_type": "stream",
     "text": [
      "2022-05-21 20:06:40,454 - tinkoff.invest.logging - INFO - f7fd0779b5ad5f97dc700e8c8bf1fe4a ShareBy\n",
      "2022-05-21 20:06:40,515 - tinkoff.invest.logging - INFO - 37027e089120209ecf82532c85100a71 GetCandles\n",
      "2022-05-21 20:06:40,898 - tinkoff.invest.logging - INFO - c4b7fc644a48d8028c75d23257a131c5 ShareBy\n"
     ]
    },
    {
     "name": "stdout",
     "output_type": "stream",
     "text": [
      "2020-MYL INIT BALANCE: 29.79 FINAL BALANCE: 23.894999999999996 + (SHARES 1)\n"
     ]
    },
    {
     "name": "stderr",
     "output_type": "stream",
     "text": [
      "2022-05-21 20:06:41,017 - tinkoff.invest.logging - INFO - 4779686ed06c73fefca9df90dc57d58f GetCandles\n"
     ]
    },
    {
     "name": "stdout",
     "output_type": "stream",
     "text": [
      "2020-DD INIT BALANCE: 97.80000000000001 FINAL BALANCE: 115.71000000000001 + (SHARES 1)\n"
     ]
    },
    {
     "name": "stderr",
     "output_type": "stream",
     "text": [
      "2022-05-21 20:06:41,515 - tinkoff.invest.logging - INFO - eca9c4c0916d60acda8144a64dff915e ShareBy\n",
      "2022-05-21 20:06:41,626 - tinkoff.invest.logging - INFO - a4574c4b2b122c918daa9250ae0ca9f3 GetCandles\n"
     ]
    },
    {
     "name": "stdout",
     "output_type": "stream",
     "text": [
      "2020-GILD INIT BALANCE: 98.39999999999999 FINAL BALANCE: 92.38 + (SHARES 1)\n"
     ]
    },
    {
     "name": "stderr",
     "output_type": "stream",
     "text": [
      "2022-05-21 20:06:42,221 - tinkoff.invest.logging - INFO - 3fd0741a92776694cc5df30190a9660d ShareBy\n",
      "2022-05-21 20:06:42,326 - tinkoff.invest.logging - INFO - b32465d9858da31eb8225b4b863ce363 GetCandles\n",
      "2022-05-21 20:06:42,816 - tinkoff.invest.logging - INFO - 28d7146bb82b2662fce1d5dfdde9f8e0 ShareBy\n"
     ]
    },
    {
     "name": "stdout",
     "output_type": "stream",
     "text": [
      "2020-ORCL INIT BALANCE: 79.77 FINAL BALANCE: 89.72999999999999 + (SHARES 1)\n"
     ]
    },
    {
     "name": "stderr",
     "output_type": "stream",
     "text": [
      "2022-05-21 20:06:42,905 - tinkoff.invest.logging - INFO - 3b23bd1d886b8a6820ec64885eedab97 GetCandles\n"
     ]
    },
    {
     "name": "stdout",
     "output_type": "stream",
     "text": [
      "2020-ADBE INIT BALANCE: 494.71500000000003 FINAL BALANCE: 653.8050000000001 + (SHARES 1)\n"
     ]
    },
    {
     "name": "stderr",
     "output_type": "stream",
     "text": [
      "2022-05-21 20:06:43,799 - tinkoff.invest.logging - INFO - 9a9d8eea0eab4d6966ecdb3e095dac60 ShareBy\n",
      "2022-05-21 20:06:43,910 - tinkoff.invest.logging - INFO - 93621ab83350e3837f6219a2a9cf332d GetCandles\n"
     ]
    },
    {
     "name": "stdout",
     "output_type": "stream",
     "text": [
      "2020-BIDU INIT BALANCE: 190.32 FINAL BALANCE: 182.25\n"
     ]
    },
    {
     "name": "stderr",
     "output_type": "stream",
     "text": [
      "2022-05-21 20:06:45,259 - tinkoff.invest.logging - INFO - 1a122db52916cbcfa9ed6a269cb5b1e7 ShareBy\n",
      "2022-05-21 20:06:45,364 - tinkoff.invest.logging - INFO - 270c10194c6eb012a18ad572a23432d0 GetCandles\n",
      "2022-05-21 20:06:45,660 - tinkoff.invest.logging - INFO - dd46c6f01ada4c5647a761a9468df1fc ShareBy\n"
     ]
    },
    {
     "name": "stdout",
     "output_type": "stream",
     "text": [
      "2020-VALE INIT BALANCE: 19.845 FINAL BALANCE: 19.845\n"
     ]
    },
    {
     "name": "stderr",
     "output_type": "stream",
     "text": [
      "2022-05-21 20:06:45,747 - tinkoff.invest.logging - INFO - 8aab597ba2e109fc6c07f8125086208a GetCandles\n"
     ]
    },
    {
     "name": "stdout",
     "output_type": "stream",
     "text": [
      "2020-CSCO INIT BALANCE: 72.24 FINAL BALANCE: 69.55499999999999 + (SHARES 1)\n"
     ]
    },
    {
     "name": "stderr",
     "output_type": "stream",
     "text": [
      "2022-05-21 20:06:47,223 - tinkoff.invest.logging - INFO - ccf1147af67948bb77e0f8a0fe3fc5a4 ShareBy\n",
      "2022-05-21 20:06:47,333 - tinkoff.invest.logging - INFO - a2aa23c03b2a226d479618b6461e6b30 GetCandles\n"
     ]
    },
    {
     "name": "stdout",
     "output_type": "stream",
     "text": [
      "2020-SPGI INIT BALANCE: 409.845 FINAL BALANCE: 441.88500000000005 + (SHARES 1)\n"
     ]
    },
    {
     "name": "stderr",
     "output_type": "stream",
     "text": [
      "2022-05-21 20:06:47,977 - tinkoff.invest.logging - INFO - 4c3aaf266ca593d837c9e6fef20b107d ShareBy\n",
      "2022-05-21 20:06:48,038 - tinkoff.invest.logging - INFO - 1dae29c11a3768ad89613f79bc430f93 GetCandles\n"
     ]
    },
    {
     "name": "stdout",
     "output_type": "stream",
     "text": [
      "2020-KBH INIT BALANCE: 51.81 FINAL BALANCE: 51.81\n"
     ]
    },
    {
     "name": "stderr",
     "output_type": "stream",
     "text": [
      "2022-05-21 20:06:48,727 - tinkoff.invest.logging - INFO - 675c87d7ae72922166cadde17b660be5 ShareBy\n",
      "2022-05-21 20:06:48,832 - tinkoff.invest.logging - INFO - c22dee681c8beec2110fa27e24cc8889 GetCandles\n"
     ]
    },
    {
     "name": "stdout",
     "output_type": "stream",
     "text": [
      "2020-AZO INIT BALANCE: 1784.6100000000001 FINAL BALANCE: 1784.6100000000001\n"
     ]
    },
    {
     "name": "stderr",
     "output_type": "stream",
     "text": [
      "2022-05-21 20:06:49,403 - tinkoff.invest.logging - INFO - 0852a9c6dc810091a6e41e64e5687cb5 ShareBy\n",
      "2022-05-21 20:06:49,512 - tinkoff.invest.logging - INFO - e8690e8e382bae0a880825c9f775bceb GetCandles\n"
     ]
    },
    {
     "name": "stdout",
     "output_type": "stream",
     "text": [
      "2020-MA INIT BALANCE: 448.665 FINAL BALANCE: 497.49 + (SHARES 1)\n"
     ]
    },
    {
     "name": "stderr",
     "output_type": "stream",
     "text": [
      "2022-05-21 20:06:51,911 - tinkoff.invest.logging - INFO - 3c5cadbb6266c0169666493701aa1dc8 ShareBy\n",
      "2022-05-21 20:06:51,965 - tinkoff.invest.logging - INFO - 482b97a17642e0c368d2adca136aaa2f GetCandles\n",
      "2022-05-21 20:06:52,169 - tinkoff.invest.logging - INFO - 8dca882574b16d27661c8bb68ee16b3a ShareBy\n"
     ]
    },
    {
     "name": "stdout",
     "output_type": "stream",
     "text": [
      "2020-ANF INIT BALANCE: 31.125 FINAL BALANCE: 31.125\n"
     ]
    },
    {
     "name": "stderr",
     "output_type": "stream",
     "text": [
      "2022-05-21 20:06:52,257 - tinkoff.invest.logging - INFO - e2473fc41e94c6429679d5d27512f589 GetCandles\n",
      "2022-05-21 20:06:53,651 - tinkoff.invest.logging - INFO - a630fe8ca8cf0abcc9df9eea90b483e5 ShareBy\n"
     ]
    },
    {
     "name": "stdout",
     "output_type": "stream",
     "text": [
      "2020-PM INIT BALANCE: 128.04 FINAL BALANCE: 126.91 + (SHARES 1)\n"
     ]
    },
    {
     "name": "stderr",
     "output_type": "stream",
     "text": [
      "2022-05-21 20:06:53,746 - tinkoff.invest.logging - INFO - 99636a8857a532dc1a3cde05ff833b50 GetCandles\n"
     ]
    },
    {
     "name": "stdout",
     "output_type": "stream",
     "text": [
      "2020-URBN INIT BALANCE: 41.730000000000004 FINAL BALANCE: 40.86000000000001 + (SHARES 1)\n"
     ]
    },
    {
     "name": "stderr",
     "output_type": "stream",
     "text": [
      "2022-05-21 20:06:54,622 - tinkoff.invest.logging - ERROR - d31725f72f4a4c99b3a6a562fae882cc ShareBy NOT_FOUND 50002\n"
     ]
    },
    {
     "name": "stdout",
     "output_type": "stream",
     "text": [
      "(<StatusCode.NOT_FOUND: (5, 'not found')>, '50002', Metadata(tracking_id='d31725f72f4a4c99b3a6a562fae882cc', ratelimit_limit='200, 200;w=60', ratelimit_remaining=145, ratelimit_reset=6, message='instrument not found'))\n"
     ]
    },
    {
     "name": "stderr",
     "output_type": "stream",
     "text": [
      "2022-05-21 20:06:54,854 - tinkoff.invest.logging - INFO - 4a05e7ac4d0408afab9eab7914c5cbda ShareBy\n",
      "2022-05-21 20:06:54,958 - tinkoff.invest.logging - INFO - 7f8c8d21ea311cd547bcdf92cfe0dda1 GetCandles\n"
     ]
    },
    {
     "name": "stdout",
     "output_type": "stream",
     "text": [
      "2020-BMY INIT BALANCE: 97.35000000000001 FINAL BALANCE: 95.41 + (SHARES 1)\n"
     ]
    }
   ],
   "source": [
    "for YEAR in years:\n",
    "    for TICKER in tickers:\n",
    "        # prepare data\n",
    "        share_news = news[news.ticker == TICKER]\n",
    "        share_news_year = share_news[share_news.year == YEAR]\n",
    "        share_news_year.release_date = pd.to_datetime(share_news_year[share_news_year.year == YEAR].release_date)\n",
    "        share_news_year = share_news_year.sort_values(by=['release_date'])\n",
    "\n",
    "        # get candles\n",
    "        with Client(token=os.environ[\"TINVEST_TOKEN\"]) as client:\n",
    "            try:\n",
    "                share = client.instruments.share_by(id_type=schemas.InstrumentIdType.INSTRUMENT_ID_TYPE_TICKER, class_code=CLASS_CODE_SPB, id=TICKER).instrument\n",
    "                candles = client.market_data.get_candles(figi=share.figi, from_=str_to_date(f\"Jan 1 {YEAR}  11:59PM\"), to=str_to_date(f\"Dec 31 {YEAR}  11:59PM\"), interval=schemas.CandleInterval.CANDLE_INTERVAL_DAY)\n",
    "            except Exception as e:\n",
    "                print(str(e))\n",
    "                continue\n",
    "        \n",
    "        if len(candles.candles) == 0:\n",
    "            continue\n",
    "\n",
    "        balance = _quotation_to_float(candles.candles[0].open)*1.5 # current balance is 150% from the first year's day opening prices of the share\n",
    "        initial_balance = float(balance) # set up initial balance\n",
    "\n",
    "        n_shares = 0 # we don't have any shares at the very beginning\n",
    "        \n",
    "        # iterate over each news article\n",
    "        operation_type_lst, price_lst, balance_lst, date_lst = [], [], [], []\n",
    "        for i, row in share_news_year.iterrows():\n",
    "            if str(\" \" + TICKER + \" \") not in row.title and share.name not in row.title: # double check if the news about the particular company\n",
    "                continue\n",
    "            sentiment = sa.predict_sentiment(row.title)\n",
    "            if sentiment == 'positive': # buy\n",
    "                price = get_daily_candle_price_by_date(row.release_date, candles.candles)\n",
    "                if price and balance >= price:\n",
    "                    balance -= price # we buy 1 lot\n",
    "                    n_shares += 1 # we buy 1 lot\n",
    "                    ## execute order ##\n",
    "                    operation_type_lst.append(\"BUY\")\n",
    "                    price_lst.append(price)\n",
    "                    balance_lst.append(balance)\n",
    "                    date_lst.append(row.release_date)\n",
    "                    ## execute order ##\n",
    "            elif sentiment == 'negative': # sell\n",
    "                price = get_daily_candle_price_by_date(row.release_date, candles.candles)\n",
    "                if price and n_shares > 0:\n",
    "                    balance += price # we sell 1 lot\n",
    "                    n_shares -= 1 # we sell 1 lot\n",
    "                    ## execute order ##\n",
    "                    operation_type_lst.append(\"SELL\")\n",
    "                    price_lst.append(price)\n",
    "                    balance_lst.append(balance)\n",
    "                    date_lst.append(row.release_date)\n",
    "                    ## execute order ##\n",
    "\n",
    "        if n_shares > 0:\n",
    "            last_years_price = _quotation_to_float(candles.candles[-1].close)\n",
    "            balance += n_shares*last_years_price\n",
    "            print(f\"{YEAR}-{TICKER} INIT BALANCE: {initial_balance} FINAL BALANCE: {balance} + (SHARES {n_shares})\")\n",
    "        else:\n",
    "            print(f\"{YEAR}-{TICKER} INIT BALANCE: {initial_balance} FINAL BALANCE: {balance}\")\n",
    "        \n",
    "        pd.DataFrame.from_dict({'operationType': operation_type_lst, 'price': price_lst, \"balance\": balance_lst, \"date\": date_lst}).to_csv(os.path.join(backtesting_dir, f\"{YEAR}-{TICKER}-{initial_balance}-{balance}.csv\"), index=False)"
   ]
  },
  {
   "cell_type": "markdown",
   "metadata": {},
   "source": [
    "## Analyze backtest results"
   ]
  },
  {
   "cell_type": "code",
   "execution_count": 14,
   "metadata": {},
   "outputs": [],
   "source": [
    "files = os.listdir(backtesting_dir)\n",
    "year_lst, ticker_lst, init_balance_lst, final_balance_lst, income_lst, order_cnt_lst = [], [], [], [], [], []\n",
    "\n",
    "for f in files: \n",
    "    params = f.replace(\".csv\", \"\").split(\"-\")\n",
    "\n",
    "    with open(os.path.join(backtesting_dir, f)) as file:\n",
    "        order_cnt = len([l for l in file]) - 1 \n",
    "\n",
    "    year_lst.append(int(params[0]))\n",
    "    ticker_lst.append(params[1])\n",
    "    init_balance_lst.append(float(params[2]))\n",
    "    final_balance_lst.append(float(params[3]))\n",
    "    income_lst.append(float(params[3])/float(params[2])*100 - 100)\n",
    "    order_cnt_lst.append(order_cnt)\n",
    "\n",
    "df = pd.DataFrame.from_dict({'year': year_lst, 'ticker': ticker_lst, 'initBalance': init_balance_lst, 'finalBalance': final_balance_lst, 'income': income_lst, 'orderCnt': order_cnt_lst})"
   ]
  },
  {
   "cell_type": "code",
   "execution_count": 15,
   "metadata": {},
   "outputs": [
    {
     "data": {
      "text/html": [
       "<div>\n",
       "<style scoped>\n",
       "    .dataframe tbody tr th:only-of-type {\n",
       "        vertical-align: middle;\n",
       "    }\n",
       "\n",
       "    .dataframe tbody tr th {\n",
       "        vertical-align: top;\n",
       "    }\n",
       "\n",
       "    .dataframe thead th {\n",
       "        text-align: right;\n",
       "    }\n",
       "</style>\n",
       "<table border=\"1\" class=\"dataframe\">\n",
       "  <thead>\n",
       "    <tr style=\"text-align: right;\">\n",
       "      <th></th>\n",
       "      <th>year</th>\n",
       "      <th>initBalance</th>\n",
       "      <th>finalBalance</th>\n",
       "      <th>income</th>\n",
       "      <th>orderCnt</th>\n",
       "    </tr>\n",
       "  </thead>\n",
       "  <tbody>\n",
       "    <tr>\n",
       "      <th>count</th>\n",
       "      <td>787.000000</td>\n",
       "      <td>787.000000</td>\n",
       "      <td>787.000000</td>\n",
       "      <td>787.000000</td>\n",
       "      <td>787.000000</td>\n",
       "    </tr>\n",
       "    <tr>\n",
       "      <th>mean</th>\n",
       "      <td>2016.060991</td>\n",
       "      <td>170.044201</td>\n",
       "      <td>183.424737</td>\n",
       "      <td>5.810266</td>\n",
       "      <td>7.397713</td>\n",
       "    </tr>\n",
       "    <tr>\n",
       "      <th>std</th>\n",
       "      <td>2.596992</td>\n",
       "      <td>246.016782</td>\n",
       "      <td>291.454665</td>\n",
       "      <td>27.768408</td>\n",
       "      <td>23.625754</td>\n",
       "    </tr>\n",
       "    <tr>\n",
       "      <th>min</th>\n",
       "      <td>2012.000000</td>\n",
       "      <td>4.350900</td>\n",
       "      <td>4.710000</td>\n",
       "      <td>-46.860747</td>\n",
       "      <td>0.000000</td>\n",
       "    </tr>\n",
       "    <tr>\n",
       "      <th>25%</th>\n",
       "      <td>2014.000000</td>\n",
       "      <td>57.495000</td>\n",
       "      <td>57.417500</td>\n",
       "      <td>0.000000</td>\n",
       "      <td>0.000000</td>\n",
       "    </tr>\n",
       "    <tr>\n",
       "      <th>50%</th>\n",
       "      <td>2016.000000</td>\n",
       "      <td>97.800000</td>\n",
       "      <td>101.610000</td>\n",
       "      <td>0.000000</td>\n",
       "      <td>2.000000</td>\n",
       "    </tr>\n",
       "    <tr>\n",
       "      <th>75%</th>\n",
       "      <td>2018.000000</td>\n",
       "      <td>182.017500</td>\n",
       "      <td>193.870000</td>\n",
       "      <td>9.172210</td>\n",
       "      <td>6.000000</td>\n",
       "    </tr>\n",
       "    <tr>\n",
       "      <th>max</th>\n",
       "      <td>2020.000000</td>\n",
       "      <td>2794.110000</td>\n",
       "      <td>4186.760000</td>\n",
       "      <td>485.211936</td>\n",
       "      <td>235.000000</td>\n",
       "    </tr>\n",
       "  </tbody>\n",
       "</table>\n",
       "</div>"
      ],
      "text/plain": [
       "              year  initBalance  finalBalance      income    orderCnt\n",
       "count   787.000000   787.000000    787.000000  787.000000  787.000000\n",
       "mean   2016.060991   170.044201    183.424737    5.810266    7.397713\n",
       "std       2.596992   246.016782    291.454665   27.768408   23.625754\n",
       "min    2012.000000     4.350900      4.710000  -46.860747    0.000000\n",
       "25%    2014.000000    57.495000     57.417500    0.000000    0.000000\n",
       "50%    2016.000000    97.800000    101.610000    0.000000    2.000000\n",
       "75%    2018.000000   182.017500    193.870000    9.172210    6.000000\n",
       "max    2020.000000  2794.110000   4186.760000  485.211936  235.000000"
      ]
     },
     "execution_count": 15,
     "metadata": {},
     "output_type": "execute_result"
    }
   ],
   "source": [
    "df.describe()"
   ]
  },
  {
   "cell_type": "code",
   "execution_count": 17,
   "metadata": {},
   "outputs": [],
   "source": [
    "df.to_csv(\"../data/backtesting-stats.csv\", index=False)"
   ]
  },
  {
   "cell_type": "code",
   "execution_count": 19,
   "metadata": {},
   "outputs": [
    {
     "data": {
      "text/plain": [
       "90"
      ]
     },
     "execution_count": 19,
     "metadata": {},
     "output_type": "execute_result"
    }
   ],
   "source": [
    "df.ticker.nunique()"
   ]
  },
  {
   "cell_type": "code",
   "execution_count": 22,
   "metadata": {},
   "outputs": [
    {
     "data": {
      "application/vnd.plotly.v1+json": {
       "config": {
        "plotlyServerURL": "https://plot.ly"
       },
       "data": [
        {
         "alignmentgroup": "True",
         "hovertemplate": "Год=%{x}<br>Средний доход, % (годовых)=%{y}<br>Ср. число операций по бумаге=%{marker.color}<extra></extra>",
         "legendgroup": "",
         "marker": {
          "color": [
           0.5232558139534884,
           1.3058823529411765,
           2.9176470588235293,
           4.862068965517241,
           9.436781609195402,
           12.034883720930232,
           13.852272727272727,
           16.58888888888889,
           4.591397849462366
          ],
          "coloraxis": "coloraxis",
          "pattern": {
           "shape": ""
          }
         },
         "name": "",
         "offsetgroup": "",
         "orientation": "v",
         "showlegend": false,
         "textposition": "auto",
         "texttemplate": "%{y}",
         "type": "bar",
         "x": [
          2012,
          2013,
          2014,
          2015,
          2016,
          2017,
          2018,
          2019,
          2020
         ],
         "xaxis": "x",
         "y": [
          0.23324689293120307,
          3.026719958993813,
          1.6643236303303606,
          0.7728742992793126,
          5.837189359908372,
          11.327004085893346,
          -2.4497232145039693,
          14.873772797740061,
          15.931396892023585
         ],
         "yaxis": "y"
        }
       ],
       "layout": {
        "barmode": "relative",
        "coloraxis": {
         "colorbar": {
          "title": {
           "text": "Ср. число операций по бумаге"
          }
         },
         "colorscale": [
          [
           0,
           "#0d0887"
          ],
          [
           0.1111111111111111,
           "#46039f"
          ],
          [
           0.2222222222222222,
           "#7201a8"
          ],
          [
           0.3333333333333333,
           "#9c179e"
          ],
          [
           0.4444444444444444,
           "#bd3786"
          ],
          [
           0.5555555555555556,
           "#d8576b"
          ],
          [
           0.6666666666666666,
           "#ed7953"
          ],
          [
           0.7777777777777778,
           "#fb9f3a"
          ],
          [
           0.8888888888888888,
           "#fdca26"
          ],
          [
           1,
           "#f0f921"
          ]
         ]
        },
        "font": {
         "size": 18
        },
        "legend": {
         "tracegroupgap": 0
        },
        "margin": {
         "b": 25,
         "l": 25,
         "r": 25,
         "t": 50
        },
        "modebar": {
         "orientation": "v"
        },
        "template": {
         "data": {
          "bar": [
           {
            "error_x": {
             "color": "#2a3f5f"
            },
            "error_y": {
             "color": "#2a3f5f"
            },
            "marker": {
             "line": {
              "color": "#E5ECF6",
              "width": 0.5
             },
             "pattern": {
              "fillmode": "overlay",
              "size": 10,
              "solidity": 0.2
             }
            },
            "type": "bar"
           }
          ],
          "barpolar": [
           {
            "marker": {
             "line": {
              "color": "#E5ECF6",
              "width": 0.5
             },
             "pattern": {
              "fillmode": "overlay",
              "size": 10,
              "solidity": 0.2
             }
            },
            "type": "barpolar"
           }
          ],
          "carpet": [
           {
            "aaxis": {
             "endlinecolor": "#2a3f5f",
             "gridcolor": "white",
             "linecolor": "white",
             "minorgridcolor": "white",
             "startlinecolor": "#2a3f5f"
            },
            "baxis": {
             "endlinecolor": "#2a3f5f",
             "gridcolor": "white",
             "linecolor": "white",
             "minorgridcolor": "white",
             "startlinecolor": "#2a3f5f"
            },
            "type": "carpet"
           }
          ],
          "choropleth": [
           {
            "colorbar": {
             "outlinewidth": 0,
             "ticks": ""
            },
            "type": "choropleth"
           }
          ],
          "contour": [
           {
            "colorbar": {
             "outlinewidth": 0,
             "ticks": ""
            },
            "colorscale": [
             [
              0,
              "#0d0887"
             ],
             [
              0.1111111111111111,
              "#46039f"
             ],
             [
              0.2222222222222222,
              "#7201a8"
             ],
             [
              0.3333333333333333,
              "#9c179e"
             ],
             [
              0.4444444444444444,
              "#bd3786"
             ],
             [
              0.5555555555555556,
              "#d8576b"
             ],
             [
              0.6666666666666666,
              "#ed7953"
             ],
             [
              0.7777777777777778,
              "#fb9f3a"
             ],
             [
              0.8888888888888888,
              "#fdca26"
             ],
             [
              1,
              "#f0f921"
             ]
            ],
            "type": "contour"
           }
          ],
          "contourcarpet": [
           {
            "colorbar": {
             "outlinewidth": 0,
             "ticks": ""
            },
            "type": "contourcarpet"
           }
          ],
          "heatmap": [
           {
            "colorbar": {
             "outlinewidth": 0,
             "ticks": ""
            },
            "colorscale": [
             [
              0,
              "#0d0887"
             ],
             [
              0.1111111111111111,
              "#46039f"
             ],
             [
              0.2222222222222222,
              "#7201a8"
             ],
             [
              0.3333333333333333,
              "#9c179e"
             ],
             [
              0.4444444444444444,
              "#bd3786"
             ],
             [
              0.5555555555555556,
              "#d8576b"
             ],
             [
              0.6666666666666666,
              "#ed7953"
             ],
             [
              0.7777777777777778,
              "#fb9f3a"
             ],
             [
              0.8888888888888888,
              "#fdca26"
             ],
             [
              1,
              "#f0f921"
             ]
            ],
            "type": "heatmap"
           }
          ],
          "heatmapgl": [
           {
            "colorbar": {
             "outlinewidth": 0,
             "ticks": ""
            },
            "colorscale": [
             [
              0,
              "#0d0887"
             ],
             [
              0.1111111111111111,
              "#46039f"
             ],
             [
              0.2222222222222222,
              "#7201a8"
             ],
             [
              0.3333333333333333,
              "#9c179e"
             ],
             [
              0.4444444444444444,
              "#bd3786"
             ],
             [
              0.5555555555555556,
              "#d8576b"
             ],
             [
              0.6666666666666666,
              "#ed7953"
             ],
             [
              0.7777777777777778,
              "#fb9f3a"
             ],
             [
              0.8888888888888888,
              "#fdca26"
             ],
             [
              1,
              "#f0f921"
             ]
            ],
            "type": "heatmapgl"
           }
          ],
          "histogram": [
           {
            "marker": {
             "pattern": {
              "fillmode": "overlay",
              "size": 10,
              "solidity": 0.2
             }
            },
            "type": "histogram"
           }
          ],
          "histogram2d": [
           {
            "colorbar": {
             "outlinewidth": 0,
             "ticks": ""
            },
            "colorscale": [
             [
              0,
              "#0d0887"
             ],
             [
              0.1111111111111111,
              "#46039f"
             ],
             [
              0.2222222222222222,
              "#7201a8"
             ],
             [
              0.3333333333333333,
              "#9c179e"
             ],
             [
              0.4444444444444444,
              "#bd3786"
             ],
             [
              0.5555555555555556,
              "#d8576b"
             ],
             [
              0.6666666666666666,
              "#ed7953"
             ],
             [
              0.7777777777777778,
              "#fb9f3a"
             ],
             [
              0.8888888888888888,
              "#fdca26"
             ],
             [
              1,
              "#f0f921"
             ]
            ],
            "type": "histogram2d"
           }
          ],
          "histogram2dcontour": [
           {
            "colorbar": {
             "outlinewidth": 0,
             "ticks": ""
            },
            "colorscale": [
             [
              0,
              "#0d0887"
             ],
             [
              0.1111111111111111,
              "#46039f"
             ],
             [
              0.2222222222222222,
              "#7201a8"
             ],
             [
              0.3333333333333333,
              "#9c179e"
             ],
             [
              0.4444444444444444,
              "#bd3786"
             ],
             [
              0.5555555555555556,
              "#d8576b"
             ],
             [
              0.6666666666666666,
              "#ed7953"
             ],
             [
              0.7777777777777778,
              "#fb9f3a"
             ],
             [
              0.8888888888888888,
              "#fdca26"
             ],
             [
              1,
              "#f0f921"
             ]
            ],
            "type": "histogram2dcontour"
           }
          ],
          "mesh3d": [
           {
            "colorbar": {
             "outlinewidth": 0,
             "ticks": ""
            },
            "type": "mesh3d"
           }
          ],
          "parcoords": [
           {
            "line": {
             "colorbar": {
              "outlinewidth": 0,
              "ticks": ""
             }
            },
            "type": "parcoords"
           }
          ],
          "pie": [
           {
            "automargin": true,
            "type": "pie"
           }
          ],
          "scatter": [
           {
            "marker": {
             "colorbar": {
              "outlinewidth": 0,
              "ticks": ""
             }
            },
            "type": "scatter"
           }
          ],
          "scatter3d": [
           {
            "line": {
             "colorbar": {
              "outlinewidth": 0,
              "ticks": ""
             }
            },
            "marker": {
             "colorbar": {
              "outlinewidth": 0,
              "ticks": ""
             }
            },
            "type": "scatter3d"
           }
          ],
          "scattercarpet": [
           {
            "marker": {
             "colorbar": {
              "outlinewidth": 0,
              "ticks": ""
             }
            },
            "type": "scattercarpet"
           }
          ],
          "scattergeo": [
           {
            "marker": {
             "colorbar": {
              "outlinewidth": 0,
              "ticks": ""
             }
            },
            "type": "scattergeo"
           }
          ],
          "scattergl": [
           {
            "marker": {
             "colorbar": {
              "outlinewidth": 0,
              "ticks": ""
             }
            },
            "type": "scattergl"
           }
          ],
          "scattermapbox": [
           {
            "marker": {
             "colorbar": {
              "outlinewidth": 0,
              "ticks": ""
             }
            },
            "type": "scattermapbox"
           }
          ],
          "scatterpolar": [
           {
            "marker": {
             "colorbar": {
              "outlinewidth": 0,
              "ticks": ""
             }
            },
            "type": "scatterpolar"
           }
          ],
          "scatterpolargl": [
           {
            "marker": {
             "colorbar": {
              "outlinewidth": 0,
              "ticks": ""
             }
            },
            "type": "scatterpolargl"
           }
          ],
          "scatterternary": [
           {
            "marker": {
             "colorbar": {
              "outlinewidth": 0,
              "ticks": ""
             }
            },
            "type": "scatterternary"
           }
          ],
          "surface": [
           {
            "colorbar": {
             "outlinewidth": 0,
             "ticks": ""
            },
            "colorscale": [
             [
              0,
              "#0d0887"
             ],
             [
              0.1111111111111111,
              "#46039f"
             ],
             [
              0.2222222222222222,
              "#7201a8"
             ],
             [
              0.3333333333333333,
              "#9c179e"
             ],
             [
              0.4444444444444444,
              "#bd3786"
             ],
             [
              0.5555555555555556,
              "#d8576b"
             ],
             [
              0.6666666666666666,
              "#ed7953"
             ],
             [
              0.7777777777777778,
              "#fb9f3a"
             ],
             [
              0.8888888888888888,
              "#fdca26"
             ],
             [
              1,
              "#f0f921"
             ]
            ],
            "type": "surface"
           }
          ],
          "table": [
           {
            "cells": {
             "fill": {
              "color": "#EBF0F8"
             },
             "line": {
              "color": "white"
             }
            },
            "header": {
             "fill": {
              "color": "#C8D4E3"
             },
             "line": {
              "color": "white"
             }
            },
            "type": "table"
           }
          ]
         },
         "layout": {
          "annotationdefaults": {
           "arrowcolor": "#2a3f5f",
           "arrowhead": 0,
           "arrowwidth": 1
          },
          "autotypenumbers": "strict",
          "coloraxis": {
           "colorbar": {
            "outlinewidth": 0,
            "ticks": ""
           }
          },
          "colorscale": {
           "diverging": [
            [
             0,
             "#8e0152"
            ],
            [
             0.1,
             "#c51b7d"
            ],
            [
             0.2,
             "#de77ae"
            ],
            [
             0.3,
             "#f1b6da"
            ],
            [
             0.4,
             "#fde0ef"
            ],
            [
             0.5,
             "#f7f7f7"
            ],
            [
             0.6,
             "#e6f5d0"
            ],
            [
             0.7,
             "#b8e186"
            ],
            [
             0.8,
             "#7fbc41"
            ],
            [
             0.9,
             "#4d9221"
            ],
            [
             1,
             "#276419"
            ]
           ],
           "sequential": [
            [
             0,
             "#0d0887"
            ],
            [
             0.1111111111111111,
             "#46039f"
            ],
            [
             0.2222222222222222,
             "#7201a8"
            ],
            [
             0.3333333333333333,
             "#9c179e"
            ],
            [
             0.4444444444444444,
             "#bd3786"
            ],
            [
             0.5555555555555556,
             "#d8576b"
            ],
            [
             0.6666666666666666,
             "#ed7953"
            ],
            [
             0.7777777777777778,
             "#fb9f3a"
            ],
            [
             0.8888888888888888,
             "#fdca26"
            ],
            [
             1,
             "#f0f921"
            ]
           ],
           "sequentialminus": [
            [
             0,
             "#0d0887"
            ],
            [
             0.1111111111111111,
             "#46039f"
            ],
            [
             0.2222222222222222,
             "#7201a8"
            ],
            [
             0.3333333333333333,
             "#9c179e"
            ],
            [
             0.4444444444444444,
             "#bd3786"
            ],
            [
             0.5555555555555556,
             "#d8576b"
            ],
            [
             0.6666666666666666,
             "#ed7953"
            ],
            [
             0.7777777777777778,
             "#fb9f3a"
            ],
            [
             0.8888888888888888,
             "#fdca26"
            ],
            [
             1,
             "#f0f921"
            ]
           ]
          },
          "colorway": [
           "#636efa",
           "#EF553B",
           "#00cc96",
           "#ab63fa",
           "#FFA15A",
           "#19d3f3",
           "#FF6692",
           "#B6E880",
           "#FF97FF",
           "#FECB52"
          ],
          "font": {
           "color": "#2a3f5f"
          },
          "geo": {
           "bgcolor": "white",
           "lakecolor": "white",
           "landcolor": "#E5ECF6",
           "showlakes": true,
           "showland": true,
           "subunitcolor": "white"
          },
          "hoverlabel": {
           "align": "left"
          },
          "hovermode": "closest",
          "mapbox": {
           "style": "light"
          },
          "paper_bgcolor": "white",
          "plot_bgcolor": "#E5ECF6",
          "polar": {
           "angularaxis": {
            "gridcolor": "white",
            "linecolor": "white",
            "ticks": ""
           },
           "bgcolor": "#E5ECF6",
           "radialaxis": {
            "gridcolor": "white",
            "linecolor": "white",
            "ticks": ""
           }
          },
          "scene": {
           "xaxis": {
            "backgroundcolor": "#E5ECF6",
            "gridcolor": "white",
            "gridwidth": 2,
            "linecolor": "white",
            "showbackground": true,
            "ticks": "",
            "zerolinecolor": "white"
           },
           "yaxis": {
            "backgroundcolor": "#E5ECF6",
            "gridcolor": "white",
            "gridwidth": 2,
            "linecolor": "white",
            "showbackground": true,
            "ticks": "",
            "zerolinecolor": "white"
           },
           "zaxis": {
            "backgroundcolor": "#E5ECF6",
            "gridcolor": "white",
            "gridwidth": 2,
            "linecolor": "white",
            "showbackground": true,
            "ticks": "",
            "zerolinecolor": "white"
           }
          },
          "shapedefaults": {
           "line": {
            "color": "#2a3f5f"
           }
          },
          "ternary": {
           "aaxis": {
            "gridcolor": "white",
            "linecolor": "white",
            "ticks": ""
           },
           "baxis": {
            "gridcolor": "white",
            "linecolor": "white",
            "ticks": ""
           },
           "bgcolor": "#E5ECF6",
           "caxis": {
            "gridcolor": "white",
            "linecolor": "white",
            "ticks": ""
           }
          },
          "title": {
           "x": 0.05
          },
          "xaxis": {
           "automargin": true,
           "gridcolor": "white",
           "linecolor": "white",
           "ticks": "",
           "title": {
            "standoff": 15
           },
           "zerolinecolor": "white",
           "zerolinewidth": 2
          },
          "yaxis": {
           "automargin": true,
           "gridcolor": "white",
           "linecolor": "white",
           "ticks": "",
           "title": {
            "standoff": 15
           },
           "zerolinecolor": "white",
           "zerolinewidth": 2
          }
         }
        },
        "title": {
         "text": "Средний доход по годам в процентах годовых по всем бумагам"
        },
        "xaxis": {
         "anchor": "y",
         "domain": [
          0,
          1
         ],
         "title": {
          "text": "Год"
         }
        },
        "yaxis": {
         "anchor": "x",
         "domain": [
          0,
          1
         ],
         "title": {
          "text": "Средний доход, % (годовых)"
         }
        }
       }
      }
     },
     "metadata": {},
     "output_type": "display_data"
    }
   ],
   "source": [
    "df_year_mean = df.groupby(\"year\")['income', 'orderCnt'].agg(\"mean\").reset_index().sort_values([\"year\"])\n",
    "fig = px.bar(df_year_mean, x='year', y='income', color='orderCnt', labels={'orderCnt': 'Ср. число операций по бумаге', 'year': 'Год', 'income': 'Средний доход, % (годовых)'}, text_auto=True, title=\"Средний доход по годам в процентах годовых по всем бумагам\")\n",
    "fig.update_layout(margin = dict(t=50, l=25, r=25, b=25), font=dict(size=18), modebar_orientation='v')\n",
    "fig.show()\n",
    "\n",
    "pio.write_image(fig, '../data/resources/income-per-year.jpg', width=1200, height=600)"
   ]
  },
  {
   "cell_type": "code",
   "execution_count": 26,
   "metadata": {},
   "outputs": [
    {
     "data": {
      "application/vnd.plotly.v1+json": {
       "config": {
        "plotlyServerURL": "https://plot.ly"
       },
       "data": [
        {
         "alignmentgroup": "True",
         "hovertemplate": "Тикер=%{x}<br>Средний доход, % (годовых)=%{y}<br>Ср. число операций по бумаге=%{marker.color}<extra></extra>",
         "legendgroup": "",
         "marker": {
          "color": [
           2.7777777777777777,
           3.7777777777777777,
           6.777777777777778,
           9.777777777777779,
           1,
           2.2222222222222223,
           2.4444444444444446,
           8.555555555555555,
           4.111111111111111,
           3.111111111111111,
           3.3333333333333335,
           1.6666666666666667,
           14.333333333333334,
           1.1111111111111112,
           0,
           0,
           0,
           1.4444444444444444,
           2.111111111111111,
           6.333333333333333,
           1.6666666666666667,
           4.111111111111111,
           1.7777777777777777,
           2,
           1.6666666666666667,
           1.1111111111111112,
           1.8888888888888888,
           1.8888888888888888,
           5.111111111111111,
           3.111111111111111,
           1.5555555555555556,
           2,
           0.8888888888888888,
           3,
           7.444444444444445,
           4.111111111111111,
           2.3333333333333335,
           0.875,
           2.533333333333333,
           20,
           2,
           8.9,
           0.7777777777777778,
           5,
           1.7777777777777777,
           1.5555555555555556,
           2,
           1.4444444444444444,
           1.3333333333333333,
           3.111111111111111,
           0.6666666666666666,
           7.222222222222222,
           4.111111111111111,
           4.333333333333333,
           5.555555555555555,
           1,
           17.88888888888889,
           2.4444444444444446,
           13.666666666666666,
           0.8888888888888888,
           4.222222222222222,
           1.5555555555555556,
           13.11111111111111,
           4.111111111111111,
           2,
           1.5555555555555556,
           6.555555555555555,
           1.5555555555555556,
           1,
           1.5555555555555556,
           13.333333333333334,
           2.5555555555555554,
           3.4444444444444446,
           4.777777777777778,
           11,
           1.7777777777777777,
           4.444444444444445,
           6.555555555555555,
           3.4444444444444446,
           1.4444444444444444,
           3.3333333333333335,
           3.7777777777777777,
           3.7777777777777777,
           3.4444444444444446,
           4.888888888888889,
           59.5,
           2.4444444444444446,
           128.88888888888889,
           25.444444444444443,
           5
          ],
          "coloraxis": "coloraxis",
          "pattern": {
           "shape": ""
          }
         },
         "name": "",
         "offsetgroup": "",
         "orientation": "v",
         "showlegend": false,
         "textposition": "auto",
         "type": "bar",
         "x": [
          "MYL",
          "SLB",
          "AGN",
          "CVX",
          "AA",
          "GILD",
          "JNJ",
          "T",
          "SO",
          "XOM",
          "BIIB",
          "KO",
          "IBM",
          "BMY",
          "KBH",
          "ANF",
          "BX",
          "WFC",
          "DAL",
          "PFE",
          "MMM",
          "JWN",
          "EFX",
          "INTC",
          "MCD",
          "VZ",
          "WMB",
          "NKE",
          "PM",
          "HSY",
          "ICE",
          "BKR",
          "HD",
          "ADP",
          "C",
          "ORCL",
          "SBUX",
          "NWSA",
          "NVDA",
          "JPM",
          "LMT",
          "GE",
          "UAL",
          "BAC",
          "NOC",
          "COST",
          "WMT",
          "FMC",
          "CME",
          "COP",
          "DD",
          "CAT",
          "HUM",
          "MRK",
          "CMCSA",
          "SPGI",
          "GS",
          "AXP",
          "MS",
          "VALE",
          "AMGN",
          "PG",
          "GM",
          "BA",
          "GOOGL",
          "LLY",
          "CSCO",
          "BBY",
          "NLOK",
          "AZO",
          "BLK",
          "PGR",
          "BIDU",
          "DIS",
          "TGT",
          "FCX",
          "AVGO",
          "FDX",
          "MA",
          "MSFT",
          "STZ",
          "URBN",
          "MU",
          "CMG",
          "ADBE",
          "UBER",
          "AMZN",
          "AAPL",
          "NFLX",
          "TSLA"
         ],
         "xaxis": "x",
         "y": [
          -7.301084406410244,
          -5.865283178298641,
          -2.2616759828987734,
          -1.4962700393664,
          -1.3152569099531695,
          -0.8961388970488302,
          -0.5337756975837541,
          -0.48842587098591633,
          -0.47394604800754475,
          -0.3915277026739798,
          -0.3612445240067296,
          -0.2915921487775377,
          -0.146173952573695,
          -0.041709884690796964,
          0,
          0,
          0,
          0.15397938579997905,
          0.3016139154872093,
          0.45886281483886016,
          0.6496219518675335,
          0.651823800659661,
          0.6871576647105715,
          0.8486320793478765,
          0.9661813596911912,
          1.0375226771343447,
          1.0906022659795331,
          1.14448183464926,
          1.6947577478162212,
          2.3404066947367994,
          2.3984073128948182,
          2.441776996440204,
          2.6349078010798763,
          2.8783408020160377,
          2.9119703914585466,
          2.965367176086019,
          3.0122170192856337,
          3.0840222113812583,
          3.1144485283213488,
          3.2103608621765747,
          3.2130368449720996,
          3.2278176881239076,
          3.414384427725278,
          3.4717110322360707,
          3.5080638914031588,
          3.5107251291316115,
          3.559345529286552,
          3.6308323833944374,
          3.6996552822196693,
          3.7665139853418292,
          3.984374914366847,
          4.05399161598622,
          4.115785574212639,
          4.275409487660852,
          4.4016142037839945,
          4.413006189866325,
          4.529594064642814,
          4.562457339862943,
          4.601367786755871,
          4.657559535870395,
          4.83341604756775,
          4.907634500705918,
          5.032010267768454,
          5.447254842137909,
          5.50835747390367,
          5.627483626900692,
          5.865093589755694,
          6.432746505607716,
          6.863889970156997,
          6.867435101369807,
          7.337856783424964,
          7.680252979926926,
          8.288644525850058,
          8.361974456764774,
          8.845160329869806,
          8.951245777769968,
          9.151383796082794,
          9.756537977923541,
          10.006875519131896,
          10.995180136447638,
          11.580260813006554,
          12.383704233217754,
          12.661898412267227,
          13.262709492763566,
          16.24436779013088,
          17.745172161172157,
          17.916933488791997,
          18.68446934477258,
          28.621754753723362,
          64.72462648355915
         ],
         "yaxis": "y"
        }
       ],
       "layout": {
        "barmode": "relative",
        "coloraxis": {
         "colorbar": {
          "title": {
           "text": "Ср. число операций по бумаге"
          }
         },
         "colorscale": [
          [
           0,
           "#0d0887"
          ],
          [
           0.1111111111111111,
           "#46039f"
          ],
          [
           0.2222222222222222,
           "#7201a8"
          ],
          [
           0.3333333333333333,
           "#9c179e"
          ],
          [
           0.4444444444444444,
           "#bd3786"
          ],
          [
           0.5555555555555556,
           "#d8576b"
          ],
          [
           0.6666666666666666,
           "#ed7953"
          ],
          [
           0.7777777777777778,
           "#fb9f3a"
          ],
          [
           0.8888888888888888,
           "#fdca26"
          ],
          [
           1,
           "#f0f921"
          ]
         ]
        },
        "font": {
         "size": 18
        },
        "legend": {
         "tracegroupgap": 0
        },
        "margin": {
         "b": 25,
         "l": 25,
         "r": 25,
         "t": 50
        },
        "modebar": {
         "orientation": "v"
        },
        "template": {
         "data": {
          "bar": [
           {
            "error_x": {
             "color": "#2a3f5f"
            },
            "error_y": {
             "color": "#2a3f5f"
            },
            "marker": {
             "line": {
              "color": "#E5ECF6",
              "width": 0.5
             },
             "pattern": {
              "fillmode": "overlay",
              "size": 10,
              "solidity": 0.2
             }
            },
            "type": "bar"
           }
          ],
          "barpolar": [
           {
            "marker": {
             "line": {
              "color": "#E5ECF6",
              "width": 0.5
             },
             "pattern": {
              "fillmode": "overlay",
              "size": 10,
              "solidity": 0.2
             }
            },
            "type": "barpolar"
           }
          ],
          "carpet": [
           {
            "aaxis": {
             "endlinecolor": "#2a3f5f",
             "gridcolor": "white",
             "linecolor": "white",
             "minorgridcolor": "white",
             "startlinecolor": "#2a3f5f"
            },
            "baxis": {
             "endlinecolor": "#2a3f5f",
             "gridcolor": "white",
             "linecolor": "white",
             "minorgridcolor": "white",
             "startlinecolor": "#2a3f5f"
            },
            "type": "carpet"
           }
          ],
          "choropleth": [
           {
            "colorbar": {
             "outlinewidth": 0,
             "ticks": ""
            },
            "type": "choropleth"
           }
          ],
          "contour": [
           {
            "colorbar": {
             "outlinewidth": 0,
             "ticks": ""
            },
            "colorscale": [
             [
              0,
              "#0d0887"
             ],
             [
              0.1111111111111111,
              "#46039f"
             ],
             [
              0.2222222222222222,
              "#7201a8"
             ],
             [
              0.3333333333333333,
              "#9c179e"
             ],
             [
              0.4444444444444444,
              "#bd3786"
             ],
             [
              0.5555555555555556,
              "#d8576b"
             ],
             [
              0.6666666666666666,
              "#ed7953"
             ],
             [
              0.7777777777777778,
              "#fb9f3a"
             ],
             [
              0.8888888888888888,
              "#fdca26"
             ],
             [
              1,
              "#f0f921"
             ]
            ],
            "type": "contour"
           }
          ],
          "contourcarpet": [
           {
            "colorbar": {
             "outlinewidth": 0,
             "ticks": ""
            },
            "type": "contourcarpet"
           }
          ],
          "heatmap": [
           {
            "colorbar": {
             "outlinewidth": 0,
             "ticks": ""
            },
            "colorscale": [
             [
              0,
              "#0d0887"
             ],
             [
              0.1111111111111111,
              "#46039f"
             ],
             [
              0.2222222222222222,
              "#7201a8"
             ],
             [
              0.3333333333333333,
              "#9c179e"
             ],
             [
              0.4444444444444444,
              "#bd3786"
             ],
             [
              0.5555555555555556,
              "#d8576b"
             ],
             [
              0.6666666666666666,
              "#ed7953"
             ],
             [
              0.7777777777777778,
              "#fb9f3a"
             ],
             [
              0.8888888888888888,
              "#fdca26"
             ],
             [
              1,
              "#f0f921"
             ]
            ],
            "type": "heatmap"
           }
          ],
          "heatmapgl": [
           {
            "colorbar": {
             "outlinewidth": 0,
             "ticks": ""
            },
            "colorscale": [
             [
              0,
              "#0d0887"
             ],
             [
              0.1111111111111111,
              "#46039f"
             ],
             [
              0.2222222222222222,
              "#7201a8"
             ],
             [
              0.3333333333333333,
              "#9c179e"
             ],
             [
              0.4444444444444444,
              "#bd3786"
             ],
             [
              0.5555555555555556,
              "#d8576b"
             ],
             [
              0.6666666666666666,
              "#ed7953"
             ],
             [
              0.7777777777777778,
              "#fb9f3a"
             ],
             [
              0.8888888888888888,
              "#fdca26"
             ],
             [
              1,
              "#f0f921"
             ]
            ],
            "type": "heatmapgl"
           }
          ],
          "histogram": [
           {
            "marker": {
             "pattern": {
              "fillmode": "overlay",
              "size": 10,
              "solidity": 0.2
             }
            },
            "type": "histogram"
           }
          ],
          "histogram2d": [
           {
            "colorbar": {
             "outlinewidth": 0,
             "ticks": ""
            },
            "colorscale": [
             [
              0,
              "#0d0887"
             ],
             [
              0.1111111111111111,
              "#46039f"
             ],
             [
              0.2222222222222222,
              "#7201a8"
             ],
             [
              0.3333333333333333,
              "#9c179e"
             ],
             [
              0.4444444444444444,
              "#bd3786"
             ],
             [
              0.5555555555555556,
              "#d8576b"
             ],
             [
              0.6666666666666666,
              "#ed7953"
             ],
             [
              0.7777777777777778,
              "#fb9f3a"
             ],
             [
              0.8888888888888888,
              "#fdca26"
             ],
             [
              1,
              "#f0f921"
             ]
            ],
            "type": "histogram2d"
           }
          ],
          "histogram2dcontour": [
           {
            "colorbar": {
             "outlinewidth": 0,
             "ticks": ""
            },
            "colorscale": [
             [
              0,
              "#0d0887"
             ],
             [
              0.1111111111111111,
              "#46039f"
             ],
             [
              0.2222222222222222,
              "#7201a8"
             ],
             [
              0.3333333333333333,
              "#9c179e"
             ],
             [
              0.4444444444444444,
              "#bd3786"
             ],
             [
              0.5555555555555556,
              "#d8576b"
             ],
             [
              0.6666666666666666,
              "#ed7953"
             ],
             [
              0.7777777777777778,
              "#fb9f3a"
             ],
             [
              0.8888888888888888,
              "#fdca26"
             ],
             [
              1,
              "#f0f921"
             ]
            ],
            "type": "histogram2dcontour"
           }
          ],
          "mesh3d": [
           {
            "colorbar": {
             "outlinewidth": 0,
             "ticks": ""
            },
            "type": "mesh3d"
           }
          ],
          "parcoords": [
           {
            "line": {
             "colorbar": {
              "outlinewidth": 0,
              "ticks": ""
             }
            },
            "type": "parcoords"
           }
          ],
          "pie": [
           {
            "automargin": true,
            "type": "pie"
           }
          ],
          "scatter": [
           {
            "marker": {
             "colorbar": {
              "outlinewidth": 0,
              "ticks": ""
             }
            },
            "type": "scatter"
           }
          ],
          "scatter3d": [
           {
            "line": {
             "colorbar": {
              "outlinewidth": 0,
              "ticks": ""
             }
            },
            "marker": {
             "colorbar": {
              "outlinewidth": 0,
              "ticks": ""
             }
            },
            "type": "scatter3d"
           }
          ],
          "scattercarpet": [
           {
            "marker": {
             "colorbar": {
              "outlinewidth": 0,
              "ticks": ""
             }
            },
            "type": "scattercarpet"
           }
          ],
          "scattergeo": [
           {
            "marker": {
             "colorbar": {
              "outlinewidth": 0,
              "ticks": ""
             }
            },
            "type": "scattergeo"
           }
          ],
          "scattergl": [
           {
            "marker": {
             "colorbar": {
              "outlinewidth": 0,
              "ticks": ""
             }
            },
            "type": "scattergl"
           }
          ],
          "scattermapbox": [
           {
            "marker": {
             "colorbar": {
              "outlinewidth": 0,
              "ticks": ""
             }
            },
            "type": "scattermapbox"
           }
          ],
          "scatterpolar": [
           {
            "marker": {
             "colorbar": {
              "outlinewidth": 0,
              "ticks": ""
             }
            },
            "type": "scatterpolar"
           }
          ],
          "scatterpolargl": [
           {
            "marker": {
             "colorbar": {
              "outlinewidth": 0,
              "ticks": ""
             }
            },
            "type": "scatterpolargl"
           }
          ],
          "scatterternary": [
           {
            "marker": {
             "colorbar": {
              "outlinewidth": 0,
              "ticks": ""
             }
            },
            "type": "scatterternary"
           }
          ],
          "surface": [
           {
            "colorbar": {
             "outlinewidth": 0,
             "ticks": ""
            },
            "colorscale": [
             [
              0,
              "#0d0887"
             ],
             [
              0.1111111111111111,
              "#46039f"
             ],
             [
              0.2222222222222222,
              "#7201a8"
             ],
             [
              0.3333333333333333,
              "#9c179e"
             ],
             [
              0.4444444444444444,
              "#bd3786"
             ],
             [
              0.5555555555555556,
              "#d8576b"
             ],
             [
              0.6666666666666666,
              "#ed7953"
             ],
             [
              0.7777777777777778,
              "#fb9f3a"
             ],
             [
              0.8888888888888888,
              "#fdca26"
             ],
             [
              1,
              "#f0f921"
             ]
            ],
            "type": "surface"
           }
          ],
          "table": [
           {
            "cells": {
             "fill": {
              "color": "#EBF0F8"
             },
             "line": {
              "color": "white"
             }
            },
            "header": {
             "fill": {
              "color": "#C8D4E3"
             },
             "line": {
              "color": "white"
             }
            },
            "type": "table"
           }
          ]
         },
         "layout": {
          "annotationdefaults": {
           "arrowcolor": "#2a3f5f",
           "arrowhead": 0,
           "arrowwidth": 1
          },
          "autotypenumbers": "strict",
          "coloraxis": {
           "colorbar": {
            "outlinewidth": 0,
            "ticks": ""
           }
          },
          "colorscale": {
           "diverging": [
            [
             0,
             "#8e0152"
            ],
            [
             0.1,
             "#c51b7d"
            ],
            [
             0.2,
             "#de77ae"
            ],
            [
             0.3,
             "#f1b6da"
            ],
            [
             0.4,
             "#fde0ef"
            ],
            [
             0.5,
             "#f7f7f7"
            ],
            [
             0.6,
             "#e6f5d0"
            ],
            [
             0.7,
             "#b8e186"
            ],
            [
             0.8,
             "#7fbc41"
            ],
            [
             0.9,
             "#4d9221"
            ],
            [
             1,
             "#276419"
            ]
           ],
           "sequential": [
            [
             0,
             "#0d0887"
            ],
            [
             0.1111111111111111,
             "#46039f"
            ],
            [
             0.2222222222222222,
             "#7201a8"
            ],
            [
             0.3333333333333333,
             "#9c179e"
            ],
            [
             0.4444444444444444,
             "#bd3786"
            ],
            [
             0.5555555555555556,
             "#d8576b"
            ],
            [
             0.6666666666666666,
             "#ed7953"
            ],
            [
             0.7777777777777778,
             "#fb9f3a"
            ],
            [
             0.8888888888888888,
             "#fdca26"
            ],
            [
             1,
             "#f0f921"
            ]
           ],
           "sequentialminus": [
            [
             0,
             "#0d0887"
            ],
            [
             0.1111111111111111,
             "#46039f"
            ],
            [
             0.2222222222222222,
             "#7201a8"
            ],
            [
             0.3333333333333333,
             "#9c179e"
            ],
            [
             0.4444444444444444,
             "#bd3786"
            ],
            [
             0.5555555555555556,
             "#d8576b"
            ],
            [
             0.6666666666666666,
             "#ed7953"
            ],
            [
             0.7777777777777778,
             "#fb9f3a"
            ],
            [
             0.8888888888888888,
             "#fdca26"
            ],
            [
             1,
             "#f0f921"
            ]
           ]
          },
          "colorway": [
           "#636efa",
           "#EF553B",
           "#00cc96",
           "#ab63fa",
           "#FFA15A",
           "#19d3f3",
           "#FF6692",
           "#B6E880",
           "#FF97FF",
           "#FECB52"
          ],
          "font": {
           "color": "#2a3f5f"
          },
          "geo": {
           "bgcolor": "white",
           "lakecolor": "white",
           "landcolor": "#E5ECF6",
           "showlakes": true,
           "showland": true,
           "subunitcolor": "white"
          },
          "hoverlabel": {
           "align": "left"
          },
          "hovermode": "closest",
          "mapbox": {
           "style": "light"
          },
          "paper_bgcolor": "white",
          "plot_bgcolor": "#E5ECF6",
          "polar": {
           "angularaxis": {
            "gridcolor": "white",
            "linecolor": "white",
            "ticks": ""
           },
           "bgcolor": "#E5ECF6",
           "radialaxis": {
            "gridcolor": "white",
            "linecolor": "white",
            "ticks": ""
           }
          },
          "scene": {
           "xaxis": {
            "backgroundcolor": "#E5ECF6",
            "gridcolor": "white",
            "gridwidth": 2,
            "linecolor": "white",
            "showbackground": true,
            "ticks": "",
            "zerolinecolor": "white"
           },
           "yaxis": {
            "backgroundcolor": "#E5ECF6",
            "gridcolor": "white",
            "gridwidth": 2,
            "linecolor": "white",
            "showbackground": true,
            "ticks": "",
            "zerolinecolor": "white"
           },
           "zaxis": {
            "backgroundcolor": "#E5ECF6",
            "gridcolor": "white",
            "gridwidth": 2,
            "linecolor": "white",
            "showbackground": true,
            "ticks": "",
            "zerolinecolor": "white"
           }
          },
          "shapedefaults": {
           "line": {
            "color": "#2a3f5f"
           }
          },
          "ternary": {
           "aaxis": {
            "gridcolor": "white",
            "linecolor": "white",
            "ticks": ""
           },
           "baxis": {
            "gridcolor": "white",
            "linecolor": "white",
            "ticks": ""
           },
           "bgcolor": "#E5ECF6",
           "caxis": {
            "gridcolor": "white",
            "linecolor": "white",
            "ticks": ""
           }
          },
          "title": {
           "x": 0.05
          },
          "xaxis": {
           "automargin": true,
           "gridcolor": "white",
           "linecolor": "white",
           "ticks": "",
           "title": {
            "standoff": 15
           },
           "zerolinecolor": "white",
           "zerolinewidth": 2
          },
          "yaxis": {
           "automargin": true,
           "gridcolor": "white",
           "linecolor": "white",
           "ticks": "",
           "title": {
            "standoff": 15
           },
           "zerolinecolor": "white",
           "zerolinewidth": 2
          }
         }
        },
        "title": {
         "text": "Средний доход по тикерам в процентах годовых по всем бумагам"
        },
        "xaxis": {
         "anchor": "y",
         "domain": [
          0,
          1
         ],
         "title": {
          "text": "Тикер"
         }
        },
        "yaxis": {
         "anchor": "x",
         "domain": [
          0,
          1
         ],
         "title": {
          "text": "Средний доход, % (годовых)"
         }
        }
       }
      }
     },
     "metadata": {},
     "output_type": "display_data"
    }
   ],
   "source": [
    "df_ticker_mean = df.groupby(\"ticker\")['income', 'orderCnt'].agg(\"mean\").reset_index().sort_values([\"income\"])\n",
    "fig = px.bar(df_ticker_mean, x='ticker', y='income', color='orderCnt', labels={'orderCnt': 'Ср. число операций по бумаге', 'ticker': 'Тикер', 'income': 'Средний доход, % (годовых)'}, title=\"Средний доход по тикерам в процентах годовых по всем бумагам\")\n",
    "fig.update_layout(margin = dict(t=50, l=25, r=25, b=25), font=dict(size=18), modebar_orientation='v')\n",
    "fig.show()\n",
    "\n",
    "pio.write_image(fig, '../data/resources/income-per-ticker.jpg', width=2000, height=600)"
   ]
  },
  {
   "cell_type": "code",
   "execution_count": 25,
   "metadata": {},
   "outputs": [
    {
     "data": {
      "text/html": [
       "<div>\n",
       "<style scoped>\n",
       "    .dataframe tbody tr th:only-of-type {\n",
       "        vertical-align: middle;\n",
       "    }\n",
       "\n",
       "    .dataframe tbody tr th {\n",
       "        vertical-align: top;\n",
       "    }\n",
       "\n",
       "    .dataframe thead th {\n",
       "        text-align: right;\n",
       "    }\n",
       "</style>\n",
       "<table border=\"1\" class=\"dataframe\">\n",
       "  <thead>\n",
       "    <tr style=\"text-align: right;\">\n",
       "      <th></th>\n",
       "      <th>ticker</th>\n",
       "      <th>income</th>\n",
       "      <th>orderCnt</th>\n",
       "    </tr>\n",
       "  </thead>\n",
       "  <tbody>\n",
       "    <tr>\n",
       "      <th>61</th>\n",
       "      <td>MYL</td>\n",
       "      <td>-7.301084</td>\n",
       "      <td>2.777778</td>\n",
       "    </tr>\n",
       "    <tr>\n",
       "      <th>74</th>\n",
       "      <td>SLB</td>\n",
       "      <td>-5.865283</td>\n",
       "      <td>3.777778</td>\n",
       "    </tr>\n",
       "    <tr>\n",
       "      <th>4</th>\n",
       "      <td>AGN</td>\n",
       "      <td>-2.261676</td>\n",
       "      <td>6.777778</td>\n",
       "    </tr>\n",
       "    <tr>\n",
       "      <th>28</th>\n",
       "      <td>CVX</td>\n",
       "      <td>-1.496270</td>\n",
       "      <td>9.777778</td>\n",
       "    </tr>\n",
       "    <tr>\n",
       "      <th>0</th>\n",
       "      <td>AA</td>\n",
       "      <td>-1.315257</td>\n",
       "      <td>1.000000</td>\n",
       "    </tr>\n",
       "    <tr>\n",
       "      <th>...</th>\n",
       "      <td>...</td>\n",
       "      <td>...</td>\n",
       "      <td>...</td>\n",
       "    </tr>\n",
       "    <tr>\n",
       "      <th>82</th>\n",
       "      <td>UBER</td>\n",
       "      <td>17.745172</td>\n",
       "      <td>59.500000</td>\n",
       "    </tr>\n",
       "    <tr>\n",
       "      <th>6</th>\n",
       "      <td>AMZN</td>\n",
       "      <td>17.916933</td>\n",
       "      <td>2.444444</td>\n",
       "    </tr>\n",
       "    <tr>\n",
       "      <th>1</th>\n",
       "      <td>AAPL</td>\n",
       "      <td>18.684469</td>\n",
       "      <td>128.888889</td>\n",
       "    </tr>\n",
       "    <tr>\n",
       "      <th>62</th>\n",
       "      <td>NFLX</td>\n",
       "      <td>28.621755</td>\n",
       "      <td>25.444444</td>\n",
       "    </tr>\n",
       "    <tr>\n",
       "      <th>80</th>\n",
       "      <td>TSLA</td>\n",
       "      <td>64.724626</td>\n",
       "      <td>5.000000</td>\n",
       "    </tr>\n",
       "  </tbody>\n",
       "</table>\n",
       "<p>90 rows × 3 columns</p>\n",
       "</div>"
      ],
      "text/plain": [
       "   ticker     income    orderCnt\n",
       "61    MYL  -7.301084    2.777778\n",
       "74    SLB  -5.865283    3.777778\n",
       "4     AGN  -2.261676    6.777778\n",
       "28    CVX  -1.496270    9.777778\n",
       "0      AA  -1.315257    1.000000\n",
       "..    ...        ...         ...\n",
       "82   UBER  17.745172   59.500000\n",
       "6    AMZN  17.916933    2.444444\n",
       "1    AAPL  18.684469  128.888889\n",
       "62   NFLX  28.621755   25.444444\n",
       "80   TSLA  64.724626    5.000000\n",
       "\n",
       "[90 rows x 3 columns]"
      ]
     },
     "execution_count": 25,
     "metadata": {},
     "output_type": "execute_result"
    }
   ],
   "source": [
    "df_ticker_mean"
   ]
  },
  {
   "cell_type": "code",
   "execution_count": null,
   "metadata": {},
   "outputs": [],
   "source": [
    "# TODO: - common db sqlite (created in the news fetcher), - news_fetcher and analyzer into db, - scheduled task for monitoring the news and making operations (save operations into db)\n",
    "# volumes for db and models\n",
    "# sandbox_mode = True/False, reset_sandbox = True/False, initial balance\n",
    "# fetch/monitoring frequency\n",
    "# model confidence threshold (for operations)\n",
    "# ranked list of tickers to buy\n",
    "# list of rss sources"
   ]
  }
 ],
 "metadata": {
  "interpreter": {
   "hash": "916dbcbb3f70747c44a77c7bcd40155683ae19c65e1c03b4aa3499c5328201f1"
  },
  "kernelspec": {
   "display_name": "Python 3.8.10 64-bit",
   "language": "python",
   "name": "python3"
  },
  "language_info": {
   "codemirror_mode": {
    "name": "ipython",
    "version": 3
   },
   "file_extension": ".py",
   "mimetype": "text/x-python",
   "name": "python",
   "nbconvert_exporter": "python",
   "pygments_lexer": "ipython3",
   "version": "3.8.10"
  },
  "orig_nbformat": 4
 },
 "nbformat": 4,
 "nbformat_minor": 2
}
